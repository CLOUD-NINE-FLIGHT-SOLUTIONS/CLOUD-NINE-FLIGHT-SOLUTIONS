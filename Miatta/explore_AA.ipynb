{
 "cells": [
  {
   "cell_type": "code",
   "execution_count": 1,
   "id": "1bdb323e",
   "metadata": {},
   "outputs": [],
   "source": [
    "# # Imoort Libraries\n",
    "# import os\n",
    "# import pandas as pd\n",
    "# import seaborn as sns\n",
    "# import env\n",
    "# import wrangle as w \n",
    "# import model as m\n",
    "# import matplotlib.pyplot as plt\n",
    "# import seaborn as sns\n",
    "# import statsmodels.api as sm\n",
    "# import numpy as np\n",
    "# from scipy import stats\n",
    "# import matplotlib.pyplot as plt\n",
    "# import statsmodels.api as sm\n",
    "\n",
    "\n",
    "\n",
    "# from datetime import datetime\n",
    "# from statsmodels.tsa.api import Holt, ExponentialSmoothing\n",
    "\n",
    "\n",
    "# from sklearn.metrics import mean_squared_error\n",
    "# from math import sqrt \n",
    "\n",
    "# import matplotlib.image as image \n",
    "\n",
    "# # evaluate\n",
    "# from sklearn.metrics import mean_squared_error\n",
    "# from math import sqrt\n",
    "\n",
    "# # Ignore warnings\n",
    "# import warnings\n",
    "# warnings.filterwarnings('ignore')\n",
    "\n",
    "\n",
    "# Import Libraries\n",
    "import os\n",
    "import warnings\n",
    "import env\n",
    "import wrangle as w \n",
    "import model as m\n",
    "\n",
    "# Data Manipulation Libraries\n",
    "import pandas as pd\n",
    "import numpy as np\n",
    "\n",
    "# Visualization Libraries\n",
    "import matplotlib.pyplot as plt\n",
    "import seaborn as sns\n",
    "import matplotlib.image as image\n",
    "\n",
    "# Statistics and Modeling Libraries\n",
    "import statsmodels.api as sm\n",
    "from scipy import stats\n",
    "from statsmodels.tsa.api import Holt, ExponentialSmoothing\n",
    "from sklearn.metrics import mean_squared_error\n",
    "from math import sqrt\n",
    "\n",
    "# Configuration\n",
    "from datetime import datetime\n",
    "warnings.filterwarnings('ignore')\n"
   ]
  },
  {
   "cell_type": "markdown",
   "id": "9c63126c-a408-48ef-b28b-8f4bda83c096",
   "metadata": {},
   "source": [
    "# ACQUIRE\n",
    "\n",
    "- Data acquired via https://www.kaggle.com/datasets/sherrytp/airline-delay-analysis \n",
    "- Data set consisted of 10 csv files\n",
    "- AA data set has 10 columns and 7628937 rows\n",
    "### DATA TYPE SUMMARY\n",
    "- 1 integer\n",
    "- 3 object \n",
    "- 5 float\n",
    "- 1 datetime value\n"
   ]
  },
  {
   "cell_type": "markdown",
   "id": "5ec1bdaf",
   "metadata": {},
   "source": [
    "### MASK FOR AMERICAN AIRLINES "
   ]
  },
  {
   "cell_type": "code",
   "execution_count": 2,
   "id": "024d63c6",
   "metadata": {},
   "outputs": [],
   "source": [
    "# Using the 'wrangle' module, this line pulls airline data for the airline code 'AA' (American Airlines) and stores it in the 'flights' variable.\n",
    "flights = w.pull_airline_data('AA')"
   ]
  },
  {
   "cell_type": "code",
   "execution_count": 3,
   "id": "d5cb60d2-876c-48b7-aaad-a1764ae2818a",
   "metadata": {},
   "outputs": [
    {
     "data": {
      "text/plain": [
       "AA    1050420\n",
       "Name: OP_CARRIER, dtype: int64"
      ]
     },
     "execution_count": 3,
     "metadata": {},
     "output_type": "execute_result"
    }
   ],
   "source": [
    "# This line of code counts the number of occurrences for each unique carrier (OP_CARRIER) in the 'flights' dataset. \n",
    "# It will return a Series with the carriers as the index and the counts as the values, sorted in descending order by default.\n",
    "\n",
    "flights.OP_CARRIER.value_counts()"
   ]
  },
  {
   "cell_type": "code",
   "execution_count": 4,
   "id": "ea3d0107-fa1b-41c0-8999-be7729326fe8",
   "metadata": {},
   "outputs": [
    {
     "data": {
      "text/html": [
       "<div>\n",
       "<style scoped>\n",
       "    .dataframe tbody tr th:only-of-type {\n",
       "        vertical-align: middle;\n",
       "    }\n",
       "\n",
       "    .dataframe tbody tr th {\n",
       "        vertical-align: top;\n",
       "    }\n",
       "\n",
       "    .dataframe thead th {\n",
       "        text-align: right;\n",
       "    }\n",
       "</style>\n",
       "<table border=\"1\" class=\"dataframe\">\n",
       "  <thead>\n",
       "    <tr style=\"text-align: right;\">\n",
       "      <th></th>\n",
       "      <th>FL_DATE</th>\n",
       "      <th>OP_CARRIER</th>\n",
       "      <th>OP_CARRIER_FL_NUM</th>\n",
       "      <th>ORIGIN</th>\n",
       "      <th>DEST</th>\n",
       "      <th>CARRIER_DELAY</th>\n",
       "      <th>WEATHER_DELAY</th>\n",
       "      <th>NAS_DELAY</th>\n",
       "      <th>SECURITY_DELAY</th>\n",
       "      <th>LATE_AIRCRAFT_DELAY</th>\n",
       "      <th>row_sums</th>\n",
       "    </tr>\n",
       "  </thead>\n",
       "  <tbody>\n",
       "    <tr>\n",
       "      <th>0</th>\n",
       "      <td>2009-01-01</td>\n",
       "      <td>AA</td>\n",
       "      <td>2</td>\n",
       "      <td>LAX</td>\n",
       "      <td>JFK</td>\n",
       "      <td>35.0</td>\n",
       "      <td>0.0</td>\n",
       "      <td>0.0</td>\n",
       "      <td>0.0</td>\n",
       "      <td>0.0</td>\n",
       "      <td>35.0</td>\n",
       "    </tr>\n",
       "    <tr>\n",
       "      <th>1</th>\n",
       "      <td>2009-01-01</td>\n",
       "      <td>AA</td>\n",
       "      <td>16</td>\n",
       "      <td>SFO</td>\n",
       "      <td>JFK</td>\n",
       "      <td>83.0</td>\n",
       "      <td>0.0</td>\n",
       "      <td>0.0</td>\n",
       "      <td>0.0</td>\n",
       "      <td>0.0</td>\n",
       "      <td>83.0</td>\n",
       "    </tr>\n",
       "    <tr>\n",
       "      <th>2</th>\n",
       "      <td>2009-01-01</td>\n",
       "      <td>AA</td>\n",
       "      <td>75</td>\n",
       "      <td>IAD</td>\n",
       "      <td>LAX</td>\n",
       "      <td>35.0</td>\n",
       "      <td>0.0</td>\n",
       "      <td>0.0</td>\n",
       "      <td>0.0</td>\n",
       "      <td>7.0</td>\n",
       "      <td>42.0</td>\n",
       "    </tr>\n",
       "    <tr>\n",
       "      <th>3</th>\n",
       "      <td>2009-01-01</td>\n",
       "      <td>AA</td>\n",
       "      <td>76</td>\n",
       "      <td>LAX</td>\n",
       "      <td>IAD</td>\n",
       "      <td>15.0</td>\n",
       "      <td>0.0</td>\n",
       "      <td>0.0</td>\n",
       "      <td>0.0</td>\n",
       "      <td>0.0</td>\n",
       "      <td>15.0</td>\n",
       "    </tr>\n",
       "    <tr>\n",
       "      <th>4</th>\n",
       "      <td>2009-01-01</td>\n",
       "      <td>AA</td>\n",
       "      <td>85</td>\n",
       "      <td>JFK</td>\n",
       "      <td>SFO</td>\n",
       "      <td>26.0</td>\n",
       "      <td>0.0</td>\n",
       "      <td>0.0</td>\n",
       "      <td>0.0</td>\n",
       "      <td>16.0</td>\n",
       "      <td>42.0</td>\n",
       "    </tr>\n",
       "    <tr>\n",
       "      <th>...</th>\n",
       "      <td>...</td>\n",
       "      <td>...</td>\n",
       "      <td>...</td>\n",
       "      <td>...</td>\n",
       "      <td>...</td>\n",
       "      <td>...</td>\n",
       "      <td>...</td>\n",
       "      <td>...</td>\n",
       "      <td>...</td>\n",
       "      <td>...</td>\n",
       "      <td>...</td>\n",
       "    </tr>\n",
       "    <tr>\n",
       "      <th>1050415</th>\n",
       "      <td>2019-12-31</td>\n",
       "      <td>AA</td>\n",
       "      <td>1357</td>\n",
       "      <td>MIA</td>\n",
       "      <td>JFK</td>\n",
       "      <td>38.0</td>\n",
       "      <td>0.0</td>\n",
       "      <td>0.0</td>\n",
       "      <td>0.0</td>\n",
       "      <td>41.0</td>\n",
       "      <td>79.0</td>\n",
       "    </tr>\n",
       "    <tr>\n",
       "      <th>1050416</th>\n",
       "      <td>2019-12-31</td>\n",
       "      <td>AA</td>\n",
       "      <td>1358</td>\n",
       "      <td>DFW</td>\n",
       "      <td>SAT</td>\n",
       "      <td>51.0</td>\n",
       "      <td>0.0</td>\n",
       "      <td>0.0</td>\n",
       "      <td>0.0</td>\n",
       "      <td>0.0</td>\n",
       "      <td>51.0</td>\n",
       "    </tr>\n",
       "    <tr>\n",
       "      <th>1050417</th>\n",
       "      <td>2019-12-31</td>\n",
       "      <td>AA</td>\n",
       "      <td>1368</td>\n",
       "      <td>MIA</td>\n",
       "      <td>LAS</td>\n",
       "      <td>0.0</td>\n",
       "      <td>54.0</td>\n",
       "      <td>0.0</td>\n",
       "      <td>0.0</td>\n",
       "      <td>0.0</td>\n",
       "      <td>54.0</td>\n",
       "    </tr>\n",
       "    <tr>\n",
       "      <th>1050418</th>\n",
       "      <td>2019-12-31</td>\n",
       "      <td>AA</td>\n",
       "      <td>1376</td>\n",
       "      <td>DFW</td>\n",
       "      <td>EYW</td>\n",
       "      <td>0.0</td>\n",
       "      <td>0.0</td>\n",
       "      <td>0.0</td>\n",
       "      <td>0.0</td>\n",
       "      <td>24.0</td>\n",
       "      <td>24.0</td>\n",
       "    </tr>\n",
       "    <tr>\n",
       "      <th>1050419</th>\n",
       "      <td>2019-12-31</td>\n",
       "      <td>AA</td>\n",
       "      <td>1405</td>\n",
       "      <td>DFW</td>\n",
       "      <td>LAX</td>\n",
       "      <td>35.0</td>\n",
       "      <td>0.0</td>\n",
       "      <td>0.0</td>\n",
       "      <td>0.0</td>\n",
       "      <td>0.0</td>\n",
       "      <td>35.0</td>\n",
       "    </tr>\n",
       "  </tbody>\n",
       "</table>\n",
       "<p>1050420 rows × 11 columns</p>\n",
       "</div>"
      ],
      "text/plain": [
       "            FL_DATE OP_CARRIER  OP_CARRIER_FL_NUM ORIGIN DEST  CARRIER_DELAY  \\\n",
       "0        2009-01-01         AA                  2    LAX  JFK           35.0   \n",
       "1        2009-01-01         AA                 16    SFO  JFK           83.0   \n",
       "2        2009-01-01         AA                 75    IAD  LAX           35.0   \n",
       "3        2009-01-01         AA                 76    LAX  IAD           15.0   \n",
       "4        2009-01-01         AA                 85    JFK  SFO           26.0   \n",
       "...             ...        ...                ...    ...  ...            ...   \n",
       "1050415  2019-12-31         AA               1357    MIA  JFK           38.0   \n",
       "1050416  2019-12-31         AA               1358    DFW  SAT           51.0   \n",
       "1050417  2019-12-31         AA               1368    MIA  LAS            0.0   \n",
       "1050418  2019-12-31         AA               1376    DFW  EYW            0.0   \n",
       "1050419  2019-12-31         AA               1405    DFW  LAX           35.0   \n",
       "\n",
       "         WEATHER_DELAY  NAS_DELAY  SECURITY_DELAY  LATE_AIRCRAFT_DELAY  \\\n",
       "0                  0.0        0.0             0.0                  0.0   \n",
       "1                  0.0        0.0             0.0                  0.0   \n",
       "2                  0.0        0.0             0.0                  7.0   \n",
       "3                  0.0        0.0             0.0                  0.0   \n",
       "4                  0.0        0.0             0.0                 16.0   \n",
       "...                ...        ...             ...                  ...   \n",
       "1050415            0.0        0.0             0.0                 41.0   \n",
       "1050416            0.0        0.0             0.0                  0.0   \n",
       "1050417           54.0        0.0             0.0                  0.0   \n",
       "1050418            0.0        0.0             0.0                 24.0   \n",
       "1050419            0.0        0.0             0.0                  0.0   \n",
       "\n",
       "         row_sums  \n",
       "0            35.0  \n",
       "1            83.0  \n",
       "2            42.0  \n",
       "3            15.0  \n",
       "4            42.0  \n",
       "...           ...  \n",
       "1050415      79.0  \n",
       "1050416      51.0  \n",
       "1050417      54.0  \n",
       "1050418      24.0  \n",
       "1050419      35.0  \n",
       "\n",
       "[1050420 rows x 11 columns]"
      ]
     },
     "execution_count": 4,
     "metadata": {},
     "output_type": "execute_result"
    }
   ],
   "source": [
    "flights"
   ]
  },
  {
   "cell_type": "markdown",
   "id": "d09d7cfa-22e6-4036-8505-0bccb0f42765",
   "metadata": {},
   "source": [
    " # PREPARE\n",
    " \n",
    "- Sorting columns\n",
    "- Dropping duplicate rows\n",
    "- Dropping missing values\n",
    "- Renaming columns\n",
    "- Resetting index\n",
    "- Type conversion\n",
    "- Filtering\n",
    "- Aggregation"
   ]
  },
  {
   "cell_type": "code",
   "execution_count": 5,
   "id": "12a8c17c-71fb-4974-ba66-6dfa999233cc",
   "metadata": {},
   "outputs": [],
   "source": [
    "# Using the 'wrangle' module, clean the 'flights' dataframe to prepare it for computing the average daily delay.\n",
    "df = w.clean_flight_data_for_average_daily_delay(flights)\n"
   ]
  },
  {
   "cell_type": "code",
   "execution_count": 6,
   "id": "ab8f8afa-e9da-4322-ad1e-cc015cb3727d",
   "metadata": {},
   "outputs": [],
   "source": [
    "# List of columns representing different types of flight delays to be summed up for analysis.\n",
    "col_to_sum = ['CARRIER_DELAY', 'WEATHER_DELAY', 'NAS_DELAY', 'SECURITY_DELAY', 'LATE_AIRCRAFT_DELAY']\n"
   ]
  },
  {
   "cell_type": "code",
   "execution_count": 7,
   "id": "d2647d9a-54d9-4167-a10c-d7d81dd1a0e3",
   "metadata": {},
   "outputs": [],
   "source": [
    "# List of top 15 busiest airport hubs in the U.S. by airport code\n",
    "\n",
    "top_15_hubs = ['ATL',  # Hartsfield-Jackson Atlanta International Airport\n",
    "               'DFW',  # Dallas/Fort Worth International Airport\n",
    "               'DEN',  # Denver International Airport\n",
    "               'ORD',  # O'Hare International Airport, Chicago\n",
    "               'LAX',  # Los Angeles International Airport\n",
    "               'JFK',  # John F. Kennedy International Airport, New York\n",
    "               'IAH',  # George Bush Intercontinental Airport, Houston\n",
    "               'PHX',  # Phoenix Sky Harbor International Airport\n",
    "               'EWR',  # Newark Liberty International Airport\n",
    "               'SFO',  # San Francisco International Airport\n",
    "               'SEA',  # Seattle-Tacoma International Airport\n",
    "               'IAD',  # Washington Dulles International Airport\n",
    "               'PHL',  # Philadelphia International Airport\n",
    "               'CLT',  # Charlotte Douglas International Airport\n",
    "               'MIA']  # Miami International Airport\n"
   ]
  },
  {
   "cell_type": "code",
   "execution_count": 8,
   "id": "ddfc388b-6008-4489-8d15-8e236654861c",
   "metadata": {},
   "outputs": [
    {
     "data": {
      "text/html": [
       "<div>\n",
       "<style scoped>\n",
       "    .dataframe tbody tr th:only-of-type {\n",
       "        vertical-align: middle;\n",
       "    }\n",
       "\n",
       "    .dataframe tbody tr th {\n",
       "        vertical-align: top;\n",
       "    }\n",
       "\n",
       "    .dataframe thead th {\n",
       "        text-align: right;\n",
       "    }\n",
       "</style>\n",
       "<table border=\"1\" class=\"dataframe\">\n",
       "  <thead>\n",
       "    <tr style=\"text-align: right;\">\n",
       "      <th></th>\n",
       "      <th>0</th>\n",
       "      <th>1</th>\n",
       "      <th>2</th>\n",
       "      <th>3</th>\n",
       "      <th>4</th>\n",
       "    </tr>\n",
       "  </thead>\n",
       "  <tbody>\n",
       "    <tr>\n",
       "      <th>FL_DATE</th>\n",
       "      <td>2009-01-01 00:00:00</td>\n",
       "      <td>2009-01-01 00:00:00</td>\n",
       "      <td>2009-01-01 00:00:00</td>\n",
       "      <td>2009-01-01 00:00:00</td>\n",
       "      <td>2009-01-01 00:00:00</td>\n",
       "    </tr>\n",
       "    <tr>\n",
       "      <th>OP_CARRIER</th>\n",
       "      <td>AA</td>\n",
       "      <td>AA</td>\n",
       "      <td>AA</td>\n",
       "      <td>AA</td>\n",
       "      <td>AA</td>\n",
       "    </tr>\n",
       "    <tr>\n",
       "      <th>OP_CARRIER_FL_NUM</th>\n",
       "      <td>2</td>\n",
       "      <td>16</td>\n",
       "      <td>75</td>\n",
       "      <td>76</td>\n",
       "      <td>85</td>\n",
       "    </tr>\n",
       "    <tr>\n",
       "      <th>ORIGIN</th>\n",
       "      <td>LAX</td>\n",
       "      <td>SFO</td>\n",
       "      <td>IAD</td>\n",
       "      <td>LAX</td>\n",
       "      <td>JFK</td>\n",
       "    </tr>\n",
       "    <tr>\n",
       "      <th>DEST</th>\n",
       "      <td>JFK</td>\n",
       "      <td>JFK</td>\n",
       "      <td>LAX</td>\n",
       "      <td>IAD</td>\n",
       "      <td>SFO</td>\n",
       "    </tr>\n",
       "    <tr>\n",
       "      <th>CARRIER_DELAY</th>\n",
       "      <td>35.0</td>\n",
       "      <td>83.0</td>\n",
       "      <td>35.0</td>\n",
       "      <td>15.0</td>\n",
       "      <td>26.0</td>\n",
       "    </tr>\n",
       "    <tr>\n",
       "      <th>WEATHER_DELAY</th>\n",
       "      <td>0.0</td>\n",
       "      <td>0.0</td>\n",
       "      <td>0.0</td>\n",
       "      <td>0.0</td>\n",
       "      <td>0.0</td>\n",
       "    </tr>\n",
       "    <tr>\n",
       "      <th>NAS_DELAY</th>\n",
       "      <td>0.0</td>\n",
       "      <td>0.0</td>\n",
       "      <td>0.0</td>\n",
       "      <td>0.0</td>\n",
       "      <td>0.0</td>\n",
       "    </tr>\n",
       "    <tr>\n",
       "      <th>SECURITY_DELAY</th>\n",
       "      <td>0.0</td>\n",
       "      <td>0.0</td>\n",
       "      <td>0.0</td>\n",
       "      <td>0.0</td>\n",
       "      <td>0.0</td>\n",
       "    </tr>\n",
       "    <tr>\n",
       "      <th>LATE_AIRCRAFT_DELAY</th>\n",
       "      <td>0.0</td>\n",
       "      <td>0.0</td>\n",
       "      <td>7.0</td>\n",
       "      <td>0.0</td>\n",
       "      <td>16.0</td>\n",
       "    </tr>\n",
       "    <tr>\n",
       "      <th>row_sums</th>\n",
       "      <td>35.0</td>\n",
       "      <td>83.0</td>\n",
       "      <td>42.0</td>\n",
       "      <td>15.0</td>\n",
       "      <td>42.0</td>\n",
       "    </tr>\n",
       "  </tbody>\n",
       "</table>\n",
       "</div>"
      ],
      "text/plain": [
       "                                       0                    1  \\\n",
       "FL_DATE              2009-01-01 00:00:00  2009-01-01 00:00:00   \n",
       "OP_CARRIER                            AA                   AA   \n",
       "OP_CARRIER_FL_NUM                      2                   16   \n",
       "ORIGIN                               LAX                  SFO   \n",
       "DEST                                 JFK                  JFK   \n",
       "CARRIER_DELAY                       35.0                 83.0   \n",
       "WEATHER_DELAY                        0.0                  0.0   \n",
       "NAS_DELAY                            0.0                  0.0   \n",
       "SECURITY_DELAY                       0.0                  0.0   \n",
       "LATE_AIRCRAFT_DELAY                  0.0                  0.0   \n",
       "row_sums                            35.0                 83.0   \n",
       "\n",
       "                                       2                    3  \\\n",
       "FL_DATE              2009-01-01 00:00:00  2009-01-01 00:00:00   \n",
       "OP_CARRIER                            AA                   AA   \n",
       "OP_CARRIER_FL_NUM                     75                   76   \n",
       "ORIGIN                               IAD                  LAX   \n",
       "DEST                                 LAX                  IAD   \n",
       "CARRIER_DELAY                       35.0                 15.0   \n",
       "WEATHER_DELAY                        0.0                  0.0   \n",
       "NAS_DELAY                            0.0                  0.0   \n",
       "SECURITY_DELAY                       0.0                  0.0   \n",
       "LATE_AIRCRAFT_DELAY                  7.0                  0.0   \n",
       "row_sums                            42.0                 15.0   \n",
       "\n",
       "                                       4  \n",
       "FL_DATE              2009-01-01 00:00:00  \n",
       "OP_CARRIER                            AA  \n",
       "OP_CARRIER_FL_NUM                     85  \n",
       "ORIGIN                               JFK  \n",
       "DEST                                 SFO  \n",
       "CARRIER_DELAY                       26.0  \n",
       "WEATHER_DELAY                        0.0  \n",
       "NAS_DELAY                            0.0  \n",
       "SECURITY_DELAY                       0.0  \n",
       "LATE_AIRCRAFT_DELAY                 16.0  \n",
       "row_sums                            42.0  "
      ]
     },
     "execution_count": 8,
     "metadata": {},
     "output_type": "execute_result"
    }
   ],
   "source": [
    "# Display the first five rows of the 'flights' DataFrame to get an initial overview of its structure and data.\n",
    "flights.head().T\n",
    "\n"
   ]
  },
  {
   "cell_type": "markdown",
   "id": "33c518ec-8493-439c-8167-a3276f10fe83",
   "metadata": {},
   "source": [
    "### OBSERVED NUMERICAL FEATURES"
   ]
  },
  {
   "cell_type": "code",
   "execution_count": 9,
   "id": "8b8bb379-e9ff-46ca-8125-6bc35d6edf9b",
   "metadata": {},
   "outputs": [
    {
     "data": {
      "text/plain": [
       "(1050420, 11)"
      ]
     },
     "execution_count": 9,
     "metadata": {},
     "output_type": "execute_result"
    }
   ],
   "source": [
    "# Retrieve the number of rows and columns in the 'flights' DataFrame.\n",
    "flights.shape\n"
   ]
  },
  {
   "cell_type": "code",
   "execution_count": 10,
   "id": "38d0adda-d1b9-4eb0-bfc4-f3e9ecf45f94",
   "metadata": {},
   "outputs": [
    {
     "name": "stdout",
     "output_type": "stream",
     "text": [
      "<class 'pandas.core.frame.DataFrame'>\n",
      "RangeIndex: 1050420 entries, 0 to 1050419\n",
      "Data columns (total 11 columns):\n",
      " #   Column               Non-Null Count    Dtype         \n",
      "---  ------               --------------    -----         \n",
      " 0   FL_DATE              1050420 non-null  datetime64[ns]\n",
      " 1   OP_CARRIER           1050420 non-null  object        \n",
      " 2   OP_CARRIER_FL_NUM    1050420 non-null  int64         \n",
      " 3   ORIGIN               1050420 non-null  object        \n",
      " 4   DEST                 1050420 non-null  object        \n",
      " 5   CARRIER_DELAY        1050420 non-null  float64       \n",
      " 6   WEATHER_DELAY        1050420 non-null  float64       \n",
      " 7   NAS_DELAY            1050420 non-null  float64       \n",
      " 8   SECURITY_DELAY       1050420 non-null  float64       \n",
      " 9   LATE_AIRCRAFT_DELAY  1050420 non-null  float64       \n",
      " 10  row_sums             1050420 non-null  float64       \n",
      "dtypes: datetime64[ns](1), float64(6), int64(1), object(3)\n",
      "memory usage: 88.2+ MB\n"
     ]
    }
   ],
   "source": [
    "# Observe data types\n",
    "\n",
    "flights.info()"
   ]
  },
  {
   "cell_type": "code",
   "execution_count": 11,
   "id": "ea63ef20-7176-414d-b394-175d50dfa630",
   "metadata": {},
   "outputs": [
    {
     "name": "stdout",
     "output_type": "stream",
     "text": [
      "\n",
      "average_delay:\n",
      "--------------------\n",
      "81.069730    31\n",
      "84.610587    31\n",
      "47.000000     4\n",
      "55.000000     3\n",
      "47.351351     2\n",
      "             ..\n",
      "45.840149     1\n",
      "46.744409     1\n",
      "48.161538     1\n",
      "41.753521     1\n",
      "62.432773     1\n",
      "Name: average_delay, Length: 3936, dtype: int64\n",
      "\n"
     ]
    }
   ],
   "source": [
    "# Iterate over each column in the DataFrame\n",
    "for col in df.columns:\n",
    "    # Print column name, a separator, and then the value counts for that column\n",
    "    print(f\"\\n{col}:\\n{'-'*20}\\n{df[col].value_counts()}\\n\")\n"
   ]
  },
  {
   "cell_type": "code",
   "execution_count": 12,
   "id": "43d18497-af3e-43de-9035-c93bafedfea9",
   "metadata": {},
   "outputs": [
    {
     "data": {
      "text/html": [
       "<div>\n",
       "<style scoped>\n",
       "    .dataframe tbody tr th:only-of-type {\n",
       "        vertical-align: middle;\n",
       "    }\n",
       "\n",
       "    .dataframe tbody tr th {\n",
       "        vertical-align: top;\n",
       "    }\n",
       "\n",
       "    .dataframe thead th {\n",
       "        text-align: right;\n",
       "    }\n",
       "</style>\n",
       "<table border=\"1\" class=\"dataframe\">\n",
       "  <thead>\n",
       "    <tr style=\"text-align: right;\">\n",
       "      <th></th>\n",
       "      <th>average_delay</th>\n",
       "    </tr>\n",
       "    <tr>\n",
       "      <th>FL_DATE</th>\n",
       "      <th></th>\n",
       "    </tr>\n",
       "  </thead>\n",
       "  <tbody>\n",
       "    <tr>\n",
       "      <th>2009-01-01</th>\n",
       "      <td>58.260274</td>\n",
       "    </tr>\n",
       "    <tr>\n",
       "      <th>2009-01-02</th>\n",
       "      <td>65.522222</td>\n",
       "    </tr>\n",
       "    <tr>\n",
       "      <th>2009-01-03</th>\n",
       "      <td>66.687151</td>\n",
       "    </tr>\n",
       "    <tr>\n",
       "      <th>2009-01-04</th>\n",
       "      <td>50.191589</td>\n",
       "    </tr>\n",
       "    <tr>\n",
       "      <th>2009-01-05</th>\n",
       "      <td>69.574074</td>\n",
       "    </tr>\n",
       "  </tbody>\n",
       "</table>\n",
       "</div>"
      ],
      "text/plain": [
       "            average_delay\n",
       "FL_DATE                  \n",
       "2009-01-01      58.260274\n",
       "2009-01-02      65.522222\n",
       "2009-01-03      66.687151\n",
       "2009-01-04      50.191589\n",
       "2009-01-05      69.574074"
      ]
     },
     "execution_count": 12,
     "metadata": {},
     "output_type": "execute_result"
    }
   ],
   "source": [
    "# Display the first 5 rows of the dataframe 'df' to get an overview of its structure and data.\n",
    "df.head()\n"
   ]
  },
  {
   "cell_type": "code",
   "execution_count": 13,
   "id": "8d3bc4df-28d1-4b3d-b7ad-f770a6ed1182",
   "metadata": {},
   "outputs": [
    {
     "data": {
      "text/html": [
       "<div>\n",
       "<style scoped>\n",
       "    .dataframe tbody tr th:only-of-type {\n",
       "        vertical-align: middle;\n",
       "    }\n",
       "\n",
       "    .dataframe tbody tr th {\n",
       "        vertical-align: top;\n",
       "    }\n",
       "\n",
       "    .dataframe thead th {\n",
       "        text-align: right;\n",
       "    }\n",
       "</style>\n",
       "<table border=\"1\" class=\"dataframe\">\n",
       "  <thead>\n",
       "    <tr style=\"text-align: right;\">\n",
       "      <th></th>\n",
       "      <th>average_delay</th>\n",
       "    </tr>\n",
       "    <tr>\n",
       "      <th>FL_DATE</th>\n",
       "      <th></th>\n",
       "    </tr>\n",
       "  </thead>\n",
       "  <tbody>\n",
       "    <tr>\n",
       "      <th>2019-12-27</th>\n",
       "      <td>60.448718</td>\n",
       "    </tr>\n",
       "    <tr>\n",
       "      <th>2019-12-28</th>\n",
       "      <td>69.414737</td>\n",
       "    </tr>\n",
       "    <tr>\n",
       "      <th>2019-12-29</th>\n",
       "      <td>57.456716</td>\n",
       "    </tr>\n",
       "    <tr>\n",
       "      <th>2019-12-30</th>\n",
       "      <td>58.888000</td>\n",
       "    </tr>\n",
       "    <tr>\n",
       "      <th>2019-12-31</th>\n",
       "      <td>62.432773</td>\n",
       "    </tr>\n",
       "  </tbody>\n",
       "</table>\n",
       "</div>"
      ],
      "text/plain": [
       "            average_delay\n",
       "FL_DATE                  \n",
       "2019-12-27      60.448718\n",
       "2019-12-28      69.414737\n",
       "2019-12-29      57.456716\n",
       "2019-12-30      58.888000\n",
       "2019-12-31      62.432773"
      ]
     },
     "execution_count": 13,
     "metadata": {},
     "output_type": "execute_result"
    }
   ],
   "source": [
    "# Display the last 5 rows of the dataframe 'df' to get an overview of its structure and data.\n",
    "\n",
    "df.tail()"
   ]
  },
  {
   "cell_type": "code",
   "execution_count": 14,
   "id": "a39c713c",
   "metadata": {},
   "outputs": [
    {
     "data": {
      "text/html": [
       "<div>\n",
       "<style scoped>\n",
       "    .dataframe tbody tr th:only-of-type {\n",
       "        vertical-align: middle;\n",
       "    }\n",
       "\n",
       "    .dataframe tbody tr th {\n",
       "        vertical-align: top;\n",
       "    }\n",
       "\n",
       "    .dataframe thead th {\n",
       "        text-align: right;\n",
       "    }\n",
       "</style>\n",
       "<table border=\"1\" class=\"dataframe\">\n",
       "  <thead>\n",
       "    <tr style=\"text-align: right;\">\n",
       "      <th></th>\n",
       "      <th>count</th>\n",
       "      <th>mean</th>\n",
       "      <th>std</th>\n",
       "      <th>min</th>\n",
       "      <th>25%</th>\n",
       "      <th>50%</th>\n",
       "      <th>75%</th>\n",
       "      <th>max</th>\n",
       "    </tr>\n",
       "  </thead>\n",
       "  <tbody>\n",
       "    <tr>\n",
       "      <th>OP_CARRIER_FL_NUM</th>\n",
       "      <td>1050420.0</td>\n",
       "      <td>1366.505955</td>\n",
       "      <td>770.537902</td>\n",
       "      <td>1.0</td>\n",
       "      <td>663.0</td>\n",
       "      <td>1395.0</td>\n",
       "      <td>1990.0</td>\n",
       "      <td>2949.0</td>\n",
       "    </tr>\n",
       "    <tr>\n",
       "      <th>CARRIER_DELAY</th>\n",
       "      <td>1050420.0</td>\n",
       "      <td>20.382211</td>\n",
       "      <td>46.774431</td>\n",
       "      <td>0.0</td>\n",
       "      <td>0.0</td>\n",
       "      <td>4.0</td>\n",
       "      <td>24.0</td>\n",
       "      <td>2142.0</td>\n",
       "    </tr>\n",
       "    <tr>\n",
       "      <th>WEATHER_DELAY</th>\n",
       "      <td>1050420.0</td>\n",
       "      <td>3.469107</td>\n",
       "      <td>20.483603</td>\n",
       "      <td>0.0</td>\n",
       "      <td>0.0</td>\n",
       "      <td>0.0</td>\n",
       "      <td>0.0</td>\n",
       "      <td>1587.0</td>\n",
       "    </tr>\n",
       "    <tr>\n",
       "      <th>NAS_DELAY</th>\n",
       "      <td>1050420.0</td>\n",
       "      <td>13.798474</td>\n",
       "      <td>25.466529</td>\n",
       "      <td>0.0</td>\n",
       "      <td>0.0</td>\n",
       "      <td>3.0</td>\n",
       "      <td>18.0</td>\n",
       "      <td>1138.0</td>\n",
       "    </tr>\n",
       "    <tr>\n",
       "      <th>SECURITY_DELAY</th>\n",
       "      <td>1050420.0</td>\n",
       "      <td>0.087493</td>\n",
       "      <td>2.628331</td>\n",
       "      <td>0.0</td>\n",
       "      <td>0.0</td>\n",
       "      <td>0.0</td>\n",
       "      <td>0.0</td>\n",
       "      <td>987.0</td>\n",
       "    </tr>\n",
       "    <tr>\n",
       "      <th>LATE_AIRCRAFT_DELAY</th>\n",
       "      <td>1050420.0</td>\n",
       "      <td>19.962781</td>\n",
       "      <td>42.201950</td>\n",
       "      <td>0.0</td>\n",
       "      <td>0.0</td>\n",
       "      <td>0.0</td>\n",
       "      <td>24.0</td>\n",
       "      <td>1514.0</td>\n",
       "    </tr>\n",
       "    <tr>\n",
       "      <th>row_sums</th>\n",
       "      <td>1050420.0</td>\n",
       "      <td>57.700065</td>\n",
       "      <td>64.279035</td>\n",
       "      <td>15.0</td>\n",
       "      <td>23.0</td>\n",
       "      <td>38.0</td>\n",
       "      <td>69.0</td>\n",
       "      <td>2142.0</td>\n",
       "    </tr>\n",
       "  </tbody>\n",
       "</table>\n",
       "</div>"
      ],
      "text/plain": [
       "                         count         mean         std   min    25%     50%  \\\n",
       "OP_CARRIER_FL_NUM    1050420.0  1366.505955  770.537902   1.0  663.0  1395.0   \n",
       "CARRIER_DELAY        1050420.0    20.382211   46.774431   0.0    0.0     4.0   \n",
       "WEATHER_DELAY        1050420.0     3.469107   20.483603   0.0    0.0     0.0   \n",
       "NAS_DELAY            1050420.0    13.798474   25.466529   0.0    0.0     3.0   \n",
       "SECURITY_DELAY       1050420.0     0.087493    2.628331   0.0    0.0     0.0   \n",
       "LATE_AIRCRAFT_DELAY  1050420.0    19.962781   42.201950   0.0    0.0     0.0   \n",
       "row_sums             1050420.0    57.700065   64.279035  15.0   23.0    38.0   \n",
       "\n",
       "                        75%     max  \n",
       "OP_CARRIER_FL_NUM    1990.0  2949.0  \n",
       "CARRIER_DELAY          24.0  2142.0  \n",
       "WEATHER_DELAY           0.0  1587.0  \n",
       "NAS_DELAY              18.0  1138.0  \n",
       "SECURITY_DELAY          0.0   987.0  \n",
       "LATE_AIRCRAFT_DELAY    24.0  1514.0  \n",
       "row_sums               69.0  2142.0  "
      ]
     },
     "execution_count": 14,
     "metadata": {},
     "output_type": "execute_result"
    }
   ],
   "source": [
    "# Generate a statistical summary of the 'flights' dataframe, \n",
    "# providing an overview of the distribution for each numerical column.\n",
    "\n",
    "flights.describe().T\n"
   ]
  },
  {
   "cell_type": "code",
   "execution_count": 15,
   "id": "36419ed3-1e02-4fdc-88ba-97468afdca4c",
   "metadata": {},
   "outputs": [
    {
     "data": {
      "text/plain": [
       "ORIGIN    15\n",
       "dtype: int64"
      ]
     },
     "execution_count": 15,
     "metadata": {},
     "output_type": "execute_result"
    }
   ],
   "source": [
    "# Extracting the frequency counts of each unique airport in the 'ORIGIN' column of the 'flights' dataframe.\n",
    "# The result is stored in 'list_of_airports' which is then converted into a DataFrame.\n",
    "# Finally, we're finding the number of unique counts (i.e., the number of times each airport frequency occurs) using 'nunique()'.\n",
    "\n",
    "list_of_airports = flights['ORIGIN'].value_counts()\n",
    "list_of_airports = pd.DataFrame(list_of_airports)\n",
    "list_of_airports.nunique()\n"
   ]
  },
  {
   "cell_type": "code",
   "execution_count": 16,
   "id": "65cf331d-9674-4bbc-b062-f8810d45357b",
   "metadata": {},
   "outputs": [
    {
     "data": {
      "text/html": [
       "<div>\n",
       "<style scoped>\n",
       "    .dataframe tbody tr th:only-of-type {\n",
       "        vertical-align: middle;\n",
       "    }\n",
       "\n",
       "    .dataframe tbody tr th {\n",
       "        vertical-align: top;\n",
       "    }\n",
       "\n",
       "    .dataframe thead th {\n",
       "        text-align: right;\n",
       "    }\n",
       "</style>\n",
       "<table border=\"1\" class=\"dataframe\">\n",
       "  <thead>\n",
       "    <tr style=\"text-align: right;\">\n",
       "      <th></th>\n",
       "      <th>ORIGIN</th>\n",
       "    </tr>\n",
       "  </thead>\n",
       "  <tbody>\n",
       "    <tr>\n",
       "      <th>DFW</th>\n",
       "      <td>383029</td>\n",
       "    </tr>\n",
       "    <tr>\n",
       "      <th>ORD</th>\n",
       "      <td>148995</td>\n",
       "    </tr>\n",
       "    <tr>\n",
       "      <th>MIA</th>\n",
       "      <td>126564</td>\n",
       "    </tr>\n",
       "    <tr>\n",
       "      <th>CLT</th>\n",
       "      <td>89035</td>\n",
       "    </tr>\n",
       "    <tr>\n",
       "      <th>LAX</th>\n",
       "      <td>69633</td>\n",
       "    </tr>\n",
       "    <tr>\n",
       "      <th>PHX</th>\n",
       "      <td>49937</td>\n",
       "    </tr>\n",
       "    <tr>\n",
       "      <th>PHL</th>\n",
       "      <td>48832</td>\n",
       "    </tr>\n",
       "    <tr>\n",
       "      <th>JFK</th>\n",
       "      <td>35101</td>\n",
       "    </tr>\n",
       "    <tr>\n",
       "      <th>SFO</th>\n",
       "      <td>28341</td>\n",
       "    </tr>\n",
       "    <tr>\n",
       "      <th>DEN</th>\n",
       "      <td>15886</td>\n",
       "    </tr>\n",
       "    <tr>\n",
       "      <th>ATL</th>\n",
       "      <td>13902</td>\n",
       "    </tr>\n",
       "    <tr>\n",
       "      <th>SEA</th>\n",
       "      <td>12521</td>\n",
       "    </tr>\n",
       "    <tr>\n",
       "      <th>EWR</th>\n",
       "      <td>11615</td>\n",
       "    </tr>\n",
       "    <tr>\n",
       "      <th>IAH</th>\n",
       "      <td>10944</td>\n",
       "    </tr>\n",
       "    <tr>\n",
       "      <th>IAD</th>\n",
       "      <td>6085</td>\n",
       "    </tr>\n",
       "  </tbody>\n",
       "</table>\n",
       "</div>"
      ],
      "text/plain": [
       "     ORIGIN\n",
       "DFW  383029\n",
       "ORD  148995\n",
       "MIA  126564\n",
       "CLT   89035\n",
       "LAX   69633\n",
       "PHX   49937\n",
       "PHL   48832\n",
       "JFK   35101\n",
       "SFO   28341\n",
       "DEN   15886\n",
       "ATL   13902\n",
       "SEA   12521\n",
       "EWR   11615\n",
       "IAH   10944\n",
       "IAD    6085"
      ]
     },
     "execution_count": 16,
     "metadata": {},
     "output_type": "execute_result"
    }
   ],
   "source": [
    "# Display the first 15 rows of the 'list_of_airports' DataFrame to get a quick overview of the top airports by frequency.\n",
    "list_of_airports.head(15)\n"
   ]
  },
  {
   "cell_type": "markdown",
   "id": "36b508d1-e926-4523-82ba-d7f61ff7689a",
   "metadata": {},
   "source": [
    "## TRAIN SPLIT"
   ]
  },
  {
   "cell_type": "code",
   "execution_count": 20,
   "id": "fe6d3a6a-06ba-4446-bdb4-f1992a90a857",
   "metadata": {},
   "outputs": [
    {
     "data": {
      "text/html": [
       "<div>\n",
       "<style scoped>\n",
       "    .dataframe tbody tr th:only-of-type {\n",
       "        vertical-align: middle;\n",
       "    }\n",
       "\n",
       "    .dataframe tbody tr th {\n",
       "        vertical-align: top;\n",
       "    }\n",
       "\n",
       "    .dataframe thead th {\n",
       "        text-align: right;\n",
       "    }\n",
       "</style>\n",
       "<table border=\"1\" class=\"dataframe\">\n",
       "  <thead>\n",
       "    <tr style=\"text-align: right;\">\n",
       "      <th></th>\n",
       "      <th>average_delay</th>\n",
       "    </tr>\n",
       "    <tr>\n",
       "      <th>FL_DATE</th>\n",
       "      <th></th>\n",
       "    </tr>\n",
       "  </thead>\n",
       "  <tbody>\n",
       "    <tr>\n",
       "      <th>2009-09-30</th>\n",
       "      <td>40.461538</td>\n",
       "    </tr>\n",
       "    <tr>\n",
       "      <th>2009-10-01</th>\n",
       "      <td>81.069730</td>\n",
       "    </tr>\n",
       "    <tr>\n",
       "      <th>2009-10-02</th>\n",
       "      <td>81.069730</td>\n",
       "    </tr>\n",
       "    <tr>\n",
       "      <th>2009-10-03</th>\n",
       "      <td>81.069730</td>\n",
       "    </tr>\n",
       "    <tr>\n",
       "      <th>2009-10-04</th>\n",
       "      <td>81.069730</td>\n",
       "    </tr>\n",
       "    <tr>\n",
       "      <th>...</th>\n",
       "      <td>...</td>\n",
       "    </tr>\n",
       "    <tr>\n",
       "      <th>2014-07-05</th>\n",
       "      <td>47.061644</td>\n",
       "    </tr>\n",
       "    <tr>\n",
       "      <th>2014-07-06</th>\n",
       "      <td>46.952880</td>\n",
       "    </tr>\n",
       "    <tr>\n",
       "      <th>2014-07-07</th>\n",
       "      <td>49.320312</td>\n",
       "    </tr>\n",
       "    <tr>\n",
       "      <th>2014-07-08</th>\n",
       "      <td>56.581121</td>\n",
       "    </tr>\n",
       "    <tr>\n",
       "      <th>2014-07-09</th>\n",
       "      <td>56.832200</td>\n",
       "    </tr>\n",
       "  </tbody>\n",
       "</table>\n",
       "<p>1744 rows × 1 columns</p>\n",
       "</div>"
      ],
      "text/plain": [
       "            average_delay\n",
       "FL_DATE                  \n",
       "2009-09-30      40.461538\n",
       "2009-10-01      81.069730\n",
       "2009-10-02      81.069730\n",
       "2009-10-03      81.069730\n",
       "2009-10-04      81.069730\n",
       "...                   ...\n",
       "2014-07-05      47.061644\n",
       "2014-07-06      46.952880\n",
       "2014-07-07      49.320312\n",
       "2014-07-08      56.581121\n",
       "2014-07-09      56.832200\n",
       "\n",
       "[1744 rows x 1 columns]"
      ]
     },
     "execution_count": 20,
     "metadata": {},
     "output_type": "execute_result"
    }
   ],
   "source": [
    "# Split the data by year\n",
    "train = df.iloc[:2016] \n",
    "test = df.iloc[2016:] \n",
    "train.loc['2009-09-30':]\n",
    "\n"
   ]
  },
  {
   "cell_type": "code",
   "execution_count": 19,
   "id": "12fe3bee-3790-4b7d-b03f-9f7ab7d72555",
   "metadata": {},
   "outputs": [
    {
     "ename": "TypeError",
     "evalue": "Only valid with DatetimeIndex, TimedeltaIndex or PeriodIndex, but got an instance of 'RangeIndex'",
     "output_type": "error",
     "traceback": [
      "\u001b[0;31m---------------------------------------------------------------------------\u001b[0m",
      "\u001b[0;31mTypeError\u001b[0m                                 Traceback (most recent call last)",
      "Cell \u001b[0;32mIn[19], line 2\u001b[0m\n\u001b[1;32m      1\u001b[0m \u001b[38;5;66;03m# Splitting the data resampling the data by year\u001b[39;00m\n\u001b[0;32m----> 2\u001b[0m train, validate, test \u001b[38;5;241m=\u001b[39m \u001b[43mm\u001b[49m\u001b[38;5;241;43m.\u001b[39;49m\u001b[43mtrain_test_split\u001b[49m\u001b[43m(\u001b[49m\u001b[43mflights\u001b[49m\u001b[43m,\u001b[49m\u001b[43m \u001b[49m\u001b[38;5;124;43m'\u001b[39;49m\u001b[38;5;124;43mW\u001b[39;49m\u001b[38;5;124;43m'\u001b[39;49m\u001b[43m)\u001b[49m\n",
      "File \u001b[0;32m~/codeup-data-science/CLOUD-NINE-FLIGHT-SOLUTIONS/Miatta/model.py:33\u001b[0m, in \u001b[0;36mtrain_test_split\u001b[0;34m(df, time_duration)\u001b[0m\n\u001b[1;32m     32\u001b[0m \u001b[38;5;28;01mdef\u001b[39;00m \u001b[38;5;21mtrain_test_split\u001b[39m(df, time_duration):\n\u001b[0;32m---> 33\u001b[0m     flights_fortnightly_mean \u001b[38;5;241m=\u001b[39m \u001b[43mdf\u001b[49m\u001b[38;5;241;43m.\u001b[39;49m\u001b[43mresample\u001b[49m\u001b[43m(\u001b[49m\u001b[43mtime_duration\u001b[49m\u001b[43m)\u001b[49m\u001b[38;5;241m.\u001b[39mmean()\n\u001b[1;32m     35\u001b[0m     \u001b[38;5;66;03m# split into train, validation, test\u001b[39;00m\n\u001b[1;32m     36\u001b[0m     train \u001b[38;5;241m=\u001b[39m flights_fortnightly_mean[:\u001b[38;5;124m'\u001b[39m\u001b[38;5;124m2016\u001b[39m\u001b[38;5;124m'\u001b[39m]\n",
      "File \u001b[0;32m/opt/homebrew/anaconda3/lib/python3.10/site-packages/pandas/core/frame.py:11392\u001b[0m, in \u001b[0;36mDataFrame.resample\u001b[0;34m(self, rule, axis, closed, label, convention, kind, loffset, base, on, level, origin, offset, group_keys)\u001b[0m\n\u001b[1;32m  11375\u001b[0m \u001b[38;5;129m@doc\u001b[39m(NDFrame\u001b[38;5;241m.\u001b[39mresample, \u001b[38;5;241m*\u001b[39m\u001b[38;5;241m*\u001b[39m_shared_doc_kwargs)\n\u001b[1;32m  11376\u001b[0m \u001b[38;5;28;01mdef\u001b[39;00m \u001b[38;5;21mresample\u001b[39m(\n\u001b[1;32m  11377\u001b[0m     \u001b[38;5;28mself\u001b[39m,\n\u001b[0;32m   (...)\u001b[0m\n\u001b[1;32m  11390\u001b[0m     group_keys: \u001b[38;5;28mbool\u001b[39m \u001b[38;5;241m|\u001b[39m lib\u001b[38;5;241m.\u001b[39mNoDefault \u001b[38;5;241m=\u001b[39m no_default,\n\u001b[1;32m  11391\u001b[0m ) \u001b[38;5;241m-\u001b[39m\u001b[38;5;241m>\u001b[39m Resampler:\n\u001b[0;32m> 11392\u001b[0m     \u001b[38;5;28;01mreturn\u001b[39;00m \u001b[38;5;28;43msuper\u001b[39;49m\u001b[43m(\u001b[49m\u001b[43m)\u001b[49m\u001b[38;5;241;43m.\u001b[39;49m\u001b[43mresample\u001b[49m\u001b[43m(\u001b[49m\n\u001b[1;32m  11393\u001b[0m \u001b[43m        \u001b[49m\u001b[43mrule\u001b[49m\u001b[38;5;241;43m=\u001b[39;49m\u001b[43mrule\u001b[49m\u001b[43m,\u001b[49m\n\u001b[1;32m  11394\u001b[0m \u001b[43m        \u001b[49m\u001b[43maxis\u001b[49m\u001b[38;5;241;43m=\u001b[39;49m\u001b[43maxis\u001b[49m\u001b[43m,\u001b[49m\n\u001b[1;32m  11395\u001b[0m \u001b[43m        \u001b[49m\u001b[43mclosed\u001b[49m\u001b[38;5;241;43m=\u001b[39;49m\u001b[43mclosed\u001b[49m\u001b[43m,\u001b[49m\n\u001b[1;32m  11396\u001b[0m \u001b[43m        \u001b[49m\u001b[43mlabel\u001b[49m\u001b[38;5;241;43m=\u001b[39;49m\u001b[43mlabel\u001b[49m\u001b[43m,\u001b[49m\n\u001b[1;32m  11397\u001b[0m \u001b[43m        \u001b[49m\u001b[43mconvention\u001b[49m\u001b[38;5;241;43m=\u001b[39;49m\u001b[43mconvention\u001b[49m\u001b[43m,\u001b[49m\n\u001b[1;32m  11398\u001b[0m \u001b[43m        \u001b[49m\u001b[43mkind\u001b[49m\u001b[38;5;241;43m=\u001b[39;49m\u001b[43mkind\u001b[49m\u001b[43m,\u001b[49m\n\u001b[1;32m  11399\u001b[0m \u001b[43m        \u001b[49m\u001b[43mloffset\u001b[49m\u001b[38;5;241;43m=\u001b[39;49m\u001b[43mloffset\u001b[49m\u001b[43m,\u001b[49m\n\u001b[1;32m  11400\u001b[0m \u001b[43m        \u001b[49m\u001b[43mbase\u001b[49m\u001b[38;5;241;43m=\u001b[39;49m\u001b[43mbase\u001b[49m\u001b[43m,\u001b[49m\n\u001b[1;32m  11401\u001b[0m \u001b[43m        \u001b[49m\u001b[43mon\u001b[49m\u001b[38;5;241;43m=\u001b[39;49m\u001b[43mon\u001b[49m\u001b[43m,\u001b[49m\n\u001b[1;32m  11402\u001b[0m \u001b[43m        \u001b[49m\u001b[43mlevel\u001b[49m\u001b[38;5;241;43m=\u001b[39;49m\u001b[43mlevel\u001b[49m\u001b[43m,\u001b[49m\n\u001b[1;32m  11403\u001b[0m \u001b[43m        \u001b[49m\u001b[43morigin\u001b[49m\u001b[38;5;241;43m=\u001b[39;49m\u001b[43morigin\u001b[49m\u001b[43m,\u001b[49m\n\u001b[1;32m  11404\u001b[0m \u001b[43m        \u001b[49m\u001b[43moffset\u001b[49m\u001b[38;5;241;43m=\u001b[39;49m\u001b[43moffset\u001b[49m\u001b[43m,\u001b[49m\n\u001b[1;32m  11405\u001b[0m \u001b[43m        \u001b[49m\u001b[43mgroup_keys\u001b[49m\u001b[38;5;241;43m=\u001b[39;49m\u001b[43mgroup_keys\u001b[49m\u001b[43m,\u001b[49m\n\u001b[1;32m  11406\u001b[0m \u001b[43m    \u001b[49m\u001b[43m)\u001b[49m\n",
      "File \u001b[0;32m/opt/homebrew/anaconda3/lib/python3.10/site-packages/pandas/core/generic.py:8858\u001b[0m, in \u001b[0;36mNDFrame.resample\u001b[0;34m(self, rule, axis, closed, label, convention, kind, loffset, base, on, level, origin, offset, group_keys)\u001b[0m\n\u001b[1;32m   8855\u001b[0m \u001b[38;5;28;01mfrom\u001b[39;00m \u001b[38;5;21;01mpandas\u001b[39;00m\u001b[38;5;21;01m.\u001b[39;00m\u001b[38;5;21;01mcore\u001b[39;00m\u001b[38;5;21;01m.\u001b[39;00m\u001b[38;5;21;01mresample\u001b[39;00m \u001b[38;5;28;01mimport\u001b[39;00m get_resampler\n\u001b[1;32m   8857\u001b[0m axis \u001b[38;5;241m=\u001b[39m \u001b[38;5;28mself\u001b[39m\u001b[38;5;241m.\u001b[39m_get_axis_number(axis)\n\u001b[0;32m-> 8858\u001b[0m \u001b[38;5;28;01mreturn\u001b[39;00m \u001b[43mget_resampler\u001b[49m\u001b[43m(\u001b[49m\n\u001b[1;32m   8859\u001b[0m \u001b[43m    \u001b[49m\u001b[38;5;28;43mself\u001b[39;49m\u001b[43m,\u001b[49m\n\u001b[1;32m   8860\u001b[0m \u001b[43m    \u001b[49m\u001b[43mfreq\u001b[49m\u001b[38;5;241;43m=\u001b[39;49m\u001b[43mrule\u001b[49m\u001b[43m,\u001b[49m\n\u001b[1;32m   8861\u001b[0m \u001b[43m    \u001b[49m\u001b[43mlabel\u001b[49m\u001b[38;5;241;43m=\u001b[39;49m\u001b[43mlabel\u001b[49m\u001b[43m,\u001b[49m\n\u001b[1;32m   8862\u001b[0m \u001b[43m    \u001b[49m\u001b[43mclosed\u001b[49m\u001b[38;5;241;43m=\u001b[39;49m\u001b[43mclosed\u001b[49m\u001b[43m,\u001b[49m\n\u001b[1;32m   8863\u001b[0m \u001b[43m    \u001b[49m\u001b[43maxis\u001b[49m\u001b[38;5;241;43m=\u001b[39;49m\u001b[43maxis\u001b[49m\u001b[43m,\u001b[49m\n\u001b[1;32m   8864\u001b[0m \u001b[43m    \u001b[49m\u001b[43mkind\u001b[49m\u001b[38;5;241;43m=\u001b[39;49m\u001b[43mkind\u001b[49m\u001b[43m,\u001b[49m\n\u001b[1;32m   8865\u001b[0m \u001b[43m    \u001b[49m\u001b[43mloffset\u001b[49m\u001b[38;5;241;43m=\u001b[39;49m\u001b[43mloffset\u001b[49m\u001b[43m,\u001b[49m\n\u001b[1;32m   8866\u001b[0m \u001b[43m    \u001b[49m\u001b[43mconvention\u001b[49m\u001b[38;5;241;43m=\u001b[39;49m\u001b[43mconvention\u001b[49m\u001b[43m,\u001b[49m\n\u001b[1;32m   8867\u001b[0m \u001b[43m    \u001b[49m\u001b[43mbase\u001b[49m\u001b[38;5;241;43m=\u001b[39;49m\u001b[43mbase\u001b[49m\u001b[43m,\u001b[49m\n\u001b[1;32m   8868\u001b[0m \u001b[43m    \u001b[49m\u001b[43mkey\u001b[49m\u001b[38;5;241;43m=\u001b[39;49m\u001b[43mon\u001b[49m\u001b[43m,\u001b[49m\n\u001b[1;32m   8869\u001b[0m \u001b[43m    \u001b[49m\u001b[43mlevel\u001b[49m\u001b[38;5;241;43m=\u001b[39;49m\u001b[43mlevel\u001b[49m\u001b[43m,\u001b[49m\n\u001b[1;32m   8870\u001b[0m \u001b[43m    \u001b[49m\u001b[43morigin\u001b[49m\u001b[38;5;241;43m=\u001b[39;49m\u001b[43morigin\u001b[49m\u001b[43m,\u001b[49m\n\u001b[1;32m   8871\u001b[0m \u001b[43m    \u001b[49m\u001b[43moffset\u001b[49m\u001b[38;5;241;43m=\u001b[39;49m\u001b[43moffset\u001b[49m\u001b[43m,\u001b[49m\n\u001b[1;32m   8872\u001b[0m \u001b[43m    \u001b[49m\u001b[43mgroup_keys\u001b[49m\u001b[38;5;241;43m=\u001b[39;49m\u001b[43mgroup_keys\u001b[49m\u001b[43m,\u001b[49m\n\u001b[1;32m   8873\u001b[0m \u001b[43m\u001b[49m\u001b[43m)\u001b[49m\n",
      "File \u001b[0;32m/opt/homebrew/anaconda3/lib/python3.10/site-packages/pandas/core/resample.py:1544\u001b[0m, in \u001b[0;36mget_resampler\u001b[0;34m(obj, kind, **kwds)\u001b[0m\n\u001b[1;32m   1540\u001b[0m \u001b[38;5;124;03m\"\"\"\u001b[39;00m\n\u001b[1;32m   1541\u001b[0m \u001b[38;5;124;03mCreate a TimeGrouper and return our resampler.\u001b[39;00m\n\u001b[1;32m   1542\u001b[0m \u001b[38;5;124;03m\"\"\"\u001b[39;00m\n\u001b[1;32m   1543\u001b[0m tg \u001b[38;5;241m=\u001b[39m TimeGrouper(\u001b[38;5;241m*\u001b[39m\u001b[38;5;241m*\u001b[39mkwds)\n\u001b[0;32m-> 1544\u001b[0m \u001b[38;5;28;01mreturn\u001b[39;00m \u001b[43mtg\u001b[49m\u001b[38;5;241;43m.\u001b[39;49m\u001b[43m_get_resampler\u001b[49m\u001b[43m(\u001b[49m\u001b[43mobj\u001b[49m\u001b[43m,\u001b[49m\u001b[43m \u001b[49m\u001b[43mkind\u001b[49m\u001b[38;5;241;43m=\u001b[39;49m\u001b[43mkind\u001b[49m\u001b[43m)\u001b[49m\n",
      "File \u001b[0;32m/opt/homebrew/anaconda3/lib/python3.10/site-packages/pandas/core/resample.py:1725\u001b[0m, in \u001b[0;36mTimeGrouper._get_resampler\u001b[0;34m(self, obj, kind)\u001b[0m\n\u001b[1;32m   1720\u001b[0m \u001b[38;5;28;01melif\u001b[39;00m \u001b[38;5;28misinstance\u001b[39m(ax, TimedeltaIndex):\n\u001b[1;32m   1721\u001b[0m     \u001b[38;5;28;01mreturn\u001b[39;00m TimedeltaIndexResampler(\n\u001b[1;32m   1722\u001b[0m         obj, groupby\u001b[38;5;241m=\u001b[39m\u001b[38;5;28mself\u001b[39m, axis\u001b[38;5;241m=\u001b[39m\u001b[38;5;28mself\u001b[39m\u001b[38;5;241m.\u001b[39maxis, group_keys\u001b[38;5;241m=\u001b[39m\u001b[38;5;28mself\u001b[39m\u001b[38;5;241m.\u001b[39mgroup_keys\n\u001b[1;32m   1723\u001b[0m     )\n\u001b[0;32m-> 1725\u001b[0m \u001b[38;5;28;01mraise\u001b[39;00m \u001b[38;5;167;01mTypeError\u001b[39;00m(\n\u001b[1;32m   1726\u001b[0m     \u001b[38;5;124m\"\u001b[39m\u001b[38;5;124mOnly valid with DatetimeIndex, \u001b[39m\u001b[38;5;124m\"\u001b[39m\n\u001b[1;32m   1727\u001b[0m     \u001b[38;5;124m\"\u001b[39m\u001b[38;5;124mTimedeltaIndex or PeriodIndex, \u001b[39m\u001b[38;5;124m\"\u001b[39m\n\u001b[1;32m   1728\u001b[0m     \u001b[38;5;124mf\u001b[39m\u001b[38;5;124m\"\u001b[39m\u001b[38;5;124mbut got an instance of \u001b[39m\u001b[38;5;124m'\u001b[39m\u001b[38;5;132;01m{\u001b[39;00m\u001b[38;5;28mtype\u001b[39m(ax)\u001b[38;5;241m.\u001b[39m\u001b[38;5;18m__name__\u001b[39m\u001b[38;5;132;01m}\u001b[39;00m\u001b[38;5;124m'\u001b[39m\u001b[38;5;124m\"\u001b[39m\n\u001b[1;32m   1729\u001b[0m )\n",
      "\u001b[0;31mTypeError\u001b[0m: Only valid with DatetimeIndex, TimedeltaIndex or PeriodIndex, but got an instance of 'RangeIndex'"
     ]
    }
   ],
   "source": [
    "# Splitting the data resampling the data by year\n",
    "train, validate, test = m.train_test_split(flights, 'W')  \n"
   ]
  },
  {
   "cell_type": "markdown",
   "id": "7df0f651-9eed-4a11-82c3-626df62e0f71",
   "metadata": {},
   "source": [
    "# EXPLORE"
   ]
  },
  {
   "cell_type": "code",
   "execution_count": null,
   "id": "5d3a1e93-70d1-49f3-b089-f954c36278b9",
   "metadata": {},
   "outputs": [],
   "source": [
    "# Calculate the total delay for each row by summing the delays across the specified columns.\n",
    "\n",
    "row_sums = flights[['CARRIER_DELAY', 'WEATHER_DELAY', 'NAS_DELAY', 'SECURITY_DELAY', 'LATE_AIRCRAFT_DELAY']].sum(axis=1)\n",
    "row_sums"
   ]
  },
  {
   "cell_type": "code",
   "execution_count": null,
   "id": "67429963-33e1-4dcd-a4ed-75ea712668a2",
   "metadata": {},
   "outputs": [],
   "source": [
    "# List of top 15 busiest airport hubs in the U.S. by airport code\n",
    "\n",
    "top_15_hubs = ['ATL',  # Hartsfield-Jackson Atlanta International Airport\n",
    "               'DFW',  # Dallas/Fort Worth International Airport\n",
    "               'DEN',  # Denver International Airport\n",
    "               'ORD',  # O'Hare International Airport, Chicago\n",
    "               'LAX',  # Los Angeles International Airport\n",
    "               'JFK',  # John F. Kennedy International Airport, New York\n",
    "               'IAH',  # George Bush Intercontinental Airport, Houston\n",
    "               'PHX',  # Phoenix Sky Harbor International Airport\n",
    "               'EWR',  # Newark Liberty International Airport\n",
    "               'SFO',  # San Francisco International Airport\n",
    "               'SEA',  # Seattle-Tacoma International Airport\n",
    "               'IAD',  # Washington Dulles International Airport\n",
    "               'PHL',  # Philadelphia International Airport\n",
    "               'CLT',  # Charlotte Douglas International Airport\n",
    "               'MIA']  # Miami International Airport\n"
   ]
  },
  {
   "cell_type": "code",
   "execution_count": null,
   "id": "1520bad4-b61c-4c1d-837a-4173b421a184",
   "metadata": {},
   "outputs": [],
   "source": [
    "# Display the first 15 rows of the 'list_of_airports' dataframe to get a quick overview of its data structure and contents.\n",
    "list_of_airports.head(15)\n"
   ]
  },
  {
   "cell_type": "markdown",
   "id": "be486a2c-669d-4b71-9912-d3f860909799",
   "metadata": {},
   "source": [
    "### Investigate the relationship between these columns and determine methods for merging them.\n",
    "\n",
    "### Evaluate the columns using different criteria and metrics.\n"
   ]
  },
  {
   "cell_type": "code",
   "execution_count": null,
   "id": "3383c171-4196-4941-a7a1-403544599764",
   "metadata": {},
   "outputs": [],
   "source": [
    "#Fills in nulls as zero as null means no delay\n",
    "flights.fillna(0, inplace=True)\n",
    "#Makes FL_DATE column a datetime datatype\n",
    "flights.FL_DATE = flights.FL_DATE.astype('datetime64')\n",
    "#Makes FL_DATE the index\n",
    "# flights = flights.set_index('FL_DATE')"
   ]
  },
  {
   "cell_type": "code",
   "execution_count": null,
   "id": "8cfefea1",
   "metadata": {},
   "outputs": [],
   "source": [
    "flights_cat = flights\n",
    "flights_cat['carrier'] = flights_cat.CARRIER_DELAY > 0"
   ]
  },
  {
   "cell_type": "code",
   "execution_count": null,
   "id": "e0f5be67",
   "metadata": {},
   "outputs": [],
   "source": [
    "flights_cat['weather'] = flights_cat.WEATHER_DELAY > 0"
   ]
  },
  {
   "cell_type": "code",
   "execution_count": null,
   "id": "c3bd0770",
   "metadata": {},
   "outputs": [],
   "source": [
    "flights_cat['nas'] = flights_cat.NAS_DELAY > 0"
   ]
  },
  {
   "cell_type": "code",
   "execution_count": null,
   "id": "0414e31e",
   "metadata": {},
   "outputs": [],
   "source": [
    "flights_cat['security'] = flights_cat.SECURITY_DELAY > 0"
   ]
  },
  {
   "cell_type": "code",
   "execution_count": null,
   "id": "8e8c07b6",
   "metadata": {},
   "outputs": [],
   "source": [
    "flights_cat['late_aircraft'] = flights_cat.LATE_AIRCRAFT_DELAY > 0"
   ]
  },
  {
   "cell_type": "code",
   "execution_count": null,
   "id": "e00fa04f",
   "metadata": {},
   "outputs": [],
   "source": [
    "flights_cat.drop(columns=['OP_CARRIER', 'CARRIER_DELAY', 'WEATHER_DELAY', 'NAS_DELAY', 'SECURITY_DELAY', 'LATE_AIRCRAFT_DELAY'])"
   ]
  },
  {
   "cell_type": "code",
   "execution_count": null,
   "id": "0a33da90-e697-4111-9557-4c848bf8707c",
   "metadata": {},
   "outputs": [],
   "source": [
    "flights.info()"
   ]
  },
  {
   "cell_type": "markdown",
   "id": "d9c84745",
   "metadata": {},
   "source": [
    "### At first glance it seems weird that weather does not have as many rows as the rest.  As a pilot I thought that weather dominates the delays so I wondered why this is the case."
   ]
  },
  {
   "cell_type": "markdown",
   "id": "cf9114d4",
   "metadata": {},
   "source": [
    "### It seems that the NAS data includes non extreme weater as does carrier and late aircraft delay."
   ]
  },
  {
   "cell_type": "code",
   "execution_count": null,
   "id": "96283177",
   "metadata": {},
   "outputs": [],
   "source": [
    "dep = pd.crosstab(flights_cat.FL_DATE, [flights_cat.carrier, flights_cat.weather, flights_cat.nas, flights_cat.security, flights_cat.late_aircraft])"
   ]
  },
  {
   "cell_type": "markdown",
   "id": "962cf111",
   "metadata": {},
   "source": [
    "### Chi squared\n",
    "* Null Hypothesis:  These delay types are independent of each other\n",
    "* Alternative Hypothesis:  These types are dependent on each other\n",
    "* Alpha < 0.05"
   ]
  },
  {
   "cell_type": "code",
   "execution_count": null,
   "id": "0ac0fff8",
   "metadata": {},
   "outputs": [],
   "source": [
    "dep"
   ]
  },
  {
   "cell_type": "code",
   "execution_count": null,
   "id": "06d3ecdc",
   "metadata": {},
   "outputs": [],
   "source": [
    "chi2, p, degf, expected = stats.chi2_contingency(dep)"
   ]
  },
  {
   "cell_type": "code",
   "execution_count": null,
   "id": "83c9da68",
   "metadata": {},
   "outputs": [],
   "source": [
    "chi2, p"
   ]
  },
  {
   "cell_type": "markdown",
   "id": "9454f143",
   "metadata": {},
   "source": [
    "#### There is sufficient evidence to reject the null.  They are dependent on each other."
   ]
  },
  {
   "cell_type": "markdown",
   "id": "4e396169",
   "metadata": {},
   "source": [
    "#### This suggests that there may bee some sort of overlap.  A quick look at the NAS delays shows that minor weather phenomena show up in the NAS as opposed to weather.  Also a weather delay on one leg of an airplanes trip seems to turn into a carrier delay on the next."
   ]
  },
  {
   "cell_type": "markdown",
   "id": "76d74ddc",
   "metadata": {},
   "source": []
  },
  {
   "cell_type": "markdown",
   "id": "a6b7e506",
   "metadata": {},
   "source": [
    "### A look at histograms"
   ]
  },
  {
   "cell_type": "code",
   "execution_count": null,
   "id": "6062323e",
   "metadata": {},
   "outputs": [],
   "source": [
    "plt.hist(flights.CARRIER_DELAY, bins=100)"
   ]
  },
  {
   "cell_type": "code",
   "execution_count": null,
   "id": "62dbdda4",
   "metadata": {},
   "outputs": [],
   "source": [
    "plt.hist(flights.WEATHER_DELAY, bins=100)"
   ]
  },
  {
   "cell_type": "code",
   "execution_count": null,
   "id": "0a531cb7",
   "metadata": {},
   "outputs": [],
   "source": [
    "plt.hist(flights.NAS_DELAY, bins=100)"
   ]
  },
  {
   "cell_type": "code",
   "execution_count": null,
   "id": "e08ed793",
   "metadata": {},
   "outputs": [],
   "source": [
    "plt.hist(flights.SECURITY_DELAY, bins=100)"
   ]
  },
  {
   "cell_type": "code",
   "execution_count": null,
   "id": "3069e724",
   "metadata": {},
   "outputs": [],
   "source": [
    "plt.hist(flights.LATE_AIRCRAFT_DELAY, bins=100)"
   ]
  },
  {
   "cell_type": "markdown",
   "id": "e895b097",
   "metadata": {},
   "source": [
    "#### Skewed makes a whole lot of sense.  Nothing unexpected here."
   ]
  },
  {
   "cell_type": "markdown",
   "id": "494f71b7",
   "metadata": {},
   "source": [
    "### THERE IS sufficient evidence that I can combine these columns in feature engineering."
   ]
  },
  {
   "cell_type": "markdown",
   "id": "3fd4e479",
   "metadata": {},
   "source": [
    "### Resample my data by daily mean delays"
   ]
  },
  {
   "cell_type": "code",
   "execution_count": null,
   "id": "9c25eddb",
   "metadata": {},
   "outputs": [],
   "source": [
    "flights_daily_mean = wrangle.clean_flight_data_for_average_daily_delay(flights)"
   ]
  },
  {
   "cell_type": "code",
   "execution_count": null,
   "id": "ce5b0ea2",
   "metadata": {},
   "outputs": [],
   "source": [
    "flights_daily_mean.sort_index()"
   ]
  },
  {
   "cell_type": "code",
   "execution_count": null,
   "id": "9fc4c820",
   "metadata": {},
   "outputs": [],
   "source": [
    "flights_daily_mean.isna().sum()"
   ]
  },
  {
   "cell_type": "markdown",
   "id": "3a18a56c",
   "metadata": {},
   "source": [
    "### Find the best interval to define average delay by to optimize reducing noise while keeping good correlation results"
   ]
  },
  {
   "cell_type": "code",
   "execution_count": null,
   "id": "36a2db67",
   "metadata": {},
   "outputs": [],
   "source": [
    "def plot_average_by_interval():\n",
    "    \n",
    "    resample_dict = {'D':'Daily', 'W':'Weekly', '2W':'FORTNIGHTLY', 'M':'Monthly', '3M':'Quarterly', '6M':'Semi-Annually', 'Y':'Yearly'}\n",
    "\n",
    "    for _ in resample_dict:\n",
    "        plt.figure(figsize=(10,6))\n",
    "\n",
    "        flights_daily_mean.resample(_).mean().average_delay.plot(label='daily')\n",
    "        # flights_daily_mean.resample('W').mean().average_delay.plot(label='weekly')\n",
    "        # flights_daily_mean.resample('M').mean().average_delay.plot(label='monthly')\n",
    "        # flights_daily_mean.resample('Y').mean().average_delay.plot(label='yearly')\n",
    "\n",
    "\n",
    "        plt.title(f'{resample_dict[_][0:]} Average Delay')\n",
    "        plt.legend()\n",
    "        plt.show()\n",
    "\n",
    "        pd.plotting.autocorrelation_plot(flights_daily_mean.average_delay.resample(_).mean())\n",
    "        plt.show()\n",
    "\n",
    "plot_average_by_interval()"
   ]
  },
  {
   "cell_type": "markdown",
   "id": "2af80e32",
   "metadata": {},
   "source": [
    "### Plot the best lag plot based on the airline.  The best will always be 365"
   ]
  },
  {
   "cell_type": "code",
   "execution_count": null,
   "id": "27c1d686",
   "metadata": {},
   "outputs": [],
   "source": [
    "def plot_best_lag_plot():\n",
    "\n",
    "    #Plots the best correlated lag\n",
    "    pd.plotting.lag_plot(flights_daily_mean.resample('W').mean(), lag=365)\n",
    "    plt.title('lag plot');\n",
    "\n",
    "plot_best_lag_plot()"
   ]
  },
  {
   "cell_type": "markdown",
   "id": "d8183bfb",
   "metadata": {},
   "source": [
    "### Split the data by year"
   ]
  },
  {
   "cell_type": "code",
   "execution_count": null,
   "id": "8c608aba",
   "metadata": {},
   "outputs": [],
   "source": [
    "train = flights_daily_mean.iloc[:2016] \n",
    "test = flights_daily_mean.iloc[2016:] \n",
    "train.loc['2009-09-30':]"
   ]
  },
  {
   "cell_type": "code",
   "execution_count": null,
   "id": "507e9d7a",
   "metadata": {},
   "outputs": [],
   "source": [
    "test"
   ]
  },
  {
   "cell_type": "markdown",
   "id": "6abe8f31",
   "metadata": {},
   "source": [
    "### Plot the seasonal decompositions for the various time periods"
   ]
  },
  {
   "cell_type": "code",
   "execution_count": null,
   "id": "301a4ea7",
   "metadata": {},
   "outputs": [],
   "source": [
    "y = train.average_delay.resample('d').mean()\n",
    "\n",
    "result = sm.tsa.seasonal_decompose(y)\n",
    "\n",
    "decomposition = pd.DataFrame({\n",
    "    'y': result.observed,\n",
    "    'trend': result.trend,\n",
    "    'seasonal': result.seasonal,\n",
    "    'resid': result.resid\n",
    "})\n",
    "\n",
    "decomposition['trend_centered'] = decomposition.trend - decomposition.trend.mean()\n",
    "decomposition[['trend_centered', 'seasonal', 'resid']].plot();"
   ]
  },
  {
   "cell_type": "code",
   "execution_count": null,
   "id": "e20f7b71",
   "metadata": {},
   "outputs": [],
   "source": [
    "y = train.average_delay.resample('w').mean()\n",
    "\n",
    "result = sm.tsa.seasonal_decompose(y)\n",
    "\n",
    "decomposition = pd.DataFrame({\n",
    "    'y': result.observed,\n",
    "    'trend': result.trend,\n",
    "    'seasonal': result.seasonal,\n",
    "    'resid': result.resid\n",
    "})\n",
    "\n",
    "decomposition['trend_centered'] = decomposition.trend - decomposition.trend.mean()\n",
    "decomposition[['trend_centered', 'seasonal', 'resid']].plot();"
   ]
  },
  {
   "cell_type": "code",
   "execution_count": null,
   "id": "5fd94c66",
   "metadata": {},
   "outputs": [],
   "source": [
    "def seasonal_decomposition_plot(duration):\n",
    "    y = train.average_delay.resample(duration).mean()\n",
    "\n",
    "    result = sm.tsa.seasonal_decompose(y)\n",
    "\n",
    "    decomposition = pd.DataFrame({\n",
    "        'y': result.observed,\n",
    "        'trend': result.trend,\n",
    "        'seasonal': result.seasonal,\n",
    "        'resid': result.resid\n",
    "    })\n",
    "\n",
    "    decomposition['trend_centered'] = decomposition.trend - decomposition.trend.mean()\n",
    "    decomposition[['trend_centered', 'seasonal', 'resid']].plot();\n",
    "    \n",
    "seasonal_decomposition_plot('2w')"
   ]
  },
  {
   "cell_type": "code",
   "execution_count": null,
   "id": "a541c094",
   "metadata": {},
   "outputs": [],
   "source": [
    "y = train.average_delay.resample('m').mean()\n",
    "\n",
    "result = sm.tsa.seasonal_decompose(y)\n",
    "\n",
    "decomposition = pd.DataFrame({\n",
    "    'y': result.observed,\n",
    "    'trend': result.trend,\n",
    "    'seasonal': result.seasonal,\n",
    "    'resid': result.resid\n",
    "})\n",
    "\n",
    "decomposition['trend_centered'] = decomposition.trend - decomposition.trend.mean()\n",
    "decomposition[['trend_centered', 'seasonal', 'resid']].plot();"
   ]
  },
  {
   "cell_type": "code",
   "execution_count": null,
   "id": "ae2ae4ea",
   "metadata": {},
   "outputs": [],
   "source": [
    "y = train.average_delay.resample('3m').mean()\n",
    "\n",
    "result = sm.tsa.seasonal_decompose(y)\n",
    "\n",
    "decomposition = pd.DataFrame({\n",
    "    'y': result.observed,\n",
    "    'trend': result.trend,\n",
    "    'seasonal': result.seasonal,\n",
    "    'resid': result.resid\n",
    "})\n",
    "\n",
    "decomposition['trend_centered'] = decomposition.trend - decomposition.trend.mean()\n",
    "decomposition[['trend_centered', 'seasonal', 'resid']].plot();"
   ]
  },
  {
   "cell_type": "code",
   "execution_count": null,
   "id": "0cd852a6",
   "metadata": {},
   "outputs": [],
   "source": [
    "y = train.average_delay.resample('6m').mean()\n",
    "\n",
    "result = sm.tsa.seasonal_decompose(y)\n",
    "\n",
    "decomposition = pd.DataFrame({\n",
    "    'y': result.observed,\n",
    "    'trend': result.trend,\n",
    "    'seasonal': result.seasonal,\n",
    "    'resid': result.resid\n",
    "})\n",
    "\n",
    "decomposition['trend_centered'] = decomposition.trend - decomposition.trend.mean()\n",
    "decomposition[['trend_centered', 'seasonal', 'resid']].plot();"
   ]
  },
  {
   "cell_type": "code",
   "execution_count": null,
   "id": "8a6ccdb9",
   "metadata": {},
   "outputs": [],
   "source": [
    "y = train.average_delay.resample('y').mean()\n",
    "\n",
    "result = sm.tsa.seasonal_decompose(y)\n",
    "\n",
    "decomposition = pd.DataFrame({\n",
    "    'y': result.observed,\n",
    "    'trend': result.trend,\n",
    "    'seasonal': result.seasonal,\n",
    "    'resid': result.resid\n",
    "})\n",
    "\n",
    "decomposition['trend_centered'] = decomposition.trend - decomposition.trend.mean()\n",
    "decomposition[['trend_centered', 'seasonal', 'resid']].plot();"
   ]
  },
  {
   "cell_type": "markdown",
   "id": "f1ea4fa6",
   "metadata": {},
   "source": [
    "### Once again the best period to resample by seems to be 2 weeks or a fortnight"
   ]
  },
  {
   "cell_type": "code",
   "execution_count": null,
   "id": "68db01b0",
   "metadata": {},
   "outputs": [],
   "source": []
  },
  {
   "cell_type": "code",
   "execution_count": null,
   "id": "950a475c",
   "metadata": {},
   "outputs": [],
   "source": []
  },
  {
   "cell_type": "code",
   "execution_count": null,
   "id": "80ac1d7a",
   "metadata": {},
   "outputs": [],
   "source": []
  }
 ],
 "metadata": {
  "kernelspec": {
   "display_name": "Python 3 (ipykernel)",
   "language": "python",
   "name": "python3"
  },
  "language_info": {
   "codemirror_mode": {
    "name": "ipython",
    "version": 3
   },
   "file_extension": ".py",
   "mimetype": "text/x-python",
   "name": "python",
   "nbconvert_exporter": "python",
   "pygments_lexer": "ipython3",
   "version": "3.10.9"
  }
 },
 "nbformat": 4,
 "nbformat_minor": 5
}
