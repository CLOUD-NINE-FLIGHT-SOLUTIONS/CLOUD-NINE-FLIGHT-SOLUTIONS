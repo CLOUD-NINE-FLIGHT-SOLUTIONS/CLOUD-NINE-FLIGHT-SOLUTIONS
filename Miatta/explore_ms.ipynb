{
 "cells": [
  {
   "cell_type": "code",
   "execution_count": 1,
   "id": "1bdb323e",
   "metadata": {},
   "outputs": [],
   "source": [
    "# Imoort Libraries\n",
    "import os\n",
    "import pandas as pd\n",
    "import seaborn as sns\n",
    "import env\n",
    "import wrangle\n",
    "import matplotlib.pyplot as plt\n",
    "import seaborn as sns\n",
    "import statsmodels.api as sm\n",
    "from datetime import datetime\n",
    "import numpy as np\n",
    "from scipy import stats\n",
    "import matplotlib.pyplot as plt\n",
    "import statsmodels.api as sm\n",
    "\n",
    "# Ignore warnings\n",
    "import warnings\n",
    "warnings.filterwarnings('ignore')"
   ]
  },
  {
   "cell_type": "markdown",
   "id": "9c63126c-a408-48ef-b28b-8f4bda83c096",
   "metadata": {},
   "source": [
    "# ACQUIRE\n",
    "\n",
    "- Data acquired via https://www.kaggle.com/datasets/sherrytp/airline-delay-analysis \n",
    "- Data set consisted of 10 csv files\n",
    "- AA data set has 10 columns and 7628937 rows\n",
    "### DATA TYPE SUMMARY\n",
    "- 1 integer\n",
    "- 3 object \n",
    "- 5 float\n",
    "- 1 datetime value\n"
   ]
  },
  {
   "cell_type": "markdown",
   "id": "5ec1bdaf",
   "metadata": {},
   "source": [
    "### MASK FOR AMERICAN AIRLINES "
   ]
  },
  {
   "cell_type": "code",
   "execution_count": 2,
   "id": "024d63c6",
   "metadata": {},
   "outputs": [],
   "source": [
    "# Using the 'wrangle' module, this line pulls airline data for the airline code 'AA' (American Airlines) and stores it in the 'flights' variable.\n",
    "flights = wrangle.pull_airline_data('AA')"
   ]
  },
  {
   "cell_type": "code",
   "execution_count": 3,
   "id": "d5cb60d2-876c-48b7-aaad-a1764ae2818a",
   "metadata": {},
   "outputs": [
    {
     "data": {
      "text/plain": [
       "AA    7628937\n",
       "Name: OP_CARRIER, dtype: int64"
      ]
     },
     "execution_count": 3,
     "metadata": {},
     "output_type": "execute_result"
    }
   ],
   "source": [
    "# This line of code counts the number of occurrences for each unique carrier (OP_CARRIER) in the 'flights' dataset. \n",
    "# It will return a Series with the carriers as the index and the counts as the values, sorted in descending order by default.\n",
    "\n",
    "flights.OP_CARRIER.value_counts()"
   ]
  },
  {
   "cell_type": "code",
   "execution_count": 4,
   "id": "ea3d0107-fa1b-41c0-8999-be7729326fe8",
   "metadata": {},
   "outputs": [
    {
     "data": {
      "text/html": [
       "<div>\n",
       "<style scoped>\n",
       "    .dataframe tbody tr th:only-of-type {\n",
       "        vertical-align: middle;\n",
       "    }\n",
       "\n",
       "    .dataframe tbody tr th {\n",
       "        vertical-align: top;\n",
       "    }\n",
       "\n",
       "    .dataframe thead th {\n",
       "        text-align: right;\n",
       "    }\n",
       "</style>\n",
       "<table border=\"1\" class=\"dataframe\">\n",
       "  <thead>\n",
       "    <tr style=\"text-align: right;\">\n",
       "      <th></th>\n",
       "      <th>FL_DATE</th>\n",
       "      <th>OP_CARRIER</th>\n",
       "      <th>OP_CARRIER_FL_NUM</th>\n",
       "      <th>ORIGIN</th>\n",
       "      <th>DEST</th>\n",
       "      <th>CARRIER_DELAY</th>\n",
       "      <th>WEATHER_DELAY</th>\n",
       "      <th>NAS_DELAY</th>\n",
       "      <th>SECURITY_DELAY</th>\n",
       "      <th>LATE_AIRCRAFT_DELAY</th>\n",
       "    </tr>\n",
       "  </thead>\n",
       "  <tbody>\n",
       "    <tr>\n",
       "      <th>12005</th>\n",
       "      <td>2009-01-01</td>\n",
       "      <td>AA</td>\n",
       "      <td>1</td>\n",
       "      <td>JFK</td>\n",
       "      <td>LAX</td>\n",
       "      <td>0.0</td>\n",
       "      <td>0.0</td>\n",
       "      <td>0.0</td>\n",
       "      <td>0.0</td>\n",
       "      <td>0.0</td>\n",
       "    </tr>\n",
       "    <tr>\n",
       "      <th>12006</th>\n",
       "      <td>2009-01-01</td>\n",
       "      <td>AA</td>\n",
       "      <td>2</td>\n",
       "      <td>LAX</td>\n",
       "      <td>JFK</td>\n",
       "      <td>35.0</td>\n",
       "      <td>0.0</td>\n",
       "      <td>0.0</td>\n",
       "      <td>0.0</td>\n",
       "      <td>0.0</td>\n",
       "    </tr>\n",
       "    <tr>\n",
       "      <th>12007</th>\n",
       "      <td>2009-01-01</td>\n",
       "      <td>AA</td>\n",
       "      <td>3</td>\n",
       "      <td>JFK</td>\n",
       "      <td>LAX</td>\n",
       "      <td>0.0</td>\n",
       "      <td>0.0</td>\n",
       "      <td>0.0</td>\n",
       "      <td>0.0</td>\n",
       "      <td>0.0</td>\n",
       "    </tr>\n",
       "    <tr>\n",
       "      <th>12008</th>\n",
       "      <td>2009-01-01</td>\n",
       "      <td>AA</td>\n",
       "      <td>5</td>\n",
       "      <td>DFW</td>\n",
       "      <td>HNL</td>\n",
       "      <td>0.0</td>\n",
       "      <td>0.0</td>\n",
       "      <td>0.0</td>\n",
       "      <td>0.0</td>\n",
       "      <td>0.0</td>\n",
       "    </tr>\n",
       "    <tr>\n",
       "      <th>12009</th>\n",
       "      <td>2009-01-01</td>\n",
       "      <td>AA</td>\n",
       "      <td>6</td>\n",
       "      <td>OGG</td>\n",
       "      <td>DFW</td>\n",
       "      <td>0.0</td>\n",
       "      <td>0.0</td>\n",
       "      <td>0.0</td>\n",
       "      <td>0.0</td>\n",
       "      <td>0.0</td>\n",
       "    </tr>\n",
       "    <tr>\n",
       "      <th>...</th>\n",
       "      <td>...</td>\n",
       "      <td>...</td>\n",
       "      <td>...</td>\n",
       "      <td>...</td>\n",
       "      <td>...</td>\n",
       "      <td>...</td>\n",
       "      <td>...</td>\n",
       "      <td>...</td>\n",
       "      <td>...</td>\n",
       "      <td>...</td>\n",
       "    </tr>\n",
       "    <tr>\n",
       "      <th>7419921</th>\n",
       "      <td>2019-12-31</td>\n",
       "      <td>AA</td>\n",
       "      <td>1403</td>\n",
       "      <td>BWI</td>\n",
       "      <td>DFW</td>\n",
       "      <td>0.0</td>\n",
       "      <td>0.0</td>\n",
       "      <td>0.0</td>\n",
       "      <td>0.0</td>\n",
       "      <td>0.0</td>\n",
       "    </tr>\n",
       "    <tr>\n",
       "      <th>7419922</th>\n",
       "      <td>2019-12-31</td>\n",
       "      <td>AA</td>\n",
       "      <td>1404</td>\n",
       "      <td>DEN</td>\n",
       "      <td>PHX</td>\n",
       "      <td>0.0</td>\n",
       "      <td>0.0</td>\n",
       "      <td>0.0</td>\n",
       "      <td>0.0</td>\n",
       "      <td>0.0</td>\n",
       "    </tr>\n",
       "    <tr>\n",
       "      <th>7419923</th>\n",
       "      <td>2019-12-31</td>\n",
       "      <td>AA</td>\n",
       "      <td>1405</td>\n",
       "      <td>DFW</td>\n",
       "      <td>LAX</td>\n",
       "      <td>35.0</td>\n",
       "      <td>0.0</td>\n",
       "      <td>0.0</td>\n",
       "      <td>0.0</td>\n",
       "      <td>0.0</td>\n",
       "    </tr>\n",
       "    <tr>\n",
       "      <th>7419924</th>\n",
       "      <td>2019-12-31</td>\n",
       "      <td>AA</td>\n",
       "      <td>1406</td>\n",
       "      <td>DFW</td>\n",
       "      <td>SAT</td>\n",
       "      <td>0.0</td>\n",
       "      <td>0.0</td>\n",
       "      <td>0.0</td>\n",
       "      <td>0.0</td>\n",
       "      <td>0.0</td>\n",
       "    </tr>\n",
       "    <tr>\n",
       "      <th>7419925</th>\n",
       "      <td>2019-12-31</td>\n",
       "      <td>AA</td>\n",
       "      <td>1408</td>\n",
       "      <td>DFW</td>\n",
       "      <td>EGE</td>\n",
       "      <td>0.0</td>\n",
       "      <td>0.0</td>\n",
       "      <td>0.0</td>\n",
       "      <td>0.0</td>\n",
       "      <td>0.0</td>\n",
       "    </tr>\n",
       "  </tbody>\n",
       "</table>\n",
       "<p>7628937 rows × 10 columns</p>\n",
       "</div>"
      ],
      "text/plain": [
       "            FL_DATE OP_CARRIER  OP_CARRIER_FL_NUM ORIGIN DEST  CARRIER_DELAY  \\\n",
       "12005    2009-01-01         AA                  1    JFK  LAX            0.0   \n",
       "12006    2009-01-01         AA                  2    LAX  JFK           35.0   \n",
       "12007    2009-01-01         AA                  3    JFK  LAX            0.0   \n",
       "12008    2009-01-01         AA                  5    DFW  HNL            0.0   \n",
       "12009    2009-01-01         AA                  6    OGG  DFW            0.0   \n",
       "...             ...        ...                ...    ...  ...            ...   \n",
       "7419921  2019-12-31         AA               1403    BWI  DFW            0.0   \n",
       "7419922  2019-12-31         AA               1404    DEN  PHX            0.0   \n",
       "7419923  2019-12-31         AA               1405    DFW  LAX           35.0   \n",
       "7419924  2019-12-31         AA               1406    DFW  SAT            0.0   \n",
       "7419925  2019-12-31         AA               1408    DFW  EGE            0.0   \n",
       "\n",
       "         WEATHER_DELAY  NAS_DELAY  SECURITY_DELAY  LATE_AIRCRAFT_DELAY  \n",
       "12005              0.0        0.0             0.0                  0.0  \n",
       "12006              0.0        0.0             0.0                  0.0  \n",
       "12007              0.0        0.0             0.0                  0.0  \n",
       "12008              0.0        0.0             0.0                  0.0  \n",
       "12009              0.0        0.0             0.0                  0.0  \n",
       "...                ...        ...             ...                  ...  \n",
       "7419921            0.0        0.0             0.0                  0.0  \n",
       "7419922            0.0        0.0             0.0                  0.0  \n",
       "7419923            0.0        0.0             0.0                  0.0  \n",
       "7419924            0.0        0.0             0.0                  0.0  \n",
       "7419925            0.0        0.0             0.0                  0.0  \n",
       "\n",
       "[7628937 rows x 10 columns]"
      ]
     },
     "execution_count": 4,
     "metadata": {},
     "output_type": "execute_result"
    }
   ],
   "source": [
    "flights"
   ]
  },
  {
   "cell_type": "markdown",
   "id": "d09d7cfa-22e6-4036-8505-0bccb0f42765",
   "metadata": {},
   "source": [
    " # PREPARE\n",
    " \n",
    "- Sorting columns\n",
    "- Dropping duplicate rows\n",
    "- Dropping missing values\n",
    "- Renaming columns\n",
    "- Resetting index\n",
    "- Type conversion\n",
    "- Filtering\n",
    "- Aggregation"
   ]
  },
  {
   "cell_type": "code",
   "execution_count": 18,
   "id": "12a8c17c-71fb-4974-ba66-6dfa999233cc",
   "metadata": {},
   "outputs": [],
   "source": [
    "# Using the 'wrangle' module, clean the 'flights' dataframe to prepare it for computing the average daily delay.\n",
    "df = wrangle.clean_flight_data_for_average_daily_delay(flights)\n"
   ]
  },
  {
   "cell_type": "code",
   "execution_count": 19,
   "id": "ab8f8afa-e9da-4322-ad1e-cc015cb3727d",
   "metadata": {},
   "outputs": [],
   "source": [
    "# List of columns representing different types of flight delays to be summed up for analysis.\n",
    "col_to_sum = ['CARRIER_DELAY', 'WEATHER_DELAY', 'NAS_DELAY', 'SECURITY_DELAY', 'LATE_AIRCRAFT_DELAY']\n"
   ]
  },
  {
   "cell_type": "code",
   "execution_count": 20,
   "id": "d2647d9a-54d9-4167-a10c-d7d81dd1a0e3",
   "metadata": {},
   "outputs": [],
   "source": [
    "# List of top 15 busiest airport hubs in the U.S. by airport code\n",
    "\n",
    "top_15_hubs = ['ATL',  # Hartsfield-Jackson Atlanta International Airport\n",
    "               'DFW',  # Dallas/Fort Worth International Airport\n",
    "               'DEN',  # Denver International Airport\n",
    "               'ORD',  # O'Hare International Airport, Chicago\n",
    "               'LAX',  # Los Angeles International Airport\n",
    "               'JFK',  # John F. Kennedy International Airport, New York\n",
    "               'IAH',  # George Bush Intercontinental Airport, Houston\n",
    "               'PHX',  # Phoenix Sky Harbor International Airport\n",
    "               'EWR',  # Newark Liberty International Airport\n",
    "               'SFO',  # San Francisco International Airport\n",
    "               'SEA',  # Seattle-Tacoma International Airport\n",
    "               'IAD',  # Washington Dulles International Airport\n",
    "               'PHL',  # Philadelphia International Airport\n",
    "               'CLT',  # Charlotte Douglas International Airport\n",
    "               'MIA']  # Miami International Airport\n"
   ]
  },
  {
   "cell_type": "code",
   "execution_count": 21,
   "id": "ddfc388b-6008-4489-8d15-8e236654861c",
   "metadata": {},
   "outputs": [
    {
     "data": {
      "text/html": [
       "<div>\n",
       "<style scoped>\n",
       "    .dataframe tbody tr th:only-of-type {\n",
       "        vertical-align: middle;\n",
       "    }\n",
       "\n",
       "    .dataframe tbody tr th {\n",
       "        vertical-align: top;\n",
       "    }\n",
       "\n",
       "    .dataframe thead th {\n",
       "        text-align: right;\n",
       "    }\n",
       "</style>\n",
       "<table border=\"1\" class=\"dataframe\">\n",
       "  <thead>\n",
       "    <tr style=\"text-align: right;\">\n",
       "      <th></th>\n",
       "      <th>12005</th>\n",
       "      <th>12006</th>\n",
       "      <th>12007</th>\n",
       "      <th>12008</th>\n",
       "      <th>12009</th>\n",
       "    </tr>\n",
       "  </thead>\n",
       "  <tbody>\n",
       "    <tr>\n",
       "      <th>FL_DATE</th>\n",
       "      <td>2009-01-01 00:00:00</td>\n",
       "      <td>2009-01-01 00:00:00</td>\n",
       "      <td>2009-01-01 00:00:00</td>\n",
       "      <td>2009-01-01 00:00:00</td>\n",
       "      <td>2009-01-01 00:00:00</td>\n",
       "    </tr>\n",
       "    <tr>\n",
       "      <th>OP_CARRIER</th>\n",
       "      <td>AA</td>\n",
       "      <td>AA</td>\n",
       "      <td>AA</td>\n",
       "      <td>AA</td>\n",
       "      <td>AA</td>\n",
       "    </tr>\n",
       "    <tr>\n",
       "      <th>OP_CARRIER_FL_NUM</th>\n",
       "      <td>1</td>\n",
       "      <td>2</td>\n",
       "      <td>3</td>\n",
       "      <td>5</td>\n",
       "      <td>6</td>\n",
       "    </tr>\n",
       "    <tr>\n",
       "      <th>ORIGIN</th>\n",
       "      <td>JFK</td>\n",
       "      <td>LAX</td>\n",
       "      <td>JFK</td>\n",
       "      <td>DFW</td>\n",
       "      <td>OGG</td>\n",
       "    </tr>\n",
       "    <tr>\n",
       "      <th>DEST</th>\n",
       "      <td>LAX</td>\n",
       "      <td>JFK</td>\n",
       "      <td>LAX</td>\n",
       "      <td>HNL</td>\n",
       "      <td>DFW</td>\n",
       "    </tr>\n",
       "    <tr>\n",
       "      <th>CARRIER_DELAY</th>\n",
       "      <td>0.0</td>\n",
       "      <td>35.0</td>\n",
       "      <td>0.0</td>\n",
       "      <td>0.0</td>\n",
       "      <td>0.0</td>\n",
       "    </tr>\n",
       "    <tr>\n",
       "      <th>WEATHER_DELAY</th>\n",
       "      <td>0.0</td>\n",
       "      <td>0.0</td>\n",
       "      <td>0.0</td>\n",
       "      <td>0.0</td>\n",
       "      <td>0.0</td>\n",
       "    </tr>\n",
       "    <tr>\n",
       "      <th>NAS_DELAY</th>\n",
       "      <td>0.0</td>\n",
       "      <td>0.0</td>\n",
       "      <td>0.0</td>\n",
       "      <td>0.0</td>\n",
       "      <td>0.0</td>\n",
       "    </tr>\n",
       "    <tr>\n",
       "      <th>SECURITY_DELAY</th>\n",
       "      <td>0.0</td>\n",
       "      <td>0.0</td>\n",
       "      <td>0.0</td>\n",
       "      <td>0.0</td>\n",
       "      <td>0.0</td>\n",
       "    </tr>\n",
       "    <tr>\n",
       "      <th>LATE_AIRCRAFT_DELAY</th>\n",
       "      <td>0.0</td>\n",
       "      <td>0.0</td>\n",
       "      <td>0.0</td>\n",
       "      <td>0.0</td>\n",
       "      <td>0.0</td>\n",
       "    </tr>\n",
       "  </tbody>\n",
       "</table>\n",
       "</div>"
      ],
      "text/plain": [
       "                                   12005                12006  \\\n",
       "FL_DATE              2009-01-01 00:00:00  2009-01-01 00:00:00   \n",
       "OP_CARRIER                            AA                   AA   \n",
       "OP_CARRIER_FL_NUM                      1                    2   \n",
       "ORIGIN                               JFK                  LAX   \n",
       "DEST                                 LAX                  JFK   \n",
       "CARRIER_DELAY                        0.0                 35.0   \n",
       "WEATHER_DELAY                        0.0                  0.0   \n",
       "NAS_DELAY                            0.0                  0.0   \n",
       "SECURITY_DELAY                       0.0                  0.0   \n",
       "LATE_AIRCRAFT_DELAY                  0.0                  0.0   \n",
       "\n",
       "                                   12007                12008  \\\n",
       "FL_DATE              2009-01-01 00:00:00  2009-01-01 00:00:00   \n",
       "OP_CARRIER                            AA                   AA   \n",
       "OP_CARRIER_FL_NUM                      3                    5   \n",
       "ORIGIN                               JFK                  DFW   \n",
       "DEST                                 LAX                  HNL   \n",
       "CARRIER_DELAY                        0.0                  0.0   \n",
       "WEATHER_DELAY                        0.0                  0.0   \n",
       "NAS_DELAY                            0.0                  0.0   \n",
       "SECURITY_DELAY                       0.0                  0.0   \n",
       "LATE_AIRCRAFT_DELAY                  0.0                  0.0   \n",
       "\n",
       "                                   12009  \n",
       "FL_DATE              2009-01-01 00:00:00  \n",
       "OP_CARRIER                            AA  \n",
       "OP_CARRIER_FL_NUM                      6  \n",
       "ORIGIN                               OGG  \n",
       "DEST                                 DFW  \n",
       "CARRIER_DELAY                        0.0  \n",
       "WEATHER_DELAY                        0.0  \n",
       "NAS_DELAY                            0.0  \n",
       "SECURITY_DELAY                       0.0  \n",
       "LATE_AIRCRAFT_DELAY                  0.0  "
      ]
     },
     "execution_count": 21,
     "metadata": {},
     "output_type": "execute_result"
    }
   ],
   "source": [
    "# Display the first five rows of the 'flights' DataFrame to get an initial overview of its structure and data.\n",
    "flights.head().T\n",
    "\n"
   ]
  },
  {
   "cell_type": "markdown",
   "id": "33c518ec-8493-439c-8167-a3276f10fe83",
   "metadata": {},
   "source": [
    "### OBSERVED NUMERICAL FEATURES"
   ]
  },
  {
   "cell_type": "code",
   "execution_count": 22,
   "id": "8b8bb379-e9ff-46ca-8125-6bc35d6edf9b",
   "metadata": {},
   "outputs": [
    {
     "data": {
      "text/plain": [
       "(7628937, 10)"
      ]
     },
     "execution_count": 22,
     "metadata": {},
     "output_type": "execute_result"
    }
   ],
   "source": [
    "# Retrieve the number of rows and columns in the 'flights' DataFrame.\n",
    "flights.shape\n"
   ]
  },
  {
   "cell_type": "code",
   "execution_count": 34,
   "id": "38d0adda-d1b9-4eb0-bfc4-f3e9ecf45f94",
   "metadata": {},
   "outputs": [
    {
     "name": "stdout",
     "output_type": "stream",
     "text": [
      "<class 'pandas.core.frame.DataFrame'>\n",
      "Int64Index: 7628937 entries, 12005 to 7419925\n",
      "Data columns (total 10 columns):\n",
      " #   Column               Dtype         \n",
      "---  ------               -----         \n",
      " 0   FL_DATE              datetime64[ns]\n",
      " 1   OP_CARRIER           object        \n",
      " 2   OP_CARRIER_FL_NUM    int64         \n",
      " 3   ORIGIN               object        \n",
      " 4   DEST                 object        \n",
      " 5   CARRIER_DELAY        float64       \n",
      " 6   WEATHER_DELAY        float64       \n",
      " 7   NAS_DELAY            float64       \n",
      " 8   SECURITY_DELAY       float64       \n",
      " 9   LATE_AIRCRAFT_DELAY  float64       \n",
      "dtypes: datetime64[ns](1), float64(5), int64(1), object(3)\n",
      "memory usage: 640.2+ MB\n"
     ]
    }
   ],
   "source": [
    "# Observe data types\n",
    "\n",
    "flights.info()"
   ]
  },
  {
   "cell_type": "code",
   "execution_count": 12,
   "id": "ea63ef20-7176-414d-b394-175d50dfa630",
   "metadata": {},
   "outputs": [
    {
     "name": "stdout",
     "output_type": "stream",
     "text": [
      "\n",
      "average_delay:\n",
      "--------------------\n",
      "10.470068    31\n",
      "17.975713    31\n",
      "9.139625      1\n",
      "24.000000     1\n",
      "6.464414      1\n",
      "             ..\n",
      "9.833932      1\n",
      "13.022064     1\n",
      "14.819889     1\n",
      "17.791667     1\n",
      "9.269166      1\n",
      "Name: average_delay, Length: 3957, dtype: int64\n",
      "\n"
     ]
    }
   ],
   "source": [
    "# Iterate over each column in the DataFrame\n",
    "for col in df.columns:\n",
    "    # Print column name, a separator, and then the value counts for that column\n",
    "    print(f\"\\n{col}:\\n{'-'*20}\\n{df[col].value_counts()}\\n\")\n"
   ]
  },
  {
   "cell_type": "code",
   "execution_count": 26,
   "id": "43d18497-af3e-43de-9035-c93bafedfea9",
   "metadata": {},
   "outputs": [
    {
     "data": {
      "text/html": [
       "<div>\n",
       "<style scoped>\n",
       "    .dataframe tbody tr th:only-of-type {\n",
       "        vertical-align: middle;\n",
       "    }\n",
       "\n",
       "    .dataframe tbody tr th {\n",
       "        vertical-align: top;\n",
       "    }\n",
       "\n",
       "    .dataframe thead th {\n",
       "        text-align: right;\n",
       "    }\n",
       "</style>\n",
       "<table border=\"1\" class=\"dataframe\">\n",
       "  <thead>\n",
       "    <tr style=\"text-align: right;\">\n",
       "      <th></th>\n",
       "      <th>average_delay</th>\n",
       "    </tr>\n",
       "    <tr>\n",
       "      <th>FL_DATE</th>\n",
       "      <th></th>\n",
       "    </tr>\n",
       "  </thead>\n",
       "  <tbody>\n",
       "    <tr>\n",
       "      <th>2009-01-01</th>\n",
       "      <td>9.139625</td>\n",
       "    </tr>\n",
       "    <tr>\n",
       "      <th>2009-01-02</th>\n",
       "      <td>9.778761</td>\n",
       "    </tr>\n",
       "    <tr>\n",
       "      <th>2009-01-03</th>\n",
       "      <td>12.781872</td>\n",
       "    </tr>\n",
       "    <tr>\n",
       "      <th>2009-01-04</th>\n",
       "      <td>9.834304</td>\n",
       "    </tr>\n",
       "    <tr>\n",
       "      <th>2009-01-05</th>\n",
       "      <td>35.406053</td>\n",
       "    </tr>\n",
       "  </tbody>\n",
       "</table>\n",
       "</div>"
      ],
      "text/plain": [
       "            average_delay\n",
       "FL_DATE                  \n",
       "2009-01-01       9.139625\n",
       "2009-01-02       9.778761\n",
       "2009-01-03      12.781872\n",
       "2009-01-04       9.834304\n",
       "2009-01-05      35.406053"
      ]
     },
     "execution_count": 26,
     "metadata": {},
     "output_type": "execute_result"
    }
   ],
   "source": [
    "# Display the first 5 rows of the dataframe 'df' to get an overview of its structure and data.\n",
    "df.head()\n"
   ]
  },
  {
   "cell_type": "code",
   "execution_count": 27,
   "id": "8d3bc4df-28d1-4b3d-b7ad-f770a6ed1182",
   "metadata": {},
   "outputs": [
    {
     "data": {
      "text/html": [
       "<div>\n",
       "<style scoped>\n",
       "    .dataframe tbody tr th:only-of-type {\n",
       "        vertical-align: middle;\n",
       "    }\n",
       "\n",
       "    .dataframe tbody tr th {\n",
       "        vertical-align: top;\n",
       "    }\n",
       "\n",
       "    .dataframe thead th {\n",
       "        text-align: right;\n",
       "    }\n",
       "</style>\n",
       "<table border=\"1\" class=\"dataframe\">\n",
       "  <thead>\n",
       "    <tr style=\"text-align: right;\">\n",
       "      <th></th>\n",
       "      <th>average_delay</th>\n",
       "    </tr>\n",
       "    <tr>\n",
       "      <th>FL_DATE</th>\n",
       "      <th></th>\n",
       "    </tr>\n",
       "  </thead>\n",
       "  <tbody>\n",
       "    <tr>\n",
       "      <th>2019-12-27</th>\n",
       "      <td>11.728281</td>\n",
       "    </tr>\n",
       "    <tr>\n",
       "      <th>2019-12-28</th>\n",
       "      <td>19.339775</td>\n",
       "    </tr>\n",
       "    <tr>\n",
       "      <th>2019-12-29</th>\n",
       "      <td>12.237557</td>\n",
       "    </tr>\n",
       "    <tr>\n",
       "      <th>2019-12-30</th>\n",
       "      <td>12.854688</td>\n",
       "    </tr>\n",
       "    <tr>\n",
       "      <th>2019-12-31</th>\n",
       "      <td>9.269166</td>\n",
       "    </tr>\n",
       "  </tbody>\n",
       "</table>\n",
       "</div>"
      ],
      "text/plain": [
       "            average_delay\n",
       "FL_DATE                  \n",
       "2019-12-27      11.728281\n",
       "2019-12-28      19.339775\n",
       "2019-12-29      12.237557\n",
       "2019-12-30      12.854688\n",
       "2019-12-31       9.269166"
      ]
     },
     "execution_count": 27,
     "metadata": {},
     "output_type": "execute_result"
    }
   ],
   "source": [
    "# Display the last 5 rows of the dataframe 'df' to get an overview of its structure and data.\n",
    "\n",
    "df.tail()"
   ]
  },
  {
   "cell_type": "code",
   "execution_count": 28,
   "id": "a39c713c",
   "metadata": {},
   "outputs": [
    {
     "data": {
      "text/html": [
       "<div>\n",
       "<style scoped>\n",
       "    .dataframe tbody tr th:only-of-type {\n",
       "        vertical-align: middle;\n",
       "    }\n",
       "\n",
       "    .dataframe tbody tr th {\n",
       "        vertical-align: top;\n",
       "    }\n",
       "\n",
       "    .dataframe thead th {\n",
       "        text-align: right;\n",
       "    }\n",
       "</style>\n",
       "<table border=\"1\" class=\"dataframe\">\n",
       "  <thead>\n",
       "    <tr style=\"text-align: right;\">\n",
       "      <th></th>\n",
       "      <th>count</th>\n",
       "      <th>mean</th>\n",
       "      <th>std</th>\n",
       "      <th>min</th>\n",
       "      <th>25%</th>\n",
       "      <th>50%</th>\n",
       "      <th>75%</th>\n",
       "      <th>max</th>\n",
       "    </tr>\n",
       "  </thead>\n",
       "  <tbody>\n",
       "    <tr>\n",
       "      <th>OP_CARRIER_FL_NUM</th>\n",
       "      <td>7628937.0</td>\n",
       "      <td>1357.323455</td>\n",
       "      <td>746.459565</td>\n",
       "      <td>1.0</td>\n",
       "      <td>678.0</td>\n",
       "      <td>1386.0</td>\n",
       "      <td>1951.0</td>\n",
       "      <td>2949.0</td>\n",
       "    </tr>\n",
       "    <tr>\n",
       "      <th>CARRIER_DELAY</th>\n",
       "      <td>7628937.0</td>\n",
       "      <td>3.971183</td>\n",
       "      <td>27.446161</td>\n",
       "      <td>0.0</td>\n",
       "      <td>0.0</td>\n",
       "      <td>0.0</td>\n",
       "      <td>0.0</td>\n",
       "      <td>2402.0</td>\n",
       "    </tr>\n",
       "    <tr>\n",
       "      <th>WEATHER_DELAY</th>\n",
       "      <td>7628937.0</td>\n",
       "      <td>0.655725</td>\n",
       "      <td>9.528406</td>\n",
       "      <td>0.0</td>\n",
       "      <td>0.0</td>\n",
       "      <td>0.0</td>\n",
       "      <td>0.0</td>\n",
       "      <td>1934.0</td>\n",
       "    </tr>\n",
       "    <tr>\n",
       "      <th>NAS_DELAY</th>\n",
       "      <td>7628937.0</td>\n",
       "      <td>2.856393</td>\n",
       "      <td>13.294111</td>\n",
       "      <td>0.0</td>\n",
       "      <td>0.0</td>\n",
       "      <td>0.0</td>\n",
       "      <td>0.0</td>\n",
       "      <td>1439.0</td>\n",
       "    </tr>\n",
       "    <tr>\n",
       "      <th>SECURITY_DELAY</th>\n",
       "      <td>7628937.0</td>\n",
       "      <td>0.017055</td>\n",
       "      <td>1.309241</td>\n",
       "      <td>0.0</td>\n",
       "      <td>0.0</td>\n",
       "      <td>0.0</td>\n",
       "      <td>0.0</td>\n",
       "      <td>1078.0</td>\n",
       "    </tr>\n",
       "    <tr>\n",
       "      <th>LATE_AIRCRAFT_DELAY</th>\n",
       "      <td>7628937.0</td>\n",
       "      <td>4.355710</td>\n",
       "      <td>22.630550</td>\n",
       "      <td>0.0</td>\n",
       "      <td>0.0</td>\n",
       "      <td>0.0</td>\n",
       "      <td>0.0</td>\n",
       "      <td>1778.0</td>\n",
       "    </tr>\n",
       "  </tbody>\n",
       "</table>\n",
       "</div>"
      ],
      "text/plain": [
       "                         count         mean         std  min    25%     50%  \\\n",
       "OP_CARRIER_FL_NUM    7628937.0  1357.323455  746.459565  1.0  678.0  1386.0   \n",
       "CARRIER_DELAY        7628937.0     3.971183   27.446161  0.0    0.0     0.0   \n",
       "WEATHER_DELAY        7628937.0     0.655725    9.528406  0.0    0.0     0.0   \n",
       "NAS_DELAY            7628937.0     2.856393   13.294111  0.0    0.0     0.0   \n",
       "SECURITY_DELAY       7628937.0     0.017055    1.309241  0.0    0.0     0.0   \n",
       "LATE_AIRCRAFT_DELAY  7628937.0     4.355710   22.630550  0.0    0.0     0.0   \n",
       "\n",
       "                        75%     max  \n",
       "OP_CARRIER_FL_NUM    1951.0  2949.0  \n",
       "CARRIER_DELAY           0.0  2402.0  \n",
       "WEATHER_DELAY           0.0  1934.0  \n",
       "NAS_DELAY               0.0  1439.0  \n",
       "SECURITY_DELAY          0.0  1078.0  \n",
       "LATE_AIRCRAFT_DELAY     0.0  1778.0  "
      ]
     },
     "execution_count": 28,
     "metadata": {},
     "output_type": "execute_result"
    }
   ],
   "source": [
    "# Generate a statistical summary of the 'flights' dataframe, \n",
    "# providing an overview of the distribution for each numerical column.\n",
    "\n",
    "flights.describe().T\n"
   ]
  },
  {
   "cell_type": "code",
   "execution_count": 29,
   "id": "36419ed3-1e02-4fdc-88ba-97468afdca4c",
   "metadata": {},
   "outputs": [
    {
     "data": {
      "text/plain": [
       "ORIGIN    122\n",
       "dtype: int64"
      ]
     },
     "execution_count": 29,
     "metadata": {},
     "output_type": "execute_result"
    }
   ],
   "source": [
    "# Extracting the frequency counts of each unique airport in the 'ORIGIN' column of the 'flights' dataframe.\n",
    "# The result is stored in 'list_of_airports' which is then converted into a DataFrame.\n",
    "# Finally, we're finding the number of unique counts (i.e., the number of times each airport frequency occurs) using 'nunique()'.\n",
    "\n",
    "list_of_airports = flights['ORIGIN'].value_counts()\n",
    "list_of_airports = pd.DataFrame(list_of_airports)\n",
    "list_of_airports.nunique()\n"
   ]
  },
  {
   "cell_type": "code",
   "execution_count": 32,
   "id": "65cf331d-9674-4bbc-b062-f8810d45357b",
   "metadata": {},
   "outputs": [
    {
     "data": {
      "text/html": [
       "<div>\n",
       "<style scoped>\n",
       "    .dataframe tbody tr th:only-of-type {\n",
       "        vertical-align: middle;\n",
       "    }\n",
       "\n",
       "    .dataframe tbody tr th {\n",
       "        vertical-align: top;\n",
       "    }\n",
       "\n",
       "    .dataframe thead th {\n",
       "        text-align: right;\n",
       "    }\n",
       "</style>\n",
       "<table border=\"1\" class=\"dataframe\">\n",
       "  <thead>\n",
       "    <tr style=\"text-align: right;\">\n",
       "      <th></th>\n",
       "      <th>ORIGIN</th>\n",
       "    </tr>\n",
       "  </thead>\n",
       "  <tbody>\n",
       "    <tr>\n",
       "      <th>DFW</th>\n",
       "      <td>1652357</td>\n",
       "    </tr>\n",
       "    <tr>\n",
       "      <th>ORD</th>\n",
       "      <td>633252</td>\n",
       "    </tr>\n",
       "    <tr>\n",
       "      <th>MIA</th>\n",
       "      <td>529718</td>\n",
       "    </tr>\n",
       "    <tr>\n",
       "      <th>CLT</th>\n",
       "      <td>452426</td>\n",
       "    </tr>\n",
       "    <tr>\n",
       "      <th>LAX</th>\n",
       "      <td>375569</td>\n",
       "    </tr>\n",
       "    <tr>\n",
       "      <th>PHX</th>\n",
       "      <td>293911</td>\n",
       "    </tr>\n",
       "    <tr>\n",
       "      <th>PHL</th>\n",
       "      <td>235608</td>\n",
       "    </tr>\n",
       "    <tr>\n",
       "      <th>LGA</th>\n",
       "      <td>209935</td>\n",
       "    </tr>\n",
       "    <tr>\n",
       "      <th>BOS</th>\n",
       "      <td>193868</td>\n",
       "    </tr>\n",
       "    <tr>\n",
       "      <th>DCA</th>\n",
       "      <td>184541</td>\n",
       "    </tr>\n",
       "    <tr>\n",
       "      <th>JFK</th>\n",
       "      <td>165453</td>\n",
       "    </tr>\n",
       "    <tr>\n",
       "      <th>MCO</th>\n",
       "      <td>143896</td>\n",
       "    </tr>\n",
       "    <tr>\n",
       "      <th>SFO</th>\n",
       "      <td>136883</td>\n",
       "    </tr>\n",
       "    <tr>\n",
       "      <th>LAS</th>\n",
       "      <td>125837</td>\n",
       "    </tr>\n",
       "    <tr>\n",
       "      <th>STL</th>\n",
       "      <td>97932</td>\n",
       "    </tr>\n",
       "  </tbody>\n",
       "</table>\n",
       "</div>"
      ],
      "text/plain": [
       "      ORIGIN\n",
       "DFW  1652357\n",
       "ORD   633252\n",
       "MIA   529718\n",
       "CLT   452426\n",
       "LAX   375569\n",
       "PHX   293911\n",
       "PHL   235608\n",
       "LGA   209935\n",
       "BOS   193868\n",
       "DCA   184541\n",
       "JFK   165453\n",
       "MCO   143896\n",
       "SFO   136883\n",
       "LAS   125837\n",
       "STL    97932"
      ]
     },
     "execution_count": 32,
     "metadata": {},
     "output_type": "execute_result"
    }
   ],
   "source": [
    "# Display the first 15 rows of the 'list_of_airports' DataFrame to get a quick overview of the top airports by frequency.\n",
    "list_of_airports.head(15)\n"
   ]
  },
  {
   "cell_type": "markdown",
   "id": "36b508d1-e926-4523-82ba-d7f61ff7689a",
   "metadata": {},
   "source": [
    "## TRAIN SPLIT"
   ]
  },
  {
   "cell_type": "code",
   "execution_count": 35,
   "id": "12fe3bee-3790-4b7d-b03f-9f7ab7d72555",
   "metadata": {},
   "outputs": [],
   "source": [
    "# Splitting the data by year\n",
    "\n"
   ]
  },
  {
   "cell_type": "markdown",
   "id": "7df0f651-9eed-4a11-82c3-626df62e0f71",
   "metadata": {},
   "source": [
    "# EXPLORE"
   ]
  },
  {
   "cell_type": "code",
   "execution_count": null,
   "id": "5d3a1e93-70d1-49f3-b089-f954c36278b9",
   "metadata": {},
   "outputs": [],
   "source": [
    "# Calculate the total delay for each row by summing the delays across the specified columns.\n",
    "\n",
    "row_sums = flights[['CARRIER_DELAY', 'WEATHER_DELAY', 'NAS_DELAY', 'SECURITY_DELAY', 'LATE_AIRCRAFT_DELAY']].sum(axis=1)\n",
    "row_sums"
   ]
  },
  {
   "cell_type": "code",
   "execution_count": null,
   "id": "67429963-33e1-4dcd-a4ed-75ea712668a2",
   "metadata": {},
   "outputs": [],
   "source": [
    "# List of top 15 busiest airport hubs in the U.S. by airport code\n",
    "\n",
    "top_15_hubs = ['ATL',  # Hartsfield-Jackson Atlanta International Airport\n",
    "               'DFW',  # Dallas/Fort Worth International Airport\n",
    "               'DEN',  # Denver International Airport\n",
    "               'ORD',  # O'Hare International Airport, Chicago\n",
    "               'LAX',  # Los Angeles International Airport\n",
    "               'JFK',  # John F. Kennedy International Airport, New York\n",
    "               'IAH',  # George Bush Intercontinental Airport, Houston\n",
    "               'PHX',  # Phoenix Sky Harbor International Airport\n",
    "               'EWR',  # Newark Liberty International Airport\n",
    "               'SFO',  # San Francisco International Airport\n",
    "               'SEA',  # Seattle-Tacoma International Airport\n",
    "               'IAD',  # Washington Dulles International Airport\n",
    "               'PHL',  # Philadelphia International Airport\n",
    "               'CLT',  # Charlotte Douglas International Airport\n",
    "               'MIA']  # Miami International Airport\n"
   ]
  },
  {
   "cell_type": "code",
   "execution_count": null,
   "id": "1520bad4-b61c-4c1d-837a-4173b421a184",
   "metadata": {},
   "outputs": [],
   "source": [
    "# Display the first 15 rows of the 'list_of_airports' dataframe to get a quick overview of its data structure and contents.\n",
    "list_of_airports.head(15)\n"
   ]
  },
  {
   "cell_type": "markdown",
   "id": "be486a2c-669d-4b71-9912-d3f860909799",
   "metadata": {},
   "source": [
    "### Investigate the relationship between these columns and determine methods for merging them.\n",
    "\n",
    "### Evaluate the columns using different criteria and metrics.\n"
   ]
  },
  {
   "cell_type": "code",
   "execution_count": null,
   "id": "3383c171-4196-4941-a7a1-403544599764",
   "metadata": {},
   "outputs": [],
   "source": [
    "#Fills in nulls as zero as null means no delay\n",
    "flights.fillna(0, inplace=True)\n",
    "#Makes FL_DATE column a datetime datatype\n",
    "flights.FL_DATE = flights.FL_DATE.astype('datetime64')\n",
    "#Makes FL_DATE the index\n",
    "# flights = flights.set_index('FL_DATE')"
   ]
  },
  {
   "cell_type": "code",
   "execution_count": null,
   "id": "8cfefea1",
   "metadata": {},
   "outputs": [],
   "source": [
    "flights_cat = flights\n",
    "flights_cat['carrier'] = flights_cat.CARRIER_DELAY > 0"
   ]
  },
  {
   "cell_type": "code",
   "execution_count": null,
   "id": "e0f5be67",
   "metadata": {},
   "outputs": [],
   "source": [
    "flights_cat['weather'] = flights_cat.WEATHER_DELAY > 0"
   ]
  },
  {
   "cell_type": "code",
   "execution_count": null,
   "id": "c3bd0770",
   "metadata": {},
   "outputs": [],
   "source": [
    "flights_cat['nas'] = flights_cat.NAS_DELAY > 0"
   ]
  },
  {
   "cell_type": "code",
   "execution_count": null,
   "id": "0414e31e",
   "metadata": {},
   "outputs": [],
   "source": [
    "flights_cat['security'] = flights_cat.SECURITY_DELAY > 0"
   ]
  },
  {
   "cell_type": "code",
   "execution_count": null,
   "id": "8e8c07b6",
   "metadata": {},
   "outputs": [],
   "source": [
    "flights_cat['late_aircraft'] = flights_cat.LATE_AIRCRAFT_DELAY > 0"
   ]
  },
  {
   "cell_type": "code",
   "execution_count": null,
   "id": "e00fa04f",
   "metadata": {},
   "outputs": [],
   "source": [
    "flights_cat.drop(columns=['OP_CARRIER', 'CARRIER_DELAY', 'WEATHER_DELAY', 'NAS_DELAY', 'SECURITY_DELAY', 'LATE_AIRCRAFT_DELAY'])"
   ]
  },
  {
   "cell_type": "code",
   "execution_count": null,
   "id": "0a33da90-e697-4111-9557-4c848bf8707c",
   "metadata": {},
   "outputs": [],
   "source": [
    "flights.info()"
   ]
  },
  {
   "cell_type": "markdown",
   "id": "d9c84745",
   "metadata": {},
   "source": [
    "### At first glance it seems weird that weather does not have as many rows as the rest.  As a pilot I thought that weather dominates the delays so I wondered why this is the case."
   ]
  },
  {
   "cell_type": "markdown",
   "id": "cf9114d4",
   "metadata": {},
   "source": [
    "### It seems that the NAS data includes non extreme weater as does carrier and late aircraft delay."
   ]
  },
  {
   "cell_type": "code",
   "execution_count": null,
   "id": "96283177",
   "metadata": {},
   "outputs": [],
   "source": [
    "dep = pd.crosstab(flights_cat.FL_DATE, [flights_cat.carrier, flights_cat.weather, flights_cat.nas, flights_cat.security, flights_cat.late_aircraft])"
   ]
  },
  {
   "cell_type": "markdown",
   "id": "962cf111",
   "metadata": {},
   "source": [
    "### Chi squared\n",
    "* Null Hypothesis:  These delay types are independent of each other\n",
    "* Alternative Hypothesis:  These types are dependent on each other\n",
    "* Alpha < 0.05"
   ]
  },
  {
   "cell_type": "code",
   "execution_count": null,
   "id": "0ac0fff8",
   "metadata": {},
   "outputs": [],
   "source": [
    "dep"
   ]
  },
  {
   "cell_type": "code",
   "execution_count": null,
   "id": "06d3ecdc",
   "metadata": {},
   "outputs": [],
   "source": [
    "chi2, p, degf, expected = stats.chi2_contingency(dep)"
   ]
  },
  {
   "cell_type": "code",
   "execution_count": null,
   "id": "83c9da68",
   "metadata": {},
   "outputs": [],
   "source": [
    "chi2, p"
   ]
  },
  {
   "cell_type": "markdown",
   "id": "9454f143",
   "metadata": {},
   "source": [
    "#### There is sufficient evidence to reject the null.  They are dependent on each other."
   ]
  },
  {
   "cell_type": "markdown",
   "id": "4e396169",
   "metadata": {},
   "source": [
    "#### This suggests that there may bee some sort of overlap.  A quick look at the NAS delays shows that minor weather phenomena show up in the NAS as opposed to weather.  Also a weather delay on one leg of an airplanes trip seems to turn into a carrier delay on the next."
   ]
  },
  {
   "cell_type": "markdown",
   "id": "76d74ddc",
   "metadata": {},
   "source": []
  },
  {
   "cell_type": "markdown",
   "id": "a6b7e506",
   "metadata": {},
   "source": [
    "### A look at histograms"
   ]
  },
  {
   "cell_type": "code",
   "execution_count": null,
   "id": "6062323e",
   "metadata": {},
   "outputs": [],
   "source": [
    "plt.hist(flights.CARRIER_DELAY, bins=100)"
   ]
  },
  {
   "cell_type": "code",
   "execution_count": null,
   "id": "62dbdda4",
   "metadata": {},
   "outputs": [],
   "source": [
    "plt.hist(flights.WEATHER_DELAY, bins=100)"
   ]
  },
  {
   "cell_type": "code",
   "execution_count": null,
   "id": "0a531cb7",
   "metadata": {},
   "outputs": [],
   "source": [
    "plt.hist(flights.NAS_DELAY, bins=100)"
   ]
  },
  {
   "cell_type": "code",
   "execution_count": null,
   "id": "e08ed793",
   "metadata": {},
   "outputs": [],
   "source": [
    "plt.hist(flights.SECURITY_DELAY, bins=100)"
   ]
  },
  {
   "cell_type": "code",
   "execution_count": null,
   "id": "3069e724",
   "metadata": {},
   "outputs": [],
   "source": [
    "plt.hist(flights.LATE_AIRCRAFT_DELAY, bins=100)"
   ]
  },
  {
   "cell_type": "markdown",
   "id": "e895b097",
   "metadata": {},
   "source": [
    "#### Skewed makes a whole lot of sense.  Nothing unexpected here."
   ]
  },
  {
   "cell_type": "markdown",
   "id": "494f71b7",
   "metadata": {},
   "source": [
    "### THERE IS sufficient evidence that I can combine these columns in feature engineering."
   ]
  },
  {
   "cell_type": "markdown",
   "id": "3fd4e479",
   "metadata": {},
   "source": [
    "### Resample my data by daily mean delays"
   ]
  },
  {
   "cell_type": "code",
   "execution_count": null,
   "id": "9c25eddb",
   "metadata": {},
   "outputs": [],
   "source": [
    "flights_daily_mean = wrangle.clean_flight_data_for_average_daily_delay(flights)"
   ]
  },
  {
   "cell_type": "code",
   "execution_count": null,
   "id": "ce5b0ea2",
   "metadata": {},
   "outputs": [],
   "source": [
    "flights_daily_mean.sort_index()"
   ]
  },
  {
   "cell_type": "code",
   "execution_count": null,
   "id": "9fc4c820",
   "metadata": {},
   "outputs": [],
   "source": [
    "flights_daily_mean.isna().sum()"
   ]
  },
  {
   "cell_type": "markdown",
   "id": "3a18a56c",
   "metadata": {},
   "source": [
    "### Find the best interval to define average delay by to optimize reducing noise while keeping good correlation results"
   ]
  },
  {
   "cell_type": "code",
   "execution_count": null,
   "id": "36a2db67",
   "metadata": {},
   "outputs": [],
   "source": [
    "def plot_average_by_interval():\n",
    "    \n",
    "    resample_dict = {'D':'Daily', 'W':'Weekly', '2W':'FORTNIGHTLY', 'M':'Monthly', '3M':'Quarterly', '6M':'Semi-Annually', 'Y':'Yearly'}\n",
    "\n",
    "    for _ in resample_dict:\n",
    "        plt.figure(figsize=(10,6))\n",
    "\n",
    "        flights_daily_mean.resample(_).mean().average_delay.plot(label='daily')\n",
    "        # flights_daily_mean.resample('W').mean().average_delay.plot(label='weekly')\n",
    "        # flights_daily_mean.resample('M').mean().average_delay.plot(label='monthly')\n",
    "        # flights_daily_mean.resample('Y').mean().average_delay.plot(label='yearly')\n",
    "\n",
    "\n",
    "        plt.title(f'{resample_dict[_][0:]} Average Delay')\n",
    "        plt.legend()\n",
    "        plt.show()\n",
    "\n",
    "        pd.plotting.autocorrelation_plot(flights_daily_mean.average_delay.resample(_).mean())\n",
    "        plt.show()\n",
    "\n",
    "plot_average_by_interval()"
   ]
  },
  {
   "cell_type": "markdown",
   "id": "2af80e32",
   "metadata": {},
   "source": [
    "### Plot the best lag plot based on the airline.  The best will always be 365"
   ]
  },
  {
   "cell_type": "code",
   "execution_count": null,
   "id": "27c1d686",
   "metadata": {},
   "outputs": [],
   "source": [
    "def plot_best_lag_plot():\n",
    "\n",
    "    #Plots the best correlated lag\n",
    "    pd.plotting.lag_plot(flights_daily_mean.resample('W').mean(), lag=365)\n",
    "    plt.title('lag plot');\n",
    "\n",
    "plot_best_lag_plot()"
   ]
  },
  {
   "cell_type": "markdown",
   "id": "d8183bfb",
   "metadata": {},
   "source": [
    "### Split the data by year"
   ]
  },
  {
   "cell_type": "code",
   "execution_count": null,
   "id": "8c608aba",
   "metadata": {},
   "outputs": [],
   "source": [
    "train = flights_daily_mean.iloc[:2016] \n",
    "test = flights_daily_mean.iloc[2016:] \n",
    "train.loc['2009-09-30':]"
   ]
  },
  {
   "cell_type": "code",
   "execution_count": null,
   "id": "507e9d7a",
   "metadata": {},
   "outputs": [],
   "source": [
    "test"
   ]
  },
  {
   "cell_type": "markdown",
   "id": "6abe8f31",
   "metadata": {},
   "source": [
    "### Plot the seasonal decompositions for the various time periods"
   ]
  },
  {
   "cell_type": "code",
   "execution_count": null,
   "id": "301a4ea7",
   "metadata": {},
   "outputs": [],
   "source": [
    "y = train.average_delay.resample('d').mean()\n",
    "\n",
    "result = sm.tsa.seasonal_decompose(y)\n",
    "\n",
    "decomposition = pd.DataFrame({\n",
    "    'y': result.observed,\n",
    "    'trend': result.trend,\n",
    "    'seasonal': result.seasonal,\n",
    "    'resid': result.resid\n",
    "})\n",
    "\n",
    "decomposition['trend_centered'] = decomposition.trend - decomposition.trend.mean()\n",
    "decomposition[['trend_centered', 'seasonal', 'resid']].plot();"
   ]
  },
  {
   "cell_type": "code",
   "execution_count": null,
   "id": "e20f7b71",
   "metadata": {},
   "outputs": [],
   "source": [
    "y = train.average_delay.resample('w').mean()\n",
    "\n",
    "result = sm.tsa.seasonal_decompose(y)\n",
    "\n",
    "decomposition = pd.DataFrame({\n",
    "    'y': result.observed,\n",
    "    'trend': result.trend,\n",
    "    'seasonal': result.seasonal,\n",
    "    'resid': result.resid\n",
    "})\n",
    "\n",
    "decomposition['trend_centered'] = decomposition.trend - decomposition.trend.mean()\n",
    "decomposition[['trend_centered', 'seasonal', 'resid']].plot();"
   ]
  },
  {
   "cell_type": "code",
   "execution_count": null,
   "id": "5fd94c66",
   "metadata": {},
   "outputs": [],
   "source": [
    "def seasonal_decomposition_plot(duration):\n",
    "    y = train.average_delay.resample(duration).mean()\n",
    "\n",
    "    result = sm.tsa.seasonal_decompose(y)\n",
    "\n",
    "    decomposition = pd.DataFrame({\n",
    "        'y': result.observed,\n",
    "        'trend': result.trend,\n",
    "        'seasonal': result.seasonal,\n",
    "        'resid': result.resid\n",
    "    })\n",
    "\n",
    "    decomposition['trend_centered'] = decomposition.trend - decomposition.trend.mean()\n",
    "    decomposition[['trend_centered', 'seasonal', 'resid']].plot();\n",
    "    \n",
    "seasonal_decomposition_plot('2w')"
   ]
  },
  {
   "cell_type": "code",
   "execution_count": null,
   "id": "a541c094",
   "metadata": {},
   "outputs": [],
   "source": [
    "y = train.average_delay.resample('m').mean()\n",
    "\n",
    "result = sm.tsa.seasonal_decompose(y)\n",
    "\n",
    "decomposition = pd.DataFrame({\n",
    "    'y': result.observed,\n",
    "    'trend': result.trend,\n",
    "    'seasonal': result.seasonal,\n",
    "    'resid': result.resid\n",
    "})\n",
    "\n",
    "decomposition['trend_centered'] = decomposition.trend - decomposition.trend.mean()\n",
    "decomposition[['trend_centered', 'seasonal', 'resid']].plot();"
   ]
  },
  {
   "cell_type": "code",
   "execution_count": null,
   "id": "ae2ae4ea",
   "metadata": {},
   "outputs": [],
   "source": [
    "y = train.average_delay.resample('3m').mean()\n",
    "\n",
    "result = sm.tsa.seasonal_decompose(y)\n",
    "\n",
    "decomposition = pd.DataFrame({\n",
    "    'y': result.observed,\n",
    "    'trend': result.trend,\n",
    "    'seasonal': result.seasonal,\n",
    "    'resid': result.resid\n",
    "})\n",
    "\n",
    "decomposition['trend_centered'] = decomposition.trend - decomposition.trend.mean()\n",
    "decomposition[['trend_centered', 'seasonal', 'resid']].plot();"
   ]
  },
  {
   "cell_type": "code",
   "execution_count": null,
   "id": "0cd852a6",
   "metadata": {},
   "outputs": [],
   "source": [
    "y = train.average_delay.resample('6m').mean()\n",
    "\n",
    "result = sm.tsa.seasonal_decompose(y)\n",
    "\n",
    "decomposition = pd.DataFrame({\n",
    "    'y': result.observed,\n",
    "    'trend': result.trend,\n",
    "    'seasonal': result.seasonal,\n",
    "    'resid': result.resid\n",
    "})\n",
    "\n",
    "decomposition['trend_centered'] = decomposition.trend - decomposition.trend.mean()\n",
    "decomposition[['trend_centered', 'seasonal', 'resid']].plot();"
   ]
  },
  {
   "cell_type": "code",
   "execution_count": null,
   "id": "8a6ccdb9",
   "metadata": {},
   "outputs": [],
   "source": [
    "y = train.average_delay.resample('y').mean()\n",
    "\n",
    "result = sm.tsa.seasonal_decompose(y)\n",
    "\n",
    "decomposition = pd.DataFrame({\n",
    "    'y': result.observed,\n",
    "    'trend': result.trend,\n",
    "    'seasonal': result.seasonal,\n",
    "    'resid': result.resid\n",
    "})\n",
    "\n",
    "decomposition['trend_centered'] = decomposition.trend - decomposition.trend.mean()\n",
    "decomposition[['trend_centered', 'seasonal', 'resid']].plot();"
   ]
  },
  {
   "cell_type": "markdown",
   "id": "f1ea4fa6",
   "metadata": {},
   "source": [
    "### Once again the best period to resample by seems to be 2 weeks or a fortnight"
   ]
  },
  {
   "cell_type": "code",
   "execution_count": null,
   "id": "68db01b0",
   "metadata": {},
   "outputs": [],
   "source": []
  },
  {
   "cell_type": "code",
   "execution_count": null,
   "id": "950a475c",
   "metadata": {},
   "outputs": [],
   "source": []
  },
  {
   "cell_type": "code",
   "execution_count": null,
   "id": "80ac1d7a",
   "metadata": {},
   "outputs": [],
   "source": []
  }
 ],
 "metadata": {
  "kernelspec": {
   "display_name": "Python 3 (ipykernel)",
   "language": "python",
   "name": "python3"
  },
  "language_info": {
   "codemirror_mode": {
    "name": "ipython",
    "version": 3
   },
   "file_extension": ".py",
   "mimetype": "text/x-python",
   "name": "python",
   "nbconvert_exporter": "python",
   "pygments_lexer": "ipython3",
   "version": "3.10.9"
  }
 },
 "nbformat": 4,
 "nbformat_minor": 5
}
