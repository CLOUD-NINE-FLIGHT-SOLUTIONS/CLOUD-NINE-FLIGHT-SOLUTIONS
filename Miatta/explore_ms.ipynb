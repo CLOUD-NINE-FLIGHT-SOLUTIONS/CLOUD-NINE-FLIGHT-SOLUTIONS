{
 "cells": [
  {
   "cell_type": "code",
   "execution_count": 1,
   "id": "1bdb323e",
   "metadata": {},
   "outputs": [],
   "source": [
    "# Imoort Libraries\n",
    "import os\n",
    "import pandas as pd\n",
    "import seaborn as sns\n",
    "import env\n",
    "import wrangle\n",
    "import matplotlib.pyplot as plt\n",
    "import seaborn as sns\n",
    "import statsmodels.api as sm\n",
    "from datetime import datetime\n",
    "import numpy as np\n",
    "from scipy import stats\n",
    "import matplotlib.pyplot as plt\n",
    "import statsmodels.api as sm\n",
    "\n",
    "# Ignore warnings\n",
    "import warnings\n",
    "warnings.filterwarnings('ignore')"
   ]
  },
  {
   "cell_type": "markdown",
   "id": "5ec1bdaf",
   "metadata": {},
   "source": [
    "### Mask for American Airlines"
   ]
  },
  {
   "cell_type": "code",
   "execution_count": 2,
   "id": "024d63c6",
   "metadata": {},
   "outputs": [],
   "source": [
    "flights = wrangle.pull_airline_data('AA')"
   ]
  },
  {
   "cell_type": "code",
   "execution_count": 3,
   "id": "d48f2e5c-b0d5-44ad-b6b2-085715554ebc",
   "metadata": {},
   "outputs": [
    {
     "data": {
      "text/plain": [
       "Index(['FL_DATE', 'OP_CARRIER', 'CARRIER_DELAY', 'WEATHER_DELAY', 'NAS_DELAY',\n",
       "       'SECURITY_DELAY', 'LATE_AIRCRAFT_DELAY'],\n",
       "      dtype='object')"
      ]
     },
     "execution_count": 3,
     "metadata": {},
     "output_type": "execute_result"
    }
   ],
   "source": [
    "flights.columns"
   ]
  },
  {
   "cell_type": "code",
   "execution_count": 4,
   "id": "18d9a829",
   "metadata": {},
   "outputs": [
    {
     "data": {
      "text/plain": [
       "AA    7628937\n",
       "Name: OP_CARRIER, dtype: int64"
      ]
     },
     "execution_count": 4,
     "metadata": {},
     "output_type": "execute_result"
    }
   ],
   "source": [
    "flights.OP_CARRIER.value_counts()"
   ]
  },
  {
   "cell_type": "code",
   "execution_count": 5,
   "id": "accd3e0a",
   "metadata": {},
   "outputs": [
    {
     "data": {
      "text/html": [
       "<div>\n",
       "<style scoped>\n",
       "    .dataframe tbody tr th:only-of-type {\n",
       "        vertical-align: middle;\n",
       "    }\n",
       "\n",
       "    .dataframe tbody tr th {\n",
       "        vertical-align: top;\n",
       "    }\n",
       "\n",
       "    .dataframe thead th {\n",
       "        text-align: right;\n",
       "    }\n",
       "</style>\n",
       "<table border=\"1\" class=\"dataframe\">\n",
       "  <thead>\n",
       "    <tr style=\"text-align: right;\">\n",
       "      <th></th>\n",
       "      <th>12005</th>\n",
       "      <th>12006</th>\n",
       "      <th>12007</th>\n",
       "      <th>12008</th>\n",
       "      <th>12009</th>\n",
       "    </tr>\n",
       "  </thead>\n",
       "  <tbody>\n",
       "    <tr>\n",
       "      <th>FL_DATE</th>\n",
       "      <td>2009-01-01</td>\n",
       "      <td>2009-01-01</td>\n",
       "      <td>2009-01-01</td>\n",
       "      <td>2009-01-01</td>\n",
       "      <td>2009-01-01</td>\n",
       "    </tr>\n",
       "    <tr>\n",
       "      <th>OP_CARRIER</th>\n",
       "      <td>AA</td>\n",
       "      <td>AA</td>\n",
       "      <td>AA</td>\n",
       "      <td>AA</td>\n",
       "      <td>AA</td>\n",
       "    </tr>\n",
       "    <tr>\n",
       "      <th>CARRIER_DELAY</th>\n",
       "      <td>NaN</td>\n",
       "      <td>35.0</td>\n",
       "      <td>NaN</td>\n",
       "      <td>NaN</td>\n",
       "      <td>NaN</td>\n",
       "    </tr>\n",
       "    <tr>\n",
       "      <th>WEATHER_DELAY</th>\n",
       "      <td>NaN</td>\n",
       "      <td>0.0</td>\n",
       "      <td>NaN</td>\n",
       "      <td>NaN</td>\n",
       "      <td>NaN</td>\n",
       "    </tr>\n",
       "    <tr>\n",
       "      <th>NAS_DELAY</th>\n",
       "      <td>NaN</td>\n",
       "      <td>0.0</td>\n",
       "      <td>NaN</td>\n",
       "      <td>NaN</td>\n",
       "      <td>NaN</td>\n",
       "    </tr>\n",
       "    <tr>\n",
       "      <th>SECURITY_DELAY</th>\n",
       "      <td>NaN</td>\n",
       "      <td>0.0</td>\n",
       "      <td>NaN</td>\n",
       "      <td>NaN</td>\n",
       "      <td>NaN</td>\n",
       "    </tr>\n",
       "    <tr>\n",
       "      <th>LATE_AIRCRAFT_DELAY</th>\n",
       "      <td>NaN</td>\n",
       "      <td>0.0</td>\n",
       "      <td>NaN</td>\n",
       "      <td>NaN</td>\n",
       "      <td>NaN</td>\n",
       "    </tr>\n",
       "  </tbody>\n",
       "</table>\n",
       "</div>"
      ],
      "text/plain": [
       "                          12005       12006       12007       12008  \\\n",
       "FL_DATE              2009-01-01  2009-01-01  2009-01-01  2009-01-01   \n",
       "OP_CARRIER                   AA          AA          AA          AA   \n",
       "CARRIER_DELAY               NaN        35.0         NaN         NaN   \n",
       "WEATHER_DELAY               NaN         0.0         NaN         NaN   \n",
       "NAS_DELAY                   NaN         0.0         NaN         NaN   \n",
       "SECURITY_DELAY              NaN         0.0         NaN         NaN   \n",
       "LATE_AIRCRAFT_DELAY         NaN         0.0         NaN         NaN   \n",
       "\n",
       "                          12009  \n",
       "FL_DATE              2009-01-01  \n",
       "OP_CARRIER                   AA  \n",
       "CARRIER_DELAY               NaN  \n",
       "WEATHER_DELAY               NaN  \n",
       "NAS_DELAY                   NaN  \n",
       "SECURITY_DELAY              NaN  \n",
       "LATE_AIRCRAFT_DELAY         NaN  "
      ]
     },
     "execution_count": 5,
     "metadata": {},
     "output_type": "execute_result"
    }
   ],
   "source": [
    "flights.head().T"
   ]
  },
  {
   "cell_type": "code",
   "execution_count": null,
   "id": "9e8f73aa-00e6-4c72-9911-fdf26381e2cd",
   "metadata": {},
   "outputs": [],
   "source": [
    "flights.duplicated().sum()"
   ]
  },
  {
   "cell_type": "code",
   "execution_count": null,
   "id": "f30044c5-1f75-41f5-a5b0-5f36bcdc2a5d",
   "metadata": {},
   "outputs": [],
   "source": [
    "flights.info()"
   ]
  },
  {
   "cell_type": "code",
   "execution_count": null,
   "id": "a39c713c",
   "metadata": {},
   "outputs": [],
   "source": [
    "flights.describe()"
   ]
  },
  {
   "cell_type": "code",
   "execution_count": null,
   "id": "8b8bb379-e9ff-46ca-8125-6bc35d6edf9b",
   "metadata": {},
   "outputs": [],
   "source": [
    "flights.shape"
   ]
  },
  {
   "cell_type": "code",
   "execution_count": null,
   "id": "8fc29e5f-684d-4ca6-b09c-35fbfcb92f04",
   "metadata": {},
   "outputs": [],
   "source": [
    "# Check for missing values\n",
    "missing_values = flights.isnull()\n",
    "missing_values"
   ]
  },
  {
   "cell_type": "code",
   "execution_count": null,
   "id": "2e2e7918-3377-4f98-b44e-7b8f7305c6a7",
   "metadata": {},
   "outputs": [],
   "source": [
    "flights.isnull().sum()\n"
   ]
  },
  {
   "cell_type": "markdown",
   "id": "18d2e707",
   "metadata": {},
   "source": [
    "### How are these columns related and how can I combine them"
   ]
  },
  {
   "cell_type": "markdown",
   "id": "a19c14e0",
   "metadata": {},
   "source": [
    "### Compare the columns by various measures"
   ]
  },
  {
   "cell_type": "code",
   "execution_count": null,
   "id": "df0a4d6d",
   "metadata": {},
   "outputs": [],
   "source": [
    "#Fills in nulls as zero as null means no delay\n",
    "flights.fillna(0, inplace=True)\n",
    "#Makes FL_DATE column a datetime datatype\n",
    "flights.FL_DATE = flights.FL_DATE.astype('datetime64')\n",
    "#Makes FL_DATE the index\n",
    "# flights = flights.set_index('FL_DATE')"
   ]
  },
  {
   "cell_type": "code",
   "execution_count": null,
   "id": "05ddd8b4-0b81-4683-8460-eeeded9445b5",
   "metadata": {},
   "outputs": [],
   "source": [
    "# Drop rows with any missing values\n",
    "flights_dropped = flights.dropna()\n",
    "flights_dropped\n"
   ]
  },
  {
   "cell_type": "code",
   "execution_count": null,
   "id": "8cfefea1",
   "metadata": {},
   "outputs": [],
   "source": [
    "flights_cat = flights\n",
    "flights_cat['carrier'] = flights_cat.CARRIER_DELAY > 0"
   ]
  },
  {
   "cell_type": "code",
   "execution_count": null,
   "id": "e0f5be67",
   "metadata": {},
   "outputs": [],
   "source": [
    "flights_cat['weather'] = flights_cat.WEATHER_DELAY > 0"
   ]
  },
  {
   "cell_type": "code",
   "execution_count": null,
   "id": "c3bd0770",
   "metadata": {},
   "outputs": [],
   "source": [
    "flights_cat['nas'] = flights_cat.NAS_DELAY > 0"
   ]
  },
  {
   "cell_type": "code",
   "execution_count": null,
   "id": "0414e31e",
   "metadata": {},
   "outputs": [],
   "source": [
    "flights_cat['security'] = flights_cat.SECURITY_DELAY > 0"
   ]
  },
  {
   "cell_type": "code",
   "execution_count": null,
   "id": "8e8c07b6",
   "metadata": {},
   "outputs": [],
   "source": [
    "flights_cat['late_aircraft'] = flights_cat.LATE_AIRCRAFT_DELAY > 0"
   ]
  },
  {
   "cell_type": "code",
   "execution_count": null,
   "id": "e00fa04f",
   "metadata": {},
   "outputs": [],
   "source": [
    "flights_cat.drop(columns=['OP_CARRIER', 'CARRIER_DELAY', 'WEATHER_DELAY', 'NAS_DELAY', 'SECURITY_DELAY', 'LATE_AIRCRAFT_DELAY'])"
   ]
  },
  {
   "cell_type": "code",
   "execution_count": null,
   "id": "0a33da90-e697-4111-9557-4c848bf8707c",
   "metadata": {},
   "outputs": [],
   "source": [
    "flights.info()"
   ]
  },
  {
   "cell_type": "markdown",
   "id": "d9c84745",
   "metadata": {},
   "source": [
    "### At first glance it seems weird that weather does not have as many rows as the rest.  As a pilot I thought that weather dominates the delays so I wondered why this is the case."
   ]
  },
  {
   "cell_type": "markdown",
   "id": "cf9114d4",
   "metadata": {},
   "source": [
    "### It seems that the NAS data includes non extreme weater as does carrier and late aircraft delay."
   ]
  },
  {
   "cell_type": "code",
   "execution_count": null,
   "id": "96283177",
   "metadata": {},
   "outputs": [],
   "source": [
    "dep = pd.crosstab(flights_cat.FL_DATE, [flights_cat.carrier, flights_cat.weather, flights_cat.nas, flights_cat.security, flights_cat.late_aircraft])"
   ]
  },
  {
   "cell_type": "markdown",
   "id": "962cf111",
   "metadata": {},
   "source": [
    "### Chi squared\n",
    "* Null Hypothesis:  These delay types are independent of each other\n",
    "* Alternative Hypothesis:  These types are dependent on each other\n",
    "* Alpha < 0.05"
   ]
  },
  {
   "cell_type": "code",
   "execution_count": null,
   "id": "0ac0fff8",
   "metadata": {},
   "outputs": [],
   "source": [
    "dep"
   ]
  },
  {
   "cell_type": "code",
   "execution_count": null,
   "id": "06d3ecdc",
   "metadata": {},
   "outputs": [],
   "source": [
    "chi2, p, degf, expected = stats.chi2_contingency(dep)"
   ]
  },
  {
   "cell_type": "code",
   "execution_count": null,
   "id": "83c9da68",
   "metadata": {},
   "outputs": [],
   "source": [
    "chi2, p"
   ]
  },
  {
   "cell_type": "markdown",
   "id": "9454f143",
   "metadata": {},
   "source": [
    "#### There is sufficient evidence to reject the null.  They are dependent on each other."
   ]
  },
  {
   "cell_type": "markdown",
   "id": "4e396169",
   "metadata": {},
   "source": [
    "#### This suggests that there may bee some sort of overlap.  A quick look at the NAS delays shows that minor weather phenomena show up in the NAS as opposed to weather.  Also a weather delay on one leg of an airplanes trip seems to turn into a carrier delay on the next."
   ]
  },
  {
   "cell_type": "markdown",
   "id": "76d74ddc",
   "metadata": {},
   "source": []
  },
  {
   "cell_type": "markdown",
   "id": "a6b7e506",
   "metadata": {},
   "source": [
    "### A look at histograms"
   ]
  },
  {
   "cell_type": "code",
   "execution_count": null,
   "id": "6062323e",
   "metadata": {},
   "outputs": [],
   "source": [
    "plt.hist(flights.CARRIER_DELAY, bins=100)"
   ]
  },
  {
   "cell_type": "code",
   "execution_count": null,
   "id": "62dbdda4",
   "metadata": {},
   "outputs": [],
   "source": [
    "plt.hist(flights.WEATHER_DELAY, bins=100)"
   ]
  },
  {
   "cell_type": "code",
   "execution_count": null,
   "id": "0a531cb7",
   "metadata": {},
   "outputs": [],
   "source": [
    "plt.hist(flights.NAS_DELAY, bins=100)"
   ]
  },
  {
   "cell_type": "code",
   "execution_count": null,
   "id": "e08ed793",
   "metadata": {},
   "outputs": [],
   "source": [
    "plt.hist(flights.SECURITY_DELAY, bins=100)"
   ]
  },
  {
   "cell_type": "code",
   "execution_count": null,
   "id": "3069e724",
   "metadata": {},
   "outputs": [],
   "source": [
    "plt.hist(flights.LATE_AIRCRAFT_DELAY, bins=100)"
   ]
  },
  {
   "cell_type": "markdown",
   "id": "e895b097",
   "metadata": {},
   "source": [
    "#### Skewed makes a whole lot of sense.  Nothing unexpected here."
   ]
  },
  {
   "cell_type": "markdown",
   "id": "494f71b7",
   "metadata": {},
   "source": [
    "### THERE IS sufficient evidence that I can combine these columns in feature engineering."
   ]
  },
  {
   "cell_type": "markdown",
   "id": "3fd4e479",
   "metadata": {},
   "source": [
    "### Resample my data by daily mean delays"
   ]
  },
  {
   "cell_type": "code",
   "execution_count": null,
   "id": "9c25eddb",
   "metadata": {},
   "outputs": [],
   "source": [
    "flights_daily_mean = wrangle.clean_flight_data_for_average_daily_delay(flights)"
   ]
  },
  {
   "cell_type": "code",
   "execution_count": null,
   "id": "ce5b0ea2",
   "metadata": {},
   "outputs": [],
   "source": [
    "flights_daily_mean.sort_index()"
   ]
  },
  {
   "cell_type": "code",
   "execution_count": null,
   "id": "9fc4c820",
   "metadata": {},
   "outputs": [],
   "source": [
    "flights_daily_mean.isna().sum()"
   ]
  },
  {
   "cell_type": "markdown",
   "id": "3a18a56c",
   "metadata": {},
   "source": [
    "### Find the best interval to define average delay by to optimize reducing noise while keeping good correlation results"
   ]
  },
  {
   "cell_type": "code",
   "execution_count": null,
   "id": "36a2db67",
   "metadata": {},
   "outputs": [],
   "source": [
    "def plot_average_by_interval():\n",
    "    \n",
    "    resample_dict = {'D':'Daily', 'W':'Weekly', '2W':'FORTNIGHTLY', 'M':'Monthly', '3M':'Quarterly', '6M':'Semi-Annually', 'Y':'Yearly'}\n",
    "\n",
    "    for _ in resample_dict:\n",
    "        plt.figure(figsize=(10,6))\n",
    "\n",
    "        flights_daily_mean.resample(_).mean().average_delay.plot(label='daily')\n",
    "        # flights_daily_mean.resample('W').mean().average_delay.plot(label='weekly')\n",
    "        # flights_daily_mean.resample('M').mean().average_delay.plot(label='monthly')\n",
    "        # flights_daily_mean.resample('Y').mean().average_delay.plot(label='yearly')\n",
    "\n",
    "\n",
    "        plt.title(f'{resample_dict[_][0:]} Average Delay')\n",
    "        plt.legend()\n",
    "        plt.show()\n",
    "\n",
    "        pd.plotting.autocorrelation_plot(flights_daily_mean.average_delay.resample(_).mean())\n",
    "        plt.show()\n",
    "\n",
    "plot_average_by_interval()"
   ]
  },
  {
   "cell_type": "markdown",
   "id": "2af80e32",
   "metadata": {},
   "source": [
    "### Plot the best lag plot based on the airline.  The best will always be 365"
   ]
  },
  {
   "cell_type": "code",
   "execution_count": null,
   "id": "27c1d686",
   "metadata": {},
   "outputs": [],
   "source": [
    "def plot_best_lag_plot():\n",
    "\n",
    "    #Plots the best correlated lag\n",
    "    pd.plotting.lag_plot(flights_daily_mean.resample('W').mean(), lag=365)\n",
    "    plt.title('lag plot');\n",
    "\n",
    "plot_best_lag_plot()"
   ]
  },
  {
   "cell_type": "markdown",
   "id": "d8183bfb",
   "metadata": {},
   "source": [
    "### Split the data by year"
   ]
  },
  {
   "cell_type": "code",
   "execution_count": null,
   "id": "8c608aba",
   "metadata": {},
   "outputs": [],
   "source": [
    "train = flights_daily_mean.iloc[:2016] \n",
    "test = flights_daily_mean.iloc[2016:] \n",
    "train.loc['2009-09-30':]"
   ]
  },
  {
   "cell_type": "code",
   "execution_count": null,
   "id": "507e9d7a",
   "metadata": {},
   "outputs": [],
   "source": [
    "test"
   ]
  },
  {
   "cell_type": "markdown",
   "id": "6abe8f31",
   "metadata": {},
   "source": [
    "### Plot the seasonal decompositions for the various time periods"
   ]
  },
  {
   "cell_type": "code",
   "execution_count": null,
   "id": "301a4ea7",
   "metadata": {},
   "outputs": [],
   "source": [
    "y = train.average_delay.resample('d').mean()\n",
    "\n",
    "result = sm.tsa.seasonal_decompose(y)\n",
    "\n",
    "decomposition = pd.DataFrame({\n",
    "    'y': result.observed,\n",
    "    'trend': result.trend,\n",
    "    'seasonal': result.seasonal,\n",
    "    'resid': result.resid\n",
    "})\n",
    "\n",
    "decomposition['trend_centered'] = decomposition.trend - decomposition.trend.mean()\n",
    "decomposition[['trend_centered', 'seasonal', 'resid']].plot();"
   ]
  },
  {
   "cell_type": "code",
   "execution_count": null,
   "id": "e20f7b71",
   "metadata": {},
   "outputs": [],
   "source": [
    "y = train.average_delay.resample('w').mean()\n",
    "\n",
    "result = sm.tsa.seasonal_decompose(y)\n",
    "\n",
    "decomposition = pd.DataFrame({\n",
    "    'y': result.observed,\n",
    "    'trend': result.trend,\n",
    "    'seasonal': result.seasonal,\n",
    "    'resid': result.resid\n",
    "})\n",
    "\n",
    "decomposition['trend_centered'] = decomposition.trend - decomposition.trend.mean()\n",
    "decomposition[['trend_centered', 'seasonal', 'resid']].plot();"
   ]
  },
  {
   "cell_type": "code",
   "execution_count": null,
   "id": "5fd94c66",
   "metadata": {},
   "outputs": [],
   "source": [
    "def seasonal_decomposition_plot(duration):\n",
    "    y = train.average_delay.resample(duration).mean()\n",
    "\n",
    "    result = sm.tsa.seasonal_decompose(y)\n",
    "\n",
    "    decomposition = pd.DataFrame({\n",
    "        'y': result.observed,\n",
    "        'trend': result.trend,\n",
    "        'seasonal': result.seasonal,\n",
    "        'resid': result.resid\n",
    "    })\n",
    "\n",
    "    decomposition['trend_centered'] = decomposition.trend - decomposition.trend.mean()\n",
    "    decomposition[['trend_centered', 'seasonal', 'resid']].plot();\n",
    "    \n",
    "seasonal_decomposition_plot('2w')"
   ]
  },
  {
   "cell_type": "code",
   "execution_count": null,
   "id": "a541c094",
   "metadata": {},
   "outputs": [],
   "source": [
    "y = train.average_delay.resample('m').mean()\n",
    "\n",
    "result = sm.tsa.seasonal_decompose(y)\n",
    "\n",
    "decomposition = pd.DataFrame({\n",
    "    'y': result.observed,\n",
    "    'trend': result.trend,\n",
    "    'seasonal': result.seasonal,\n",
    "    'resid': result.resid\n",
    "})\n",
    "\n",
    "decomposition['trend_centered'] = decomposition.trend - decomposition.trend.mean()\n",
    "decomposition[['trend_centered', 'seasonal', 'resid']].plot();"
   ]
  },
  {
   "cell_type": "code",
   "execution_count": null,
   "id": "ae2ae4ea",
   "metadata": {},
   "outputs": [],
   "source": [
    "y = train.average_delay.resample('3m').mean()\n",
    "\n",
    "result = sm.tsa.seasonal_decompose(y)\n",
    "\n",
    "decomposition = pd.DataFrame({\n",
    "    'y': result.observed,\n",
    "    'trend': result.trend,\n",
    "    'seasonal': result.seasonal,\n",
    "    'resid': result.resid\n",
    "})\n",
    "\n",
    "decomposition['trend_centered'] = decomposition.trend - decomposition.trend.mean()\n",
    "decomposition[['trend_centered', 'seasonal', 'resid']].plot();"
   ]
  },
  {
   "cell_type": "code",
   "execution_count": null,
   "id": "0cd852a6",
   "metadata": {},
   "outputs": [],
   "source": [
    "y = train.average_delay.resample('6m').mean()\n",
    "\n",
    "result = sm.tsa.seasonal_decompose(y)\n",
    "\n",
    "decomposition = pd.DataFrame({\n",
    "    'y': result.observed,\n",
    "    'trend': result.trend,\n",
    "    'seasonal': result.seasonal,\n",
    "    'resid': result.resid\n",
    "})\n",
    "\n",
    "decomposition['trend_centered'] = decomposition.trend - decomposition.trend.mean()\n",
    "decomposition[['trend_centered', 'seasonal', 'resid']].plot();"
   ]
  },
  {
   "cell_type": "code",
   "execution_count": null,
   "id": "8a6ccdb9",
   "metadata": {},
   "outputs": [],
   "source": [
    "y = train.average_delay.resample('y').mean()\n",
    "\n",
    "result = sm.tsa.seasonal_decompose(y)\n",
    "\n",
    "decomposition = pd.DataFrame({\n",
    "    'y': result.observed,\n",
    "    'trend': result.trend,\n",
    "    'seasonal': result.seasonal,\n",
    "    'resid': result.resid\n",
    "})\n",
    "\n",
    "decomposition['trend_centered'] = decomposition.trend - decomposition.trend.mean()\n",
    "decomposition[['trend_centered', 'seasonal', 'resid']].plot();"
   ]
  },
  {
   "cell_type": "markdown",
   "id": "f1ea4fa6",
   "metadata": {},
   "source": [
    "### Once again the best period to resample by seems to be 2 weeks or a fortnight"
   ]
  },
  {
   "cell_type": "code",
   "execution_count": null,
   "id": "68db01b0",
   "metadata": {},
   "outputs": [],
   "source": []
  },
  {
   "cell_type": "code",
   "execution_count": null,
   "id": "950a475c",
   "metadata": {},
   "outputs": [],
   "source": []
  },
  {
   "cell_type": "code",
   "execution_count": null,
   "id": "80ac1d7a",
   "metadata": {},
   "outputs": [],
   "source": []
  }
 ],
 "metadata": {
  "kernelspec": {
   "display_name": "Python 3 (ipykernel)",
   "language": "python",
   "name": "python3"
  },
  "language_info": {
   "codemirror_mode": {
    "name": "ipython",
    "version": 3
   },
   "file_extension": ".py",
   "mimetype": "text/x-python",
   "name": "python",
   "nbconvert_exporter": "python",
   "pygments_lexer": "ipython3",
   "version": "3.10.9"
  }
 },
 "nbformat": 4,
 "nbformat_minor": 5
}
