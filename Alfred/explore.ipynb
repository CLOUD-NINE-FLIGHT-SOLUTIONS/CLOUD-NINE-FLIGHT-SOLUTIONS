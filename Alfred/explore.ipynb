{
 "cells": [
  {
   "cell_type": "code",
   "execution_count": 4,
   "id": "1bdb323e",
   "metadata": {},
   "outputs": [],
   "source": [
    "import os\n",
    "import pandas as pd\n",
    "import seaborn as sns\n",
    "\n",
    "import wrangle\n",
    "import matplotlib.pyplot as plt\n",
    "import seaborn as sns\n",
    "import statsmodels.api as sm\n",
    "from datetime import datetime\n",
    "import numpy as np\n",
    "from scipy import stats\n",
    "import matplotlib.pyplot as plt\n",
    "import statsmodels.api as sm"
   ]
  },
  {
   "cell_type": "markdown",
   "id": "5ec1bdaf",
   "metadata": {},
   "source": [
    "### Mask for United Airlines"
   ]
  },
  {
   "cell_type": "code",
   "execution_count": 5,
   "id": "024d63c6",
   "metadata": {},
   "outputs": [
    {
     "name": "stderr",
     "output_type": "stream",
     "text": [
      "/Users/alfredpirovits/codeup-data-science/CLOUD-NINE-FLIGHT-SOLUTIONS/Alfred/wrangle.py:33: FutureWarning: The frame.append method is deprecated and will be removed from pandas in a future version. Use pandas.concat instead.\n",
      "  flights = flights.append(flightsi)\n",
      "/Users/alfredpirovits/codeup-data-science/CLOUD-NINE-FLIGHT-SOLUTIONS/Alfred/wrangle.py:33: FutureWarning: The frame.append method is deprecated and will be removed from pandas in a future version. Use pandas.concat instead.\n",
      "  flights = flights.append(flightsi)\n",
      "/Users/alfredpirovits/codeup-data-science/CLOUD-NINE-FLIGHT-SOLUTIONS/Alfred/wrangle.py:33: FutureWarning: The frame.append method is deprecated and will be removed from pandas in a future version. Use pandas.concat instead.\n",
      "  flights = flights.append(flightsi)\n",
      "/Users/alfredpirovits/codeup-data-science/CLOUD-NINE-FLIGHT-SOLUTIONS/Alfred/wrangle.py:33: FutureWarning: The frame.append method is deprecated and will be removed from pandas in a future version. Use pandas.concat instead.\n",
      "  flights = flights.append(flightsi)\n",
      "/Users/alfredpirovits/codeup-data-science/CLOUD-NINE-FLIGHT-SOLUTIONS/Alfred/wrangle.py:33: FutureWarning: The frame.append method is deprecated and will be removed from pandas in a future version. Use pandas.concat instead.\n",
      "  flights = flights.append(flightsi)\n",
      "/Users/alfredpirovits/codeup-data-science/CLOUD-NINE-FLIGHT-SOLUTIONS/Alfred/wrangle.py:33: FutureWarning: The frame.append method is deprecated and will be removed from pandas in a future version. Use pandas.concat instead.\n",
      "  flights = flights.append(flightsi)\n",
      "/Users/alfredpirovits/codeup-data-science/CLOUD-NINE-FLIGHT-SOLUTIONS/Alfred/wrangle.py:33: FutureWarning: The frame.append method is deprecated and will be removed from pandas in a future version. Use pandas.concat instead.\n",
      "  flights = flights.append(flightsi)\n",
      "/Users/alfredpirovits/codeup-data-science/CLOUD-NINE-FLIGHT-SOLUTIONS/Alfred/wrangle.py:33: FutureWarning: The frame.append method is deprecated and will be removed from pandas in a future version. Use pandas.concat instead.\n",
      "  flights = flights.append(flightsi)\n",
      "/Users/alfredpirovits/codeup-data-science/CLOUD-NINE-FLIGHT-SOLUTIONS/Alfred/wrangle.py:33: FutureWarning: The frame.append method is deprecated and will be removed from pandas in a future version. Use pandas.concat instead.\n",
      "  flights = flights.append(flightsi)\n",
      "/Users/alfredpirovits/codeup-data-science/CLOUD-NINE-FLIGHT-SOLUTIONS/Alfred/wrangle.py:33: FutureWarning: The frame.append method is deprecated and will be removed from pandas in a future version. Use pandas.concat instead.\n",
      "  flights = flights.append(flightsi)\n",
      "/Users/alfredpirovits/codeup-data-science/CLOUD-NINE-FLIGHT-SOLUTIONS/Alfred/wrangle.py:42: FutureWarning: The frame.append method is deprecated and will be removed from pandas in a future version. Use pandas.concat instead.\n",
      "  flights = flights.append(flights2019)\n"
     ]
    }
   ],
   "source": [
    "flights = wrangle.pull_airline_data('UA')"
   ]
  },
  {
   "cell_type": "code",
   "execution_count": 6,
   "id": "18d9a829",
   "metadata": {},
   "outputs": [
    {
     "data": {
      "text/plain": [
       "UA    752467\n",
       "Name: OP_CARRIER, dtype: int64"
      ]
     },
     "execution_count": 6,
     "metadata": {},
     "output_type": "execute_result"
    }
   ],
   "source": [
    "flights.OP_CARRIER.value_counts()"
   ]
  },
  {
   "cell_type": "code",
   "execution_count": 7,
   "id": "accd3e0a",
   "metadata": {},
   "outputs": [
    {
     "data": {
      "text/html": [
       "<div>\n",
       "<style scoped>\n",
       "    .dataframe tbody tr th:only-of-type {\n",
       "        vertical-align: middle;\n",
       "    }\n",
       "\n",
       "    .dataframe tbody tr th {\n",
       "        vertical-align: top;\n",
       "    }\n",
       "\n",
       "    .dataframe thead th {\n",
       "        text-align: right;\n",
       "    }\n",
       "</style>\n",
       "<table border=\"1\" class=\"dataframe\">\n",
       "  <thead>\n",
       "    <tr style=\"text-align: right;\">\n",
       "      <th></th>\n",
       "      <th>FL_DATE</th>\n",
       "      <th>OP_CARRIER</th>\n",
       "      <th>OP_CARRIER_FL_NUM</th>\n",
       "      <th>ORIGIN</th>\n",
       "      <th>DEST</th>\n",
       "      <th>CARRIER_DELAY</th>\n",
       "      <th>WEATHER_DELAY</th>\n",
       "      <th>NAS_DELAY</th>\n",
       "      <th>SECURITY_DELAY</th>\n",
       "      <th>LATE_AIRCRAFT_DELAY</th>\n",
       "      <th>row_sums</th>\n",
       "    </tr>\n",
       "  </thead>\n",
       "  <tbody>\n",
       "    <tr>\n",
       "      <th>0</th>\n",
       "      <td>2009-01-01</td>\n",
       "      <td>UA</td>\n",
       "      <td>26</td>\n",
       "      <td>LAX</td>\n",
       "      <td>JFK</td>\n",
       "      <td>0.0</td>\n",
       "      <td>0.0</td>\n",
       "      <td>0.0</td>\n",
       "      <td>0.0</td>\n",
       "      <td>45.0</td>\n",
       "      <td>45.0</td>\n",
       "    </tr>\n",
       "    <tr>\n",
       "      <th>1</th>\n",
       "      <td>2009-01-01</td>\n",
       "      <td>UA</td>\n",
       "      <td>43</td>\n",
       "      <td>DEN</td>\n",
       "      <td>HNL</td>\n",
       "      <td>0.0</td>\n",
       "      <td>0.0</td>\n",
       "      <td>0.0</td>\n",
       "      <td>0.0</td>\n",
       "      <td>162.0</td>\n",
       "      <td>162.0</td>\n",
       "    </tr>\n",
       "    <tr>\n",
       "      <th>2</th>\n",
       "      <td>2009-01-01</td>\n",
       "      <td>UA</td>\n",
       "      <td>71</td>\n",
       "      <td>DEN</td>\n",
       "      <td>OGG</td>\n",
       "      <td>130.0</td>\n",
       "      <td>0.0</td>\n",
       "      <td>0.0</td>\n",
       "      <td>0.0</td>\n",
       "      <td>0.0</td>\n",
       "      <td>130.0</td>\n",
       "    </tr>\n",
       "    <tr>\n",
       "      <th>3</th>\n",
       "      <td>2009-01-01</td>\n",
       "      <td>UA</td>\n",
       "      <td>73</td>\n",
       "      <td>SFO</td>\n",
       "      <td>HNL</td>\n",
       "      <td>20.0</td>\n",
       "      <td>0.0</td>\n",
       "      <td>0.0</td>\n",
       "      <td>0.0</td>\n",
       "      <td>0.0</td>\n",
       "      <td>20.0</td>\n",
       "    </tr>\n",
       "    <tr>\n",
       "      <th>4</th>\n",
       "      <td>2009-01-01</td>\n",
       "      <td>UA</td>\n",
       "      <td>95</td>\n",
       "      <td>EWR</td>\n",
       "      <td>SFO</td>\n",
       "      <td>41.0</td>\n",
       "      <td>0.0</td>\n",
       "      <td>8.0</td>\n",
       "      <td>0.0</td>\n",
       "      <td>0.0</td>\n",
       "      <td>49.0</td>\n",
       "    </tr>\n",
       "    <tr>\n",
       "      <th>...</th>\n",
       "      <td>...</td>\n",
       "      <td>...</td>\n",
       "      <td>...</td>\n",
       "      <td>...</td>\n",
       "      <td>...</td>\n",
       "      <td>...</td>\n",
       "      <td>...</td>\n",
       "      <td>...</td>\n",
       "      <td>...</td>\n",
       "      <td>...</td>\n",
       "      <td>...</td>\n",
       "    </tr>\n",
       "    <tr>\n",
       "      <th>752462</th>\n",
       "      <td>2019-12-31</td>\n",
       "      <td>UA</td>\n",
       "      <td>299</td>\n",
       "      <td>DEN</td>\n",
       "      <td>ANC</td>\n",
       "      <td>9.0</td>\n",
       "      <td>0.0</td>\n",
       "      <td>21.0</td>\n",
       "      <td>0.0</td>\n",
       "      <td>0.0</td>\n",
       "      <td>30.0</td>\n",
       "    </tr>\n",
       "    <tr>\n",
       "      <th>752463</th>\n",
       "      <td>2019-12-31</td>\n",
       "      <td>UA</td>\n",
       "      <td>288</td>\n",
       "      <td>PHX</td>\n",
       "      <td>EWR</td>\n",
       "      <td>8.0</td>\n",
       "      <td>0.0</td>\n",
       "      <td>0.0</td>\n",
       "      <td>0.0</td>\n",
       "      <td>96.0</td>\n",
       "      <td>104.0</td>\n",
       "    </tr>\n",
       "    <tr>\n",
       "      <th>752464</th>\n",
       "      <td>2019-12-31</td>\n",
       "      <td>UA</td>\n",
       "      <td>282</td>\n",
       "      <td>EWR</td>\n",
       "      <td>DEN</td>\n",
       "      <td>31.0</td>\n",
       "      <td>0.0</td>\n",
       "      <td>0.0</td>\n",
       "      <td>0.0</td>\n",
       "      <td>0.0</td>\n",
       "      <td>31.0</td>\n",
       "    </tr>\n",
       "    <tr>\n",
       "      <th>752465</th>\n",
       "      <td>2019-12-31</td>\n",
       "      <td>UA</td>\n",
       "      <td>260</td>\n",
       "      <td>SEA</td>\n",
       "      <td>IAD</td>\n",
       "      <td>0.0</td>\n",
       "      <td>0.0</td>\n",
       "      <td>0.0</td>\n",
       "      <td>0.0</td>\n",
       "      <td>43.0</td>\n",
       "      <td>43.0</td>\n",
       "    </tr>\n",
       "    <tr>\n",
       "      <th>752466</th>\n",
       "      <td>2019-12-31</td>\n",
       "      <td>UA</td>\n",
       "      <td>242</td>\n",
       "      <td>SFO</td>\n",
       "      <td>BOS</td>\n",
       "      <td>8.0</td>\n",
       "      <td>0.0</td>\n",
       "      <td>9.0</td>\n",
       "      <td>0.0</td>\n",
       "      <td>0.0</td>\n",
       "      <td>17.0</td>\n",
       "    </tr>\n",
       "  </tbody>\n",
       "</table>\n",
       "<p>752467 rows × 11 columns</p>\n",
       "</div>"
      ],
      "text/plain": [
       "           FL_DATE OP_CARRIER  OP_CARRIER_FL_NUM ORIGIN DEST  CARRIER_DELAY  \\\n",
       "0       2009-01-01         UA                 26    LAX  JFK            0.0   \n",
       "1       2009-01-01         UA                 43    DEN  HNL            0.0   \n",
       "2       2009-01-01         UA                 71    DEN  OGG          130.0   \n",
       "3       2009-01-01         UA                 73    SFO  HNL           20.0   \n",
       "4       2009-01-01         UA                 95    EWR  SFO           41.0   \n",
       "...            ...        ...                ...    ...  ...            ...   \n",
       "752462  2019-12-31         UA                299    DEN  ANC            9.0   \n",
       "752463  2019-12-31         UA                288    PHX  EWR            8.0   \n",
       "752464  2019-12-31         UA                282    EWR  DEN           31.0   \n",
       "752465  2019-12-31         UA                260    SEA  IAD            0.0   \n",
       "752466  2019-12-31         UA                242    SFO  BOS            8.0   \n",
       "\n",
       "        WEATHER_DELAY  NAS_DELAY  SECURITY_DELAY  LATE_AIRCRAFT_DELAY  \\\n",
       "0                 0.0        0.0             0.0                 45.0   \n",
       "1                 0.0        0.0             0.0                162.0   \n",
       "2                 0.0        0.0             0.0                  0.0   \n",
       "3                 0.0        0.0             0.0                  0.0   \n",
       "4                 0.0        8.0             0.0                  0.0   \n",
       "...               ...        ...             ...                  ...   \n",
       "752462            0.0       21.0             0.0                  0.0   \n",
       "752463            0.0        0.0             0.0                 96.0   \n",
       "752464            0.0        0.0             0.0                  0.0   \n",
       "752465            0.0        0.0             0.0                 43.0   \n",
       "752466            0.0        9.0             0.0                  0.0   \n",
       "\n",
       "        row_sums  \n",
       "0           45.0  \n",
       "1          162.0  \n",
       "2          130.0  \n",
       "3           20.0  \n",
       "4           49.0  \n",
       "...          ...  \n",
       "752462      30.0  \n",
       "752463     104.0  \n",
       "752464      31.0  \n",
       "752465      43.0  \n",
       "752466      17.0  \n",
       "\n",
       "[752467 rows x 11 columns]"
      ]
     },
     "execution_count": 7,
     "metadata": {},
     "output_type": "execute_result"
    }
   ],
   "source": [
    "flights"
   ]
  },
  {
   "cell_type": "code",
   "execution_count": 8,
   "id": "442db152",
   "metadata": {},
   "outputs": [
    {
     "name": "stderr",
     "output_type": "stream",
     "text": [
      "/Users/alfredpirovits/codeup-data-science/CLOUD-NINE-FLIGHT-SOLUTIONS/Alfred/wrangle.py:103: FutureWarning: The default value of numeric_only in DataFrameGroupBy.mean is deprecated. In a future version, numeric_only will default to False. Either specify numeric_only or select only columns which should be valid for the function.\n",
      "  flights_monthly_mean = flights.resample('M').mean().total_delays\n",
      "/Users/alfredpirovits/codeup-data-science/CLOUD-NINE-FLIGHT-SOLUTIONS/Alfred/wrangle.py:109: FutureWarning: The default value of numeric_only in DataFrameGroupBy.mean is deprecated. In a future version, numeric_only will default to False. Either specify numeric_only or select only columns which should be valid for the function.\n",
      "  flights_daily_mean = pd.DataFrame(flights.resample('D').mean().total_delays)\n",
      "/Users/alfredpirovits/codeup-data-science/CLOUD-NINE-FLIGHT-SOLUTIONS/Alfred/wrangle.py:124: FutureWarning: Passing unit-less datetime64 dtype to .astype is deprecated and will raise in a future version. Pass 'datetime64[ns]' instead\n",
      "  list_tuples.FL_DATE = list_tuples.FL_DATE.astype('datetime64')\n",
      "/Users/alfredpirovits/codeup-data-science/CLOUD-NINE-FLIGHT-SOLUTIONS/Alfred/wrangle.py:128: FutureWarning: The frame.append method is deprecated and will be removed from pandas in a future version. Use pandas.concat instead.\n",
      "  flights_daily_mean = flights_daily_mean.append(list_tuples)\n",
      "/Users/alfredpirovits/codeup-data-science/CLOUD-NINE-FLIGHT-SOLUTIONS/Alfred/wrangle.py:139: FutureWarning: Passing unit-less datetime64 dtype to .astype is deprecated and will raise in a future version. Pass 'datetime64[ns]' instead\n",
      "  list_tuples_2.FL_DATE = list_tuples_2.FL_DATE.astype('datetime64')\n",
      "/Users/alfredpirovits/codeup-data-science/CLOUD-NINE-FLIGHT-SOLUTIONS/Alfred/wrangle.py:142: FutureWarning: The frame.append method is deprecated and will be removed from pandas in a future version. Use pandas.concat instead.\n",
      "  flights_daily_mean = flights_daily_mean.append(list_tuples_2)\n"
     ]
    }
   ],
   "source": [
    "df = wrangle.clean_flight_data_for_average_daily_delay(flights)"
   ]
  },
  {
   "cell_type": "code",
   "execution_count": 9,
   "id": "360f7979",
   "metadata": {},
   "outputs": [
    {
     "data": {
      "text/html": [
       "<div>\n",
       "<style scoped>\n",
       "    .dataframe tbody tr th:only-of-type {\n",
       "        vertical-align: middle;\n",
       "    }\n",
       "\n",
       "    .dataframe tbody tr th {\n",
       "        vertical-align: top;\n",
       "    }\n",
       "\n",
       "    .dataframe thead th {\n",
       "        text-align: right;\n",
       "    }\n",
       "</style>\n",
       "<table border=\"1\" class=\"dataframe\">\n",
       "  <thead>\n",
       "    <tr style=\"text-align: right;\">\n",
       "      <th></th>\n",
       "      <th>average_delay</th>\n",
       "    </tr>\n",
       "    <tr>\n",
       "      <th>FL_DATE</th>\n",
       "      <th></th>\n",
       "    </tr>\n",
       "  </thead>\n",
       "  <tbody>\n",
       "    <tr>\n",
       "      <th>2009-01-01</th>\n",
       "      <td>51.248000</td>\n",
       "    </tr>\n",
       "    <tr>\n",
       "      <th>2009-01-02</th>\n",
       "      <td>68.795031</td>\n",
       "    </tr>\n",
       "    <tr>\n",
       "      <th>2009-01-03</th>\n",
       "      <td>52.456376</td>\n",
       "    </tr>\n",
       "    <tr>\n",
       "      <th>2009-01-04</th>\n",
       "      <td>43.675676</td>\n",
       "    </tr>\n",
       "    <tr>\n",
       "      <th>2009-01-05</th>\n",
       "      <td>46.297872</td>\n",
       "    </tr>\n",
       "    <tr>\n",
       "      <th>...</th>\n",
       "      <td>...</td>\n",
       "    </tr>\n",
       "    <tr>\n",
       "      <th>2019-12-27</th>\n",
       "      <td>50.564417</td>\n",
       "    </tr>\n",
       "    <tr>\n",
       "      <th>2019-12-28</th>\n",
       "      <td>69.395349</td>\n",
       "    </tr>\n",
       "    <tr>\n",
       "      <th>2019-12-29</th>\n",
       "      <td>77.831126</td>\n",
       "    </tr>\n",
       "    <tr>\n",
       "      <th>2019-12-30</th>\n",
       "      <td>64.985348</td>\n",
       "    </tr>\n",
       "    <tr>\n",
       "      <th>2019-12-31</th>\n",
       "      <td>41.576271</td>\n",
       "    </tr>\n",
       "  </tbody>\n",
       "</table>\n",
       "<p>4017 rows × 1 columns</p>\n",
       "</div>"
      ],
      "text/plain": [
       "            average_delay\n",
       "FL_DATE                  \n",
       "2009-01-01      51.248000\n",
       "2009-01-02      68.795031\n",
       "2009-01-03      52.456376\n",
       "2009-01-04      43.675676\n",
       "2009-01-05      46.297872\n",
       "...                   ...\n",
       "2019-12-27      50.564417\n",
       "2019-12-28      69.395349\n",
       "2019-12-29      77.831126\n",
       "2019-12-30      64.985348\n",
       "2019-12-31      41.576271\n",
       "\n",
       "[4017 rows x 1 columns]"
      ]
     },
     "execution_count": 9,
     "metadata": {},
     "output_type": "execute_result"
    }
   ],
   "source": [
    "df"
   ]
  },
  {
   "cell_type": "code",
   "execution_count": 10,
   "id": "c3dc1d3f",
   "metadata": {},
   "outputs": [
    {
     "data": {
      "text/html": [
       "<div>\n",
       "<style scoped>\n",
       "    .dataframe tbody tr th:only-of-type {\n",
       "        vertical-align: middle;\n",
       "    }\n",
       "\n",
       "    .dataframe tbody tr th {\n",
       "        vertical-align: top;\n",
       "    }\n",
       "\n",
       "    .dataframe thead th {\n",
       "        text-align: right;\n",
       "    }\n",
       "</style>\n",
       "<table border=\"1\" class=\"dataframe\">\n",
       "  <thead>\n",
       "    <tr style=\"text-align: right;\">\n",
       "      <th></th>\n",
       "      <th>average_delay</th>\n",
       "    </tr>\n",
       "    <tr>\n",
       "      <th>FL_DATE</th>\n",
       "      <th></th>\n",
       "    </tr>\n",
       "  </thead>\n",
       "  <tbody>\n",
       "    <tr>\n",
       "      <th>2009-01-01</th>\n",
       "      <td>51.248000</td>\n",
       "    </tr>\n",
       "    <tr>\n",
       "      <th>2009-01-02</th>\n",
       "      <td>68.795031</td>\n",
       "    </tr>\n",
       "    <tr>\n",
       "      <th>2009-01-03</th>\n",
       "      <td>52.456376</td>\n",
       "    </tr>\n",
       "    <tr>\n",
       "      <th>2009-01-04</th>\n",
       "      <td>43.675676</td>\n",
       "    </tr>\n",
       "    <tr>\n",
       "      <th>2009-01-05</th>\n",
       "      <td>46.297872</td>\n",
       "    </tr>\n",
       "  </tbody>\n",
       "</table>\n",
       "</div>"
      ],
      "text/plain": [
       "            average_delay\n",
       "FL_DATE                  \n",
       "2009-01-01      51.248000\n",
       "2009-01-02      68.795031\n",
       "2009-01-03      52.456376\n",
       "2009-01-04      43.675676\n",
       "2009-01-05      46.297872"
      ]
     },
     "execution_count": 10,
     "metadata": {},
     "output_type": "execute_result"
    }
   ],
   "source": [
    "df.head()"
   ]
  },
  {
   "cell_type": "code",
   "execution_count": 11,
   "id": "a39c713c",
   "metadata": {},
   "outputs": [
    {
     "data": {
      "text/html": [
       "<div>\n",
       "<style scoped>\n",
       "    .dataframe tbody tr th:only-of-type {\n",
       "        vertical-align: middle;\n",
       "    }\n",
       "\n",
       "    .dataframe tbody tr th {\n",
       "        vertical-align: top;\n",
       "    }\n",
       "\n",
       "    .dataframe thead th {\n",
       "        text-align: right;\n",
       "    }\n",
       "</style>\n",
       "<table border=\"1\" class=\"dataframe\">\n",
       "  <thead>\n",
       "    <tr style=\"text-align: right;\">\n",
       "      <th></th>\n",
       "      <th>OP_CARRIER_FL_NUM</th>\n",
       "      <th>CARRIER_DELAY</th>\n",
       "      <th>WEATHER_DELAY</th>\n",
       "      <th>NAS_DELAY</th>\n",
       "      <th>SECURITY_DELAY</th>\n",
       "      <th>LATE_AIRCRAFT_DELAY</th>\n",
       "      <th>row_sums</th>\n",
       "    </tr>\n",
       "  </thead>\n",
       "  <tbody>\n",
       "    <tr>\n",
       "      <th>count</th>\n",
       "      <td>752467.000000</td>\n",
       "      <td>752467.000000</td>\n",
       "      <td>752467.000000</td>\n",
       "      <td>752467.000000</td>\n",
       "      <td>752467.000000</td>\n",
       "      <td>752467.000000</td>\n",
       "      <td>752467.000000</td>\n",
       "    </tr>\n",
       "    <tr>\n",
       "      <th>mean</th>\n",
       "      <td>976.295952</td>\n",
       "      <td>17.939793</td>\n",
       "      <td>2.903923</td>\n",
       "      <td>16.424048</td>\n",
       "      <td>0.026400</td>\n",
       "      <td>25.413740</td>\n",
       "      <td>62.707903</td>\n",
       "    </tr>\n",
       "    <tr>\n",
       "      <th>std</th>\n",
       "      <td>598.554216</td>\n",
       "      <td>40.116505</td>\n",
       "      <td>21.757668</td>\n",
       "      <td>31.474606</td>\n",
       "      <td>1.575385</td>\n",
       "      <td>49.456025</td>\n",
       "      <td>65.314445</td>\n",
       "    </tr>\n",
       "    <tr>\n",
       "      <th>min</th>\n",
       "      <td>1.000000</td>\n",
       "      <td>0.000000</td>\n",
       "      <td>0.000000</td>\n",
       "      <td>0.000000</td>\n",
       "      <td>0.000000</td>\n",
       "      <td>0.000000</td>\n",
       "      <td>15.000000</td>\n",
       "    </tr>\n",
       "    <tr>\n",
       "      <th>25%</th>\n",
       "      <td>472.000000</td>\n",
       "      <td>0.000000</td>\n",
       "      <td>0.000000</td>\n",
       "      <td>0.000000</td>\n",
       "      <td>0.000000</td>\n",
       "      <td>0.000000</td>\n",
       "      <td>24.000000</td>\n",
       "    </tr>\n",
       "    <tr>\n",
       "      <th>50%</th>\n",
       "      <td>810.000000</td>\n",
       "      <td>4.000000</td>\n",
       "      <td>0.000000</td>\n",
       "      <td>3.000000</td>\n",
       "      <td>0.000000</td>\n",
       "      <td>0.000000</td>\n",
       "      <td>41.000000</td>\n",
       "    </tr>\n",
       "    <tr>\n",
       "      <th>75%</th>\n",
       "      <td>1498.000000</td>\n",
       "      <td>20.000000</td>\n",
       "      <td>0.000000</td>\n",
       "      <td>21.000000</td>\n",
       "      <td>0.000000</td>\n",
       "      <td>32.000000</td>\n",
       "      <td>77.000000</td>\n",
       "    </tr>\n",
       "    <tr>\n",
       "      <th>max</th>\n",
       "      <td>2833.000000</td>\n",
       "      <td>1405.000000</td>\n",
       "      <td>1239.000000</td>\n",
       "      <td>1041.000000</td>\n",
       "      <td>349.000000</td>\n",
       "      <td>1365.000000</td>\n",
       "      <td>1539.000000</td>\n",
       "    </tr>\n",
       "  </tbody>\n",
       "</table>\n",
       "</div>"
      ],
      "text/plain": [
       "       OP_CARRIER_FL_NUM  CARRIER_DELAY  WEATHER_DELAY      NAS_DELAY  \\\n",
       "count      752467.000000  752467.000000  752467.000000  752467.000000   \n",
       "mean          976.295952      17.939793       2.903923      16.424048   \n",
       "std           598.554216      40.116505      21.757668      31.474606   \n",
       "min             1.000000       0.000000       0.000000       0.000000   \n",
       "25%           472.000000       0.000000       0.000000       0.000000   \n",
       "50%           810.000000       4.000000       0.000000       3.000000   \n",
       "75%          1498.000000      20.000000       0.000000      21.000000   \n",
       "max          2833.000000    1405.000000    1239.000000    1041.000000   \n",
       "\n",
       "       SECURITY_DELAY  LATE_AIRCRAFT_DELAY       row_sums  \n",
       "count   752467.000000        752467.000000  752467.000000  \n",
       "mean         0.026400            25.413740      62.707903  \n",
       "std          1.575385            49.456025      65.314445  \n",
       "min          0.000000             0.000000      15.000000  \n",
       "25%          0.000000             0.000000      24.000000  \n",
       "50%          0.000000             0.000000      41.000000  \n",
       "75%          0.000000            32.000000      77.000000  \n",
       "max        349.000000          1365.000000    1539.000000  "
      ]
     },
     "execution_count": 11,
     "metadata": {},
     "output_type": "execute_result"
    }
   ],
   "source": [
    "flights.describe()"
   ]
  },
  {
   "cell_type": "code",
   "execution_count": 12,
   "id": "506db096",
   "metadata": {},
   "outputs": [
    {
     "name": "stderr",
     "output_type": "stream",
     "text": [
      "/var/folders/jv/wt_gjk6n74bcbzwl91qys7sr0000gn/T/ipykernel_40478/4111916114.py:1: FutureWarning: Dropping of nuisance columns in DataFrame reductions (with 'numeric_only=None') is deprecated; in a future version this will raise TypeError.  Select only valid columns before calling the reduction.\n",
      "  row_sums = flights.sum(axis=1)\n"
     ]
    },
    {
     "data": {
      "text/plain": [
       "0         116.0\n",
       "1         367.0\n",
       "2         331.0\n",
       "3         113.0\n",
       "4         193.0\n",
       "          ...  \n",
       "752462    359.0\n",
       "752463    496.0\n",
       "752464    344.0\n",
       "752465    346.0\n",
       "752466    276.0\n",
       "Length: 752467, dtype: float64"
      ]
     },
     "execution_count": 12,
     "metadata": {},
     "output_type": "execute_result"
    }
   ],
   "source": [
    "row_sums = flights.sum(axis=1)\n",
    "row_sums"
   ]
  },
  {
   "cell_type": "code",
   "execution_count": 13,
   "id": "9662093c",
   "metadata": {},
   "outputs": [
    {
     "ename": "KeyError",
     "evalue": "'row_sum'",
     "output_type": "error",
     "traceback": [
      "\u001b[0;31m---------------------------------------------------------------------------\u001b[0m",
      "\u001b[0;31mKeyError\u001b[0m                                  Traceback (most recent call last)",
      "File \u001b[0;32m/usr/local/anaconda3/lib/python3.10/site-packages/pandas/core/indexes/base.py:3802\u001b[0m, in \u001b[0;36mIndex.get_loc\u001b[0;34m(self, key, method, tolerance)\u001b[0m\n\u001b[1;32m   3801\u001b[0m \u001b[38;5;28;01mtry\u001b[39;00m:\n\u001b[0;32m-> 3802\u001b[0m     \u001b[38;5;28;01mreturn\u001b[39;00m \u001b[38;5;28;43mself\u001b[39;49m\u001b[38;5;241;43m.\u001b[39;49m\u001b[43m_engine\u001b[49m\u001b[38;5;241;43m.\u001b[39;49m\u001b[43mget_loc\u001b[49m\u001b[43m(\u001b[49m\u001b[43mcasted_key\u001b[49m\u001b[43m)\u001b[49m\n\u001b[1;32m   3803\u001b[0m \u001b[38;5;28;01mexcept\u001b[39;00m \u001b[38;5;167;01mKeyError\u001b[39;00m \u001b[38;5;28;01mas\u001b[39;00m err:\n",
      "File \u001b[0;32m/usr/local/anaconda3/lib/python3.10/site-packages/pandas/_libs/index.pyx:138\u001b[0m, in \u001b[0;36mpandas._libs.index.IndexEngine.get_loc\u001b[0;34m()\u001b[0m\n",
      "File \u001b[0;32m/usr/local/anaconda3/lib/python3.10/site-packages/pandas/_libs/index.pyx:165\u001b[0m, in \u001b[0;36mpandas._libs.index.IndexEngine.get_loc\u001b[0;34m()\u001b[0m\n",
      "File \u001b[0;32mpandas/_libs/hashtable_class_helper.pxi:5745\u001b[0m, in \u001b[0;36mpandas._libs.hashtable.PyObjectHashTable.get_item\u001b[0;34m()\u001b[0m\n",
      "File \u001b[0;32mpandas/_libs/hashtable_class_helper.pxi:5753\u001b[0m, in \u001b[0;36mpandas._libs.hashtable.PyObjectHashTable.get_item\u001b[0;34m()\u001b[0m\n",
      "\u001b[0;31mKeyError\u001b[0m: 'row_sum'",
      "\nThe above exception was the direct cause of the following exception:\n",
      "\u001b[0;31mKeyError\u001b[0m                                  Traceback (most recent call last)",
      "Cell \u001b[0;32mIn[13], line 1\u001b[0m\n\u001b[0;32m----> 1\u001b[0m delay_flights \u001b[38;5;241m=\u001b[39m flights[\u001b[43mflights\u001b[49m\u001b[43m[\u001b[49m\u001b[38;5;124;43m'\u001b[39;49m\u001b[38;5;124;43mrow_sum\u001b[39;49m\u001b[38;5;124;43m'\u001b[39;49m\u001b[43m]\u001b[49m\u001b[38;5;241m>\u001b[39m\u001b[38;5;241m0\u001b[39m]\n\u001b[1;32m      2\u001b[0m delay_flights\n",
      "File \u001b[0;32m/usr/local/anaconda3/lib/python3.10/site-packages/pandas/core/frame.py:3807\u001b[0m, in \u001b[0;36mDataFrame.__getitem__\u001b[0;34m(self, key)\u001b[0m\n\u001b[1;32m   3805\u001b[0m \u001b[38;5;28;01mif\u001b[39;00m \u001b[38;5;28mself\u001b[39m\u001b[38;5;241m.\u001b[39mcolumns\u001b[38;5;241m.\u001b[39mnlevels \u001b[38;5;241m>\u001b[39m \u001b[38;5;241m1\u001b[39m:\n\u001b[1;32m   3806\u001b[0m     \u001b[38;5;28;01mreturn\u001b[39;00m \u001b[38;5;28mself\u001b[39m\u001b[38;5;241m.\u001b[39m_getitem_multilevel(key)\n\u001b[0;32m-> 3807\u001b[0m indexer \u001b[38;5;241m=\u001b[39m \u001b[38;5;28;43mself\u001b[39;49m\u001b[38;5;241;43m.\u001b[39;49m\u001b[43mcolumns\u001b[49m\u001b[38;5;241;43m.\u001b[39;49m\u001b[43mget_loc\u001b[49m\u001b[43m(\u001b[49m\u001b[43mkey\u001b[49m\u001b[43m)\u001b[49m\n\u001b[1;32m   3808\u001b[0m \u001b[38;5;28;01mif\u001b[39;00m is_integer(indexer):\n\u001b[1;32m   3809\u001b[0m     indexer \u001b[38;5;241m=\u001b[39m [indexer]\n",
      "File \u001b[0;32m/usr/local/anaconda3/lib/python3.10/site-packages/pandas/core/indexes/base.py:3804\u001b[0m, in \u001b[0;36mIndex.get_loc\u001b[0;34m(self, key, method, tolerance)\u001b[0m\n\u001b[1;32m   3802\u001b[0m     \u001b[38;5;28;01mreturn\u001b[39;00m \u001b[38;5;28mself\u001b[39m\u001b[38;5;241m.\u001b[39m_engine\u001b[38;5;241m.\u001b[39mget_loc(casted_key)\n\u001b[1;32m   3803\u001b[0m \u001b[38;5;28;01mexcept\u001b[39;00m \u001b[38;5;167;01mKeyError\u001b[39;00m \u001b[38;5;28;01mas\u001b[39;00m err:\n\u001b[0;32m-> 3804\u001b[0m     \u001b[38;5;28;01mraise\u001b[39;00m \u001b[38;5;167;01mKeyError\u001b[39;00m(key) \u001b[38;5;28;01mfrom\u001b[39;00m \u001b[38;5;21;01merr\u001b[39;00m\n\u001b[1;32m   3805\u001b[0m \u001b[38;5;28;01mexcept\u001b[39;00m \u001b[38;5;167;01mTypeError\u001b[39;00m:\n\u001b[1;32m   3806\u001b[0m     \u001b[38;5;66;03m# If we have a listlike key, _check_indexing_error will raise\u001b[39;00m\n\u001b[1;32m   3807\u001b[0m     \u001b[38;5;66;03m#  InvalidIndexError. Otherwise we fall through and re-raise\u001b[39;00m\n\u001b[1;32m   3808\u001b[0m     \u001b[38;5;66;03m#  the TypeError.\u001b[39;00m\n\u001b[1;32m   3809\u001b[0m     \u001b[38;5;28mself\u001b[39m\u001b[38;5;241m.\u001b[39m_check_indexing_error(key)\n",
      "\u001b[0;31mKeyError\u001b[0m: 'row_sum'"
     ]
    }
   ],
   "source": [
    "delay_flights = flights[flights['row_sum']>0]\n",
    "delay_flights"
   ]
  },
  {
   "cell_type": "code",
   "execution_count": null,
   "id": "8e6f99ed",
   "metadata": {},
   "outputs": [],
   "source": [
    "top_15_hubs = ['ATL',\n",
    "'DFW',\n",
    "'DEN',\n",
    "'ORD',\n",
    "'LAX',\n",
    "'JFK',\n",
    "'IAH',\n",
    "'PHX',\n",
    "'EWR',\n",
    "'SFO',\n",
    "'SEA',\n",
    "'IAD',\n",
    "'PHL',\n",
    "'CLT',\n",
    "'MIA']"
   ]
  },
  {
   "cell_type": "code",
   "execution_count": null,
   "id": "3a9d414c",
   "metadata": {
    "scrolled": false
   },
   "outputs": [],
   "source": [
    "delay_flights[delay_flights['ORIGIN'].notnull()]"
   ]
  },
  {
   "cell_type": "code",
   "execution_count": null,
   "id": "4c4a72d8",
   "metadata": {
    "scrolled": true
   },
   "outputs": [],
   "source": [
    "delay_flights[delay_flights['ORIGIN'].isin(top_15_hubs)]"
   ]
  },
  {
   "cell_type": "code",
   "execution_count": null,
   "id": "a6616c48",
   "metadata": {},
   "outputs": [],
   "source": [
    "delay_flights[delay_flights['ORIGIN'].isin(top_15_hubs)].FL_DATE.nunique()"
   ]
  },
  {
   "cell_type": "code",
   "execution_count": null,
   "id": "4a02a577",
   "metadata": {},
   "outputs": [],
   "source": [
    "365*11\n"
   ]
  },
  {
   "cell_type": "code",
   "execution_count": null,
   "id": "8cd1639e",
   "metadata": {},
   "outputs": [],
   "source": [
    "4015-3590"
   ]
  },
  {
   "cell_type": "code",
   "execution_count": null,
   "id": "76e07954",
   "metadata": {},
   "outputs": [],
   "source": [
    "delay_flights[~delay_flights['ORIGIN'].isin(top_15_hubs)]\n"
   ]
  },
  {
   "cell_type": "code",
   "execution_count": null,
   "id": "151985e8",
   "metadata": {
    "scrolled": true
   },
   "outputs": [],
   "source": [
    "list_of_airports = delay_flights['ORIGIN'].value_counts()\n",
    "list_of_airports = pd.DataFrame(list_of_airports)\n",
    "list_of_airports.nunique()"
   ]
  },
  {
   "cell_type": "code",
   "execution_count": null,
   "id": "24743749",
   "metadata": {},
   "outputs": [],
   "source": [
    "list_of_airports.head(38)"
   ]
  },
  {
   "cell_type": "markdown",
   "id": "18d2e707",
   "metadata": {},
   "source": [
    "### How are these columns related and how can I combine them"
   ]
  },
  {
   "cell_type": "markdown",
   "id": "a19c14e0",
   "metadata": {},
   "source": [
    "### Compare the columns by various measures"
   ]
  },
  {
   "cell_type": "code",
   "execution_count": null,
   "id": "df0a4d6d",
   "metadata": {},
   "outputs": [],
   "source": [
    "#Fills in nulls as zero as null means no delay\n",
    "flights.fillna(0, inplace=True)\n",
    "#Makes FL_DATE column a datetime datatype\n",
    "flights.FL_DATE = flights.FL_DATE.astype('datetime64')\n",
    "#Makes FL_DATE the index\n",
    "# flights = flights.set_index('FL_DATE')"
   ]
  },
  {
   "cell_type": "code",
   "execution_count": null,
   "id": "8cfefea1",
   "metadata": {},
   "outputs": [],
   "source": [
    "flights_cat = flights\n",
    "flights_cat['carrier'] = flights_cat.CARRIER_DELAY > 0"
   ]
  },
  {
   "cell_type": "code",
   "execution_count": null,
   "id": "e0f5be67",
   "metadata": {},
   "outputs": [],
   "source": [
    "flights_cat['weather'] = flights_cat.WEATHER_DELAY > 0"
   ]
  },
  {
   "cell_type": "code",
   "execution_count": null,
   "id": "c3bd0770",
   "metadata": {},
   "outputs": [],
   "source": [
    "flights_cat['nas'] = flights_cat.NAS_DELAY > 0"
   ]
  },
  {
   "cell_type": "code",
   "execution_count": null,
   "id": "0414e31e",
   "metadata": {},
   "outputs": [],
   "source": [
    "flights_cat['security'] = flights_cat.SECURITY_DELAY > 0"
   ]
  },
  {
   "cell_type": "code",
   "execution_count": null,
   "id": "8e8c07b6",
   "metadata": {},
   "outputs": [],
   "source": [
    "flights_cat['late_aircraft'] = flights_cat.LATE_AIRCRAFT_DELAY > 0"
   ]
  },
  {
   "cell_type": "code",
   "execution_count": null,
   "id": "e00fa04f",
   "metadata": {},
   "outputs": [],
   "source": [
    "flights_cat.drop(columns=['OP_CARRIER', 'CARRIER_DELAY', 'WEATHER_DELAY', 'NAS_DELAY', 'SECURITY_DELAY', 'LATE_AIRCRAFT_DELAY'])"
   ]
  },
  {
   "cell_type": "markdown",
   "id": "d9c84745",
   "metadata": {},
   "source": [
    "### At first glance it seems weird that weather does not have as many rows as the rest.  As a pilot I thought that weather dominates the delays so I wondered why this is the case."
   ]
  },
  {
   "cell_type": "markdown",
   "id": "cf9114d4",
   "metadata": {},
   "source": [
    "### It seems that the NAS data includes non extreme weater as does carrier and late aircraft delay."
   ]
  },
  {
   "cell_type": "code",
   "execution_count": null,
   "id": "96283177",
   "metadata": {},
   "outputs": [],
   "source": [
    "dep = pd.crosstab(flights_cat.FL_DATE, [flights_cat.carrier, flights_cat.weather, flights_cat.nas, flights_cat.security, flights_cat.late_aircraft])"
   ]
  },
  {
   "cell_type": "markdown",
   "id": "962cf111",
   "metadata": {},
   "source": [
    "### Chi squared\n",
    "* Null Hypothesis:  These delay types are independent of each other\n",
    "* Alternative Hypothesis:  These types are dependent on each other\n",
    "* Alpha < 0.05"
   ]
  },
  {
   "cell_type": "code",
   "execution_count": null,
   "id": "0ac0fff8",
   "metadata": {},
   "outputs": [],
   "source": [
    "dep"
   ]
  },
  {
   "cell_type": "code",
   "execution_count": null,
   "id": "06d3ecdc",
   "metadata": {},
   "outputs": [],
   "source": [
    "chi2, p, degf, expected = stats.chi2_contingency(dep)"
   ]
  },
  {
   "cell_type": "code",
   "execution_count": null,
   "id": "83c9da68",
   "metadata": {},
   "outputs": [],
   "source": [
    "chi2, p"
   ]
  },
  {
   "cell_type": "markdown",
   "id": "9454f143",
   "metadata": {},
   "source": [
    "#### There is sufficient evidence to reject the null.  They are dependent on each other."
   ]
  },
  {
   "cell_type": "markdown",
   "id": "4e396169",
   "metadata": {},
   "source": [
    "#### This suggests that there may bee some sort of overlap.  A quick look at the NAS delays shows that minor weather phenomena show up in the NAS as opposed to weather.  Also a weather delay on one leg of an airplanes trip seems to turn into a carrier delay on the next."
   ]
  },
  {
   "cell_type": "markdown",
   "id": "76d74ddc",
   "metadata": {},
   "source": []
  },
  {
   "cell_type": "markdown",
   "id": "a6b7e506",
   "metadata": {},
   "source": [
    "### A look at histograms"
   ]
  },
  {
   "cell_type": "code",
   "execution_count": null,
   "id": "6062323e",
   "metadata": {},
   "outputs": [],
   "source": [
    "plt.hist(flights.CARRIER_DELAY, bins=100)"
   ]
  },
  {
   "cell_type": "code",
   "execution_count": null,
   "id": "62dbdda4",
   "metadata": {},
   "outputs": [],
   "source": [
    "plt.hist(flights.WEATHER_DELAY, bins=100)"
   ]
  },
  {
   "cell_type": "code",
   "execution_count": null,
   "id": "0a531cb7",
   "metadata": {},
   "outputs": [],
   "source": [
    "plt.hist(flights.NAS_DELAY, bins=100)"
   ]
  },
  {
   "cell_type": "code",
   "execution_count": null,
   "id": "e08ed793",
   "metadata": {},
   "outputs": [],
   "source": [
    "plt.hist(flights.SECURITY_DELAY, bins=100)"
   ]
  },
  {
   "cell_type": "code",
   "execution_count": null,
   "id": "3069e724",
   "metadata": {},
   "outputs": [],
   "source": [
    "plt.hist(flights.LATE_AIRCRAFT_DELAY, bins=100)"
   ]
  },
  {
   "cell_type": "markdown",
   "id": "e895b097",
   "metadata": {},
   "source": [
    "#### Skewed makes a whole lot of sense.  Nothing unexpected here."
   ]
  },
  {
   "cell_type": "markdown",
   "id": "494f71b7",
   "metadata": {},
   "source": [
    "### THERE IS sufficient evidence that I can combine these columns in feature engineering."
   ]
  },
  {
   "cell_type": "markdown",
   "id": "3fd4e479",
   "metadata": {},
   "source": [
    "### Resample my data by daily mean delays"
   ]
  },
  {
   "cell_type": "code",
   "execution_count": null,
   "id": "9c25eddb",
   "metadata": {},
   "outputs": [],
   "source": [
    "flights_daily_mean = wrangle.clean_flight_data_for_average_daily_delay(flights)"
   ]
  },
  {
   "cell_type": "code",
   "execution_count": null,
   "id": "ce5b0ea2",
   "metadata": {},
   "outputs": [],
   "source": [
    "flights_daily_mean.sort_index()"
   ]
  },
  {
   "cell_type": "code",
   "execution_count": null,
   "id": "9fc4c820",
   "metadata": {},
   "outputs": [],
   "source": [
    "flights_daily_mean.isna().sum()"
   ]
  },
  {
   "cell_type": "markdown",
   "id": "3a18a56c",
   "metadata": {},
   "source": [
    "### Find the best interval to define average delay by to optimize reducing noise while keeping good correlation results"
   ]
  },
  {
   "cell_type": "code",
   "execution_count": null,
   "id": "36a2db67",
   "metadata": {
    "scrolled": false
   },
   "outputs": [],
   "source": [
    "def plot_average_by_interval():\n",
    "    \n",
    "    resample_dict = {'D':'Daily', 'W':'Weekly', '2W':'FORTNIGHTLY', 'M':'Monthly', '3M':'Quarterly', '6M':'Semi-Annually', 'Y':'Yearly'}\n",
    "\n",
    "    for _ in resample_dict:\n",
    "        plt.figure(figsize=(10,6))\n",
    "\n",
    "        flights_daily_mean.resample(_).mean().average_delay.plot(label='daily')\n",
    "        # flights_daily_mean.resample('W').mean().average_delay.plot(label='weekly')\n",
    "        # flights_daily_mean.resample('M').mean().average_delay.plot(label='monthly')\n",
    "        # flights_daily_mean.resample('Y').mean().average_delay.plot(label='yearly')\n",
    "\n",
    "\n",
    "        plt.title(f'{resample_dict[_][0:]} Average Delay')\n",
    "        plt.legend()\n",
    "        plt.show()\n",
    "\n",
    "        pd.plotting.autocorrelation_plot(flights_daily_mean.average_delay.resample(_).mean())\n",
    "        plt.show()\n",
    "\n",
    "plot_average_by_interval()"
   ]
  },
  {
   "cell_type": "markdown",
   "id": "2af80e32",
   "metadata": {},
   "source": [
    "### Plot the best lag plot based on the airline.  The best will always be 365"
   ]
  },
  {
   "cell_type": "code",
   "execution_count": null,
   "id": "27c1d686",
   "metadata": {
    "scrolled": false
   },
   "outputs": [],
   "source": [
    "def plot_best_lag_plot():\n",
    "\n",
    "    #Plots the best correlated lag\n",
    "    pd.plotting.lag_plot(flights_daily_mean.resample('W').mean(), lag=365)\n",
    "    plt.title('lag plot');\n",
    "\n",
    "plot_best_lag_plot()"
   ]
  },
  {
   "cell_type": "markdown",
   "id": "d8183bfb",
   "metadata": {},
   "source": [
    "### Split the data by year"
   ]
  },
  {
   "cell_type": "code",
   "execution_count": null,
   "id": "8c608aba",
   "metadata": {},
   "outputs": [],
   "source": [
    "train = flights_daily_mean.iloc[:2016] \n",
    "test = flights_daily_mean.iloc[2016:] \n",
    "train.loc['2009-09-30':]"
   ]
  },
  {
   "cell_type": "code",
   "execution_count": null,
   "id": "507e9d7a",
   "metadata": {},
   "outputs": [],
   "source": [
    "test"
   ]
  },
  {
   "cell_type": "markdown",
   "id": "6abe8f31",
   "metadata": {},
   "source": [
    "### Plot the seasonal decompositions for the various time periods"
   ]
  },
  {
   "cell_type": "code",
   "execution_count": null,
   "id": "301a4ea7",
   "metadata": {},
   "outputs": [],
   "source": [
    "y = train.average_delay.resample('d').mean()\n",
    "\n",
    "result = sm.tsa.seasonal_decompose(y)\n",
    "\n",
    "decomposition = pd.DataFrame({\n",
    "    'y': result.observed,\n",
    "    'trend': result.trend,\n",
    "    'seasonal': result.seasonal,\n",
    "    'resid': result.resid\n",
    "})\n",
    "\n",
    "decomposition['trend_centered'] = decomposition.trend - decomposition.trend.mean()\n",
    "decomposition[['trend_centered', 'seasonal', 'resid']].plot();"
   ]
  },
  {
   "cell_type": "code",
   "execution_count": null,
   "id": "e20f7b71",
   "metadata": {},
   "outputs": [],
   "source": [
    "y = train.average_delay.resample('w').mean()\n",
    "\n",
    "result = sm.tsa.seasonal_decompose(y)\n",
    "\n",
    "decomposition = pd.DataFrame({\n",
    "    'y': result.observed,\n",
    "    'trend': result.trend,\n",
    "    'seasonal': result.seasonal,\n",
    "    'resid': result.resid\n",
    "})\n",
    "\n",
    "decomposition['trend_centered'] = decomposition.trend - decomposition.trend.mean()\n",
    "decomposition[['trend_centered', 'seasonal', 'resid']].plot();"
   ]
  },
  {
   "cell_type": "code",
   "execution_count": null,
   "id": "5fd94c66",
   "metadata": {},
   "outputs": [],
   "source": [
    "def seasonal_decomposition_plot(duration):\n",
    "    y = train.average_delay.resample(duration).mean()\n",
    "\n",
    "    result = sm.tsa.seasonal_decompose(y)\n",
    "\n",
    "    decomposition = pd.DataFrame({\n",
    "        'y': result.observed,\n",
    "        'trend': result.trend,\n",
    "        'seasonal': result.seasonal,\n",
    "        'resid': result.resid\n",
    "    })\n",
    "\n",
    "    decomposition['trend_centered'] = decomposition.trend - decomposition.trend.mean()\n",
    "    decomposition[['trend_centered', 'seasonal', 'resid']].plot();\n",
    "    \n",
    "seasonal_decomposition_plot('2w')"
   ]
  },
  {
   "cell_type": "code",
   "execution_count": null,
   "id": "a541c094",
   "metadata": {},
   "outputs": [],
   "source": [
    "y = train.average_delay.resample('m').mean()\n",
    "\n",
    "result = sm.tsa.seasonal_decompose(y)\n",
    "\n",
    "decomposition = pd.DataFrame({\n",
    "    'y': result.observed,\n",
    "    'trend': result.trend,\n",
    "    'seasonal': result.seasonal,\n",
    "    'resid': result.resid\n",
    "})\n",
    "\n",
    "decomposition['trend_centered'] = decomposition.trend - decomposition.trend.mean()\n",
    "decomposition[['trend_centered', 'seasonal', 'resid']].plot();"
   ]
  },
  {
   "cell_type": "code",
   "execution_count": null,
   "id": "ae2ae4ea",
   "metadata": {},
   "outputs": [],
   "source": [
    "y = train.average_delay.resample('3m').mean()\n",
    "\n",
    "result = sm.tsa.seasonal_decompose(y)\n",
    "\n",
    "decomposition = pd.DataFrame({\n",
    "    'y': result.observed,\n",
    "    'trend': result.trend,\n",
    "    'seasonal': result.seasonal,\n",
    "    'resid': result.resid\n",
    "})\n",
    "\n",
    "decomposition['trend_centered'] = decomposition.trend - decomposition.trend.mean()\n",
    "decomposition[['trend_centered', 'seasonal', 'resid']].plot();"
   ]
  },
  {
   "cell_type": "code",
   "execution_count": null,
   "id": "0cd852a6",
   "metadata": {},
   "outputs": [],
   "source": [
    "y = train.average_delay.resample('6m').mean()\n",
    "\n",
    "result = sm.tsa.seasonal_decompose(y)\n",
    "\n",
    "decomposition = pd.DataFrame({\n",
    "    'y': result.observed,\n",
    "    'trend': result.trend,\n",
    "    'seasonal': result.seasonal,\n",
    "    'resid': result.resid\n",
    "})\n",
    "\n",
    "decomposition['trend_centered'] = decomposition.trend - decomposition.trend.mean()\n",
    "decomposition[['trend_centered', 'seasonal', 'resid']].plot();"
   ]
  },
  {
   "cell_type": "code",
   "execution_count": null,
   "id": "8a6ccdb9",
   "metadata": {},
   "outputs": [],
   "source": [
    "y = train.average_delay.resample('y').mean()\n",
    "\n",
    "result = sm.tsa.seasonal_decompose(y)\n",
    "\n",
    "decomposition = pd.DataFrame({\n",
    "    'y': result.observed,\n",
    "    'trend': result.trend,\n",
    "    'seasonal': result.seasonal,\n",
    "    'resid': result.resid\n",
    "})\n",
    "\n",
    "decomposition['trend_centered'] = decomposition.trend - decomposition.trend.mean()\n",
    "decomposition[['trend_centered', 'seasonal', 'resid']].plot();"
   ]
  },
  {
   "cell_type": "markdown",
   "id": "f1ea4fa6",
   "metadata": {},
   "source": [
    "### Once again the best period to resample by seems to be 2 weeks or a fortnight"
   ]
  },
  {
   "cell_type": "code",
   "execution_count": null,
   "id": "68db01b0",
   "metadata": {},
   "outputs": [],
   "source": []
  },
  {
   "cell_type": "code",
   "execution_count": null,
   "id": "950a475c",
   "metadata": {},
   "outputs": [],
   "source": []
  },
  {
   "cell_type": "code",
   "execution_count": null,
   "id": "80ac1d7a",
   "metadata": {},
   "outputs": [],
   "source": []
  }
 ],
 "metadata": {
  "kernelspec": {
   "display_name": "Python 3 (ipykernel)",
   "language": "python",
   "name": "python3"
  },
  "language_info": {
   "codemirror_mode": {
    "name": "ipython",
    "version": 3
   },
   "file_extension": ".py",
   "mimetype": "text/x-python",
   "name": "python",
   "nbconvert_exporter": "python",
   "pygments_lexer": "ipython3",
   "version": "3.10.9"
  }
 },
 "nbformat": 4,
 "nbformat_minor": 5
}
