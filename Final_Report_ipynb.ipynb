{
 "cells": [
  {
   "cell_type": "markdown",
   "id": "premier-milan",
   "metadata": {},
   "source": [
    "# Flight Solutions\n"
   ]
  },
  {
   "cell_type": "markdown",
   "id": "04afb41e",
   "metadata": {},
   "source": [
    "# Goals\n",
    "* ML analysis model that decodes a decade of flight data to predict and manage airline delay.\n",
    "* Optimize operations, enhance passenger experience."
   ]
  },
  {
   "cell_type": "markdown",
   "id": "going-assembly",
   "metadata": {},
   "source": [
    "## Imports"
   ]
  },
  {
   "cell_type": "code",
   "execution_count": 1,
   "id": "divided-poster",
   "metadata": {},
   "outputs": [],
   "source": [
    "# importing the necessary libraries to run the code\n",
    "import pandas as pd\n",
    "\n",
    "import seaborn as sns\n",
    "import matplotlib.pyplot as plt\n",
    "import scipy.stats as stats\n",
    "from math import sqrt\n",
    "import wrangle\n",
    "# from wrangle import \n",
    "\n",
    "import explore as e\n",
    "# # from explore import \n",
    "import model as m\n",
    "# from modeling import \n",
    "# from modeling import\n",
    "\n",
    "import warnings\n",
    "warnings.filterwarnings(\"ignore\")"
   ]
  },
  {
   "cell_type": "markdown",
   "id": "criminal-glory",
   "metadata": {},
   "source": [
    "## Acquire\n",
    "\n",
    "* Aquire data from https://data.world/food/wine-quality\n",
    "* Octber 2009 and July 2011 are missing the entire months of data.\n",
    "* Each observation represent an average delay for that day.\n",
    "* We are measuring the average delays for each day for the last ten years"
   ]
  },
  {
   "cell_type": "markdown",
   "id": "impossible-bible",
   "metadata": {},
   "source": [
    "## Prepare\n",
    "\n",
    "* Checked for nulls in the data (there were none)\n",
    "* Checked fi]or duplicates (there were none)\n",
    "* Filter flight data to only rows with delays.\n",
    "* Filter the data to to four airlines: Delta, American, Southwest, and United Airlines.\n",
    "* Filter the data to include only the top 15 Class B Airlines.\n",
    "* Split data into train, validate and test.\n",
    "* Outliers have not been removed for this iteration of the project."
   ]
  },
  {
   "cell_type": "code",
   "execution_count": 2,
   "id": "186b2dfe",
   "metadata": {},
   "outputs": [],
   "source": [
    "# used my wrangle function that acquires, preps and cleans the data\n",
    "flights = wrangle.pull_airline_data('UA')\n",
    "df = wrangle.clean_flight_data_for_average_daily_delay(flights)\n",
    "\n",
    "# splits data train, validate, test\n",
    "train, validate, test = m.train_test_split(df, '2W')\n",
    "train_fl, validate_fl, test_fl = m.train_fl_test_fl_split(flights, '2W')"
   ]
  },
  {
   "cell_type": "markdown",
   "id": "0d9f6680",
   "metadata": {},
   "source": [
    "# Data At a Glance"
   ]
  },
  {
   "cell_type": "code",
   "execution_count": 3,
   "id": "0c7c4e7f",
   "metadata": {},
   "outputs": [
    {
     "data": {
      "text/html": [
       "<div>\n",
       "<style scoped>\n",
       "    .dataframe tbody tr th:only-of-type {\n",
       "        vertical-align: middle;\n",
       "    }\n",
       "\n",
       "    .dataframe tbody tr th {\n",
       "        vertical-align: top;\n",
       "    }\n",
       "\n",
       "    .dataframe thead th {\n",
       "        text-align: right;\n",
       "    }\n",
       "</style>\n",
       "<table border=\"1\" class=\"dataframe\">\n",
       "  <thead>\n",
       "    <tr style=\"text-align: right;\">\n",
       "      <th></th>\n",
       "      <th>OP_CARRIER</th>\n",
       "      <th>OP_CARRIER_FL_NUM</th>\n",
       "      <th>ORIGIN</th>\n",
       "      <th>DEST</th>\n",
       "      <th>CARRIER_DELAY</th>\n",
       "      <th>WEATHER_DELAY</th>\n",
       "      <th>NAS_DELAY</th>\n",
       "      <th>SECURITY_DELAY</th>\n",
       "      <th>LATE_AIRCRAFT_DELAY</th>\n",
       "      <th>row_sums</th>\n",
       "    </tr>\n",
       "    <tr>\n",
       "      <th>FL_DATE</th>\n",
       "      <th></th>\n",
       "      <th></th>\n",
       "      <th></th>\n",
       "      <th></th>\n",
       "      <th></th>\n",
       "      <th></th>\n",
       "      <th></th>\n",
       "      <th></th>\n",
       "      <th></th>\n",
       "      <th></th>\n",
       "    </tr>\n",
       "  </thead>\n",
       "  <tbody>\n",
       "    <tr>\n",
       "      <th>2009-01-01</th>\n",
       "      <td>UA</td>\n",
       "      <td>26</td>\n",
       "      <td>LAX</td>\n",
       "      <td>JFK</td>\n",
       "      <td>0.0</td>\n",
       "      <td>0.0</td>\n",
       "      <td>0.0</td>\n",
       "      <td>0.0</td>\n",
       "      <td>45.0</td>\n",
       "      <td>45.0</td>\n",
       "    </tr>\n",
       "    <tr>\n",
       "      <th>2009-01-01</th>\n",
       "      <td>UA</td>\n",
       "      <td>43</td>\n",
       "      <td>DEN</td>\n",
       "      <td>HNL</td>\n",
       "      <td>0.0</td>\n",
       "      <td>0.0</td>\n",
       "      <td>0.0</td>\n",
       "      <td>0.0</td>\n",
       "      <td>162.0</td>\n",
       "      <td>162.0</td>\n",
       "    </tr>\n",
       "    <tr>\n",
       "      <th>2009-01-01</th>\n",
       "      <td>UA</td>\n",
       "      <td>71</td>\n",
       "      <td>DEN</td>\n",
       "      <td>OGG</td>\n",
       "      <td>130.0</td>\n",
       "      <td>0.0</td>\n",
       "      <td>0.0</td>\n",
       "      <td>0.0</td>\n",
       "      <td>0.0</td>\n",
       "      <td>130.0</td>\n",
       "    </tr>\n",
       "    <tr>\n",
       "      <th>2009-01-01</th>\n",
       "      <td>UA</td>\n",
       "      <td>73</td>\n",
       "      <td>SFO</td>\n",
       "      <td>HNL</td>\n",
       "      <td>20.0</td>\n",
       "      <td>0.0</td>\n",
       "      <td>0.0</td>\n",
       "      <td>0.0</td>\n",
       "      <td>0.0</td>\n",
       "      <td>20.0</td>\n",
       "    </tr>\n",
       "    <tr>\n",
       "      <th>2009-01-01</th>\n",
       "      <td>UA</td>\n",
       "      <td>95</td>\n",
       "      <td>EWR</td>\n",
       "      <td>SFO</td>\n",
       "      <td>41.0</td>\n",
       "      <td>0.0</td>\n",
       "      <td>8.0</td>\n",
       "      <td>0.0</td>\n",
       "      <td>0.0</td>\n",
       "      <td>49.0</td>\n",
       "    </tr>\n",
       "  </tbody>\n",
       "</table>\n",
       "</div>"
      ],
      "text/plain": [
       "           OP_CARRIER  OP_CARRIER_FL_NUM ORIGIN DEST  CARRIER_DELAY  \\\n",
       "FL_DATE                                                               \n",
       "2009-01-01         UA                 26    LAX  JFK            0.0   \n",
       "2009-01-01         UA                 43    DEN  HNL            0.0   \n",
       "2009-01-01         UA                 71    DEN  OGG          130.0   \n",
       "2009-01-01         UA                 73    SFO  HNL           20.0   \n",
       "2009-01-01         UA                 95    EWR  SFO           41.0   \n",
       "\n",
       "            WEATHER_DELAY  NAS_DELAY  SECURITY_DELAY  LATE_AIRCRAFT_DELAY  \\\n",
       "FL_DATE                                                                     \n",
       "2009-01-01            0.0        0.0             0.0                 45.0   \n",
       "2009-01-01            0.0        0.0             0.0                162.0   \n",
       "2009-01-01            0.0        0.0             0.0                  0.0   \n",
       "2009-01-01            0.0        0.0             0.0                  0.0   \n",
       "2009-01-01            0.0        8.0             0.0                  0.0   \n",
       "\n",
       "            row_sums  \n",
       "FL_DATE               \n",
       "2009-01-01      45.0  \n",
       "2009-01-01     162.0  \n",
       "2009-01-01     130.0  \n",
       "2009-01-01      20.0  \n",
       "2009-01-01      49.0  "
      ]
     },
     "execution_count": 3,
     "metadata": {},
     "output_type": "execute_result"
    }
   ],
   "source": [
    "train_fl.head()"
   ]
  },
  {
   "cell_type": "code",
   "execution_count": 4,
   "id": "576a9acb",
   "metadata": {},
   "outputs": [
    {
     "data": {
      "text/html": [
       "<div>\n",
       "<style scoped>\n",
       "    .dataframe tbody tr th:only-of-type {\n",
       "        vertical-align: middle;\n",
       "    }\n",
       "\n",
       "    .dataframe tbody tr th {\n",
       "        vertical-align: top;\n",
       "    }\n",
       "\n",
       "    .dataframe thead th {\n",
       "        text-align: right;\n",
       "    }\n",
       "</style>\n",
       "<table border=\"1\" class=\"dataframe\">\n",
       "  <thead>\n",
       "    <tr style=\"text-align: right;\">\n",
       "      <th></th>\n",
       "      <th>average_delay</th>\n",
       "    </tr>\n",
       "  </thead>\n",
       "  <tbody>\n",
       "    <tr>\n",
       "      <th>count</th>\n",
       "      <td>209.000000</td>\n",
       "    </tr>\n",
       "    <tr>\n",
       "      <th>mean</th>\n",
       "      <td>57.333545</td>\n",
       "    </tr>\n",
       "    <tr>\n",
       "      <th>std</th>\n",
       "      <td>8.007163</td>\n",
       "    </tr>\n",
       "    <tr>\n",
       "      <th>min</th>\n",
       "      <td>43.985268</td>\n",
       "    </tr>\n",
       "    <tr>\n",
       "      <th>25%</th>\n",
       "      <td>51.858733</td>\n",
       "    </tr>\n",
       "    <tr>\n",
       "      <th>50%</th>\n",
       "      <td>55.855312</td>\n",
       "    </tr>\n",
       "    <tr>\n",
       "      <th>75%</th>\n",
       "      <td>61.617909</td>\n",
       "    </tr>\n",
       "    <tr>\n",
       "      <th>max</th>\n",
       "      <td>101.509765</td>\n",
       "    </tr>\n",
       "  </tbody>\n",
       "</table>\n",
       "</div>"
      ],
      "text/plain": [
       "       average_delay\n",
       "count     209.000000\n",
       "mean       57.333545\n",
       "std         8.007163\n",
       "min        43.985268\n",
       "25%        51.858733\n",
       "50%        55.855312\n",
       "75%        61.617909\n",
       "max       101.509765"
      ]
     },
     "execution_count": 4,
     "metadata": {},
     "output_type": "execute_result"
    }
   ],
   "source": [
    "# display a snapshot of summary statistics\n",
    "train.describe()\n"
   ]
  },
  {
   "cell_type": "markdown",
   "id": "2f5a5b2a",
   "metadata": {},
   "source": [
    "# Explore"
   ]
  },
  {
   "cell_type": "markdown",
   "id": "91b4f05c",
   "metadata": {},
   "source": [
    "### Is the mean at each airport equal or is there something causing  a difference?\n"
   ]
  },
  {
   "cell_type": "code",
   "execution_count": 5,
   "id": "70abb517",
   "metadata": {},
   "outputs": [
    {
     "data": {
      "image/png": "[encoded data removed]",
      "text/plain": [
       "<Figure size 1500x900 with 1 Axes>"
      ]
     },
     "metadata": {},
     "output_type": "display_data"
    }
   ],
   "source": [
    "m.means_by_airport(flights, train_fl)"
   ]
  },
  {
   "cell_type": "markdown",
   "id": "da54cc6b",
   "metadata": {},
   "source": [
    "### Takeaways:"
   ]
  },
  {
   "cell_type": "markdown",
   "id": "c2a87cae",
   "metadata": {},
   "source": [
    "* DFW has the highest average of delay and the most flights\n",
    "* The order of means seems to reflect the flights as well, compared to other airports.\n",
    "* "
   ]
  },
  {
   "cell_type": "markdown",
   "id": "755b3d61",
   "metadata": {},
   "source": [
    "# Stats Testing\n",
    "\n",
    "## Hypothesis:\n",
    "\n",
    "H 0 : The average delay in each airport are all the same.\n",
    "\n",
    "H a : The average delay in each airport are not all the same."
   ]
  },
  {
   "cell_type": "code",
   "execution_count": 6,
   "id": "1e9ed282",
   "metadata": {},
   "outputs": [
    {
     "data": {
      "text/plain": [
       "(165.26107298063963, 0.0)"
      ]
     },
     "execution_count": 6,
     "metadata": {},
     "output_type": "execute_result"
    }
   ],
   "source": [
    "f, p = m.anova_airport_test(flights)\n",
    "f, p"
   ]
  },
  {
   "cell_type": "markdown",
   "id": "cb44470c",
   "metadata": {},
   "source": [
    "### *Are current months correlated with the proceeding month?\n"
   ]
  },
  {
   "cell_type": "code",
   "execution_count": 7,
   "id": "2914cbe6",
   "metadata": {
    "scrolled": false
   },
   "outputs": [
    {
     "data": {
      "image/png": "[encoded data removed]",
      "text/plain": [
       "<Figure size 640x480 with 1 Axes>"
      ]
     },
     "metadata": {},
     "output_type": "display_data"
    }
   ],
   "source": [
    "m.plot_best_lag_plot(train, 'm', 1)"
   ]
  },
  {
   "cell_type": "markdown",
   "id": "36321da9",
   "metadata": {},
   "source": [
    "### Takeaways:\n",
    "* As the\n",
    "* Wines tare 237\n",
    "* Red "
   ]
  },
  {
   "cell_type": "markdown",
   "id": "8abda1f0",
   "metadata": {},
   "source": [
    "# Stats Testing"
   ]
  },
  {
   "cell_type": "markdown",
   "id": "30936196",
   "metadata": {},
   "source": [
    "## Hypothesis:"
   ]
  },
  {
   "cell_type": "markdown",
   "id": "d049bf37",
   "metadata": {},
   "source": [
    "H 0 : There is no linear correlation between monthly delay and monthly lag delay.\n",
    "\n",
    "H a : There is a linear correlation between monthly delay and monthly lag delay."
   ]
  },
  {
   "cell_type": "markdown",
   "id": "b8d7677a",
   "metadata": {},
   "source": [
    "## Pearson's R-test¶"
   ]
  },
  {
   "cell_type": "code",
   "execution_count": 8,
   "id": "d1e822e3",
   "metadata": {},
   "outputs": [
    {
     "data": {
      "text/plain": [
       "(0.4993473061801668, 2.5894146307773806e-07)"
      ]
     },
     "execution_count": 8,
     "metadata": {},
     "output_type": "execute_result"
    }
   ],
   "source": [
    "\n",
    "α = 0.05\n",
    "\n",
    "corr, p = m.pearsons_r_test(train, 'm')\n",
    "corr, p"
   ]
  },
  {
   "cell_type": "markdown",
   "id": "46f4d9ee",
   "metadata": {},
   "source": [
    "## P-value less than alpha?"
   ]
  },
  {
   "cell_type": "code",
   "execution_count": 9,
   "id": "1dfd695a",
   "metadata": {},
   "outputs": [
    {
     "data": {
      "text/plain": [
       "True"
      ]
     },
     "execution_count": 9,
     "metadata": {},
     "output_type": "execute_result"
    }
   ],
   "source": [
    "p < α"
   ]
  },
  {
   "cell_type": "markdown",
   "id": "6083be2f",
   "metadata": {},
   "source": [
    "### We can reject the null hypothesis.\n"
   ]
  },
  {
   "cell_type": "markdown",
   "id": "82dd971a",
   "metadata": {},
   "source": [
    "## * Is the mean of each month equal or is there something causing a difference?"
   ]
  },
  {
   "cell_type": "code",
   "execution_count": 10,
   "id": "f78e93ad",
   "metadata": {
    "scrolled": false
   },
   "outputs": [
    {
     "data": {
      "image/png": "[encoded data removed]",
      "text/plain": [
       "<Figure size 640x480 with 1 Axes>"
      ]
     },
     "metadata": {},
     "output_type": "display_data"
    }
   ],
   "source": [
    "m.plot_month_delay(train_fl)"
   ]
  },
  {
   "cell_type": "markdown",
   "id": "ff5a6770",
   "metadata": {},
   "source": [
    "### Takeaways:\n",
    "\n",
    "* Summertime has the highest averages for the year\n",
    "* The aveage delay dips during the colder months"
   ]
  },
  {
   "cell_type": "markdown",
   "id": "2d2aafcd",
   "metadata": {},
   "source": [
    "# Stats Testing\n",
    "## Hypothesis:\n",
    "H\n",
    "0\n",
    ": The average pH level in red and white wines is the same.\n",
    "\n",
    "H\n",
    "a\n",
    ": The average pH in is greater in red wines.\n",
    "## Anova Test"
   ]
  },
  {
   "cell_type": "code",
   "execution_count": 11,
   "id": "506c3439",
   "metadata": {
    "scrolled": true
   },
   "outputs": [
    {
     "data": {
      "text/plain": [
       "(6.679947850802641, 1.7884429933248245e-09)"
      ]
     },
     "execution_count": 11,
     "metadata": {},
     "output_type": "execute_result"
    }
   ],
   "source": [
    "# getting theire data\n",
    "f, p = m.anova_month_test(train)\n",
    "\n",
    "f,p\n"
   ]
  },
  {
   "cell_type": "markdown",
   "id": "15d0671a",
   "metadata": {},
   "source": [
    "### We can reject the null hypothesis.\n"
   ]
  },
  {
   "cell_type": "markdown",
   "id": "immediate-mirror",
   "metadata": {},
   "source": [
    "### *Are current fort nights correlated with the proceeding fort nights?\n"
   ]
  },
  {
   "cell_type": "code",
   "execution_count": 13,
   "id": "0e09a9cf",
   "metadata": {},
   "outputs": [
    {
     "data": {
      "image/png": "[encoded data removed]",
      "text/plain": [
       "<Figure size 640x480 with 1 Axes>"
      ]
     },
     "metadata": {},
     "output_type": "display_data"
    }
   ],
   "source": [
    "m.plot_best_lag_plot(train, '2w', 1)"
   ]
  },
  {
   "cell_type": "markdown",
   "id": "931ac243",
   "metadata": {},
   "source": [
    "### Takeaways\n",
    "* Chlorides \n",
    "* As t\n",
    "* There"
   ]
  },
  {
   "cell_type": "markdown",
   "id": "ddb288ea",
   "metadata": {},
   "source": [
    "# Stats Testing\n",
    "\n",
    "## Hypothesis:\n",
    "\n",
    "H 0 : There is no linear correlation between monthly delay and monthly lag delay.\n",
    "\n",
    "H a : There is a linear correlation between monthly delay and monthly lag delay.\n",
    "\n",
    "## Pearson's R-test¶"
   ]
  },
  {
   "cell_type": "code",
   "execution_count": 14,
   "id": "09852381",
   "metadata": {},
   "outputs": [
    {
     "data": {
      "text/plain": [
       "(0.6387125197366863, 3.0819800141713925e-25)"
      ]
     },
     "execution_count": 14,
     "metadata": {},
     "output_type": "execute_result"
    }
   ],
   "source": [
    "corr, p = m.pearsons_r_test(train, '2w')\n",
    "corr, p"
   ]
  },
  {
   "cell_type": "markdown",
   "id": "ceb1cd04",
   "metadata": {},
   "source": [
    "#  Analysis\n",
    "* As seen a\n",
    "* For insta\n",
    "* The mean\n",
    "* However \n",
    "\n"
   ]
  },
  {
   "cell_type": "markdown",
   "id": "84dab190",
   "metadata": {},
   "source": [
    "---"
   ]
  },
  {
   "cell_type": "code",
   "execution_count": null,
   "id": "58ea80fa",
   "metadata": {},
   "outputs": [],
   "source": []
  }
 ],
 "metadata": {
  "kernelspec": {
   "display_name": "Python 3 (ipykernel)",
   "language": "python",
   "name": "python3"
  },
  "language_info": {
   "codemirror_mode": {
    "name": "ipython",
    "version": 3
   },
   "file_extension": ".py",
   "mimetype": "text/x-python",
   "name": "python",
   "nbconvert_exporter": "python",
   "pygments_lexer": "ipython3",
   "version": "3.10.9"
  }
 },
 "nbformat": 4,
 "nbformat_minor": 5
}
