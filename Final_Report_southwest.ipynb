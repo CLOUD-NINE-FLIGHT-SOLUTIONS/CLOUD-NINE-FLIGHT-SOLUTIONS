{
 "cells": [
  {
   "attachments": {
    "Cloud_9_Logo%20%281%29.png": {
     "image/png": "[encoded data removed]"
    }
   },
   "cell_type": "markdown",
   "id": "premier-milan",
   "metadata": {},
   "source": [
    "![Cloud_9_Logo%20%281%29.png](attachment:Cloud_9_Logo%20%281%29.png)"
   ]
  },
  {
   "cell_type": "markdown",
   "id": "fc361c82",
   "metadata": {},
   "source": [
    "<!-- orange page break -->\n",
    "<hr style=\"background-color:orange; height: 20px;\" />\n"
   ]
  },
  {
   "cell_type": "markdown",
   "id": "2f42bb5e",
   "metadata": {},
   "source": [
    "# <center style=\"color:blue\">CLOUD-NINE-FLIGHT-SOLUTIONS</center>\n"
   ]
  },
  {
   "cell_type": "markdown",
   "id": "0bf3a96c",
   "metadata": {},
   "source": [
    "## <span style=\"color:green\">CodeUp LLC</span>\n",
    "## <span style=\"color:blue\">SOUTHWEST FINAL NOTEBOOK</span>\n",
    "### <span style=\"color:orange\">By: Alfred W. S. Pirovits Jr.</span>\n",
    "### <span style=\"color:orange\">Emanuel Villa</span>\n",
    "### <span style=\"color:orange\">Miatta Sinayoko</span>\n",
    "### <span style=\"color:orange\">Quintela Cohort: Data Science</span>\n",
    "### <span style=\"color:orange\">Source: https://www.kaggle.com/datasets/sherrytp/airline-delay-analysis"
   ]
  },
  {
   "cell_type": "markdown",
   "id": "1bc079ba",
   "metadata": {},
   "source": [
    "# <span style=\"color:blue\">Executive Summary</span>\n"
   ]
  },
  {
   "cell_type": "markdown",
   "id": "03f3f769",
   "metadata": {},
   "source": [
    "### <span style=\"color:orange\">This project includes data pulled from https://www.kaggle.com/datasets/sherrytp/airline-delay-analysis covering 10 years of flights from 2009-2019. The data are held in 10 csv's (one for each year).Major airlines United Airlines,American Airlines, Delta and South West in addition to the top 15 Class B airpot hubs are obsrved. The project breaks down total delays for each flight and extracts an average delay over two week intervals from which a time series model is constructed to accurately characterize seasonal variation in the data with regard to delays.</span>"
   ]
  },
  {
   "cell_type": "markdown",
   "id": "a3e1a211",
   "metadata": {},
   "source": [
    "# <span style=\"color:blue\">Project Goals:</span>\n"
   ]
  },
  {
   "cell_type": "markdown",
   "id": "3755f2e3",
   "metadata": {},
   "source": [
    "### <span style=\"color:orange\">The goal is to develop a Machine Learning model that can accuratly decode a decade of flight data to predict and manage airline delays. By harnessing the power of seasonal trends and incorporating comprehensive flight data, we empower airlines to optimize operations,minimize costs, enhance passenger experience, and soar above the competition. Data-driven insights pave the way for stakeholders to make executive decisions based off of actionable analysis.</span>"
   ]
  },
  {
   "cell_type": "markdown",
   "id": "e5c4a4d4",
   "metadata": {},
   "source": [
    "# <span style=\"color:blue\">Project Description:</span>\n"
   ]
  },
  {
   "cell_type": "markdown",
   "id": "4308a90f",
   "metadata": {},
   "source": [
    "### <span style=\"color:orange\">The purpose of this project is to look at all of the massive amounts of data and see if we can garner greneral trends that may prove useful to the mahor airline carrier stakeholders. We suspected that there is a yearly pattern that holds and dictates delays given the four seasons in a year but it would be nice to show that there is a repeatable trend. Additionally, we are wondering if these results will be different by major airlines as they often own different hubs in the transportation network. Different airports have diffenent airlines operating out of them as main hubs.</span>"
   ]
  },
  {
   "cell_type": "markdown",
   "id": "798bfaf6",
   "metadata": {},
   "source": [
    "# <span style=\"color:blue\">Project Planning:</span>\n"
   ]
  },
  {
   "cell_type": "markdown",
   "id": "fe3e147b",
   "metadata": {},
   "source": [
    "### <span style=\"color:orange\">The main goal of the project is to explore the data presented and see what we can discover. Since there is a verbouse aount of data ton observe we want to cut it down into a manageable set of features that I could use to characterize delays. We are relying on team member and Jr. Data Scientist Alfred W. S. Pirovits Jr. domain knowledge as a holder of a Commercial Pilot's License to choose initial features as appropriate. After doing this, we selected reputable airlines such as United Airlines,American Airlines, Delta and South West and focused on on Top 15 out of 37 Class B hubs.</span>"
   ]
  },
  {
   "cell_type": "markdown",
   "id": "0269b612",
   "metadata": {},
   "source": [
    "# <span style=\"color:blue\">Intial Questions:</span>\n"
   ]
  },
  {
   "cell_type": "markdown",
   "id": "ce24f722",
   "metadata": {},
   "source": [
    "### <span style=\"color:orange\">Do flight delays exhibit a predictable seasonal pattern?\n",
    "### <span style=\"color:orange\">Is the seasonal variation in delays different for major airlines given their distinct hubs?</span>\n",
    "### <span style=\"color:orange\"> Is the total delay a viable aggregation of the individual delay types?</span>\n",
    "### <span style=\"color:orange\">Does the expected delay based on seasonal trends align with actual delay data?</span>"
   ]
  },
  {
   "cell_type": "markdown",
   "id": "a7796475",
   "metadata": {},
   "source": [
    "# <span style=\"color:blue\">Data Dictionary</span>\n"
   ]
  },
  {
   "cell_type": "markdown",
   "id": "4b81f07c",
   "metadata": {},
   "source": [
    "<table>\n",
    "    <thead>\n",
    "        <tr>\n",
    "            <th style=\"color: blue;\">Attribute</th>\n",
    "            <th style=\"color: blue;\">Definition</th>\n",
    "            <th style=\"color: blue;\">Data Type</th>\n",
    "        </tr>\n",
    "    </thead>\n",
    "    <tbody>\n",
    "        <tr>\n",
    "            <td style=\"color: blue;\">FL_DATE</td>\n",
    "            <td style=\"color: orange;\">The date of the flight in question</td>\n",
    "            <td style=\"color: orange;\">datetime64[ns]</td>\n",
    "        </tr>\n",
    "        <tr>\n",
    "            <td style=\"color: blue;\">OP_CARRIER</td>\n",
    "            <td style=\"color: orange;\">Two letter IATA carrier code for the airline in question</td>\n",
    "            <td style=\"color: orange;\">object</td>\n",
    "        </tr>\n",
    "        <tr>\n",
    "            <td style=\"color: blue;\">OP_CARRIER_FL_NUM</td>\n",
    "            <td style=\"color: orange;\">Flight number associated with the airline</td>\n",
    "            <td style=\"color: orange;\">int64</td>\n",
    "        </tr>\n",
    "        <tr>\n",
    "            <td style=\"color: blue;\">ORIGIN</td>\n",
    "            <td style=\"color: orange;\">Origin airport for the flight</td>\n",
    "            <td style=\"color: orange;\">object</td>\n",
    "        </tr>\n",
    "        <tr>\n",
    "            <td style=\"color: blue;\">DEST</td>\n",
    "            <td style=\"color: orange;\">Destination airport for the flight</td>\n",
    "            <td style=\"color: orange;\">object</td>\n",
    "        </tr>\n",
    "        <tr>\n",
    "            <td style=\"color: blue;\">CARRIER_DELAY</td>\n",
    "            <td style=\"color: orange;\">Delay caused by the carrier in minutes</td>\n",
    "            <td style=\"color: orange;\">float64</td>\n",
    "        </tr>\n",
    "        <tr>\n",
    "            <td style=\"color: blue;\">WEATHER_DELAY</td>\n",
    "            <td style=\"color: orange;\">Delay caused due to weather conditions in minutes</td>\n",
    "            <td style=\"color: orange;\">float64</td>\n",
    "        </tr>\n",
    "        <tr>\n",
    "            <td style=\"color: blue;\">NAS_DELAY</td>\n",
    "            <td style=\"color: orange;\">NAS (national airspace system) delay caused in minutes</td>\n",
    "            <td style=\"color: orange;\">float64</td>\n",
    "        </tr>\n",
    "        <tr>\n",
    "            <td style=\"color: blue;\">SECURITY_DELAY</td>\n",
    "            <td style=\"color: orange;\">Delay caused by security problems in minutes</td>\n",
    "            <td style=\"color: orange;\">float64</td>\n",
    "        </tr>\n",
    "        <tr>\n",
    "            <td style=\"color: blue;\">LATE_AIRCRAFT_DELAY</td>\n",
    "            <td style=\"color: orange;\">Delay caused by aircraft coming in late from a previous flight in minutes</td>\n",
    "            <td style=\"color: orange;\">float64</td>\n",
    "        </tr>\n",
    "        <tr>\n",
    "            <td style=\"color: blue;\">row_sums</td>\n",
    "            <td style=\"color: orange;\">(Assumed definition: Sum of certain row values)</td>\n",
    "            <td style=\"color: orange;\">float64</td>\n",
    "        </tr>\n",
    "        <tr>\n",
    "            <td style=\"color: blue;\">total_delay</td>\n",
    "            <td style=\"color: orange;\">The total of all the delay columns created during feature engineering in minutes</td>\n",
    "            <td style=\"color: orange;\">float64</td>\n",
    "        </tr>\n",
    "        <tr>\n",
    "            <td style=\"color: blue;\">average_delay</td>\n",
    "            <td style=\"color: orange;\">Average of the total delay column resampled by duration in minutes</td>\n",
    "            <td style=\"color: orange;\">float64</td>\n",
    "        </tr>\n",
    "    </tbody>\n",
    "</table>\n",
    "\n"
   ]
  },
  {
   "cell_type": "markdown",
   "id": "42785955",
   "metadata": {},
   "source": [
    "### <span style=\"color:blue\">Target: </span> <span style=\"color:orange\">Delays</span>\n"
   ]
  },
  {
   "cell_type": "markdown",
   "id": "d6138f91",
   "metadata": {},
   "source": [
    "# <span style=\"color:blue\">Imports </span>\n"
   ]
  },
  {
   "cell_type": "code",
   "execution_count": 1,
   "id": "e0121ff7",
   "metadata": {},
   "outputs": [],
   "source": [
    "# Importing the necessary libraries to run the code\n",
    "import pandas as pd\n",
    "\n",
    "# Data visualization\n",
    "import seaborn as sns\n",
    "import matplotlib.pyplot as plt\n",
    "import matplotlib.image as image\n",
    "\n",
    "# Statistical and mathematical tools\n",
    "import scipy.stats as stats\n",
    "from math import sqrt\n",
    "import statsmodels.api as sm\n",
    "from statsmodels.tsa.api import Holt, ExponentialSmoothing\n",
    "\n",
    "# Custom modules\n",
    "import wrangle as w\n",
    "import explore as e\n",
    "import model as m\n",
    "\n",
    "# Configure warning behavior\n",
    "import warnings\n",
    "warnings.filterwarnings(\"ignore\")\n"
   ]
  },
  {
   "cell_type": "markdown",
   "id": "criminal-glory",
   "metadata": {},
   "source": [
    "# <span style=\"color:blue\">Acquire </span>\n",
    "\n",
    "\n",
    "### <span style=\"color:orange\">*Aquire data from https://www.kaggle.com/datasets/sherrytp/airline-delay-analysis</span>\n",
    "### <span style=\"color:orange\">* Data set consisted of 10 csv files</span>\n",
    "### <span style=\"color:orange\">* Octber 2009 and July 2011 are missing the entire months of data.</span>\n",
    "###  <span style=\"color:orange\">* Each observation represent an average delay for that day.</span>\n",
    "### <span style=\"color:orange\">* We are measuring the average delays for each day for the last ten years</span>\n",
    "\n",
    "# <span style=\"color:blue\">Data Type Summary </span>\n",
    "### <span style=\"color:orange\">* 1 integer</span>\n",
    "###  <span style=\"color:orange\">* 3 object</span>\n",
    "### <span style=\"color:orange\">* 6 float</span>\n",
    "### <span style=\"color:orange\">* 1 datetime value</span>"
   ]
  },
  {
   "cell_type": "markdown",
   "id": "impossible-bible",
   "metadata": {},
   "source": [
    "# <span style=\"color:blue\">Prepare </span>\n",
    "\n",
    "\n",
    "### <span style=\"color:orange\">* Checked for nulls in the data (there were none)</span>\n",
    "### <span style=\"color:orange\">* Checked fi]or duplicates (there were none)</span>\n",
    "### <span style=\"color:orange\">* Filter flight data to only rows with delays.</span>\n",
    "### <span style=\"color:orange\">*Filter the data to to four airlines: Delta, American, Southwest, and United Airlines.</span>\n",
    "### <span style=\"color:orange\">*Filter the data to include only the top 15 Class B Airlines.</span>\n",
    "### <span style=\"color:orange\">*Split data into train, validate and test.</span>\n",
    "### <span style=\"color:orange\">*Outliers have not been removed for this iteration of the project.</span>"
   ]
  },
  {
   "cell_type": "code",
   "execution_count": 2,
   "id": "186b2dfe",
   "metadata": {},
   "outputs": [],
   "source": [
    "# used my wrangle function that acquires, preps and cleans the data\n",
    "flights = w.pull_airline_data('WN')\n",
    "df = w.clean_flight_data_for_average_daily_delay(flights)\n",
    "\n",
    "# splits data train, validate, test\n",
    "train, validate, test = m.train_test_split(df, 'd')\n",
    "train_fl, validate_fl, test_fl = m.train_fl_test_fl_split(flights, '2W')"
   ]
  },
  {
   "cell_type": "markdown",
   "id": "0d9f6680",
   "metadata": {},
   "source": [
    "# <span style=\"color:blue\">Data At a Glance</span>\n"
   ]
  },
  {
   "cell_type": "code",
   "execution_count": 3,
   "id": "97bd7328",
   "metadata": {},
   "outputs": [
    {
     "data": {
      "text/html": [
       "<div>\n",
       "<style scoped>\n",
       "    .dataframe tbody tr th:only-of-type {\n",
       "        vertical-align: middle;\n",
       "    }\n",
       "\n",
       "    .dataframe tbody tr th {\n",
       "        vertical-align: top;\n",
       "    }\n",
       "\n",
       "    .dataframe thead th {\n",
       "        text-align: right;\n",
       "    }\n",
       "</style>\n",
       "<table border=\"1\" class=\"dataframe\">\n",
       "  <thead>\n",
       "    <tr style=\"text-align: right;\">\n",
       "      <th></th>\n",
       "      <th>OP_CARRIER</th>\n",
       "      <th>OP_CARRIER_FL_NUM</th>\n",
       "      <th>ORIGIN</th>\n",
       "      <th>DEST</th>\n",
       "      <th>CARRIER_DELAY</th>\n",
       "      <th>WEATHER_DELAY</th>\n",
       "      <th>NAS_DELAY</th>\n",
       "      <th>SECURITY_DELAY</th>\n",
       "      <th>LATE_AIRCRAFT_DELAY</th>\n",
       "      <th>row_sums</th>\n",
       "    </tr>\n",
       "    <tr>\n",
       "      <th>FL_DATE</th>\n",
       "      <th></th>\n",
       "      <th></th>\n",
       "      <th></th>\n",
       "      <th></th>\n",
       "      <th></th>\n",
       "      <th></th>\n",
       "      <th></th>\n",
       "      <th></th>\n",
       "      <th></th>\n",
       "      <th></th>\n",
       "    </tr>\n",
       "  </thead>\n",
       "  <tbody>\n",
       "    <tr>\n",
       "      <th>2009-01-01</th>\n",
       "      <td>WN</td>\n",
       "      <td>82</td>\n",
       "      <td>DEN</td>\n",
       "      <td>AMA</td>\n",
       "      <td>1.0</td>\n",
       "      <td>0.0</td>\n",
       "      <td>0.0</td>\n",
       "      <td>0.0</td>\n",
       "      <td>105.0</td>\n",
       "      <td>106.0</td>\n",
       "    </tr>\n",
       "    <tr>\n",
       "      <th>2009-01-01</th>\n",
       "      <td>WN</td>\n",
       "      <td>1023</td>\n",
       "      <td>DEN</td>\n",
       "      <td>AUS</td>\n",
       "      <td>16.0</td>\n",
       "      <td>0.0</td>\n",
       "      <td>0.0</td>\n",
       "      <td>0.0</td>\n",
       "      <td>0.0</td>\n",
       "      <td>16.0</td>\n",
       "    </tr>\n",
       "    <tr>\n",
       "      <th>2009-01-01</th>\n",
       "      <td>WN</td>\n",
       "      <td>2494</td>\n",
       "      <td>DEN</td>\n",
       "      <td>AUS</td>\n",
       "      <td>34.0</td>\n",
       "      <td>0.0</td>\n",
       "      <td>0.0</td>\n",
       "      <td>0.0</td>\n",
       "      <td>0.0</td>\n",
       "      <td>34.0</td>\n",
       "    </tr>\n",
       "  </tbody>\n",
       "</table>\n",
       "</div>"
      ],
      "text/plain": [
       "           OP_CARRIER  OP_CARRIER_FL_NUM ORIGIN DEST  CARRIER_DELAY  \\\n",
       "FL_DATE                                                               \n",
       "2009-01-01         WN                 82    DEN  AMA            1.0   \n",
       "2009-01-01         WN               1023    DEN  AUS           16.0   \n",
       "2009-01-01         WN               2494    DEN  AUS           34.0   \n",
       "\n",
       "            WEATHER_DELAY  NAS_DELAY  SECURITY_DELAY  LATE_AIRCRAFT_DELAY  \\\n",
       "FL_DATE                                                                     \n",
       "2009-01-01            0.0        0.0             0.0                105.0   \n",
       "2009-01-01            0.0        0.0             0.0                  0.0   \n",
       "2009-01-01            0.0        0.0             0.0                  0.0   \n",
       "\n",
       "            row_sums  \n",
       "FL_DATE               \n",
       "2009-01-01     106.0  \n",
       "2009-01-01      16.0  \n",
       "2009-01-01      34.0  "
      ]
     },
     "execution_count": 3,
     "metadata": {},
     "output_type": "execute_result"
    }
   ],
   "source": [
    "# display the first 3 rows of the train flight dataframe to get an overview of its structure and data.\n",
    "\n",
    "train_fl.head(3)"
   ]
  },
  {
   "cell_type": "code",
   "execution_count": 4,
   "id": "24ea5715",
   "metadata": {},
   "outputs": [
    {
     "data": {
      "text/html": [
       "<div>\n",
       "<style scoped>\n",
       "    .dataframe tbody tr th:only-of-type {\n",
       "        vertical-align: middle;\n",
       "    }\n",
       "\n",
       "    .dataframe tbody tr th {\n",
       "        vertical-align: top;\n",
       "    }\n",
       "\n",
       "    .dataframe thead th {\n",
       "        text-align: right;\n",
       "    }\n",
       "</style>\n",
       "<table border=\"1\" class=\"dataframe\">\n",
       "  <thead>\n",
       "    <tr style=\"text-align: right;\">\n",
       "      <th></th>\n",
       "      <th>average_delay</th>\n",
       "    </tr>\n",
       "    <tr>\n",
       "      <th>FL_DATE</th>\n",
       "      <th></th>\n",
       "    </tr>\n",
       "  </thead>\n",
       "  <tbody>\n",
       "    <tr>\n",
       "      <th>2009-01-01</th>\n",
       "      <td>38.719512</td>\n",
       "    </tr>\n",
       "    <tr>\n",
       "      <th>2009-01-02</th>\n",
       "      <td>54.142857</td>\n",
       "    </tr>\n",
       "    <tr>\n",
       "      <th>2009-01-03</th>\n",
       "      <td>34.230159</td>\n",
       "    </tr>\n",
       "  </tbody>\n",
       "</table>\n",
       "</div>"
      ],
      "text/plain": [
       "            average_delay\n",
       "FL_DATE                  \n",
       "2009-01-01      38.719512\n",
       "2009-01-02      54.142857\n",
       "2009-01-03      34.230159"
      ]
     },
     "execution_count": 4,
     "metadata": {},
     "output_type": "execute_result"
    }
   ],
   "source": [
    "train.head(3)"
   ]
  },
  {
   "cell_type": "code",
   "execution_count": 5,
   "id": "576a9acb",
   "metadata": {},
   "outputs": [
    {
     "data": {
      "text/html": [
       "<div>\n",
       "<style scoped>\n",
       "    .dataframe tbody tr th:only-of-type {\n",
       "        vertical-align: middle;\n",
       "    }\n",
       "\n",
       "    .dataframe tbody tr th {\n",
       "        vertical-align: top;\n",
       "    }\n",
       "\n",
       "    .dataframe thead th {\n",
       "        text-align: right;\n",
       "    }\n",
       "</style>\n",
       "<table border=\"1\" class=\"dataframe\">\n",
       "  <thead>\n",
       "    <tr style=\"text-align: right;\">\n",
       "      <th></th>\n",
       "      <th>average_delay</th>\n",
       "    </tr>\n",
       "  </thead>\n",
       "  <tbody>\n",
       "    <tr>\n",
       "      <th>count</th>\n",
       "      <td>2922.000000</td>\n",
       "    </tr>\n",
       "    <tr>\n",
       "      <th>mean</th>\n",
       "      <td>46.517230</td>\n",
       "    </tr>\n",
       "    <tr>\n",
       "      <th>std</th>\n",
       "      <td>12.313389</td>\n",
       "    </tr>\n",
       "    <tr>\n",
       "      <th>min</th>\n",
       "      <td>21.137931</td>\n",
       "    </tr>\n",
       "    <tr>\n",
       "      <th>25%</th>\n",
       "      <td>38.056010</td>\n",
       "    </tr>\n",
       "    <tr>\n",
       "      <th>50%</th>\n",
       "      <td>43.876663</td>\n",
       "    </tr>\n",
       "    <tr>\n",
       "      <th>75%</th>\n",
       "      <td>52.468103</td>\n",
       "    </tr>\n",
       "    <tr>\n",
       "      <th>max</th>\n",
       "      <td>129.580000</td>\n",
       "    </tr>\n",
       "  </tbody>\n",
       "</table>\n",
       "</div>"
      ],
      "text/plain": [
       "       average_delay\n",
       "count    2922.000000\n",
       "mean       46.517230\n",
       "std        12.313389\n",
       "min        21.137931\n",
       "25%        38.056010\n",
       "50%        43.876663\n",
       "75%        52.468103\n",
       "max       129.580000"
      ]
     },
     "execution_count": 5,
     "metadata": {},
     "output_type": "execute_result"
    }
   ],
   "source": [
    "# display a snapshot of summary statistics\n",
    "train.describe()\n"
   ]
  },
  {
   "cell_type": "markdown",
   "id": "2f5a5b2a",
   "metadata": {},
   "source": [
    "# <span style=\"color:blue\">Explore</span>\n",
    "\n",
    "### <span style=\"color:orange\">* Airports with high delays: invest in infrastructure mprovements to reduce delays</span>\n",
    "### <span style=\"color:orange\">* Monthly and fortnightly autocorrelation: delays persist.</span>\n",
    "### <span style=\"color:orange\">* The average of the average delays is 57.33 minutes.</span>\n",
    "\n",
    "### <span style=\"color:orange\">* Monthly delay differences: factors vary.</span>\n",
    "### <span style=\"color:orange\">* Passengers may need to be aware of the average delays at different airports when planning their travel.</span>\n",
    "### <span style=\"color:orange\">*There is a positive autocorrelation between the current month and the proceeding month, suggesting that factors causing delays in one month are also causing delays in the next month.</span>\n",
    "### <span style=\"color:orange\">*The autocorrelation between delays is not very strong, even at a lag of 1, suggesting that there are other factors that are also contributing to delays.</span>\n"
   ]
  },
  {
   "cell_type": "markdown",
   "id": "91b4f05c",
   "metadata": {},
   "source": [
    "### <span style=\"color:blue\">Q1.Is the mean at each airport equal or is there something causing  a difference?</span>\n",
    "\n"
   ]
  },
  {
   "cell_type": "code",
   "execution_count": 6,
   "id": "70abb517",
   "metadata": {},
   "outputs": [
    {
     "data": {
      "image/png": "[encoded data removed]",
      "text/plain": [
       "<Figure size 1500x900 with 1 Axes>"
      ]
     },
     "metadata": {},
     "output_type": "display_data"
    }
   ],
   "source": [
    "# calculate the average values for each airport using the flights data and train the model with the train_fl dataset.\n",
    "\n",
    "m.means_by_airport(flights, train_fl)"
   ]
  },
  {
   "cell_type": "markdown",
   "id": "da54cc6b",
   "metadata": {},
   "source": [
    "### <span style=\"color:blue\">Takeaways:</span>\n"
   ]
  },
  {
   "cell_type": "markdown",
   "id": "c2a87cae",
   "metadata": {},
   "source": [
    "<span style=\"color:orange\">**The graph shows the average delay by airport. The average delay varies significantly by airport. Some airports, such as ATL and ORD, have much higher average delays than others, such as DEN and DFW.**</span>\n",
    "<span style=\"color:orange\">**This suggests that there are factors that are causing delays at some airports but not others. These factors could include airport infrastructure, weather conditions, or traffic congestion.**</span>\n",
    "\n",
    "\n",
    "<span style=\"color:orange\">* **Airports with higher average delays may need to invest in infrastructure improvements to reduce delays**</span>\n",
    "\n",
    "<span style=\"color:orange\">* **Airports with higher average delays may need to develop better strategies for managing weather conditions and traffic congestion.**</span>\n",
    "\n",
    "<span style=\"color:orange\">* **Airlines may need to adjust their schedules to avoid flying into airports with higher average delays.**</span>\n",
    "\n",
    "<span style=\"color:orange\">* **Passengers may need to be aware of the average delays at different airports when planning their travel.**</span>\n",
    "\n",
    "<span style=\"color:orange\">**Overall, the graph suggests that there are significant differences in the average delay by airport. This suggests that there are factors that are causing delays at some airports but not others. These factors could be addressed to reduce delays for passengers and airlines.**</span>"
   ]
  },
  {
   "cell_type": "markdown",
   "id": "5e605383",
   "metadata": {},
   "source": [
    "# <span style=\"color:blue\">Statistical Testing</span>\n",
    "## <span style=\"color:orange\"> ANOVA  **F<sub>p</sub>**</span>\n",
    "\n",
    "## <span style=\"color:blue\">Hypothesis:</span>\n",
    "\n",
    "### <span style=\"color:blue\">**$H_{0}$:**</span><span style=\"color:orange\"> The average delay in each airport are all the same.</span> \n",
    "\n",
    "### <span style=\"color:blue\">**$H_{a}$:**</span><span style=\"color:orange\"> The average delay in each airport are not all the same</span> \n",
    "\n"
   ]
  },
  {
   "cell_type": "code",
   "execution_count": 7,
   "id": "c61d91d2",
   "metadata": {
    "scrolled": true
   },
   "outputs": [
    {
     "ename": "KeyError",
     "evalue": "'DFW_mean'",
     "output_type": "error",
     "traceback": [
      "\u001b[0;31m---------------------------------------------------------------------------\u001b[0m",
      "\u001b[0;31mKeyError\u001b[0m                                  Traceback (most recent call last)",
      "Cell \u001b[0;32mIn[7], line 2\u001b[0m\n\u001b[1;32m      1\u001b[0m \u001b[38;5;66;03m# perform an ANOVA test to check if there are significant differences in means among the various airports in the flights dataset.\u001b[39;00m\n\u001b[0;32m----> 2\u001b[0m f, p \u001b[38;5;241m=\u001b[39m \u001b[43mm\u001b[49m\u001b[38;5;241;43m.\u001b[39;49m\u001b[43manova_airport_test\u001b[49m\u001b[43m(\u001b[49m\u001b[43mflights\u001b[49m\u001b[43m)\u001b[49m\n\u001b[1;32m      3\u001b[0m \u001b[38;5;66;03m# 'f' is the F-statistic and 'p' is the p-value from the test.\u001b[39;00m\n\u001b[1;32m      4\u001b[0m f, p\n",
      "File \u001b[0;32m~/codeup-data-science/CLOUD-NINE-FLIGHT-SOLUTIONS/model.py:371\u001b[0m, in \u001b[0;36manova_airport_test\u001b[0;34m(flights)\u001b[0m\n\u001b[1;32m    369\u001b[0m PHX_mean \u001b[38;5;241m=\u001b[39m airport_dict[\u001b[38;5;124m'\u001b[39m\u001b[38;5;124mPHX_mean\u001b[39m\u001b[38;5;124m'\u001b[39m]\n\u001b[1;32m    370\u001b[0m PHL_mean \u001b[38;5;241m=\u001b[39m airport_dict[\u001b[38;5;124m'\u001b[39m\u001b[38;5;124mPHL_mean\u001b[39m\u001b[38;5;124m'\u001b[39m]\n\u001b[0;32m--> 371\u001b[0m DFW_mean \u001b[38;5;241m=\u001b[39m \u001b[43mairport_dict\u001b[49m\u001b[43m[\u001b[49m\u001b[38;5;124;43m'\u001b[39;49m\u001b[38;5;124;43mDFW_mean\u001b[39;49m\u001b[38;5;124;43m'\u001b[39;49m\u001b[43m]\u001b[49m\n\u001b[1;32m    372\u001b[0m MIA_mean \u001b[38;5;241m=\u001b[39m airport_dict[\u001b[38;5;124m'\u001b[39m\u001b[38;5;124mMIA_mean\u001b[39m\u001b[38;5;124m'\u001b[39m]\n\u001b[1;32m    373\u001b[0m ATL_mean \u001b[38;5;241m=\u001b[39m airport_dict[\u001b[38;5;124m'\u001b[39m\u001b[38;5;124mATL_mean\u001b[39m\u001b[38;5;124m'\u001b[39m]\n",
      "\u001b[0;31mKeyError\u001b[0m: 'DFW_mean'"
     ]
    }
   ],
   "source": [
    "# perform an ANOVA test to check if there are significant differences in means among the various airports in the flights dataset.\n",
    "f, p = m.anova_airport_test(flights)\n",
    "# 'f' is the F-statistic and 'p' is the p-value from the test.\n",
    "f, p"
   ]
  },
  {
   "cell_type": "markdown",
   "id": "6a9ed9e8",
   "metadata": {},
   "source": [
    "### <span style=\"color:orange\"> We can reject the null hypothesis.\n",
    "</span>"
   ]
  },
  {
   "cell_type": "markdown",
   "id": "cb44470c",
   "metadata": {},
   "source": [
    "### <span style=\"color:blue\"> Q2.Are current months correlated with the proceeding month?</span>"
   ]
  },
  {
   "cell_type": "code",
   "execution_count": null,
   "id": "2914cbe6",
   "metadata": {
    "scrolled": false
   },
   "outputs": [],
   "source": [
    "# plot the lag plot for the 'train' dataset with a lag of 1 unit for the column 'm' to identify any autocorrelation.\n",
    "m.plot_best_lag_plot(train, 'm', 1)"
   ]
  },
  {
   "cell_type": "markdown",
   "id": "36321da9",
   "metadata": {},
   "source": [
    "### <span style=\"color:blue\">Takeaways:</span>"
   ]
  },
  {
   "cell_type": "markdown",
   "id": "74ae1361",
   "metadata": {},
   "source": [
    "<span style=\"color:orange\">**The graph shows that there is a positive autocorrelation between the current month and the proceeding month. This means that delays in the current month are correlated with delays in the proceeding month.**</span>\n",
    "<span style=\"color:orange\">**This suggests that there are factors that are causing delays in one month that are also causing delays in the next month. These factors could include weather conditions, airport infrastructure, or airline staffing.**</span>\n",
    "\n",
    "\n",
    "<span style=\"color:orange\">* **Airlines may need to adjust their schedules to account for autocorrelation in delays.**</span>\n",
    "\n",
    "<span style=\"color:orange\">* **Airports may need to develop strategies to mitigate the effects of autocorrelation on delays.**</span>\n",
    "\n",
    "<span style=\"color:orange\">* **Regulators may need to consider autocorrelation in delays when developing policies to reduce delays.**</span>\n",
    "\n",
    "<span style=\"color:orange\">* **Passengers may need to be aware of the average delays at different airports when planning their travel.**</span>\n",
    "\n",
    "<span style=\"color:orange\">**Overall, the finding of autocorrelation in delays suggests that there are factors that are causing delays to persist from one month to the next. This is an important finding that can be used to develop strategies to reduce delays.**</span>"
   ]
  },
  {
   "cell_type": "markdown",
   "id": "8abda1f0",
   "metadata": {},
   "source": [
    "# <span style=\"color:blue\">Statistical Testing</span>\n",
    "## <span style=\"color:orange\"> Pearsons **R<sub>p</sub>**</span>\n",
    "\n",
    "## <span style=\"color:blue\">Hypothesis:</span>\n",
    "\n",
    "### <span style=\"color:blue\">**$H_{0}$:**</span><span style=\"color:orange\"> There is no linear correlation between monthly delay and monthly lag dela.</span> \n",
    "\n",
    "### <span style=\"color:blue\">**$H_{a}$:**</span><span style=\"color:orange\"> There is a linear correlation between monthly delay and monthly lag delay.</span> \n",
    "\n",
    "\n"
   ]
  },
  {
   "cell_type": "code",
   "execution_count": null,
   "id": "d1e822e3",
   "metadata": {},
   "outputs": [],
   "source": [
    "# set the significance level for statistical testing.\n",
    "α = 0.05\n",
    "\n",
    "# calculate the Pearson correlation coefficient (r) and its p-value between the 'm' column and another variable in the 'train' dataset.\n",
    "corr, p = m.pearsons_r_test(train, 'm')\n",
    "# 'corr' is the Pearson correlation coefficient and 'p' is the p-value for the test.\n",
    "corr, p"
   ]
  },
  {
   "cell_type": "markdown",
   "id": "46f4d9ee",
   "metadata": {},
   "source": [
    "## <span style=\"color:blue\">P-value less than alpha?</span>\n"
   ]
  },
  {
   "cell_type": "code",
   "execution_count": null,
   "id": "1dfd695a",
   "metadata": {},
   "outputs": [],
   "source": [
    "# check if the observed p-value is less than the significance level (α). If true, the result is statistically significant.\n",
    "p < α"
   ]
  },
  {
   "cell_type": "markdown",
   "id": "6083be2f",
   "metadata": {},
   "source": [
    "### <span style=\"color:orange\"> We can reject the null hypothesis.\n",
    "</span>"
   ]
  },
  {
   "cell_type": "markdown",
   "id": "82dd971a",
   "metadata": {},
   "source": [
    "### <span style=\"color:blue\"> Q3. Is the mean of each month equal or is there something causing a difference?</span> "
   ]
  },
  {
   "cell_type": "code",
   "execution_count": null,
   "id": "f78e93ad",
   "metadata": {
    "scrolled": false
   },
   "outputs": [],
   "source": [
    "# plot the monthly delays using the train_fl dataset using the module m's function.\n",
    "m.plot_month_delay(train_fl)"
   ]
  },
  {
   "cell_type": "markdown",
   "id": "ff5a6770",
   "metadata": {},
   "source": [
    "### <span style=\"color:blue\">Takeaways:</span>"
   ]
  },
  {
   "cell_type": "markdown",
   "id": "ce8f0f69",
   "metadata": {},
   "source": [
    "<span style=\"color:orange\">**The graph shows that the average delay varies significantly by month. This suggests that there are factors that are causing delays in some months but not others. These factors could include weather conditions, holiday travel, or peak season travel.Summertime has the highest averages for the year, the aveage delay dips during the colder months**</span>\n",
    "\n",
    "\n",
    "<span style=\"color:orange\">* **Some months, such as December and January, have much higher average delays than others.December and January: These months are typically associated with cold weather and snow, which can lead to delays due to icy runways and poor visibility.Holiday travel: The Thanksgiving and Christmas holidays are typically associated with increased air travel, which can lead to delays due to congestion at airports and in the air. July and August accout for Peak season travel: The summer months are typically associated with peak season travel, which can lead to delays due to congestion at airports and in the air.**</span>\n",
    "\n",
    "<span style=\"color:orange\">* **Airlines and airports may need to take steps to mitigate the effects of seasonal delays. For example, airlines may need to adjust their schedules to avoid flying during peak travel times, and airports may need to implement strategies to manage traffic congestion during peak season.**</span>\n",
    "\n",
    "<span style=\"color:orange\">* **Regulators may also need to consider seasonal delays when developing policies to reduce delays. For example, regulators may need to require airlines to have more contingency plans in place during peak travel times.**</span>\n",
    "\n",
    "\n",
    "<span style=\"color:orange\">**Overall, the graph suggests that there are significant differences in the average delay by month. This suggests that there are factors that are causing delays in some months but not others. These factors could be addressed to reduce delays for passengers and airlines.**</span>"
   ]
  },
  {
   "cell_type": "markdown",
   "id": "2d2aafcd",
   "metadata": {},
   "source": [
    "# <span style=\"color:blue\">Statistical Testing</span>\n",
    "## <span style=\"color:orange\"> ANOVA  **F<sub>p</sub>**</span>\n",
    "\n",
    "## <span style=\"color:blue\">Hypothesis:</span>\n",
    "\n",
    "### <span style=\"color:blue\">**$H_{0}$:**</span><span style=\"color:orange\"> The average delay in each airport are all the same.</span> \n",
    "\n",
    "### <span style=\"color:blue\">**$H_{a}$:**</span><span style=\"color:orange\"> The average delay in each airport are not all the same</span> "
   ]
  },
  {
   "cell_type": "code",
   "execution_count": null,
   "id": "506c3439",
   "metadata": {
    "scrolled": true
   },
   "outputs": [],
   "source": [
    "# getting theire data\n",
    "f, p = m.anova_month_test(train)\n",
    "\n",
    "f,p\n"
   ]
  },
  {
   "cell_type": "markdown",
   "id": "15d0671a",
   "metadata": {},
   "source": [
    "### <span style=\"color:orange\"> We can reject the null hypothesis.\n",
    "</span>"
   ]
  },
  {
   "cell_type": "markdown",
   "id": "immediate-mirror",
   "metadata": {},
   "source": [
    "### <span style=\"color:blue\"> Q4.Are current fort nights correlated with the proceeding fort nights?</span> "
   ]
  },
  {
   "cell_type": "code",
   "execution_count": null,
   "id": "0e09a9cf",
   "metadata": {},
   "outputs": [],
   "source": [
    "# plot the best lag plot for the 'train' data with a frequency of '2 weeks' and a lag of 1.\n",
    "\n",
    "m.plot_best_lag_plot(train, '2w', 1)"
   ]
  },
  {
   "cell_type": "markdown",
   "id": "931ac243",
   "metadata": {},
   "source": [
    "### <span style=\"color:blue\">Takeaways:</span>"
   ]
  },
  {
   "cell_type": "markdown",
   "id": "3bb8187a",
   "metadata": {},
   "source": [
    "<span style=\"color:orange\">**The graph shows there is a positive autocorrelation between the current fortnight and the proceeding fortnight. This means that delays in the current fortnight are correlated with delays in the proceeding fortnight.The autocorrelation is strongest at a lag of 1, which means that the correlation between current and proceeding fortnights is stronger than the correlation between current and previous fortnights or current and future fortnights.This suggests that there are factors that are causing delays in one fortnight that are also causing delays in the next fortnight. These factors could include weather conditions, airport infrastructure, or airline staffing.**</span>\n",
    "\n",
    "<span style=\"color:orange\">* **Airlines may need to adjust their schedules to account for autocorrelation in delays.**</span>\n",
    "\n",
    "<span style=\"color:orange\">* **Airports may need to develop strategies to mitigate the effects of autocorrelation on delays.**</span>\n",
    "\n",
    "\n",
    "<span style=\"color:orange\">* **Regulators may need to consider autocorrelation in delays when developing policies to reduce delays.**</span>\n",
    "\n",
    "<span style=\"color:orange\">**Overall, the finding of autocorrelation in delays suggests that there are factors that are causing delays to persist from one fortnight to the next. This is an important finding that can be used to develop strategies to reduce delays.Additionally, the graph shows that the autocorrelation is not very strong, even at a lag of 1. This suggests that there are other factors that are also contributing to delays, and that autocorrelation is not the only factor that needs to be considered when developing strategies to reduce delays**</span>"
   ]
  },
  {
   "cell_type": "markdown",
   "id": "9b809aaf",
   "metadata": {},
   "source": [
    "# <span style=\"color:blue\">Statistical Testing</span>\n",
    "## <span style=\"color:orange\"> Pearsons **R<sub>p</sub>**</span>\n",
    "\n",
    "## <span style=\"color:blue\">Hypothesis:</span>\n",
    "\n",
    "### <span style=\"color:blue\">**$H_{0}$:**</span><span style=\"color:orange\"> There is no linear correlation between monthly delay and monthly lag delay.</span> \n",
    "\n",
    "### <span style=\"color:blue\">**$H_{a}$:**</span><span style=\"color:orange\"> There is a linear correlation between monthly delay and monthly lag delay.</span> "
   ]
  },
  {
   "cell_type": "code",
   "execution_count": null,
   "id": "09852381",
   "metadata": {},
   "outputs": [],
   "source": [
    "# perform Pearson's correlation test using the 'train' dataset for the '2w' variable.\n",
    "# 'corr' is the correlation coefficient and 'p' is the p-value indicating significance of the correlation.\n",
    "corr, p = m.pearsons_r_test(train, '2w')\n",
    "\n",
    "# display the correlation coefficient and p-value.\n",
    "corr, p"
   ]
  },
  {
   "cell_type": "code",
   "execution_count": null,
   "id": "16d1cd8d",
   "metadata": {},
   "outputs": [],
   "source": [
    "# using the 'wrangle' module, this line pulls airline data for the airline code 'WN' (Southwest Airlines) and stores it in the 'flights' variable.\n",
    "\n",
    "flights = w.pull_airline_data('WN')"
   ]
  },
  {
   "cell_type": "code",
   "execution_count": null,
   "id": "2c8ee34b",
   "metadata": {},
   "outputs": [],
   "source": [
    "flights"
   ]
  },
  {
   "cell_type": "markdown",
   "id": "b76ea351",
   "metadata": {},
   "source": [
    "## <span style=\"color:orange\">Clean dataset imputing 0 for nulls as they represent no delay and combining all delays into one column AND then averaging the delay by day</span>"
   ]
  },
  {
   "cell_type": "code",
   "execution_count": null,
   "id": "4f7084f6",
   "metadata": {},
   "outputs": [],
   "source": [
    "# clean the flight data using the 'clean_flight_data_for_average_daily_delay' function, then compute the average daily delay for each flight.\n",
    "flights_daily_mean = w.clean_flight_data_for_average_daily_delay(flights)\n",
    "# 'flights_daily_mean' contains the cleaned data with average daily delays for each flight.\n",
    "flights_daily_mean"
   ]
  },
  {
   "cell_type": "markdown",
   "id": "976dea8a",
   "metadata": {},
   "source": [
    "## <span style=\"color:orange\">Plot average by varying time intervals</span>"
   ]
  },
  {
   "cell_type": "code",
   "execution_count": null,
   "id": "1191b51c",
   "metadata": {},
   "outputs": [],
   "source": [
    "# plot the average values by interval using the daily mean data from the flights dataset.\n",
    "e.plot_average_by_interval(flights_daily_mean)"
   ]
  },
  {
   "cell_type": "code",
   "execution_count": null,
   "id": "4022a005",
   "metadata": {},
   "outputs": [],
   "source": [
    "# plot the best lag plot for the daily mean values of the flights data to identify any autocorrelation.\n",
    "e.plot_best_lag_plot(flights_daily_mean)"
   ]
  },
  {
   "cell_type": "markdown",
   "id": "b5102df8",
   "metadata": {},
   "source": [
    "## <span style=\"color:orange\">Split</span> "
   ]
  },
  {
   "cell_type": "code",
   "execution_count": null,
   "id": "17f2aae4",
   "metadata": {},
   "outputs": [],
   "source": [
    "# split the dataset into training, validation, and testing sets using a bi-weekly ('2W') frequency split defined in module 'm'.\n",
    "\n",
    "train, validate, test = m.train_test_split(flights_daily_mean, '2W')"
   ]
  },
  {
   "cell_type": "code",
   "execution_count": null,
   "id": "62cdf982",
   "metadata": {},
   "outputs": [],
   "source": [
    "# view dataset\n",
    "train"
   ]
  },
  {
   "cell_type": "code",
   "execution_count": null,
   "id": "2ace62c5",
   "metadata": {},
   "outputs": [],
   "source": [
    "# print the average delay value, rounded to two decimal places, from the 'train' dataset.\n",
    "print(f'The average of the average delays is {train.mean()[0]:.2f} minutes')"
   ]
  },
  {
   "cell_type": "markdown",
   "id": "a3dd8054",
   "metadata": {},
   "source": [
    "## <span style=\"color:orange\">Plot the split</span> "
   ]
  },
  {
   "cell_type": "code",
   "execution_count": null,
   "id": "aefe2bfd",
   "metadata": {},
   "outputs": [],
   "source": [
    "# visualize the data distribution across the training, validation, and test datasets using the graph_split function from module m.\n",
    "m.graph_split(train, validate, test)"
   ]
  },
  {
   "cell_type": "markdown",
   "id": "8bdf739e",
   "metadata": {},
   "source": [
    "## <span style=\"color:orange\">Seasonal Decomposition</span>  "
   ]
  },
  {
   "cell_type": "code",
   "execution_count": null,
   "id": "819cbbe2",
   "metadata": {},
   "outputs": [],
   "source": [
    "# decompose the 'train' time series data into its seasonal components and visualize it using a 2-week frequency.\n",
    "e.seasonal_decomposition_plot(train, '2W')"
   ]
  },
  {
   "cell_type": "markdown",
   "id": "4895de44",
   "metadata": {},
   "source": [
    "## <span style=\"color:orange\">Baselines</span>   "
   ]
  },
  {
   "cell_type": "code",
   "execution_count": null,
   "id": "790d974b",
   "metadata": {},
   "outputs": [],
   "source": [
    "# initializing a DataFrame 'eval_df' to store evaluation metrics for different models and target variables.\n",
    "eval_df = pd.DataFrame(columns=['model_type', 'target_var', 'rmse'])\n",
    "# initializing a DataFrame 'yhat_df' to store predicted average delay values.\n",
    "yhat_df = pd.DataFrame(columns=['average_delay'])"
   ]
  },
  {
   "cell_type": "markdown",
   "id": "486a210c",
   "metadata": {},
   "source": [
    "## <span style=\"color:orange\">Last Average</span>  "
   ]
  },
  {
   "cell_type": "code",
   "execution_count": null,
   "id": "cc7222d5",
   "metadata": {},
   "outputs": [],
   "source": [
    "# generate predictions using the \"last average\" baseline method on the training and validation datasets. \n",
    "# update the eval_df dataframe with the results and performance metrics.\n",
    "eval_df = m.last_average_baseline(train, validate, yhat_df, eval_df)\n",
    "# display the updated evaluation dataframe.\n",
    "eval_df\n",
    "\n"
   ]
  },
  {
   "cell_type": "markdown",
   "id": "a5c99bc0",
   "metadata": {},
   "source": [
    "## <span style=\"color:orange\">Total Average</span>  "
   ]
  },
  {
   "cell_type": "code",
   "execution_count": null,
   "id": "a74d2dea",
   "metadata": {},
   "outputs": [],
   "source": [
    "# compute the total average baseline for the train and validate datasets, \n",
    "# then append the results to the yhat_df dataframe and store the updated data in eval_df.\n",
    "\n",
    "eval_df = m.total_average_baseline(train, validate, yhat_df, eval_df)\n",
    "# display the updated eval_df dataframe.\n",
    "eval_df\n"
   ]
  },
  {
   "cell_type": "markdown",
   "id": "28e20bd2",
   "metadata": {},
   "source": [
    "## <span style=\"color:orange\">Rolling Average</span>  "
   ]
  },
  {
   "cell_type": "code",
   "execution_count": null,
   "id": "9c7855f4",
   "metadata": {},
   "outputs": [],
   "source": [
    "# calculate the rolling average baselines for the train and validate datasets, then update and return the eval_df with the results.\n",
    "eval_df = m.rolling_average_baselines(train, validate, yhat_df, eval_df)\n",
    "# display the updated evaluation dataframe.\n",
    "eval_df"
   ]
  },
  {
   "cell_type": "markdown",
   "id": "54712929",
   "metadata": {},
   "source": [
    "### <span style=\"color:orange\"> Baseline RMSE = 6.14 minutes</span>  "
   ]
  },
  {
   "cell_type": "markdown",
   "id": "cfc3c772",
   "metadata": {},
   "source": [
    "# <span style=\"color:blue\">Models</span>   \n",
    "\n",
    "\n",
    "### <span style=\"color:orange\">* Three models were evaluated on the average delay target variable: Holt's Linear Trend, Holt's Seasonal Trend, and Previous Cycle.</span>\n",
    "### <span style=\"color:orange\">* Holt's Seasonal Trend with Dampening had the lowest RMSE on the validation set (5.01 minutes).</span>\n",
    "### <span style=\"color:orange\">* Monthly delay differences: factors vary.</span>\n",
    "### <span style=\"color:orange\">* There is no evidence of overfitting, as the RMSE on the test set (5.14 minutes) is only slightly higher than the RMSE on the validation set.</span>\n",
    "### <span style=\"color:orange\">* The final model is Holt's Seasonal Trend with Dampening, which is able to predict average delay with an RMSE of 5.14 minutes.</span>\n",
    "### <span style=\"color:orange\">* The model can be used to predict future average delays with a high degree of accuracy.</span>\n",
    "### <span style=\"color:orange\">* The model can be used by airlines, airports, and regulators to make informed decisions about how to reduce delays.</span>\n",
    "### <span style=\"color:orange\">* The Holt's Seasonal Trend with Dampening model is able to capture the seasonal patterns in average delay.</span>\n",
    "### <span style=\"color:orange\">* The model is also able to learn from the data and adjust its predictions over time.</span>\n",
    "### <span style=\"color:orange\">* The model is relatively simple to implement and interpret, making it a good choice for practitioners.</span>\n",
    "\n",
    "\n"
   ]
  },
  {
   "cell_type": "code",
   "execution_count": null,
   "id": "62eae2f3",
   "metadata": {},
   "outputs": [],
   "source": [
    "# initialize an evaluation dataframe with columns for model type, target variable, and RMSE (Root Mean Squared Error).\n",
    "eval_df = pd.DataFrame(columns=['model_type', 'target_var', 'rmse'])\n",
    "# initialize a dataframe to store predicted values, specifically average delays.\n",
    "yhat_df = pd.DataFrame(columns=['average_delay'])"
   ]
  },
  {
   "cell_type": "markdown",
   "id": "a28cd194",
   "metadata": {},
   "source": [
    "## <span style=\"color:orange\">Holt's Linear Trend</span>   "
   ]
  },
  {
   "cell_type": "code",
   "execution_count": null,
   "id": "c8974e65",
   "metadata": {},
   "outputs": [],
   "source": [
    "# use the Holt's Linear method to forecast the train dataset and validate its predictions. \n",
    "# the resulting evaluations are added to the 'eval_df' dataframe.\n",
    "eval_df = m.holt_linear(train, validate, yhat_df, eval_df)\n",
    "# display the evaluation dataframe 'eval_df'.\n",
    "eval_df"
   ]
  },
  {
   "cell_type": "markdown",
   "id": "aca2554b",
   "metadata": {},
   "source": [
    "average_delay -- RMSE: 6\n"
   ]
  },
  {
   "cell_type": "markdown",
   "id": "51ff6a2f",
   "metadata": {},
   "source": [
    "## <span style=\"color:orange\">Holt's Seasonal Trend</span>   "
   ]
  },
  {
   "cell_type": "code",
   "execution_count": null,
   "id": "77910823",
   "metadata": {},
   "outputs": [],
   "source": [
    "# use the Holt's linear model to forecast average delay using training data, then evaluate its performance on the validation set.\n",
    "# the results are appended to eval_df for further assessment.\n",
    "eval_df = m.holts_average_delay(train, validate, yhat_df, eval_df)\n",
    "# display the updated evaluation dataframe with forecast metrics.\n",
    "eval_df"
   ]
  },
  {
   "cell_type": "markdown",
   "id": "a34303c3",
   "metadata": {},
   "source": [
    "## <span style=\"color:orange\">Previous Cycle</span>   "
   ]
  },
  {
   "cell_type": "code",
   "execution_count": null,
   "id": "1164a6fa",
   "metadata": {},
   "outputs": [],
   "source": [
    "# use the previous period's data from the train set to predict and evaluate the validate set. \n",
    "# update and return the evaluation metrics in eval_df.\n",
    "eval_df = m.previous_period(train, validate, yhat_df, eval_df)\n",
    "# display the updated evaluation dataframe.\n",
    "eval_df"
   ]
  },
  {
   "cell_type": "markdown",
   "id": "55bc12bd",
   "metadata": {},
   "source": [
    "Best rmse: 5.01 minutes --- Delta: 1.13 minutes"
   ]
  },
  {
   "cell_type": "markdown",
   "id": "5c365de6",
   "metadata": {},
   "source": [
    "### <span style=\"color:orange\">There seems to be no overfitting here the best model is Holt's Seasonal with Dampening</span>   "
   ]
  },
  {
   "cell_type": "markdown",
   "id": "c75ae270",
   "metadata": {},
   "source": [
    "## <span style=\"color:orange\">Test</span>  "
   ]
  },
  {
   "cell_type": "code",
   "execution_count": null,
   "id": "56668e2f",
   "metadata": {},
   "outputs": [],
   "source": [
    "# generate the final plot for 'average_delay' using training, validation, and test datasets, and update the yhat_df with the predictions.\n",
    "yhat_df = m.final_plot('average_delay', train, validate, test, yhat_df)"
   ]
  },
  {
   "cell_type": "code",
   "execution_count": null,
   "id": "0f1fa88e",
   "metadata": {},
   "outputs": [],
   "source": [
    "# compute the final RMSE (Root Mean Square Error) for the test data and return updated test and prediction dataframes.\n",
    "\n",
    "test, yhat_df = m.final_rmse(test, yhat_df)"
   ]
  },
  {
   "cell_type": "markdown",
   "id": "4752f8b1",
   "metadata": {},
   "source": [
    "## <span style=\"color:orange\">Forecast</span>  "
   ]
  },
  {
   "cell_type": "code",
   "execution_count": null,
   "id": "6145d219",
   "metadata": {},
   "outputs": [],
   "source": [
    "# generate a forecast plot for the 'average_delay' using the train, validate, and test datasets.\n",
    "# additionally, retrieve the forecasted values in 'yhat_df'.\n",
    "forecast = m.forecast_plot('average_delay', train, validate, test, yhat_df)\n",
    "# display the first few rows of the forecasted data.\n",
    "forecast.head()"
   ]
  },
  {
   "cell_type": "markdown",
   "id": "571767bd",
   "metadata": {},
   "source": [
    "## <span style=\"color:orange\">Another look at trends and residuals</span>"
   ]
  },
  {
   "cell_type": "code",
   "execution_count": null,
   "id": "7c6bb517",
   "metadata": {},
   "outputs": [],
   "source": [
    "# decompose the 'average_delay' series in the 'train' dataset to observe its trend, seasonal, and residual components using the seasonal decomposition method. Then, plot the components.\n",
    "sm.tsa.seasonal_decompose(train['average_delay']).plot()"
   ]
  },
  {
   "cell_type": "markdown",
   "id": "a0904353",
   "metadata": {},
   "source": [
    "# <span style=\"color:blue\">Conclusion</span>  \n",
    "\n",
    "\n",
    "### <span style=\"color:orange\">* There is a clear seasonality to the delays</span>\n",
    "### <span style=\"color:orange\">* Our rmse jumped over baseline for all Airlines despite great performance on train and - validate</span>\n",
    "### <span style=\"color:orange\">* The seasonal trend IS useful and can inform expected delays given the time of the year</span>\n",
    "### <span style=\"color:orange\">* Even the best models couldn't predict COVID!!!</span>\n",
    "### <span style=\"color:orange\">* Covid started in 2019 and started to affect international flights in December. This may explain the result</span>\n",
    "### <span style=\"color:orange\">* Summer of 2011 had a massive delay spike for every ariline</span>\n",
    "### <span style=\"color:orange\">* 2013 showed the lowest point in the trendline</span>\n"
   ]
  },
  {
   "cell_type": "markdown",
   "id": "91028d65",
   "metadata": {},
   "source": [
    "# <span style=\"color:blue\">Next steps</span>  \n",
    "\n",
    "## <span style=\"color:orange\">Carrier/Maintenance, NAS, Military/Airshow, Accident, Presidential, Natural Disaster all take a back seat to WEATHER!</span>\n",
    "### <span style=\"color:orange\">* Another look at trends and residuals</span>\n",
    "### <span style=\"color:orange\">* Upload historical METAR (hourly weather observations for pilots) data for all airports and append proper info based on departure and destination airports and append appropriately to the individual observations</span>\n",
    "### <span style=\"color:orange\">* Focus on winds, precipitation (amount and type), barometric pressure, visibility and cloud cover as features to predict residuals i.e. the day to day or week to week divergence from the seasonal trend in an ensemble model</span>\n",
    "### <span style=\"color:orange\">* Try out FB prophet and XG Boost as well as Neural Networks</span>\n",
    "### <span style=\"color:orange\">* Finish automating the best model selection</span>\n",
    "### <span style=\"color:orange\">* Anomoly Detection on Residuals</span>\n",
    "\n"
   ]
  }
 ],
 "metadata": {
  "kernelspec": {
   "display_name": "Python 3 (ipykernel)",
   "language": "python",
   "name": "python3"
  },
  "language_info": {
   "codemirror_mode": {
    "name": "ipython",
    "version": 3
   },
   "file_extension": ".py",
   "mimetype": "text/x-python",
   "name": "python",
   "nbconvert_exporter": "python",
   "pygments_lexer": "ipython3",
   "version": "3.10.9"
  },
  "varInspector": {
   "cols": {
    "lenName": 16,
    "lenType": 16,
    "lenVar": 40
   },
   "kernels_config": {
    "python": {
     "delete_cmd_postfix": "",
     "delete_cmd_prefix": "del ",
     "library": "var_list.py",
     "varRefreshCmd": "print(var_dic_list())"
    },
    "r": {
     "delete_cmd_postfix": ") ",
     "delete_cmd_prefix": "rm(",
     "library": "var_list.r",
     "varRefreshCmd": "cat(var_dic_list()) "
    }
   },
   "types_to_exclude": [
    "module",
    "function",
    "builtin_function_or_method",
    "instance",
    "_Feature"
   ],
   "window_display": false
  }
 },
 "nbformat": 4,
 "nbformat_minor": 5
}
