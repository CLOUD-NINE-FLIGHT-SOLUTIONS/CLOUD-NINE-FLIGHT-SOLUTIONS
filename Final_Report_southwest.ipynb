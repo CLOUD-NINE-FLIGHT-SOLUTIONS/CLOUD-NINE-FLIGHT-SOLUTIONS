{
 "cells": [
  {
   "cell_type": "markdown",
   "id": "premier-milan",
   "metadata": {},
   "source": [
    "# Flight Solutions\n"
   ]
  },
  {
   "cell_type": "markdown",
   "id": "04afb41e",
   "metadata": {},
   "source": [
    "# Goals\n",
    "* ML analysis model that decodes a decade of flight data to predict and manage airline delay.\n",
    "* Optimize operations, enhance passenger experience."
   ]
  },
  {
   "cell_type": "markdown",
   "id": "going-assembly",
   "metadata": {},
   "source": [
    "## Imports"
   ]
  },
  {
   "cell_type": "code",
   "execution_count": 1,
   "id": "divided-poster",
   "metadata": {},
   "outputs": [],
   "source": [
    "# importing the necessary libraries to run the code\n",
    "import pandas as pd\n",
    "\n",
    "import seaborn as sns\n",
    "import matplotlib.pyplot as plt\n",
    "import scipy.stats as stats\n",
    "from math import sqrt\n",
    "import wrangle\n",
    "import statsmodels.api as sm\n",
    "\n",
    "# from wrangle import \n",
    "\n",
    "import explore as e\n",
    "# # from explore import \n",
    "import model as m\n",
    "# from modeling import \n",
    "# from modeling import\n",
    "\n",
    "import warnings\n",
    "warnings.filterwarnings(\"ignore\")"
   ]
  },
  {
   "cell_type": "markdown",
   "id": "criminal-glory",
   "metadata": {},
   "source": [
    "## Acquire\n",
    "\n",
    "* Aquire data from https://data.world/food/wine-quality\n",
    "* Octber 2009 and July 2011 are missing the entire months of data.\n",
    "* Each observation represent an average delay for that day.\n",
    "* We are measuring the average delays for each day for the last ten years"
   ]
  },
  {
   "cell_type": "markdown",
   "id": "impossible-bible",
   "metadata": {},
   "source": [
    "## Prepare\n",
    "\n",
    "* Checked for nulls in the data (there were none)\n",
    "* Checked fi]or duplicates (there were none)\n",
    "* Filter flight data to only rows with delays.\n",
    "* Filter the data to to four airlines: Delta, American, Southwest, and United Airlines.\n",
    "* Filter the data to include only the top 15 Class B Airlines.\n",
    "* Split data into train, validate and test.\n",
    "* Outliers have not been removed for this iteration of the project."
   ]
  },
  {
   "cell_type": "code",
   "execution_count": 2,
   "id": "186b2dfe",
   "metadata": {},
   "outputs": [],
   "source": [
    "# used my wrangle function that acquires, preps and cleans the data\n",
    "flights = wrangle.pull_airline_data('WN')\n",
    "df = wrangle.clean_flight_data_for_average_daily_delay(flights)\n",
    "\n",
    "# splits data train, validate, test\n",
    "train, validate, test = m.train_test_split(df, 'd')\n",
    "train_fl, validate_fl, test_fl = m.train_fl_test_fl_split(flights, '2W')"
   ]
  },
  {
   "cell_type": "markdown",
   "id": "0d9f6680",
   "metadata": {},
   "source": [
    "# Data At a Glance"
   ]
  },
  {
   "cell_type": "code",
   "execution_count": 3,
   "id": "97bd7328",
   "metadata": {},
   "outputs": [
    {
     "data": {
      "text/html": [
       "<div>\n",
       "<style scoped>\n",
       "    .dataframe tbody tr th:only-of-type {\n",
       "        vertical-align: middle;\n",
       "    }\n",
       "\n",
       "    .dataframe tbody tr th {\n",
       "        vertical-align: top;\n",
       "    }\n",
       "\n",
       "    .dataframe thead th {\n",
       "        text-align: right;\n",
       "    }\n",
       "</style>\n",
       "<table border=\"1\" class=\"dataframe\">\n",
       "  <thead>\n",
       "    <tr style=\"text-align: right;\">\n",
       "      <th></th>\n",
       "      <th>OP_CARRIER</th>\n",
       "      <th>OP_CARRIER_FL_NUM</th>\n",
       "      <th>ORIGIN</th>\n",
       "      <th>DEST</th>\n",
       "      <th>CARRIER_DELAY</th>\n",
       "      <th>WEATHER_DELAY</th>\n",
       "      <th>NAS_DELAY</th>\n",
       "      <th>SECURITY_DELAY</th>\n",
       "      <th>LATE_AIRCRAFT_DELAY</th>\n",
       "      <th>row_sums</th>\n",
       "    </tr>\n",
       "    <tr>\n",
       "      <th>FL_DATE</th>\n",
       "      <th></th>\n",
       "      <th></th>\n",
       "      <th></th>\n",
       "      <th></th>\n",
       "      <th></th>\n",
       "      <th></th>\n",
       "      <th></th>\n",
       "      <th></th>\n",
       "      <th></th>\n",
       "      <th></th>\n",
       "    </tr>\n",
       "  </thead>\n",
       "  <tbody>\n",
       "    <tr>\n",
       "      <th>2009-01-01</th>\n",
       "      <td>WN</td>\n",
       "      <td>82</td>\n",
       "      <td>DEN</td>\n",
       "      <td>AMA</td>\n",
       "      <td>1.0</td>\n",
       "      <td>0.0</td>\n",
       "      <td>0.0</td>\n",
       "      <td>0.0</td>\n",
       "      <td>105.0</td>\n",
       "      <td>106.0</td>\n",
       "    </tr>\n",
       "    <tr>\n",
       "      <th>2009-01-01</th>\n",
       "      <td>WN</td>\n",
       "      <td>1023</td>\n",
       "      <td>DEN</td>\n",
       "      <td>AUS</td>\n",
       "      <td>16.0</td>\n",
       "      <td>0.0</td>\n",
       "      <td>0.0</td>\n",
       "      <td>0.0</td>\n",
       "      <td>0.0</td>\n",
       "      <td>16.0</td>\n",
       "    </tr>\n",
       "    <tr>\n",
       "      <th>2009-01-01</th>\n",
       "      <td>WN</td>\n",
       "      <td>2494</td>\n",
       "      <td>DEN</td>\n",
       "      <td>AUS</td>\n",
       "      <td>34.0</td>\n",
       "      <td>0.0</td>\n",
       "      <td>0.0</td>\n",
       "      <td>0.0</td>\n",
       "      <td>0.0</td>\n",
       "      <td>34.0</td>\n",
       "    </tr>\n",
       "  </tbody>\n",
       "</table>\n",
       "</div>"
      ],
      "text/plain": [
       "           OP_CARRIER  OP_CARRIER_FL_NUM ORIGIN DEST  CARRIER_DELAY  \\\n",
       "FL_DATE                                                               \n",
       "2009-01-01         WN                 82    DEN  AMA            1.0   \n",
       "2009-01-01         WN               1023    DEN  AUS           16.0   \n",
       "2009-01-01         WN               2494    DEN  AUS           34.0   \n",
       "\n",
       "            WEATHER_DELAY  NAS_DELAY  SECURITY_DELAY  LATE_AIRCRAFT_DELAY  \\\n",
       "FL_DATE                                                                     \n",
       "2009-01-01            0.0        0.0             0.0                105.0   \n",
       "2009-01-01            0.0        0.0             0.0                  0.0   \n",
       "2009-01-01            0.0        0.0             0.0                  0.0   \n",
       "\n",
       "            row_sums  \n",
       "FL_DATE               \n",
       "2009-01-01     106.0  \n",
       "2009-01-01      16.0  \n",
       "2009-01-01      34.0  "
      ]
     },
     "execution_count": 3,
     "metadata": {},
     "output_type": "execute_result"
    }
   ],
   "source": [
    "train_fl.head(3)"
   ]
  },
  {
   "cell_type": "code",
   "execution_count": 4,
   "id": "24ea5715",
   "metadata": {},
   "outputs": [
    {
     "data": {
      "text/html": [
       "<div>\n",
       "<style scoped>\n",
       "    .dataframe tbody tr th:only-of-type {\n",
       "        vertical-align: middle;\n",
       "    }\n",
       "\n",
       "    .dataframe tbody tr th {\n",
       "        vertical-align: top;\n",
       "    }\n",
       "\n",
       "    .dataframe thead th {\n",
       "        text-align: right;\n",
       "    }\n",
       "</style>\n",
       "<table border=\"1\" class=\"dataframe\">\n",
       "  <thead>\n",
       "    <tr style=\"text-align: right;\">\n",
       "      <th></th>\n",
       "      <th>average_delay</th>\n",
       "    </tr>\n",
       "    <tr>\n",
       "      <th>FL_DATE</th>\n",
       "      <th></th>\n",
       "    </tr>\n",
       "  </thead>\n",
       "  <tbody>\n",
       "    <tr>\n",
       "      <th>2009-01-01</th>\n",
       "      <td>38.719512</td>\n",
       "    </tr>\n",
       "    <tr>\n",
       "      <th>2009-01-02</th>\n",
       "      <td>54.142857</td>\n",
       "    </tr>\n",
       "    <tr>\n",
       "      <th>2009-01-03</th>\n",
       "      <td>34.230159</td>\n",
       "    </tr>\n",
       "  </tbody>\n",
       "</table>\n",
       "</div>"
      ],
      "text/plain": [
       "            average_delay\n",
       "FL_DATE                  \n",
       "2009-01-01      38.719512\n",
       "2009-01-02      54.142857\n",
       "2009-01-03      34.230159"
      ]
     },
     "execution_count": 4,
     "metadata": {},
     "output_type": "execute_result"
    }
   ],
   "source": [
    "train.head(3)"
   ]
  },
  {
   "cell_type": "code",
   "execution_count": 5,
   "id": "576a9acb",
   "metadata": {},
   "outputs": [
    {
     "data": {
      "text/html": [
       "<div>\n",
       "<style scoped>\n",
       "    .dataframe tbody tr th:only-of-type {\n",
       "        vertical-align: middle;\n",
       "    }\n",
       "\n",
       "    .dataframe tbody tr th {\n",
       "        vertical-align: top;\n",
       "    }\n",
       "\n",
       "    .dataframe thead th {\n",
       "        text-align: right;\n",
       "    }\n",
       "</style>\n",
       "<table border=\"1\" class=\"dataframe\">\n",
       "  <thead>\n",
       "    <tr style=\"text-align: right;\">\n",
       "      <th></th>\n",
       "      <th>average_delay</th>\n",
       "    </tr>\n",
       "  </thead>\n",
       "  <tbody>\n",
       "    <tr>\n",
       "      <th>count</th>\n",
       "      <td>2922.000000</td>\n",
       "    </tr>\n",
       "    <tr>\n",
       "      <th>mean</th>\n",
       "      <td>46.517230</td>\n",
       "    </tr>\n",
       "    <tr>\n",
       "      <th>std</th>\n",
       "      <td>12.313389</td>\n",
       "    </tr>\n",
       "    <tr>\n",
       "      <th>min</th>\n",
       "      <td>21.137931</td>\n",
       "    </tr>\n",
       "    <tr>\n",
       "      <th>25%</th>\n",
       "      <td>38.056010</td>\n",
       "    </tr>\n",
       "    <tr>\n",
       "      <th>50%</th>\n",
       "      <td>43.876663</td>\n",
       "    </tr>\n",
       "    <tr>\n",
       "      <th>75%</th>\n",
       "      <td>52.468103</td>\n",
       "    </tr>\n",
       "    <tr>\n",
       "      <th>max</th>\n",
       "      <td>129.580000</td>\n",
       "    </tr>\n",
       "  </tbody>\n",
       "</table>\n",
       "</div>"
      ],
      "text/plain": [
       "       average_delay\n",
       "count    2922.000000\n",
       "mean       46.517230\n",
       "std        12.313389\n",
       "min        21.137931\n",
       "25%        38.056010\n",
       "50%        43.876663\n",
       "75%        52.468103\n",
       "max       129.580000"
      ]
     },
     "execution_count": 5,
     "metadata": {},
     "output_type": "execute_result"
    }
   ],
   "source": [
    "# display a snapshot of summary statistics\n",
    "train.describe()\n"
   ]
  },
  {
   "cell_type": "markdown",
   "id": "2f5a5b2a",
   "metadata": {},
   "source": [
    "# Explore"
   ]
  },
  {
   "cell_type": "markdown",
   "id": "91b4f05c",
   "metadata": {},
   "source": [
    "### Is the mean at each airport equal or is there something causing  a difference?\n"
   ]
  },
  {
   "cell_type": "code",
   "execution_count": 6,
   "id": "70abb517",
   "metadata": {},
   "outputs": [
    {
     "data": {
      "image/png": "[encoded data removed]",
      "text/plain": [
       "<Figure size 1500x900 with 1 Axes>"
      ]
     },
     "metadata": {},
     "output_type": "display_data"
    }
   ],
   "source": [
    "m.means_by_airport(flights, train_fl)"
   ]
  },
  {
   "cell_type": "markdown",
   "id": "da54cc6b",
   "metadata": {},
   "source": [
    "### Takeaways:"
   ]
  },
  {
   "cell_type": "markdown",
   "id": "c2a87cae",
   "metadata": {},
   "source": [
    "* DFW has the highest average of delay and the most flights\n",
    "* The order of means seems to reflect the flights as well, compared to other airports.\n",
    "* "
   ]
  },
  {
   "cell_type": "markdown",
   "id": "5e605383",
   "metadata": {},
   "source": [
    "# Stats Testing\n",
    "\n",
    "## Hypothesis:\n",
    "\n",
    "H 0 : The average delay in each airport are all the same.\n",
    "\n",
    "H a : The average delay in each airport are not all the same."
   ]
  },
  {
   "cell_type": "code",
   "execution_count": 7,
   "id": "c61d91d2",
   "metadata": {},
   "outputs": [
    {
     "ename": "KeyError",
     "evalue": "'DFW_mean'",
     "output_type": "error",
     "traceback": [
      "\u001b[0;31m---------------------------------------------------------------------------\u001b[0m",
      "\u001b[0;31mKeyError\u001b[0m                                  Traceback (most recent call last)",
      "Cell \u001b[0;32mIn[7], line 1\u001b[0m\n\u001b[0;32m----> 1\u001b[0m f, p \u001b[38;5;241m=\u001b[39m \u001b[43mm\u001b[49m\u001b[38;5;241;43m.\u001b[39;49m\u001b[43manova_airport_test\u001b[49m\u001b[43m(\u001b[49m\u001b[43mflights\u001b[49m\u001b[43m)\u001b[49m\n\u001b[1;32m      2\u001b[0m f, p\n",
      "File \u001b[0;32m~/codeup-data-science/CLOUD-NINE-FLIGHT-SOLUTIONS/model.py:371\u001b[0m, in \u001b[0;36manova_airport_test\u001b[0;34m(flights)\u001b[0m\n\u001b[1;32m    369\u001b[0m PHX_mean \u001b[38;5;241m=\u001b[39m airport_dict[\u001b[38;5;124m'\u001b[39m\u001b[38;5;124mPHX_mean\u001b[39m\u001b[38;5;124m'\u001b[39m]\n\u001b[1;32m    370\u001b[0m PHL_mean \u001b[38;5;241m=\u001b[39m airport_dict[\u001b[38;5;124m'\u001b[39m\u001b[38;5;124mPHL_mean\u001b[39m\u001b[38;5;124m'\u001b[39m]\n\u001b[0;32m--> 371\u001b[0m DFW_mean \u001b[38;5;241m=\u001b[39m \u001b[43mairport_dict\u001b[49m\u001b[43m[\u001b[49m\u001b[38;5;124;43m'\u001b[39;49m\u001b[38;5;124;43mDFW_mean\u001b[39;49m\u001b[38;5;124;43m'\u001b[39;49m\u001b[43m]\u001b[49m\n\u001b[1;32m    372\u001b[0m MIA_mean \u001b[38;5;241m=\u001b[39m airport_dict[\u001b[38;5;124m'\u001b[39m\u001b[38;5;124mMIA_mean\u001b[39m\u001b[38;5;124m'\u001b[39m]\n\u001b[1;32m    373\u001b[0m ATL_mean \u001b[38;5;241m=\u001b[39m airport_dict[\u001b[38;5;124m'\u001b[39m\u001b[38;5;124mATL_mean\u001b[39m\u001b[38;5;124m'\u001b[39m]\n",
      "\u001b[0;31mKeyError\u001b[0m: 'DFW_mean'"
     ]
    }
   ],
   "source": [
    "f, p = m.anova_airport_test(flights)\n",
    "f, p"
   ]
  },
  {
   "cell_type": "markdown",
   "id": "cb44470c",
   "metadata": {},
   "source": [
    "### *Are current months correlated with the proceeding month?\n"
   ]
  },
  {
   "cell_type": "code",
   "execution_count": null,
   "id": "2914cbe6",
   "metadata": {
    "scrolled": false
   },
   "outputs": [],
   "source": [
    "m.plot_best_lag_plot(train, 'm', 1)"
   ]
  },
  {
   "cell_type": "markdown",
   "id": "36321da9",
   "metadata": {},
   "source": [
    "### Takeaways:\n",
    "* As the\n",
    "* Wines tare 237\n",
    "* Red "
   ]
  },
  {
   "cell_type": "markdown",
   "id": "8abda1f0",
   "metadata": {},
   "source": [
    "# Stats Testing"
   ]
  },
  {
   "cell_type": "markdown",
   "id": "30936196",
   "metadata": {},
   "source": [
    "## Hypothesis:"
   ]
  },
  {
   "cell_type": "markdown",
   "id": "d049bf37",
   "metadata": {},
   "source": [
    "H 0 : There is no linear correlation between monthly delay and monthly lag delay.\n",
    "\n",
    "H a : There is a linear correlation between monthly delay and monthly lag delay."
   ]
  },
  {
   "cell_type": "markdown",
   "id": "b8d7677a",
   "metadata": {},
   "source": [
    "## Pearson's R-test¶"
   ]
  },
  {
   "cell_type": "code",
   "execution_count": null,
   "id": "d1e822e3",
   "metadata": {},
   "outputs": [],
   "source": [
    "\n",
    "α = 0.05\n",
    "\n",
    "corr, p = m.pearsons_r_test(train, 'm')\n",
    "corr, p"
   ]
  },
  {
   "cell_type": "markdown",
   "id": "46f4d9ee",
   "metadata": {},
   "source": [
    "## P-value less than alpha?"
   ]
  },
  {
   "cell_type": "code",
   "execution_count": null,
   "id": "1dfd695a",
   "metadata": {},
   "outputs": [],
   "source": [
    "p < α"
   ]
  },
  {
   "cell_type": "markdown",
   "id": "6083be2f",
   "metadata": {},
   "source": [
    "### We can reject the null hypothesis.\n"
   ]
  },
  {
   "cell_type": "markdown",
   "id": "82dd971a",
   "metadata": {},
   "source": [
    "## * Is the mean of each month equal or is there something causing a difference?"
   ]
  },
  {
   "cell_type": "code",
   "execution_count": null,
   "id": "f78e93ad",
   "metadata": {
    "scrolled": false
   },
   "outputs": [],
   "source": [
    "m.plot_month_delay(train_fl)"
   ]
  },
  {
   "cell_type": "markdown",
   "id": "ff5a6770",
   "metadata": {},
   "source": [
    "### Takeaways:\n",
    "\n",
    "* Summertime has the highest averages for the year\n",
    "* The aveage delay dips during the colder months"
   ]
  },
  {
   "cell_type": "markdown",
   "id": "2d2aafcd",
   "metadata": {},
   "source": [
    "# Stats Testing\n",
    "## Hypothesis:\n",
    "H\n",
    "0\n",
    ": The average pH level in red and white wines is the same.\n",
    "\n",
    "H\n",
    "a\n",
    ": The average pH in is greater in red wines.\n",
    "## Anova Test"
   ]
  },
  {
   "cell_type": "code",
   "execution_count": null,
   "id": "506c3439",
   "metadata": {
    "scrolled": true
   },
   "outputs": [],
   "source": [
    "# getting theire data\n",
    "f, p = m.anova_month_test(train)\n",
    "\n",
    "f,p\n"
   ]
  },
  {
   "cell_type": "markdown",
   "id": "15d0671a",
   "metadata": {},
   "source": [
    "### We can reject the null hypothesis.\n"
   ]
  },
  {
   "cell_type": "markdown",
   "id": "immediate-mirror",
   "metadata": {},
   "source": [
    "### *Are current fort nights correlated with the proceeding fort nights?\n"
   ]
  },
  {
   "cell_type": "code",
   "execution_count": null,
   "id": "0e09a9cf",
   "metadata": {},
   "outputs": [],
   "source": [
    "m.plot_best_lag_plot(train, '2w', 1)"
   ]
  },
  {
   "cell_type": "markdown",
   "id": "931ac243",
   "metadata": {},
   "source": [
    "### Takeaways\n",
    "* Chlorides \n",
    "* As t\n",
    "* There"
   ]
  },
  {
   "cell_type": "markdown",
   "id": "9b809aaf",
   "metadata": {},
   "source": [
    "# Stats Testing\n",
    "\n",
    "## Hypothesis:\n",
    "\n",
    "H 0 : There is no linear correlation between monthly delay and monthly lag delay.\n",
    "\n",
    "H a : There is a linear correlation between monthly delay and monthly lag delay.\n",
    "\n",
    "## Pearson's R-test¶"
   ]
  },
  {
   "cell_type": "code",
   "execution_count": null,
   "id": "09852381",
   "metadata": {},
   "outputs": [],
   "source": [
    "corr, p = m.pearsons_r_test(train, '2w')\n",
    "corr, p"
   ]
  },
  {
   "cell_type": "markdown",
   "id": "ceb1cd04",
   "metadata": {},
   "source": [
    "#  Analysis\n",
    "* As seen a\n",
    "* For insta\n",
    "* The mean\n",
    "* However \n",
    "\n"
   ]
  },
  {
   "cell_type": "markdown",
   "id": "84dab190",
   "metadata": {},
   "source": [
    "---"
   ]
  },
  {
   "cell_type": "code",
   "execution_count": null,
   "id": "fbb8e1be",
   "metadata": {},
   "outputs": [],
   "source": [
    "flights = wrangle.pull_airline_data('UA')"
   ]
  },
  {
   "cell_type": "code",
   "execution_count": null,
   "id": "2c8ee34b",
   "metadata": {},
   "outputs": [],
   "source": [
    "flights"
   ]
  },
  {
   "cell_type": "markdown",
   "id": "b76ea351",
   "metadata": {},
   "source": [
    "## Clean dataset imputing 0 for nulls as they represent no delay and combining all delays into one column AND then averaging the delay by day"
   ]
  },
  {
   "cell_type": "code",
   "execution_count": null,
   "id": "4f7084f6",
   "metadata": {},
   "outputs": [],
   "source": [
    "flights_daily_mean = wrangle.clean_flight_data_for_average_daily_delay(flights)\n",
    "flights_daily_mean"
   ]
  },
  {
   "cell_type": "markdown",
   "id": "976dea8a",
   "metadata": {},
   "source": [
    "## Plot average by varying time intervals"
   ]
  },
  {
   "cell_type": "code",
   "execution_count": null,
   "id": "1191b51c",
   "metadata": {},
   "outputs": [],
   "source": [
    "e.plot_average_by_interval(flights_daily_mean)"
   ]
  },
  {
   "cell_type": "code",
   "execution_count": null,
   "id": "4022a005",
   "metadata": {},
   "outputs": [],
   "source": [
    "e.plot_best_lag_plot(flights_daily_mean)"
   ]
  },
  {
   "cell_type": "markdown",
   "id": "b5102df8",
   "metadata": {},
   "source": [
    "## Split"
   ]
  },
  {
   "cell_type": "code",
   "execution_count": null,
   "id": "17f2aae4",
   "metadata": {},
   "outputs": [],
   "source": [
    "train, validate, test = m.train_test_split(flights_daily_mean, '2W')"
   ]
  },
  {
   "cell_type": "code",
   "execution_count": null,
   "id": "62cdf982",
   "metadata": {},
   "outputs": [],
   "source": [
    "train"
   ]
  },
  {
   "cell_type": "code",
   "execution_count": null,
   "id": "2ace62c5",
   "metadata": {},
   "outputs": [],
   "source": [
    "print(f'The average of the average delays is {train.mean()[0]:.2f} minutes')"
   ]
  },
  {
   "cell_type": "markdown",
   "id": "a3dd8054",
   "metadata": {},
   "source": [
    "## Plot the split"
   ]
  },
  {
   "cell_type": "code",
   "execution_count": null,
   "id": "aefe2bfd",
   "metadata": {},
   "outputs": [],
   "source": [
    "m.graph_split(train, validate, test)"
   ]
  },
  {
   "cell_type": "markdown",
   "id": "8bdf739e",
   "metadata": {},
   "source": [
    "## Seasonal Decomposition"
   ]
  },
  {
   "cell_type": "code",
   "execution_count": null,
   "id": "819cbbe2",
   "metadata": {},
   "outputs": [],
   "source": [
    "e.seasonal_decomposition_plot(train, '2W')"
   ]
  },
  {
   "cell_type": "markdown",
   "id": "4895de44",
   "metadata": {},
   "source": [
    "## Baselines"
   ]
  },
  {
   "cell_type": "code",
   "execution_count": null,
   "id": "790d974b",
   "metadata": {},
   "outputs": [],
   "source": [
    "eval_df = pd.DataFrame(columns=['model_type', 'target_var', 'rmse'])\n",
    "yhat_df = pd.DataFrame(columns=['average_delay'])"
   ]
  },
  {
   "cell_type": "markdown",
   "id": "486a210c",
   "metadata": {},
   "source": [
    "## Last Average"
   ]
  },
  {
   "cell_type": "code",
   "execution_count": null,
   "id": "cc7222d5",
   "metadata": {},
   "outputs": [],
   "source": [
    "eval_df = m.last_average_baseline(train, validate, yhat_df, eval_df)\n",
    "eval_df\n"
   ]
  },
  {
   "cell_type": "markdown",
   "id": "a5c99bc0",
   "metadata": {},
   "source": [
    "## Total Average"
   ]
  },
  {
   "cell_type": "code",
   "execution_count": null,
   "id": "a74d2dea",
   "metadata": {},
   "outputs": [],
   "source": [
    "eval_df = m.total_average_baseline(train, validate, yhat_df, eval_df)\n",
    "eval_df\n"
   ]
  },
  {
   "cell_type": "markdown",
   "id": "28e20bd2",
   "metadata": {},
   "source": [
    "## Rolling Average"
   ]
  },
  {
   "cell_type": "code",
   "execution_count": null,
   "id": "9c7855f4",
   "metadata": {},
   "outputs": [],
   "source": [
    "eval_df = m.rolling_average_baselines(train, validate, yhat_df, eval_df)\n",
    "eval_df"
   ]
  },
  {
   "cell_type": "markdown",
   "id": "54712929",
   "metadata": {},
   "source": [
    "### Baseline RMSE = 6.14 minutes"
   ]
  },
  {
   "cell_type": "markdown",
   "id": "cfc3c772",
   "metadata": {},
   "source": [
    "# Models"
   ]
  },
  {
   "cell_type": "code",
   "execution_count": null,
   "id": "62eae2f3",
   "metadata": {},
   "outputs": [],
   "source": [
    "eval_df = pd.DataFrame(columns=['model_type', 'target_var', 'rmse'])\n",
    "yhat_df = pd.DataFrame(columns=['average_delay'])"
   ]
  },
  {
   "cell_type": "markdown",
   "id": "a28cd194",
   "metadata": {},
   "source": [
    "## Holt's Linear Trend"
   ]
  },
  {
   "cell_type": "code",
   "execution_count": null,
   "id": "c8974e65",
   "metadata": {},
   "outputs": [],
   "source": [
    "eval_df = m.holt_linear(train, validate, yhat_df, eval_df)\n",
    "eval_df"
   ]
  },
  {
   "cell_type": "markdown",
   "id": "aca2554b",
   "metadata": {},
   "source": [
    "average_delay -- RMSE: 6\n"
   ]
  },
  {
   "cell_type": "markdown",
   "id": "51ff6a2f",
   "metadata": {},
   "source": [
    "## Holt's Seasonal Trend"
   ]
  },
  {
   "cell_type": "code",
   "execution_count": null,
   "id": "77910823",
   "metadata": {},
   "outputs": [],
   "source": [
    "eval_df = m.holts_average_delay(train, validate, yhat_df, eval_df)\n",
    "eval_df"
   ]
  },
  {
   "cell_type": "markdown",
   "id": "a34303c3",
   "metadata": {},
   "source": [
    "## Previous Cycle"
   ]
  },
  {
   "cell_type": "code",
   "execution_count": null,
   "id": "1164a6fa",
   "metadata": {},
   "outputs": [],
   "source": [
    "eval_df = m.previous_period(train, validate, yhat_df, eval_df)\n",
    "eval_df"
   ]
  },
  {
   "cell_type": "markdown",
   "id": "55bc12bd",
   "metadata": {},
   "source": [
    "Best rmse: 5.01 minutes --- Delta: 1.13 minutes"
   ]
  },
  {
   "cell_type": "markdown",
   "id": "5c365de6",
   "metadata": {},
   "source": [
    "### There seems to be no overfitting here the best model is Holt's Seasonal with Dampening"
   ]
  },
  {
   "cell_type": "markdown",
   "id": "c75ae270",
   "metadata": {},
   "source": [
    "## Test"
   ]
  },
  {
   "cell_type": "code",
   "execution_count": null,
   "id": "56668e2f",
   "metadata": {},
   "outputs": [],
   "source": [
    "yhat_df = m.final_plot('average_delay', train, validate, test, yhat_df)"
   ]
  },
  {
   "cell_type": "code",
   "execution_count": null,
   "id": "0f1fa88e",
   "metadata": {},
   "outputs": [],
   "source": [
    "test, yhat_df = m.final_rmse(test, yhat_df)"
   ]
  },
  {
   "cell_type": "markdown",
   "id": "4752f8b1",
   "metadata": {},
   "source": [
    "Forecast"
   ]
  },
  {
   "cell_type": "markdown",
   "id": "eaac4279",
   "metadata": {},
   "source": [
    "forecast = model.forecast_plot('average_delay', train, validate, test, yhat_df)\n",
    "forecast.head()"
   ]
  },
  {
   "cell_type": "markdown",
   "id": "a0904353",
   "metadata": {},
   "source": [
    "# Conclusions\n",
    "\n",
    "- There is a clear seasonality to the delays\n",
    "- Our rmse jumped over baseline for all Airlines despite great performance on train and - validate.\n",
    "- The seasonal trend IS useful and can inform expected delays given the time of the year.\n",
    "- Even the best models couldn't predict COVID!!!\n",
    "- Covid started in 2019 and started to affect international flights in December. This may explain the result.\n",
    "- Summer of 2011 had a massive delay spike for every ariline.\n",
    "- 2013 showed the lowest point in the trendline"
   ]
  },
  {
   "cell_type": "markdown",
   "id": "91028d65",
   "metadata": {},
   "source": [
    "# Next steps"
   ]
  },
  {
   "cell_type": "markdown",
   "id": "64fe27bc",
   "metadata": {},
   "source": [
    "## Another look at trends and residuals"
   ]
  },
  {
   "cell_type": "code",
   "execution_count": null,
   "id": "300afb43",
   "metadata": {},
   "outputs": [],
   "source": [
    "sm.tsa.seasonal_decompose(train['average_delay']).plot()"
   ]
  }
 ],
 "metadata": {
  "kernelspec": {
   "display_name": "Python 3 (ipykernel)",
   "language": "python",
   "name": "python3"
  },
  "language_info": {
   "codemirror_mode": {
    "name": "ipython",
    "version": 3
   },
   "file_extension": ".py",
   "mimetype": "text/x-python",
   "name": "python",
   "nbconvert_exporter": "python",
   "pygments_lexer": "ipython3",
   "version": "3.10.9"
  },
  "varInspector": {
   "cols": {
    "lenName": 16,
    "lenType": 16,
    "lenVar": 40
   },
   "kernels_config": {
    "python": {
     "delete_cmd_postfix": "",
     "delete_cmd_prefix": "del ",
     "library": "var_list.py",
     "varRefreshCmd": "print(var_dic_list())"
    },
    "r": {
     "delete_cmd_postfix": ") ",
     "delete_cmd_prefix": "rm(",
     "library": "var_list.r",
     "varRefreshCmd": "cat(var_dic_list()) "
    }
   },
   "types_to_exclude": [
    "module",
    "function",
    "builtin_function_or_method",
    "instance",
    "_Feature"
   ],
   "window_display": false
  }
 },
 "nbformat": 4,
 "nbformat_minor": 5
}
