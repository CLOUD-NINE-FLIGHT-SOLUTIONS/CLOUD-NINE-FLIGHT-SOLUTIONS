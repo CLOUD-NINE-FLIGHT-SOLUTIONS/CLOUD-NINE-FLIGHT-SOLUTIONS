{
 "cells": [
  {
   "cell_type": "markdown",
   "id": "11ab4ca3-03b9-4ada-b59d-1e88994d3f26",
   "metadata": {},
   "source": [
    "![Cloud_9_Logo](attachment:Cloud_9_Logo (1).png)\n",
    "\n",
    "\n"
   ]
  },
  {
   "cell_type": "markdown",
   "id": "e6a31e33-9fef-45e4-be0e-cbee1cd678ed",
   "metadata": {},
   "source": [
    "# CLOUD-NINE-FLIGHT-SOLUTIONS\n"
   ]
  },
  {
   "cell_type": "markdown",
   "id": "ea10a27c-a06f-432e-a6b8-c6dfa6a5ae07",
   "metadata": {},
   "source": [
    "## Executive Summary:\n",
    "\n",
    "This project includes data pulled from https://www.kaggle.com/datasets/sherrytp/airline-delay-analysis covering 10 years of flights from 2009-2019. The data are held in 10 csv's (one for each year).Major airlines United Airlines,American Airlines, Delta and South West in addition to the top 15 Class B airpot hubs are obsrved. The project breaks down total delays for each flight and extracts an average delay over two week intervals from which a time series model is constructed to accurately characterize seasonal variation in the data with regard to delays."
   ]
  },
  {
   "cell_type": "markdown",
   "id": "f5d43fc8-eb54-4c15-9880-c8aed40a0623",
   "metadata": {},
   "source": [
    "## Project Description: \n",
    "\n",
    "The purpose of this project is to look at all of the massive amounts of data and see if we can garner greneral trends that may prove useful to the mahor airline carrier stakeholders. We suspected that there is a yearly pattern that holds and dictates delays given the four seasons in a year but it would be nice to show that there is a repeatable trend. Additionally, we are wondering if these results will be different by major airlines as they often own different hubs in the transportation network. Different airports have diffenent airlines operating out of them as main hubs."
   ]
  },
  {
   "cell_type": "markdown",
   "id": "3ba964cc-291b-4ad7-af81-24eaee8c1b3a",
   "metadata": {},
   "source": [
    "## Project Goal:\n",
    "\n",
    "The goal is to develop a Machine Learning model that can accuratly decode a decade of flight data to predict and manage airline delays. By harnessing the power of seasonal trends and incorporating comprehensive flight data, we empower airlines to optimize operations,minimize costs, enhance passenger experience, and soar above the competition. Data-driven insights pave the way for stakeholders to make executive decisions based off of actionable analysis.\n"
   ]
  },
  {
   "cell_type": "markdown",
   "id": "eafe364a-175d-4194-a6f6-6685a3b7eeba",
   "metadata": {},
   "source": [
    "## Initial Questions:\n",
    "\n",
    "1. Do flight delays exhibit a predictable seasonal pattern?\n",
    "2. Is the seasonal variation in delays different for major airlines given their distinct hubs?\n",
    "3. Is the total delay a viable aggregation of the individual delay types?\n",
    "4. Does the expected delay based on seasonal trends align with actual delay data?\n"
   ]
  },
  {
   "cell_type": "markdown",
   "id": "bcaa138c-cfc9-4ce5-9814-86eb91bb0503",
   "metadata": {},
   "source": [
    "### Data Dictionary"
   ]
  },
  {
   "cell_type": "markdown",
   "id": "dbe4d4e1-3eec-4fb6-84f0-b723dc2deaf1",
   "metadata": {},
   "source": [
    "\n",
    "| Attribute            | Definition                                                                                     | Data Type       |\n",
    "|----------------------|------------------------------------------------------------------------------------------------|-----------------|\n",
    "| FL_DATE              | The date of the flight in question                                                             | datetime64[ns]  |\n",
    "| OP_CARRIER           | Two letter IATA carrier code for the airline in question                                       | object          |\n",
    "| OP_CARRIER_FL_NUM    | Flight number associated with the airline                                                      | int64           |\n",
    "| ORIGIN               | Origin airport for the flight                                                                  | object          |\n",
    "| DEST                 | Destination airport for the flight                                                             | object          |\n",
    "| CARRIER_DELAY        | Delay caused by the carrier in minutes                                                         | float64         |\n",
    "| WEATHER_DELAY        | Delay caused due to weather conditions in minutes (previously incorrectly labeled)             | float64         |\n",
    "| NAS_DELAY            | NAS (national airspace system) delay caused in minutes                                         | float64         |\n",
    "| SECURITY_DELAY       | Delay caused by security problems in minutes                                                   | float64         |\n",
    "| LATE_AIRCRAFT_DELAY  | Delay caused by aircraft coming in late from a previous flight in minutes                      | float64         |\n",
    "| row_sums             | Sum of  row values)                                                                            | float64         |\n",
    "| total_delay          | The total of all the delay columns created during feature engineering in minutes               | float64 (Assuming it remains) |\n",
    "| average_delay        | Average of the total delay column resampled by duration in minutes                             | float64 (Assuming it remains) |\n",
    "\n"
   ]
  },
  {
   "cell_type": "markdown",
   "id": "00c51318-f54e-40ec-bf0b-5ab0f86ac599",
   "metadata": {
    "jp-MarkdownHeadingCollapsed": true,
    "tags": []
   },
   "source": [
    "## Target : Delays"
   ]
  },
  {
   "cell_type": "markdown",
   "id": "criminal-glory",
   "metadata": {},
   "source": [
    "## Acquire\n",
    "\n",
    "* Aquire data from https://data.world/food/wine-quality\n",
    "* Octber 2009 and July 2011 are missing the entire months of data.\n",
    "* Each observation represent an average delay for that day.\n",
    "* We are measuring the average delays for each day for the last ten years"
   ]
  },
  {
   "cell_type": "markdown",
   "id": "going-assembly",
   "metadata": {},
   "source": [
    "## Imports"
   ]
  },
  {
   "cell_type": "code",
   "execution_count": 1,
   "id": "divided-poster",
   "metadata": {},
   "outputs": [
    {
     "ename": "SyntaxError",
     "evalue": "Missing parentheses in call to 'print'. Did you mean print(...)? (env.py, line 51)",
     "output_type": "error",
     "traceback": [
      "Traceback \u001b[0;36m(most recent call last)\u001b[0m:\n",
      "\u001b[0m  File \u001b[1;32m/opt/homebrew/anaconda3/lib/python3.10/site-packages/IPython/core/interactiveshell.py:3460\u001b[0m in \u001b[1;35mrun_code\u001b[0m\n    exec(code_obj, self.user_global_ns, self.user_ns)\u001b[0m\n",
      "\u001b[0m  Cell \u001b[1;32mIn[1], line 11\u001b[0m\n    import explore as e\u001b[0m\n",
      "\u001b[0;36m  File \u001b[0;32m~/codeup-data-science/CLOUD-NINE-FLIGHT-SOLUTIONS/explore.py:4\u001b[0;36m\n\u001b[0;31m    import env\u001b[0;36m\n",
      "\u001b[0;36m  File \u001b[0;32m/opt/homebrew/anaconda3/lib/python3.10/site-packages/env.py:51\u001b[0;36m\u001b[0m\n\u001b[0;31m    print k\u001b[0m\n\u001b[0m    ^\u001b[0m\n\u001b[0;31mSyntaxError\u001b[0m\u001b[0;31m:\u001b[0m Missing parentheses in call to 'print'. Did you mean print(...)?\n"
     ]
    }
   ],
   "source": [
    "# importing the necessary libraries to run the code\n",
    "import pandas as pd\n",
    "\n",
    "import seaborn as sns\n",
    "import matplotlib.pyplot as plt\n",
    "import scipy.stats as stats\n",
    "from math import sqrt\n",
    "import wrangle\n",
    "# from wrangle import \n",
    "\n",
    "import explore as e\n",
    "# # from explore import \n",
    "import model as m\n",
    "# from modeling import \n",
    "# from modeling import\n",
    "\n",
    "import warnings\n",
    "warnings.filterwarnings(\"ignore\")"
   ]
  },
  {
   "cell_type": "code",
   "execution_count": null,
   "id": "186b2dfe",
   "metadata": {},
   "outputs": [],
   "source": [
    "# used my wrangle function that acquires, preps and cleans the data\n",
    "flights = wrangle.pull_airline_data('UA')\n",
    "df = wrangle.clean_flight_data_for_average_daily_delay(flights)\n",
    "\n",
    "# splits data train, validate, test\n",
    "train, validate, test = m.train_test_split(df, 'd')\n",
    "train_fl, validate_fl, test_fl = m.train_fl_test_fl_split(flights, '2W')"
   ]
  },
  {
   "cell_type": "markdown",
   "id": "0d9f6680",
   "metadata": {},
   "source": [
    "# Data At a Glance"
   ]
  },
  {
   "cell_type": "code",
<<<<<<< HEAD
   "execution_count": null,
   "id": "0c7c4e7f",
   "metadata": {},
   "outputs": [],
=======
   "execution_count": 14,
   "id": "0c7c4e7f",
   "metadata": {},
   "outputs": [
    {
     "data": {
      "text/html": [
       "<div>\n",
       "<style scoped>\n",
       "    .dataframe tbody tr th:only-of-type {\n",
       "        vertical-align: middle;\n",
       "    }\n",
       "\n",
       "    .dataframe tbody tr th {\n",
       "        vertical-align: top;\n",
       "    }\n",
       "\n",
       "    .dataframe thead th {\n",
       "        text-align: right;\n",
       "    }\n",
       "</style>\n",
       "<table border=\"1\" class=\"dataframe\">\n",
       "  <thead>\n",
       "    <tr style=\"text-align: right;\">\n",
       "      <th></th>\n",
       "      <th>OP_CARRIER</th>\n",
       "      <th>OP_CARRIER_FL_NUM</th>\n",
       "      <th>ORIGIN</th>\n",
       "      <th>DEST</th>\n",
       "      <th>CARRIER_DELAY</th>\n",
       "      <th>WEATHER_DELAY</th>\n",
       "      <th>NAS_DELAY</th>\n",
       "      <th>SECURITY_DELAY</th>\n",
       "      <th>LATE_AIRCRAFT_DELAY</th>\n",
       "      <th>row_sums</th>\n",
       "    </tr>\n",
       "    <tr>\n",
       "      <th>FL_DATE</th>\n",
       "      <th></th>\n",
       "      <th></th>\n",
       "      <th></th>\n",
       "      <th></th>\n",
       "      <th></th>\n",
       "      <th></th>\n",
       "      <th></th>\n",
       "      <th></th>\n",
       "      <th></th>\n",
       "      <th></th>\n",
       "    </tr>\n",
       "  </thead>\n",
       "  <tbody>\n",
       "    <tr>\n",
       "      <th>2009-01-01</th>\n",
       "      <td>UA</td>\n",
       "      <td>26</td>\n",
       "      <td>LAX</td>\n",
       "      <td>JFK</td>\n",
       "      <td>0.0</td>\n",
       "      <td>0.0</td>\n",
       "      <td>0.0</td>\n",
       "      <td>0.0</td>\n",
       "      <td>45.0</td>\n",
       "      <td>45.0</td>\n",
       "    </tr>\n",
       "    <tr>\n",
       "      <th>2009-01-01</th>\n",
       "      <td>UA</td>\n",
       "      <td>43</td>\n",
       "      <td>DEN</td>\n",
       "      <td>HNL</td>\n",
       "      <td>0.0</td>\n",
       "      <td>0.0</td>\n",
       "      <td>0.0</td>\n",
       "      <td>0.0</td>\n",
       "      <td>162.0</td>\n",
       "      <td>162.0</td>\n",
       "    </tr>\n",
       "    <tr>\n",
       "      <th>2009-01-01</th>\n",
       "      <td>UA</td>\n",
       "      <td>71</td>\n",
       "      <td>DEN</td>\n",
       "      <td>OGG</td>\n",
       "      <td>130.0</td>\n",
       "      <td>0.0</td>\n",
       "      <td>0.0</td>\n",
       "      <td>0.0</td>\n",
       "      <td>0.0</td>\n",
       "      <td>130.0</td>\n",
       "    </tr>\n",
       "  </tbody>\n",
       "</table>\n",
       "</div>"
      ],
      "text/plain": [
       "           OP_CARRIER  OP_CARRIER_FL_NUM ORIGIN DEST  CARRIER_DELAY  \\\n",
       "FL_DATE                                                               \n",
       "2009-01-01         UA                 26    LAX  JFK            0.0   \n",
       "2009-01-01         UA                 43    DEN  HNL            0.0   \n",
       "2009-01-01         UA                 71    DEN  OGG          130.0   \n",
       "\n",
       "            WEATHER_DELAY  NAS_DELAY  SECURITY_DELAY  LATE_AIRCRAFT_DELAY  \\\n",
       "FL_DATE                                                                     \n",
       "2009-01-01            0.0        0.0             0.0                 45.0   \n",
       "2009-01-01            0.0        0.0             0.0                162.0   \n",
       "2009-01-01            0.0        0.0             0.0                  0.0   \n",
       "\n",
       "            row_sums  \n",
       "FL_DATE               \n",
       "2009-01-01      45.0  \n",
       "2009-01-01     162.0  \n",
       "2009-01-01     130.0  "
      ]
     },
     "execution_count": 14,
     "metadata": {},
     "output_type": "execute_result"
    }
   ],
>>>>>>> 54cc20e24456a0ff0c256150939f37b9a6e844cf
   "source": [
    "train_fl.head(3)"
   ]
  },
  {
   "cell_type": "code",
   "execution_count": 16,
   "id": "1602d011",
   "metadata": {},
   "outputs": [
    {
     "data": {
      "text/html": [
       "<div>\n",
       "<style scoped>\n",
       "    .dataframe tbody tr th:only-of-type {\n",
       "        vertical-align: middle;\n",
       "    }\n",
       "\n",
       "    .dataframe tbody tr th {\n",
       "        vertical-align: top;\n",
       "    }\n",
       "\n",
       "    .dataframe thead th {\n",
       "        text-align: right;\n",
       "    }\n",
       "</style>\n",
       "<table border=\"1\" class=\"dataframe\">\n",
       "  <thead>\n",
       "    <tr style=\"text-align: right;\">\n",
       "      <th></th>\n",
       "      <th>average_delay</th>\n",
       "    </tr>\n",
       "    <tr>\n",
       "      <th>FL_DATE</th>\n",
       "      <th></th>\n",
       "    </tr>\n",
       "  </thead>\n",
       "  <tbody>\n",
       "    <tr>\n",
       "      <th>2009-01-04</th>\n",
       "      <td>54.043771</td>\n",
       "    </tr>\n",
       "    <tr>\n",
       "      <th>2009-01-18</th>\n",
       "      <td>55.855312</td>\n",
       "    </tr>\n",
       "    <tr>\n",
       "      <th>2009-02-01</th>\n",
       "      <td>52.200066</td>\n",
       "    </tr>\n",
       "  </tbody>\n",
       "</table>\n",
       "</div>"
      ],
      "text/plain": [
       "            average_delay\n",
       "FL_DATE                  \n",
       "2009-01-04      54.043771\n",
       "2009-01-18      55.855312\n",
       "2009-02-01      52.200066"
      ]
     },
     "execution_count": 16,
     "metadata": {},
     "output_type": "execute_result"
    }
   ],
   "source": [
    "train.head(3)"
   ]
  },
  {
   "cell_type": "markdown",
   "id": "7a6f9b8d",
   "metadata": {},
   "source": [
    "### Statisgtical Summary"
   ]
  },
  {
   "cell_type": "code",
   "execution_count": null,
   "id": "576a9acb",
<<<<<<< HEAD
   "metadata": {},
   "outputs": [],
=======
   "metadata": {
    "scrolled": true
   },
   "outputs": [
    {
     "data": {
      "text/html": [
       "<div>\n",
       "<style scoped>\n",
       "    .dataframe tbody tr th:only-of-type {\n",
       "        vertical-align: middle;\n",
       "    }\n",
       "\n",
       "    .dataframe tbody tr th {\n",
       "        vertical-align: top;\n",
       "    }\n",
       "\n",
       "    .dataframe thead th {\n",
       "        text-align: right;\n",
       "    }\n",
       "</style>\n",
       "<table border=\"1\" class=\"dataframe\">\n",
       "  <thead>\n",
       "    <tr style=\"text-align: right;\">\n",
       "      <th></th>\n",
       "      <th>average_delay</th>\n",
       "    </tr>\n",
       "  </thead>\n",
       "  <tbody>\n",
       "    <tr>\n",
       "      <th>count</th>\n",
       "      <td>209.000000</td>\n",
       "    </tr>\n",
       "    <tr>\n",
       "      <th>mean</th>\n",
       "      <td>57.333545</td>\n",
       "    </tr>\n",
       "    <tr>\n",
       "      <th>std</th>\n",
       "      <td>8.007163</td>\n",
       "    </tr>\n",
       "    <tr>\n",
       "      <th>min</th>\n",
       "      <td>43.985268</td>\n",
       "    </tr>\n",
       "    <tr>\n",
       "      <th>25%</th>\n",
       "      <td>51.858733</td>\n",
       "    </tr>\n",
       "    <tr>\n",
       "      <th>50%</th>\n",
       "      <td>55.855312</td>\n",
       "    </tr>\n",
       "    <tr>\n",
       "      <th>75%</th>\n",
       "      <td>61.617909</td>\n",
       "    </tr>\n",
       "    <tr>\n",
       "      <th>max</th>\n",
       "      <td>101.509765</td>\n",
       "    </tr>\n",
       "  </tbody>\n",
       "</table>\n",
       "</div>"
      ],
      "text/plain": [
       "       average_delay\n",
       "count     209.000000\n",
       "mean       57.333545\n",
       "std         8.007163\n",
       "min        43.985268\n",
       "25%        51.858733\n",
       "50%        55.855312\n",
       "75%        61.617909\n",
       "max       101.509765"
      ]
     },
     "execution_count": 4,
     "metadata": {},
     "output_type": "execute_result"
    }
   ],
>>>>>>> 54cc20e24456a0ff0c256150939f37b9a6e844cf
   "source": [
    "# display a snapshot of summary statistics\n",
    "train.describe()\n"
   ]
  },
  {
   "cell_type": "markdown",
   "id": "impossible-bible",
   "metadata": {},
   "source": [
    "## Prepare\n",
    "\n",
    "* Checked for nulls in the data (there were none)\n",
    "* Checked fi]or duplicates (there were none)\n",
    "* Filter flight data to only rows with delays.\n",
    "* Filter the data to to four airlines: Delta, American, Southwest, and United Airlines.\n",
    "* Filter the data to include only the top 15 Class B Airlines.\n",
    "* Split data into train, validate and test.\n",
    "* Outliers have not been removed for this iteration of the project."
   ]
  },
  {
   "cell_type": "markdown",
   "id": "2f5a5b2a",
   "metadata": {},
   "source": [
    "# Explore"
   ]
  },
  {
   "cell_type": "markdown",
   "id": "91b4f05c",
   "metadata": {},
   "source": [
    "### Is the mean at each airport equal or is there something causing  a difference?\n"
   ]
  },
  {
   "cell_type": "code",
   "execution_count": null,
   "id": "70abb517",
   "metadata": {},
   "outputs": [],
   "source": [
    "m.means_by_airport(flights, train_fl)"
   ]
  },
  {
   "cell_type": "markdown",
   "id": "da54cc6b",
   "metadata": {},
   "source": [
    "### Takeaways:"
   ]
  },
  {
   "cell_type": "markdown",
   "id": "c2a87cae",
   "metadata": {},
   "source": [
    "* DFW has the highest average of delay and the most flights\n",
    "* The order of means seems to reflect the flights as well, compared to other airports.\n",
    "* "
   ]
  },
  {
   "cell_type": "markdown",
   "id": "755b3d61",
   "metadata": {},
   "source": [
    "# Stats Testing\n",
    "\n",
    "## Hypothesis:\n",
    "\n",
    "H 0 : The average delay in each airport are all the same.\n",
    "\n",
    "H a : The average delay in each airport are not all the same."
   ]
  },
  {
   "cell_type": "code",
   "execution_count": null,
   "id": "1e9ed282",
   "metadata": {},
   "outputs": [],
   "source": [
    "f, p = m.anova_airport_test(flights)\n",
    "f, p"
   ]
  },
  {
   "cell_type": "markdown",
   "id": "cb44470c",
   "metadata": {},
   "source": [
    "### *Are current months correlated with the proceeding month?\n"
   ]
  },
  {
   "cell_type": "code",
   "execution_count": null,
   "id": "2914cbe6",
   "metadata": {},
   "outputs": [],
   "source": [
    "m.plot_best_lag_plot(train, 'm', 1)"
   ]
  },
  {
   "cell_type": "markdown",
   "id": "36321da9",
   "metadata": {},
   "source": [
    "### Takeaways:\n",
    "* As the\n",
    "* Wines tare 237\n",
    "* Red "
   ]
  },
  {
   "cell_type": "markdown",
   "id": "8abda1f0",
   "metadata": {},
   "source": [
    "# Stats Testing"
   ]
  },
  {
   "cell_type": "markdown",
   "id": "30936196",
   "metadata": {},
   "source": [
    "## Hypothesis:"
   ]
  },
  {
   "cell_type": "markdown",
   "id": "d049bf37",
   "metadata": {},
   "source": [
    "H 0 : There is no linear correlation between monthly delay and monthly lag delay.\n",
    "\n",
    "H a : There is a linear correlation between monthly delay and monthly lag delay."
   ]
  },
  {
   "cell_type": "markdown",
   "id": "b8d7677a",
   "metadata": {},
   "source": [
    "## Pearson's R-test¶"
   ]
  },
  {
   "cell_type": "code",
   "execution_count": null,
   "id": "d1e822e3",
   "metadata": {},
   "outputs": [],
   "source": [
    "\n",
    "α = 0.05\n",
    "\n",
    "corr, p = m.pearsons_r_test(train, 'm')\n",
    "corr, p"
   ]
  },
  {
   "cell_type": "markdown",
   "id": "46f4d9ee",
   "metadata": {},
   "source": [
    "## P-value less than alpha?"
   ]
  },
  {
   "cell_type": "code",
   "execution_count": null,
   "id": "1dfd695a",
   "metadata": {},
   "outputs": [],
   "source": [
    "p < α"
   ]
  },
  {
   "cell_type": "markdown",
   "id": "6083be2f",
   "metadata": {},
   "source": [
    "### We can reject the null hypothesis.\n"
   ]
  },
  {
   "cell_type": "markdown",
   "id": "82dd971a",
   "metadata": {},
   "source": [
    "## * Is the mean of each month equal or is there something causing a difference?"
   ]
  },
  {
   "cell_type": "code",
   "execution_count": null,
   "id": "f78e93ad",
   "metadata": {},
   "outputs": [],
   "source": [
    "m.plot_month_delay(train_fl)"
   ]
  },
  {
   "cell_type": "markdown",
   "id": "ff5a6770",
   "metadata": {},
   "source": [
    "### Takeaways:\n",
    "\n",
    "* Summertime has the highest averages for the year\n",
    "* The aveage delay dips during the colder months"
   ]
  },
  {
   "cell_type": "markdown",
   "id": "2d2aafcd",
   "metadata": {},
   "source": [
    "# Stats Testing\n",
    "## Hypothesis:\n",
    "H\n",
    "0\n",
    ": The average pH level in red and white wines is the same.\n",
    "\n",
    "H\n",
    "a\n",
    ": The average pH in is greater in red wines.\n",
    "## Anova Test"
   ]
  },
  {
   "cell_type": "code",
   "execution_count": null,
   "id": "506c3439",
   "metadata": {
    "scrolled": true
   },
   "outputs": [],
   "source": [
    "# getting theire data\n",
    "f, p = m.anova_month_test(train)\n",
    "\n",
    "f,p\n"
   ]
  },
  {
   "cell_type": "markdown",
   "id": "15d0671a",
   "metadata": {},
   "source": [
    "### We can reject the null hypothesis.\n"
   ]
  },
  {
   "cell_type": "markdown",
   "id": "immediate-mirror",
   "metadata": {},
   "source": [
    "### *Are current fort nights correlated with the proceeding fort nights?\n"
   ]
  },
  {
   "cell_type": "code",
<<<<<<< HEAD
   "execution_count": null,
=======
   "execution_count": 12,
>>>>>>> 54cc20e24456a0ff0c256150939f37b9a6e844cf
   "id": "0e09a9cf",
   "metadata": {},
   "outputs": [],
   "source": [
    "m.plot_best_lag_plot(train, '2w', 1)"
   ]
  },
  {
   "cell_type": "markdown",
   "id": "931ac243",
   "metadata": {},
   "source": [
    "### Takeaways\n",
    "* Chlorides \n",
    "* As t\n",
    "* There"
   ]
  },
  {
   "cell_type": "markdown",
   "id": "ddb288ea",
   "metadata": {},
   "source": [
    "# Stats Testing\n",
    "\n",
    "## Hypothesis:\n",
    "\n",
    "H 0 : There is no linear correlation between monthly delay and monthly lag delay.\n",
    "\n",
    "H a : There is a linear correlation between monthly delay and monthly lag delay.\n",
    "\n",
    "## Pearson's R-test¶"
   ]
  },
  {
   "cell_type": "code",
<<<<<<< HEAD
   "execution_count": null,
   "id": "09852381",
   "metadata": {},
   "outputs": [],
=======
   "execution_count": 13,
   "id": "09852381",
   "metadata": {},
   "outputs": [
    {
     "data": {
      "text/plain": [
       "(0.6387125197366863, 3.0819800141713925e-25)"
      ]
     },
     "execution_count": 13,
     "metadata": {},
     "output_type": "execute_result"
    }
   ],
>>>>>>> 54cc20e24456a0ff0c256150939f37b9a6e844cf
   "source": [
    "corr, p = m.pearsons_r_test(train, '2w')\n",
    "corr, p"
   ]
  },
  {
   "cell_type": "markdown",
   "id": "84dab190",
   "metadata": {},
   "source": [
    "---"
   ]
  },
  {
   "cell_type": "code",
   "execution_count": null,
   "id": "58ea80fa",
   "metadata": {},
   "outputs": [],
   "source": []
  },
  {
   "cell_type": "code",
   "execution_count": null,
   "id": "69b62a93-89b9-4f3c-a9fd-b8ecd5f9c098",
   "metadata": {},
   "outputs": [],
   "source": []
  },
  {
   "cell_type": "code",
   "execution_count": null,
   "id": "98a0e65e-34b4-412a-b01b-d17af27d9157",
   "metadata": {},
   "outputs": [],
   "source": []
  },
  {
   "cell_type": "code",
   "execution_count": null,
   "id": "06441fa6-7407-4906-b778-0eca05e29841",
   "metadata": {},
   "outputs": [],
   "source": []
  },
  {
   "cell_type": "code",
   "execution_count": null,
   "id": "e049cbf5-ed3b-424e-aca7-9b255c8861d1",
   "metadata": {},
   "outputs": [],
   "source": []
  },
  {
   "cell_type": "code",
   "execution_count": null,
   "id": "e05fa8d2-2a10-48eb-b0aa-03712e809eb6",
   "metadata": {},
   "outputs": [],
   "source": []
  },
  {
   "cell_type": "code",
   "execution_count": null,
   "id": "362498d4-1c3b-4c89-b848-2e24e3729c78",
   "metadata": {},
   "outputs": [],
   "source": []
  },
  {
   "cell_type": "code",
   "execution_count": null,
   "id": "ee04ef40-2f7d-42c7-bf9f-a018fbdb61a1",
   "metadata": {},
   "outputs": [],
   "source": []
  },
  {
   "cell_type": "code",
   "execution_count": null,
   "id": "3d78898f-57f4-4049-93b0-2db130afcc78",
   "metadata": {},
   "outputs": [],
   "source": []
  }
 ],
 "metadata": {
  "kernelspec": {
   "display_name": "Python 3 (ipykernel)",
   "language": "python",
   "name": "python3"
  },
  "language_info": {
   "codemirror_mode": {
    "name": "ipython",
    "version": 3
   },
   "file_extension": ".py",
   "mimetype": "text/x-python",
   "name": "python",
   "nbconvert_exporter": "python",
   "pygments_lexer": "ipython3",
   "version": "3.10.9"
  }
 },
 "nbformat": 4,
 "nbformat_minor": 5
}
