{
 "cells": [
  {
   "cell_type": "code",
   "execution_count": 1,
   "id": "1bdb323e",
   "metadata": {},
   "outputs": [],
   "source": [
    "import os\n",
    "import pandas as pd\n",
    "import seaborn as sns\n",
    "\n",
    "import wrangle\n",
    "import matplotlib.pyplot as plt\n",
    "import seaborn as sns\n",
    "import statsmodels.api as sm\n",
    "from datetime import datetime\n",
    "import numpy as np\n",
    "from scipy import stats\n",
    "import matplotlib.pyplot as plt\n",
    "import statsmodels.api as sm"
   ]
  },
  {
   "cell_type": "markdown",
   "id": "5ec1bdaf",
   "metadata": {},
   "source": [
    "### Mask for United Airlines"
   ]
  },
  {
   "cell_type": "code",
   "execution_count": 2,
   "id": "024d63c6",
   "metadata": {},
   "outputs": [
    {
     "name": "stderr",
     "output_type": "stream",
     "text": [
      "/Users/emanuelvilla/codeup-data-science/CLOUD-NINE-FLIGHT-SOLUTIONS/Mannie/wrangle.py:33: FutureWarning: The frame.append method is deprecated and will be removed from pandas in a future version. Use pandas.concat instead.\n",
      "  flights = flights.append(flightsi)\n",
      "/Users/emanuelvilla/codeup-data-science/CLOUD-NINE-FLIGHT-SOLUTIONS/Mannie/wrangle.py:33: FutureWarning: The frame.append method is deprecated and will be removed from pandas in a future version. Use pandas.concat instead.\n",
      "  flights = flights.append(flightsi)\n",
      "/Users/emanuelvilla/codeup-data-science/CLOUD-NINE-FLIGHT-SOLUTIONS/Mannie/wrangle.py:33: FutureWarning: The frame.append method is deprecated and will be removed from pandas in a future version. Use pandas.concat instead.\n",
      "  flights = flights.append(flightsi)\n",
      "/Users/emanuelvilla/codeup-data-science/CLOUD-NINE-FLIGHT-SOLUTIONS/Mannie/wrangle.py:33: FutureWarning: The frame.append method is deprecated and will be removed from pandas in a future version. Use pandas.concat instead.\n",
      "  flights = flights.append(flightsi)\n",
      "/Users/emanuelvilla/codeup-data-science/CLOUD-NINE-FLIGHT-SOLUTIONS/Mannie/wrangle.py:33: FutureWarning: The frame.append method is deprecated and will be removed from pandas in a future version. Use pandas.concat instead.\n",
      "  flights = flights.append(flightsi)\n",
      "/Users/emanuelvilla/codeup-data-science/CLOUD-NINE-FLIGHT-SOLUTIONS/Mannie/wrangle.py:33: FutureWarning: The frame.append method is deprecated and will be removed from pandas in a future version. Use pandas.concat instead.\n",
      "  flights = flights.append(flightsi)\n",
      "/Users/emanuelvilla/codeup-data-science/CLOUD-NINE-FLIGHT-SOLUTIONS/Mannie/wrangle.py:33: FutureWarning: The frame.append method is deprecated and will be removed from pandas in a future version. Use pandas.concat instead.\n",
      "  flights = flights.append(flightsi)\n",
      "/Users/emanuelvilla/codeup-data-science/CLOUD-NINE-FLIGHT-SOLUTIONS/Mannie/wrangle.py:33: FutureWarning: The frame.append method is deprecated and will be removed from pandas in a future version. Use pandas.concat instead.\n",
      "  flights = flights.append(flightsi)\n",
      "/Users/emanuelvilla/codeup-data-science/CLOUD-NINE-FLIGHT-SOLUTIONS/Mannie/wrangle.py:33: FutureWarning: The frame.append method is deprecated and will be removed from pandas in a future version. Use pandas.concat instead.\n",
      "  flights = flights.append(flightsi)\n",
      "/Users/emanuelvilla/codeup-data-science/CLOUD-NINE-FLIGHT-SOLUTIONS/Mannie/wrangle.py:33: FutureWarning: The frame.append method is deprecated and will be removed from pandas in a future version. Use pandas.concat instead.\n",
      "  flights = flights.append(flightsi)\n",
      "/Users/emanuelvilla/codeup-data-science/CLOUD-NINE-FLIGHT-SOLUTIONS/Mannie/wrangle.py:42: FutureWarning: The frame.append method is deprecated and will be removed from pandas in a future version. Use pandas.concat instead.\n",
      "  flights = flights.append(flights2019)\n"
     ]
    }
   ],
   "source": [
    "flights = wrangle.pull_airline_data('UA')"
   ]
  },
  {
   "cell_type": "code",
   "execution_count": 3,
   "id": "18d9a829",
   "metadata": {},
   "outputs": [
    {
     "data": {
      "text/plain": [
       "UA    752467\n",
       "Name: OP_CARRIER, dtype: int64"
      ]
     },
     "execution_count": 3,
     "metadata": {},
     "output_type": "execute_result"
    }
   ],
   "source": [
    "flights.OP_CARRIER.value_counts()"
   ]
  },
  {
   "cell_type": "code",
   "execution_count": 4,
   "id": "accd3e0a",
   "metadata": {},
   "outputs": [
    {
     "data": {
      "text/html": [
       "<div>\n",
       "<style scoped>\n",
       "    .dataframe tbody tr th:only-of-type {\n",
       "        vertical-align: middle;\n",
       "    }\n",
       "\n",
       "    .dataframe tbody tr th {\n",
       "        vertical-align: top;\n",
       "    }\n",
       "\n",
       "    .dataframe thead th {\n",
       "        text-align: right;\n",
       "    }\n",
       "</style>\n",
       "<table border=\"1\" class=\"dataframe\">\n",
       "  <thead>\n",
       "    <tr style=\"text-align: right;\">\n",
       "      <th></th>\n",
       "      <th>FL_DATE</th>\n",
       "      <th>OP_CARRIER</th>\n",
       "      <th>OP_CARRIER_FL_NUM</th>\n",
       "      <th>ORIGIN</th>\n",
       "      <th>DEST</th>\n",
       "      <th>CARRIER_DELAY</th>\n",
       "      <th>WEATHER_DELAY</th>\n",
       "      <th>NAS_DELAY</th>\n",
       "      <th>SECURITY_DELAY</th>\n",
       "      <th>LATE_AIRCRAFT_DELAY</th>\n",
       "      <th>row_sums</th>\n",
       "    </tr>\n",
       "  </thead>\n",
       "  <tbody>\n",
       "    <tr>\n",
       "      <th>0</th>\n",
       "      <td>2009-01-01</td>\n",
       "      <td>UA</td>\n",
       "      <td>26</td>\n",
       "      <td>LAX</td>\n",
       "      <td>JFK</td>\n",
       "      <td>0.0</td>\n",
       "      <td>0.0</td>\n",
       "      <td>0.0</td>\n",
       "      <td>0.0</td>\n",
       "      <td>45.0</td>\n",
       "      <td>45.0</td>\n",
       "    </tr>\n",
       "    <tr>\n",
       "      <th>1</th>\n",
       "      <td>2009-01-01</td>\n",
       "      <td>UA</td>\n",
       "      <td>43</td>\n",
       "      <td>DEN</td>\n",
       "      <td>HNL</td>\n",
       "      <td>0.0</td>\n",
       "      <td>0.0</td>\n",
       "      <td>0.0</td>\n",
       "      <td>0.0</td>\n",
       "      <td>162.0</td>\n",
       "      <td>162.0</td>\n",
       "    </tr>\n",
       "    <tr>\n",
       "      <th>2</th>\n",
       "      <td>2009-01-01</td>\n",
       "      <td>UA</td>\n",
       "      <td>71</td>\n",
       "      <td>DEN</td>\n",
       "      <td>OGG</td>\n",
       "      <td>130.0</td>\n",
       "      <td>0.0</td>\n",
       "      <td>0.0</td>\n",
       "      <td>0.0</td>\n",
       "      <td>0.0</td>\n",
       "      <td>130.0</td>\n",
       "    </tr>\n",
       "    <tr>\n",
       "      <th>3</th>\n",
       "      <td>2009-01-01</td>\n",
       "      <td>UA</td>\n",
       "      <td>73</td>\n",
       "      <td>SFO</td>\n",
       "      <td>HNL</td>\n",
       "      <td>20.0</td>\n",
       "      <td>0.0</td>\n",
       "      <td>0.0</td>\n",
       "      <td>0.0</td>\n",
       "      <td>0.0</td>\n",
       "      <td>20.0</td>\n",
       "    </tr>\n",
       "    <tr>\n",
       "      <th>4</th>\n",
       "      <td>2009-01-01</td>\n",
       "      <td>UA</td>\n",
       "      <td>95</td>\n",
       "      <td>EWR</td>\n",
       "      <td>SFO</td>\n",
       "      <td>41.0</td>\n",
       "      <td>0.0</td>\n",
       "      <td>8.0</td>\n",
       "      <td>0.0</td>\n",
       "      <td>0.0</td>\n",
       "      <td>49.0</td>\n",
       "    </tr>\n",
       "  </tbody>\n",
       "</table>\n",
       "</div>"
      ],
      "text/plain": [
       "      FL_DATE OP_CARRIER  OP_CARRIER_FL_NUM ORIGIN DEST  CARRIER_DELAY  \\\n",
       "0  2009-01-01         UA                 26    LAX  JFK            0.0   \n",
       "1  2009-01-01         UA                 43    DEN  HNL            0.0   \n",
       "2  2009-01-01         UA                 71    DEN  OGG          130.0   \n",
       "3  2009-01-01         UA                 73    SFO  HNL           20.0   \n",
       "4  2009-01-01         UA                 95    EWR  SFO           41.0   \n",
       "\n",
       "   WEATHER_DELAY  NAS_DELAY  SECURITY_DELAY  LATE_AIRCRAFT_DELAY  row_sums  \n",
       "0            0.0        0.0             0.0                 45.0      45.0  \n",
       "1            0.0        0.0             0.0                162.0     162.0  \n",
       "2            0.0        0.0             0.0                  0.0     130.0  \n",
       "3            0.0        0.0             0.0                  0.0      20.0  \n",
       "4            0.0        8.0             0.0                  0.0      49.0  "
      ]
     },
     "execution_count": 4,
     "metadata": {},
     "output_type": "execute_result"
    }
   ],
   "source": [
    "flights.head()"
   ]
  },
  {
   "cell_type": "code",
   "execution_count": 5,
   "id": "442db152",
   "metadata": {},
   "outputs": [
    {
     "name": "stderr",
     "output_type": "stream",
     "text": [
      "/Users/emanuelvilla/codeup-data-science/CLOUD-NINE-FLIGHT-SOLUTIONS/Mannie/wrangle.py:100: FutureWarning: The default value of numeric_only in DataFrameGroupBy.mean is deprecated. In a future version, numeric_only will default to False. Either specify numeric_only or select only columns which should be valid for the function.\n",
      "  flights_monthly_mean = flights.resample('M').mean().total_delays\n",
      "/Users/emanuelvilla/codeup-data-science/CLOUD-NINE-FLIGHT-SOLUTIONS/Mannie/wrangle.py:106: FutureWarning: The default value of numeric_only in DataFrameGroupBy.mean is deprecated. In a future version, numeric_only will default to False. Either specify numeric_only or select only columns which should be valid for the function.\n",
      "  flights_daily_mean = pd.DataFrame(flights.resample('D').mean().total_delays)\n",
      "/Users/emanuelvilla/codeup-data-science/CLOUD-NINE-FLIGHT-SOLUTIONS/Mannie/wrangle.py:121: FutureWarning: Passing unit-less datetime64 dtype to .astype is deprecated and will raise in a future version. Pass 'datetime64[ns]' instead\n",
      "  list_tuples.FL_DATE = list_tuples.FL_DATE.astype('datetime64')\n",
      "/Users/emanuelvilla/codeup-data-science/CLOUD-NINE-FLIGHT-SOLUTIONS/Mannie/wrangle.py:125: FutureWarning: The frame.append method is deprecated and will be removed from pandas in a future version. Use pandas.concat instead.\n",
      "  flights_daily_mean = flights_daily_mean.append(list_tuples)\n",
      "/Users/emanuelvilla/codeup-data-science/CLOUD-NINE-FLIGHT-SOLUTIONS/Mannie/wrangle.py:136: FutureWarning: Passing unit-less datetime64 dtype to .astype is deprecated and will raise in a future version. Pass 'datetime64[ns]' instead\n",
      "  list_tuples_2.FL_DATE = list_tuples_2.FL_DATE.astype('datetime64')\n",
      "/Users/emanuelvilla/codeup-data-science/CLOUD-NINE-FLIGHT-SOLUTIONS/Mannie/wrangle.py:139: FutureWarning: The frame.append method is deprecated and will be removed from pandas in a future version. Use pandas.concat instead.\n",
      "  flights_daily_mean = flights_daily_mean.append(list_tuples_2)\n"
     ]
    }
   ],
   "source": [
    "df = wrangle.clean_flight_data_for_average_daily_delay(flights)"
   ]
  },
  {
   "cell_type": "code",
   "execution_count": 6,
   "id": "8b2e30dc",
   "metadata": {},
   "outputs": [],
   "source": [
    "col_to_sum = ['CARRIER_DELAY', 'WEATHER_DELAY', 'NAS_DELAY', 'SECURITY_DELAY', 'LATE_AIRCRAFT_DELAY']\n"
   ]
  },
  {
   "cell_type": "code",
   "execution_count": 7,
   "id": "360f7979",
   "metadata": {
    "scrolled": true
   },
   "outputs": [
    {
     "data": {
      "text/html": [
       "<div>\n",
       "<style scoped>\n",
       "    .dataframe tbody tr th:only-of-type {\n",
       "        vertical-align: middle;\n",
       "    }\n",
       "\n",
       "    .dataframe tbody tr th {\n",
       "        vertical-align: top;\n",
       "    }\n",
       "\n",
       "    .dataframe thead th {\n",
       "        text-align: right;\n",
       "    }\n",
       "</style>\n",
       "<table border=\"1\" class=\"dataframe\">\n",
       "  <thead>\n",
       "    <tr style=\"text-align: right;\">\n",
       "      <th></th>\n",
       "      <th>FL_DATE</th>\n",
       "      <th>OP_CARRIER</th>\n",
       "      <th>OP_CARRIER_FL_NUM</th>\n",
       "      <th>ORIGIN</th>\n",
       "      <th>DEST</th>\n",
       "      <th>CARRIER_DELAY</th>\n",
       "      <th>WEATHER_DELAY</th>\n",
       "      <th>NAS_DELAY</th>\n",
       "      <th>SECURITY_DELAY</th>\n",
       "      <th>LATE_AIRCRAFT_DELAY</th>\n",
       "      <th>row_sums</th>\n",
       "    </tr>\n",
       "  </thead>\n",
       "  <tbody>\n",
       "    <tr>\n",
       "      <th>0</th>\n",
       "      <td>2009-01-01</td>\n",
       "      <td>UA</td>\n",
       "      <td>26</td>\n",
       "      <td>LAX</td>\n",
       "      <td>JFK</td>\n",
       "      <td>0.0</td>\n",
       "      <td>0.0</td>\n",
       "      <td>0.0</td>\n",
       "      <td>0.0</td>\n",
       "      <td>45.0</td>\n",
       "      <td>45.0</td>\n",
       "    </tr>\n",
       "    <tr>\n",
       "      <th>1</th>\n",
       "      <td>2009-01-01</td>\n",
       "      <td>UA</td>\n",
       "      <td>43</td>\n",
       "      <td>DEN</td>\n",
       "      <td>HNL</td>\n",
       "      <td>0.0</td>\n",
       "      <td>0.0</td>\n",
       "      <td>0.0</td>\n",
       "      <td>0.0</td>\n",
       "      <td>162.0</td>\n",
       "      <td>162.0</td>\n",
       "    </tr>\n",
       "    <tr>\n",
       "      <th>2</th>\n",
       "      <td>2009-01-01</td>\n",
       "      <td>UA</td>\n",
       "      <td>71</td>\n",
       "      <td>DEN</td>\n",
       "      <td>OGG</td>\n",
       "      <td>130.0</td>\n",
       "      <td>0.0</td>\n",
       "      <td>0.0</td>\n",
       "      <td>0.0</td>\n",
       "      <td>0.0</td>\n",
       "      <td>130.0</td>\n",
       "    </tr>\n",
       "    <tr>\n",
       "      <th>3</th>\n",
       "      <td>2009-01-01</td>\n",
       "      <td>UA</td>\n",
       "      <td>73</td>\n",
       "      <td>SFO</td>\n",
       "      <td>HNL</td>\n",
       "      <td>20.0</td>\n",
       "      <td>0.0</td>\n",
       "      <td>0.0</td>\n",
       "      <td>0.0</td>\n",
       "      <td>0.0</td>\n",
       "      <td>20.0</td>\n",
       "    </tr>\n",
       "    <tr>\n",
       "      <th>4</th>\n",
       "      <td>2009-01-01</td>\n",
       "      <td>UA</td>\n",
       "      <td>95</td>\n",
       "      <td>EWR</td>\n",
       "      <td>SFO</td>\n",
       "      <td>41.0</td>\n",
       "      <td>0.0</td>\n",
       "      <td>8.0</td>\n",
       "      <td>0.0</td>\n",
       "      <td>0.0</td>\n",
       "      <td>49.0</td>\n",
       "    </tr>\n",
       "  </tbody>\n",
       "</table>\n",
       "</div>"
      ],
      "text/plain": [
       "     FL_DATE OP_CARRIER  OP_CARRIER_FL_NUM ORIGIN DEST  CARRIER_DELAY  \\\n",
       "0 2009-01-01         UA                 26    LAX  JFK            0.0   \n",
       "1 2009-01-01         UA                 43    DEN  HNL            0.0   \n",
       "2 2009-01-01         UA                 71    DEN  OGG          130.0   \n",
       "3 2009-01-01         UA                 73    SFO  HNL           20.0   \n",
       "4 2009-01-01         UA                 95    EWR  SFO           41.0   \n",
       "\n",
       "   WEATHER_DELAY  NAS_DELAY  SECURITY_DELAY  LATE_AIRCRAFT_DELAY  row_sums  \n",
       "0            0.0        0.0             0.0                 45.0      45.0  \n",
       "1            0.0        0.0             0.0                162.0     162.0  \n",
       "2            0.0        0.0             0.0                  0.0     130.0  \n",
       "3            0.0        0.0             0.0                  0.0      20.0  \n",
       "4            0.0        8.0             0.0                  0.0      49.0  "
      ]
     },
     "execution_count": 7,
     "metadata": {},
     "output_type": "execute_result"
    }
   ],
   "source": [
    "flights.head()"
   ]
  },
  {
   "cell_type": "code",
   "execution_count": 8,
   "id": "12810416",
   "metadata": {},
   "outputs": [
    {
     "data": {
      "text/html": [
       "<div>\n",
       "<style scoped>\n",
       "    .dataframe tbody tr th:only-of-type {\n",
       "        vertical-align: middle;\n",
       "    }\n",
       "\n",
       "    .dataframe tbody tr th {\n",
       "        vertical-align: top;\n",
       "    }\n",
       "\n",
       "    .dataframe thead th {\n",
       "        text-align: right;\n",
       "    }\n",
       "</style>\n",
       "<table border=\"1\" class=\"dataframe\">\n",
       "  <thead>\n",
       "    <tr style=\"text-align: right;\">\n",
       "      <th></th>\n",
       "      <th>FL_DATE</th>\n",
       "      <th>OP_CARRIER</th>\n",
       "      <th>OP_CARRIER_FL_NUM</th>\n",
       "      <th>ORIGIN</th>\n",
       "      <th>DEST</th>\n",
       "      <th>CARRIER_DELAY</th>\n",
       "      <th>WEATHER_DELAY</th>\n",
       "      <th>NAS_DELAY</th>\n",
       "      <th>SECURITY_DELAY</th>\n",
       "      <th>LATE_AIRCRAFT_DELAY</th>\n",
       "      <th>row_sums</th>\n",
       "    </tr>\n",
       "  </thead>\n",
       "  <tbody>\n",
       "    <tr>\n",
       "      <th>0</th>\n",
       "      <td>2009-01-01</td>\n",
       "      <td>UA</td>\n",
       "      <td>26</td>\n",
       "      <td>LAX</td>\n",
       "      <td>JFK</td>\n",
       "      <td>0.0</td>\n",
       "      <td>0.0</td>\n",
       "      <td>0.0</td>\n",
       "      <td>0.0</td>\n",
       "      <td>45.0</td>\n",
       "      <td>45.0</td>\n",
       "    </tr>\n",
       "    <tr>\n",
       "      <th>1</th>\n",
       "      <td>2009-01-01</td>\n",
       "      <td>UA</td>\n",
       "      <td>43</td>\n",
       "      <td>DEN</td>\n",
       "      <td>HNL</td>\n",
       "      <td>0.0</td>\n",
       "      <td>0.0</td>\n",
       "      <td>0.0</td>\n",
       "      <td>0.0</td>\n",
       "      <td>162.0</td>\n",
       "      <td>162.0</td>\n",
       "    </tr>\n",
       "    <tr>\n",
       "      <th>2</th>\n",
       "      <td>2009-01-01</td>\n",
       "      <td>UA</td>\n",
       "      <td>71</td>\n",
       "      <td>DEN</td>\n",
       "      <td>OGG</td>\n",
       "      <td>130.0</td>\n",
       "      <td>0.0</td>\n",
       "      <td>0.0</td>\n",
       "      <td>0.0</td>\n",
       "      <td>0.0</td>\n",
       "      <td>130.0</td>\n",
       "    </tr>\n",
       "    <tr>\n",
       "      <th>3</th>\n",
       "      <td>2009-01-01</td>\n",
       "      <td>UA</td>\n",
       "      <td>73</td>\n",
       "      <td>SFO</td>\n",
       "      <td>HNL</td>\n",
       "      <td>20.0</td>\n",
       "      <td>0.0</td>\n",
       "      <td>0.0</td>\n",
       "      <td>0.0</td>\n",
       "      <td>0.0</td>\n",
       "      <td>20.0</td>\n",
       "    </tr>\n",
       "    <tr>\n",
       "      <th>4</th>\n",
       "      <td>2009-01-01</td>\n",
       "      <td>UA</td>\n",
       "      <td>95</td>\n",
       "      <td>EWR</td>\n",
       "      <td>SFO</td>\n",
       "      <td>41.0</td>\n",
       "      <td>0.0</td>\n",
       "      <td>8.0</td>\n",
       "      <td>0.0</td>\n",
       "      <td>0.0</td>\n",
       "      <td>49.0</td>\n",
       "    </tr>\n",
       "    <tr>\n",
       "      <th>...</th>\n",
       "      <td>...</td>\n",
       "      <td>...</td>\n",
       "      <td>...</td>\n",
       "      <td>...</td>\n",
       "      <td>...</td>\n",
       "      <td>...</td>\n",
       "      <td>...</td>\n",
       "      <td>...</td>\n",
       "      <td>...</td>\n",
       "      <td>...</td>\n",
       "      <td>...</td>\n",
       "    </tr>\n",
       "    <tr>\n",
       "      <th>752462</th>\n",
       "      <td>2019-12-31</td>\n",
       "      <td>UA</td>\n",
       "      <td>299</td>\n",
       "      <td>DEN</td>\n",
       "      <td>ANC</td>\n",
       "      <td>9.0</td>\n",
       "      <td>0.0</td>\n",
       "      <td>21.0</td>\n",
       "      <td>0.0</td>\n",
       "      <td>0.0</td>\n",
       "      <td>30.0</td>\n",
       "    </tr>\n",
       "    <tr>\n",
       "      <th>752463</th>\n",
       "      <td>2019-12-31</td>\n",
       "      <td>UA</td>\n",
       "      <td>288</td>\n",
       "      <td>PHX</td>\n",
       "      <td>EWR</td>\n",
       "      <td>8.0</td>\n",
       "      <td>0.0</td>\n",
       "      <td>0.0</td>\n",
       "      <td>0.0</td>\n",
       "      <td>96.0</td>\n",
       "      <td>104.0</td>\n",
       "    </tr>\n",
       "    <tr>\n",
       "      <th>752464</th>\n",
       "      <td>2019-12-31</td>\n",
       "      <td>UA</td>\n",
       "      <td>282</td>\n",
       "      <td>EWR</td>\n",
       "      <td>DEN</td>\n",
       "      <td>31.0</td>\n",
       "      <td>0.0</td>\n",
       "      <td>0.0</td>\n",
       "      <td>0.0</td>\n",
       "      <td>0.0</td>\n",
       "      <td>31.0</td>\n",
       "    </tr>\n",
       "    <tr>\n",
       "      <th>752465</th>\n",
       "      <td>2019-12-31</td>\n",
       "      <td>UA</td>\n",
       "      <td>260</td>\n",
       "      <td>SEA</td>\n",
       "      <td>IAD</td>\n",
       "      <td>0.0</td>\n",
       "      <td>0.0</td>\n",
       "      <td>0.0</td>\n",
       "      <td>0.0</td>\n",
       "      <td>43.0</td>\n",
       "      <td>43.0</td>\n",
       "    </tr>\n",
       "    <tr>\n",
       "      <th>752466</th>\n",
       "      <td>2019-12-31</td>\n",
       "      <td>UA</td>\n",
       "      <td>242</td>\n",
       "      <td>SFO</td>\n",
       "      <td>BOS</td>\n",
       "      <td>8.0</td>\n",
       "      <td>0.0</td>\n",
       "      <td>9.0</td>\n",
       "      <td>0.0</td>\n",
       "      <td>0.0</td>\n",
       "      <td>17.0</td>\n",
       "    </tr>\n",
       "  </tbody>\n",
       "</table>\n",
       "<p>752467 rows × 11 columns</p>\n",
       "</div>"
      ],
      "text/plain": [
       "          FL_DATE OP_CARRIER  OP_CARRIER_FL_NUM ORIGIN DEST  CARRIER_DELAY  \\\n",
       "0      2009-01-01         UA                 26    LAX  JFK            0.0   \n",
       "1      2009-01-01         UA                 43    DEN  HNL            0.0   \n",
       "2      2009-01-01         UA                 71    DEN  OGG          130.0   \n",
       "3      2009-01-01         UA                 73    SFO  HNL           20.0   \n",
       "4      2009-01-01         UA                 95    EWR  SFO           41.0   \n",
       "...           ...        ...                ...    ...  ...            ...   \n",
       "752462 2019-12-31         UA                299    DEN  ANC            9.0   \n",
       "752463 2019-12-31         UA                288    PHX  EWR            8.0   \n",
       "752464 2019-12-31         UA                282    EWR  DEN           31.0   \n",
       "752465 2019-12-31         UA                260    SEA  IAD            0.0   \n",
       "752466 2019-12-31         UA                242    SFO  BOS            8.0   \n",
       "\n",
       "        WEATHER_DELAY  NAS_DELAY  SECURITY_DELAY  LATE_AIRCRAFT_DELAY  \\\n",
       "0                 0.0        0.0             0.0                 45.0   \n",
       "1                 0.0        0.0             0.0                162.0   \n",
       "2                 0.0        0.0             0.0                  0.0   \n",
       "3                 0.0        0.0             0.0                  0.0   \n",
       "4                 0.0        8.0             0.0                  0.0   \n",
       "...               ...        ...             ...                  ...   \n",
       "752462            0.0       21.0             0.0                  0.0   \n",
       "752463            0.0        0.0             0.0                 96.0   \n",
       "752464            0.0        0.0             0.0                  0.0   \n",
       "752465            0.0        0.0             0.0                 43.0   \n",
       "752466            0.0        9.0             0.0                  0.0   \n",
       "\n",
       "        row_sums  \n",
       "0           45.0  \n",
       "1          162.0  \n",
       "2          130.0  \n",
       "3           20.0  \n",
       "4           49.0  \n",
       "...          ...  \n",
       "752462      30.0  \n",
       "752463     104.0  \n",
       "752464      31.0  \n",
       "752465      43.0  \n",
       "752466      17.0  \n",
       "\n",
       "[752467 rows x 11 columns]"
      ]
     },
     "execution_count": 8,
     "metadata": {},
     "output_type": "execute_result"
    }
   ],
   "source": [
    "flights"
   ]
  },
  {
   "cell_type": "code",
   "execution_count": 7,
   "id": "c3dc1d3f",
   "metadata": {},
   "outputs": [
    {
     "data": {
      "text/html": [
       "<div>\n",
       "<style scoped>\n",
       "    .dataframe tbody tr th:only-of-type {\n",
       "        vertical-align: middle;\n",
       "    }\n",
       "\n",
       "    .dataframe tbody tr th {\n",
       "        vertical-align: top;\n",
       "    }\n",
       "\n",
       "    .dataframe thead th {\n",
       "        text-align: right;\n",
       "    }\n",
       "</style>\n",
       "<table border=\"1\" class=\"dataframe\">\n",
       "  <thead>\n",
       "    <tr style=\"text-align: right;\">\n",
       "      <th></th>\n",
       "      <th>average_delay</th>\n",
       "    </tr>\n",
       "    <tr>\n",
       "      <th>FL_DATE</th>\n",
       "      <th></th>\n",
       "    </tr>\n",
       "  </thead>\n",
       "  <tbody>\n",
       "    <tr>\n",
       "      <th>2009-01-01</th>\n",
       "      <td>9.476331</td>\n",
       "    </tr>\n",
       "    <tr>\n",
       "      <th>2009-01-02</th>\n",
       "      <td>14.867114</td>\n",
       "    </tr>\n",
       "    <tr>\n",
       "      <th>2009-01-03</th>\n",
       "      <td>10.870654</td>\n",
       "    </tr>\n",
       "    <tr>\n",
       "      <th>2009-01-04</th>\n",
       "      <td>6.481283</td>\n",
       "    </tr>\n",
       "    <tr>\n",
       "      <th>2009-01-05</th>\n",
       "      <td>8.797844</td>\n",
       "    </tr>\n",
       "  </tbody>\n",
       "</table>\n",
       "</div>"
      ],
      "text/plain": [
       "            average_delay\n",
       "FL_DATE                  \n",
       "2009-01-01       9.476331\n",
       "2009-01-02      14.867114\n",
       "2009-01-03      10.870654\n",
       "2009-01-04       6.481283\n",
       "2009-01-05       8.797844"
      ]
     },
     "execution_count": 7,
     "metadata": {},
     "output_type": "execute_result"
    }
   ],
   "source": [
    "df.head()"
   ]
  },
  {
   "cell_type": "code",
   "execution_count": 8,
   "id": "a39c713c",
   "metadata": {},
   "outputs": [
    {
     "data": {
      "text/html": [
       "<div>\n",
       "<style scoped>\n",
       "    .dataframe tbody tr th:only-of-type {\n",
       "        vertical-align: middle;\n",
       "    }\n",
       "\n",
       "    .dataframe tbody tr th {\n",
       "        vertical-align: top;\n",
       "    }\n",
       "\n",
       "    .dataframe thead th {\n",
       "        text-align: right;\n",
       "    }\n",
       "</style>\n",
       "<table border=\"1\" class=\"dataframe\">\n",
       "  <thead>\n",
       "    <tr style=\"text-align: right;\">\n",
       "      <th></th>\n",
       "      <th>OP_CARRIER_FL_NUM</th>\n",
       "      <th>CARRIER_DELAY</th>\n",
       "      <th>WEATHER_DELAY</th>\n",
       "      <th>NAS_DELAY</th>\n",
       "      <th>SECURITY_DELAY</th>\n",
       "      <th>LATE_AIRCRAFT_DELAY</th>\n",
       "      <th>sum_rows</th>\n",
       "    </tr>\n",
       "  </thead>\n",
       "  <tbody>\n",
       "    <tr>\n",
       "      <th>count</th>\n",
       "      <td>3.725571e+06</td>\n",
       "      <td>3.725571e+06</td>\n",
       "      <td>3.725571e+06</td>\n",
       "      <td>3.725571e+06</td>\n",
       "      <td>3.725571e+06</td>\n",
       "      <td>3.725571e+06</td>\n",
       "      <td>3.725571e+06</td>\n",
       "    </tr>\n",
       "    <tr>\n",
       "      <th>mean</th>\n",
       "      <td>9.536500e+02</td>\n",
       "      <td>3.623365e+00</td>\n",
       "      <td>5.865157e-01</td>\n",
       "      <td>3.317224e+00</td>\n",
       "      <td>5.332069e-03</td>\n",
       "      <td>5.132905e+00</td>\n",
       "      <td>9.663154e+02</td>\n",
       "    </tr>\n",
       "    <tr>\n",
       "      <th>std</th>\n",
       "      <td>5.999682e+02</td>\n",
       "      <td>1.941433e+01</td>\n",
       "      <td>9.847467e+00</td>\n",
       "      <td>1.560652e+01</td>\n",
       "      <td>7.080802e-01</td>\n",
       "      <td>2.445621e+01</td>\n",
       "      <td>6.018641e+02</td>\n",
       "    </tr>\n",
       "    <tr>\n",
       "      <th>min</th>\n",
       "      <td>1.000000e+00</td>\n",
       "      <td>0.000000e+00</td>\n",
       "      <td>0.000000e+00</td>\n",
       "      <td>0.000000e+00</td>\n",
       "      <td>0.000000e+00</td>\n",
       "      <td>0.000000e+00</td>\n",
       "      <td>1.000000e+00</td>\n",
       "    </tr>\n",
       "    <tr>\n",
       "      <th>25%</th>\n",
       "      <td>4.540000e+02</td>\n",
       "      <td>0.000000e+00</td>\n",
       "      <td>0.000000e+00</td>\n",
       "      <td>0.000000e+00</td>\n",
       "      <td>0.000000e+00</td>\n",
       "      <td>0.000000e+00</td>\n",
       "      <td>4.650000e+02</td>\n",
       "    </tr>\n",
       "    <tr>\n",
       "      <th>50%</th>\n",
       "      <td>7.790000e+02</td>\n",
       "      <td>0.000000e+00</td>\n",
       "      <td>0.000000e+00</td>\n",
       "      <td>0.000000e+00</td>\n",
       "      <td>0.000000e+00</td>\n",
       "      <td>0.000000e+00</td>\n",
       "      <td>7.930000e+02</td>\n",
       "    </tr>\n",
       "    <tr>\n",
       "      <th>75%</th>\n",
       "      <td>1.471000e+03</td>\n",
       "      <td>0.000000e+00</td>\n",
       "      <td>0.000000e+00</td>\n",
       "      <td>0.000000e+00</td>\n",
       "      <td>0.000000e+00</td>\n",
       "      <td>0.000000e+00</td>\n",
       "      <td>1.482000e+03</td>\n",
       "    </tr>\n",
       "    <tr>\n",
       "      <th>max</th>\n",
       "      <td>2.833000e+03</td>\n",
       "      <td>1.405000e+03</td>\n",
       "      <td>1.239000e+03</td>\n",
       "      <td>1.041000e+03</td>\n",
       "      <td>3.490000e+02</td>\n",
       "      <td>1.365000e+03</td>\n",
       "      <td>3.718000e+03</td>\n",
       "    </tr>\n",
       "  </tbody>\n",
       "</table>\n",
       "</div>"
      ],
      "text/plain": [
       "       OP_CARRIER_FL_NUM  CARRIER_DELAY  WEATHER_DELAY     NAS_DELAY  \\\n",
       "count       3.725571e+06   3.725571e+06   3.725571e+06  3.725571e+06   \n",
       "mean        9.536500e+02   3.623365e+00   5.865157e-01  3.317224e+00   \n",
       "std         5.999682e+02   1.941433e+01   9.847467e+00  1.560652e+01   \n",
       "min         1.000000e+00   0.000000e+00   0.000000e+00  0.000000e+00   \n",
       "25%         4.540000e+02   0.000000e+00   0.000000e+00  0.000000e+00   \n",
       "50%         7.790000e+02   0.000000e+00   0.000000e+00  0.000000e+00   \n",
       "75%         1.471000e+03   0.000000e+00   0.000000e+00  0.000000e+00   \n",
       "max         2.833000e+03   1.405000e+03   1.239000e+03  1.041000e+03   \n",
       "\n",
       "       SECURITY_DELAY  LATE_AIRCRAFT_DELAY      sum_rows  \n",
       "count    3.725571e+06         3.725571e+06  3.725571e+06  \n",
       "mean     5.332069e-03         5.132905e+00  9.663154e+02  \n",
       "std      7.080802e-01         2.445621e+01  6.018641e+02  \n",
       "min      0.000000e+00         0.000000e+00  1.000000e+00  \n",
       "25%      0.000000e+00         0.000000e+00  4.650000e+02  \n",
       "50%      0.000000e+00         0.000000e+00  7.930000e+02  \n",
       "75%      0.000000e+00         0.000000e+00  1.482000e+03  \n",
       "max      3.490000e+02         1.365000e+03  3.718000e+03  "
      ]
     },
     "execution_count": 8,
     "metadata": {},
     "output_type": "execute_result"
    }
   ],
   "source": [
    "flights.describe()"
   ]
  },
  {
   "cell_type": "code",
   "execution_count": 16,
   "id": "506db096",
   "metadata": {},
   "outputs": [
    {
     "data": {
      "text/plain": [
       "0          0.0\n",
       "1          0.0\n",
       "2          0.0\n",
       "3          0.0\n",
       "4          0.0\n",
       "          ... \n",
       "3725566    0.0\n",
       "3725567    0.0\n",
       "3725568    0.0\n",
       "3725569    0.0\n",
       "3725570    0.0\n",
       "Length: 3725571, dtype: float64"
      ]
     },
     "execution_count": 16,
     "metadata": {},
     "output_type": "execute_result"
    }
   ],
   "source": [
    "row_sums = flights[['CARRIER_DELAY', 'WEATHER_DELAY', 'NAS_DELAY', 'SECURITY_DELAY', 'LATE_AIRCRAFT_DELAY']].sum(axis=1)\n",
    "row_sums"
   ]
  },
  {
   "cell_type": "code",
   "execution_count": 24,
   "id": "8e6f99ed",
   "metadata": {},
   "outputs": [],
   "source": [
    "top_15_hubs = ['ATL',\n",
    "'DFW',\n",
    "'DEN',\n",
    "'ORD',\n",
    "'LAX',\n",
    "'JFK',\n",
    "'IAH',\n",
    "'PHX',\n",
    "'EWR',\n",
    "'SFO',\n",
    "'SEA',\n",
    "'IAD',\n",
    "'PHL',\n",
    "'CLT',\n",
    "'MIA']"
   ]
  },
  {
   "cell_type": "code",
   "execution_count": 10,
   "id": "151985e8",
   "metadata": {
    "scrolled": true
   },
   "outputs": [
    {
     "data": {
      "text/plain": [
       "ORIGIN    15\n",
       "dtype: int64"
      ]
     },
     "execution_count": 10,
     "metadata": {},
     "output_type": "execute_result"
    }
   ],
   "source": [
    "list_of_airports = flights['ORIGIN'].value_counts()\n",
    "list_of_airports = pd.DataFrame(list_of_airports)\n",
    "list_of_airports.nunique()"
   ]
  },
  {
   "cell_type": "code",
   "execution_count": 12,
   "id": "24743749",
   "metadata": {},
   "outputs": [
    {
     "data": {
      "text/html": [
       "<div>\n",
       "<style scoped>\n",
       "    .dataframe tbody tr th:only-of-type {\n",
       "        vertical-align: middle;\n",
       "    }\n",
       "\n",
       "    .dataframe tbody tr th {\n",
       "        vertical-align: top;\n",
       "    }\n",
       "\n",
       "    .dataframe thead th {\n",
       "        text-align: right;\n",
       "    }\n",
       "</style>\n",
       "<table border=\"1\" class=\"dataframe\">\n",
       "  <thead>\n",
       "    <tr style=\"text-align: right;\">\n",
       "      <th></th>\n",
       "      <th>ORIGIN</th>\n",
       "    </tr>\n",
       "  </thead>\n",
       "  <tbody>\n",
       "    <tr>\n",
       "      <th>ORD</th>\n",
       "      <td>738010</td>\n",
       "    </tr>\n",
       "    <tr>\n",
       "      <th>DEN</th>\n",
       "      <td>597180</td>\n",
       "    </tr>\n",
       "    <tr>\n",
       "      <th>SFO</th>\n",
       "      <td>544255</td>\n",
       "    </tr>\n",
       "    <tr>\n",
       "      <th>IAH</th>\n",
       "      <td>497191</td>\n",
       "    </tr>\n",
       "    <tr>\n",
       "      <th>EWR</th>\n",
       "      <td>417042</td>\n",
       "    </tr>\n",
       "    <tr>\n",
       "      <th>LAX</th>\n",
       "      <td>314312</td>\n",
       "    </tr>\n",
       "    <tr>\n",
       "      <th>IAD</th>\n",
       "      <td>257350</td>\n",
       "    </tr>\n",
       "    <tr>\n",
       "      <th>SEA</th>\n",
       "      <td>101293</td>\n",
       "    </tr>\n",
       "    <tr>\n",
       "      <th>PHX</th>\n",
       "      <td>67225</td>\n",
       "    </tr>\n",
       "    <tr>\n",
       "      <th>DFW</th>\n",
       "      <td>47120</td>\n",
       "    </tr>\n",
       "    <tr>\n",
       "      <th>PHL</th>\n",
       "      <td>45252</td>\n",
       "    </tr>\n",
       "    <tr>\n",
       "      <th>MIA</th>\n",
       "      <td>31973</td>\n",
       "    </tr>\n",
       "    <tr>\n",
       "      <th>JFK</th>\n",
       "      <td>30959</td>\n",
       "    </tr>\n",
       "    <tr>\n",
       "      <th>ATL</th>\n",
       "      <td>28360</td>\n",
       "    </tr>\n",
       "    <tr>\n",
       "      <th>CLT</th>\n",
       "      <td>8049</td>\n",
       "    </tr>\n",
       "  </tbody>\n",
       "</table>\n",
       "</div>"
      ],
      "text/plain": [
       "     ORIGIN\n",
       "ORD  738010\n",
       "DEN  597180\n",
       "SFO  544255\n",
       "IAH  497191\n",
       "EWR  417042\n",
       "LAX  314312\n",
       "IAD  257350\n",
       "SEA  101293\n",
       "PHX   67225\n",
       "DFW   47120\n",
       "PHL   45252\n",
       "MIA   31973\n",
       "JFK   30959\n",
       "ATL   28360\n",
       "CLT    8049"
      ]
     },
     "execution_count": 12,
     "metadata": {},
     "output_type": "execute_result"
    }
   ],
   "source": [
    "list_of_airports.head(15)"
   ]
  },
  {
   "cell_type": "markdown",
   "id": "18d2e707",
   "metadata": {},
   "source": [
    "### How are these columns related and how can I combine them"
   ]
  },
  {
   "cell_type": "markdown",
   "id": "a19c14e0",
   "metadata": {},
   "source": [
    "### Compare the columns by various measures"
   ]
  },
  {
   "cell_type": "code",
   "execution_count": null,
   "id": "df0a4d6d",
   "metadata": {},
   "outputs": [],
   "source": [
    "#Fills in nulls as zero as null means no delay\n",
    "flights.fillna(0, inplace=True)\n",
    "#Makes FL_DATE column a datetime datatype\n",
    "flights.FL_DATE = flights.FL_DATE.astype('datetime64')\n",
    "#Makes FL_DATE the index\n",
    "# flights = flights.set_index('FL_DATE')"
   ]
  },
  {
   "cell_type": "code",
   "execution_count": null,
   "id": "8cfefea1",
   "metadata": {},
   "outputs": [],
   "source": [
    "flights_cat = flights\n",
    "flights_cat['carrier'] = flights_cat.CARRIER_DELAY > 0"
   ]
  },
  {
   "cell_type": "code",
   "execution_count": null,
   "id": "e0f5be67",
   "metadata": {},
   "outputs": [],
   "source": [
    "flights_cat['weather'] = flights_cat.WEATHER_DELAY > 0"
   ]
  },
  {
   "cell_type": "code",
   "execution_count": null,
   "id": "c3bd0770",
   "metadata": {},
   "outputs": [],
   "source": [
    "flights_cat['nas'] = flights_cat.NAS_DELAY > 0"
   ]
  },
  {
   "cell_type": "code",
   "execution_count": null,
   "id": "0414e31e",
   "metadata": {},
   "outputs": [],
   "source": [
    "flights_cat['security'] = flights_cat.SECURITY_DELAY > 0"
   ]
  },
  {
   "cell_type": "code",
   "execution_count": null,
   "id": "8e8c07b6",
   "metadata": {},
   "outputs": [],
   "source": [
    "flights_cat['late_aircraft'] = flights_cat.LATE_AIRCRAFT_DELAY > 0"
   ]
  },
  {
   "cell_type": "code",
   "execution_count": null,
   "id": "e00fa04f",
   "metadata": {},
   "outputs": [],
   "source": [
    "flights_cat.drop(columns=['OP_CARRIER', 'CARRIER_DELAY', 'WEATHER_DELAY', 'NAS_DELAY', 'SECURITY_DELAY', 'LATE_AIRCRAFT_DELAY'])"
   ]
  },
  {
   "cell_type": "markdown",
   "id": "d9c84745",
   "metadata": {},
   "source": [
    "### At first glance it seems weird that weather does not have as many rows as the rest.  As a pilot I thought that weather dominates the delays so I wondered why this is the case."
   ]
  },
  {
   "cell_type": "markdown",
   "id": "cf9114d4",
   "metadata": {},
   "source": [
    "### It seems that the NAS data includes non extreme weater as does carrier and late aircraft delay."
   ]
  },
  {
   "cell_type": "code",
   "execution_count": null,
   "id": "96283177",
   "metadata": {},
   "outputs": [],
   "source": [
    "dep = pd.crosstab(flights_cat.FL_DATE, [flights_cat.carrier, flights_cat.weather, flights_cat.nas, flights_cat.security, flights_cat.late_aircraft])"
   ]
  },
  {
   "cell_type": "markdown",
   "id": "962cf111",
   "metadata": {},
   "source": [
    "### Chi squared\n",
    "* Null Hypothesis:  These delay types are independent of each other\n",
    "* Alternative Hypothesis:  These types are dependent on each other\n",
    "* Alpha < 0.05"
   ]
  },
  {
   "cell_type": "code",
   "execution_count": null,
   "id": "0ac0fff8",
   "metadata": {},
   "outputs": [],
   "source": [
    "dep"
   ]
  },
  {
   "cell_type": "code",
   "execution_count": null,
   "id": "06d3ecdc",
   "metadata": {},
   "outputs": [],
   "source": [
    "chi2, p, degf, expected = stats.chi2_contingency(dep)"
   ]
  },
  {
   "cell_type": "code",
   "execution_count": null,
   "id": "83c9da68",
   "metadata": {},
   "outputs": [],
   "source": [
    "chi2, p"
   ]
  },
  {
   "cell_type": "markdown",
   "id": "9454f143",
   "metadata": {},
   "source": [
    "#### There is sufficient evidence to reject the null.  They are dependent on each other."
   ]
  },
  {
   "cell_type": "markdown",
   "id": "4e396169",
   "metadata": {},
   "source": [
    "#### This suggests that there may bee some sort of overlap.  A quick look at the NAS delays shows that minor weather phenomena show up in the NAS as opposed to weather.  Also a weather delay on one leg of an airplanes trip seems to turn into a carrier delay on the next."
   ]
  },
  {
   "cell_type": "markdown",
   "id": "76d74ddc",
   "metadata": {},
   "source": []
  },
  {
   "cell_type": "markdown",
   "id": "a6b7e506",
   "metadata": {},
   "source": [
    "### A look at histograms"
   ]
  },
  {
   "cell_type": "code",
   "execution_count": null,
   "id": "6062323e",
   "metadata": {},
   "outputs": [],
   "source": [
    "plt.hist(flights.CARRIER_DELAY, bins=100)"
   ]
  },
  {
   "cell_type": "code",
   "execution_count": null,
   "id": "62dbdda4",
   "metadata": {},
   "outputs": [],
   "source": [
    "plt.hist(flights.WEATHER_DELAY, bins=100)"
   ]
  },
  {
   "cell_type": "code",
   "execution_count": null,
   "id": "0a531cb7",
   "metadata": {},
   "outputs": [],
   "source": [
    "plt.hist(flights.NAS_DELAY, bins=100)"
   ]
  },
  {
   "cell_type": "code",
   "execution_count": null,
   "id": "e08ed793",
   "metadata": {},
   "outputs": [],
   "source": [
    "plt.hist(flights.SECURITY_DELAY, bins=100)"
   ]
  },
  {
   "cell_type": "code",
   "execution_count": null,
   "id": "3069e724",
   "metadata": {},
   "outputs": [],
   "source": [
    "plt.hist(flights.LATE_AIRCRAFT_DELAY, bins=100)"
   ]
  },
  {
   "cell_type": "markdown",
   "id": "e895b097",
   "metadata": {},
   "source": [
    "#### Skewed makes a whole lot of sense.  Nothing unexpected here."
   ]
  },
  {
   "cell_type": "markdown",
   "id": "494f71b7",
   "metadata": {},
   "source": [
    "### THERE IS sufficient evidence that I can combine these columns in feature engineering."
   ]
  },
  {
   "cell_type": "markdown",
   "id": "3fd4e479",
   "metadata": {},
   "source": [
    "### Resample my data by daily mean delays"
   ]
  },
  {
   "cell_type": "code",
   "execution_count": null,
   "id": "9c25eddb",
   "metadata": {},
   "outputs": [],
   "source": [
    "flights_daily_mean = wrangle.clean_flight_data_for_average_daily_delay(flights)"
   ]
  },
  {
   "cell_type": "code",
   "execution_count": null,
   "id": "ce5b0ea2",
   "metadata": {},
   "outputs": [],
   "source": [
    "flights_daily_mean.sort_index()"
   ]
  },
  {
   "cell_type": "code",
   "execution_count": null,
   "id": "9fc4c820",
   "metadata": {},
   "outputs": [],
   "source": [
    "flights_daily_mean.isna().sum()"
   ]
  },
  {
   "cell_type": "markdown",
   "id": "3a18a56c",
   "metadata": {},
   "source": [
    "### Find the best interval to define average delay by to optimize reducing noise while keeping good correlation results"
   ]
  },
  {
   "cell_type": "code",
   "execution_count": null,
   "id": "36a2db67",
   "metadata": {
    "scrolled": false
   },
   "outputs": [],
   "source": [
    "def plot_average_by_interval():\n",
    "    \n",
    "    resample_dict = {'D':'Daily', 'W':'Weekly', '2W':'FORTNIGHTLY', 'M':'Monthly', '3M':'Quarterly', '6M':'Semi-Annually', 'Y':'Yearly'}\n",
    "\n",
    "    for _ in resample_dict:\n",
    "        plt.figure(figsize=(10,6))\n",
    "\n",
    "        flights_daily_mean.resample(_).mean().average_delay.plot(label='daily')\n",
    "        # flights_daily_mean.resample('W').mean().average_delay.plot(label='weekly')\n",
    "        # flights_daily_mean.resample('M').mean().average_delay.plot(label='monthly')\n",
    "        # flights_daily_mean.resample('Y').mean().average_delay.plot(label='yearly')\n",
    "\n",
    "\n",
    "        plt.title(f'{resample_dict[_][0:]} Average Delay')\n",
    "        plt.legend()\n",
    "        plt.show()\n",
    "\n",
    "        pd.plotting.autocorrelation_plot(flights_daily_mean.average_delay.resample(_).mean())\n",
    "        plt.show()\n",
    "\n",
    "plot_average_by_interval()"
   ]
  },
  {
   "cell_type": "markdown",
   "id": "2af80e32",
   "metadata": {},
   "source": [
    "### Plot the best lag plot based on the airline.  The best will always be 365"
   ]
  },
  {
   "cell_type": "code",
   "execution_count": null,
   "id": "27c1d686",
   "metadata": {
    "scrolled": false
   },
   "outputs": [],
   "source": [
    "def plot_best_lag_plot():\n",
    "\n",
    "    #Plots the best correlated lag\n",
    "    pd.plotting.lag_plot(flights_daily_mean.resample('W').mean(), lag=365)\n",
    "    plt.title('lag plot');\n",
    "\n",
    "plot_best_lag_plot()"
   ]
  },
  {
   "cell_type": "markdown",
   "id": "d8183bfb",
   "metadata": {},
   "source": [
    "### Split the data by year"
   ]
  },
  {
   "cell_type": "code",
   "execution_count": null,
   "id": "8c608aba",
   "metadata": {},
   "outputs": [],
   "source": [
    "train = flights_daily_mean.iloc[:2016] \n",
    "test = flights_daily_mean.iloc[2016:] \n",
    "train.loc['2009-09-30':]"
   ]
  },
  {
   "cell_type": "code",
   "execution_count": null,
   "id": "507e9d7a",
   "metadata": {},
   "outputs": [],
   "source": [
    "test"
   ]
  },
  {
   "cell_type": "markdown",
   "id": "6abe8f31",
   "metadata": {},
   "source": [
    "### Plot the seasonal decompositions for the various time periods"
   ]
  },
  {
   "cell_type": "code",
   "execution_count": null,
   "id": "301a4ea7",
   "metadata": {},
   "outputs": [],
   "source": [
    "y = train.average_delay.resample('d').mean()\n",
    "\n",
    "result = sm.tsa.seasonal_decompose(y)\n",
    "\n",
    "decomposition = pd.DataFrame({\n",
    "    'y': result.observed,\n",
    "    'trend': result.trend,\n",
    "    'seasonal': result.seasonal,\n",
    "    'resid': result.resid\n",
    "})\n",
    "\n",
    "decomposition['trend_centered'] = decomposition.trend - decomposition.trend.mean()\n",
    "decomposition[['trend_centered', 'seasonal', 'resid']].plot();"
   ]
  },
  {
   "cell_type": "code",
   "execution_count": null,
   "id": "e20f7b71",
   "metadata": {},
   "outputs": [],
   "source": [
    "y = train.average_delay.resample('w').mean()\n",
    "\n",
    "result = sm.tsa.seasonal_decompose(y)\n",
    "\n",
    "decomposition = pd.DataFrame({\n",
    "    'y': result.observed,\n",
    "    'trend': result.trend,\n",
    "    'seasonal': result.seasonal,\n",
    "    'resid': result.resid\n",
    "})\n",
    "\n",
    "decomposition['trend_centered'] = decomposition.trend - decomposition.trend.mean()\n",
    "decomposition[['trend_centered', 'seasonal', 'resid']].plot();"
   ]
  },
  {
   "cell_type": "code",
   "execution_count": null,
   "id": "5fd94c66",
   "metadata": {},
   "outputs": [],
   "source": [
    "def seasonal_decomposition_plot(duration):\n",
    "    y = train.average_delay.resample(duration).mean()\n",
    "\n",
    "    result = sm.tsa.seasonal_decompose(y)\n",
    "\n",
    "    decomposition = pd.DataFrame({\n",
    "        'y': result.observed,\n",
    "        'trend': result.trend,\n",
    "        'seasonal': result.seasonal,\n",
    "        'resid': result.resid\n",
    "    })\n",
    "\n",
    "    decomposition['trend_centered'] = decomposition.trend - decomposition.trend.mean()\n",
    "    decomposition[['trend_centered', 'seasonal', 'resid']].plot();\n",
    "    \n",
    "seasonal_decomposition_plot('2w')"
   ]
  },
  {
   "cell_type": "code",
   "execution_count": null,
   "id": "a541c094",
   "metadata": {},
   "outputs": [],
   "source": [
    "y = train.average_delay.resample('m').mean()\n",
    "\n",
    "result = sm.tsa.seasonal_decompose(y)\n",
    "\n",
    "decomposition = pd.DataFrame({\n",
    "    'y': result.observed,\n",
    "    'trend': result.trend,\n",
    "    'seasonal': result.seasonal,\n",
    "    'resid': result.resid\n",
    "})\n",
    "\n",
    "decomposition['trend_centered'] = decomposition.trend - decomposition.trend.mean()\n",
    "decomposition[['trend_centered', 'seasonal', 'resid']].plot();"
   ]
  },
  {
   "cell_type": "code",
   "execution_count": null,
   "id": "ae2ae4ea",
   "metadata": {},
   "outputs": [],
   "source": [
    "y = train.average_delay.resample('3m').mean()\n",
    "\n",
    "result = sm.tsa.seasonal_decompose(y)\n",
    "\n",
    "decomposition = pd.DataFrame({\n",
    "    'y': result.observed,\n",
    "    'trend': result.trend,\n",
    "    'seasonal': result.seasonal,\n",
    "    'resid': result.resid\n",
    "})\n",
    "\n",
    "decomposition['trend_centered'] = decomposition.trend - decomposition.trend.mean()\n",
    "decomposition[['trend_centered', 'seasonal', 'resid']].plot();"
   ]
  },
  {
   "cell_type": "code",
   "execution_count": null,
   "id": "0cd852a6",
   "metadata": {},
   "outputs": [],
   "source": [
    "y = train.average_delay.resample('6m').mean()\n",
    "\n",
    "result = sm.tsa.seasonal_decompose(y)\n",
    "\n",
    "decomposition = pd.DataFrame({\n",
    "    'y': result.observed,\n",
    "    'trend': result.trend,\n",
    "    'seasonal': result.seasonal,\n",
    "    'resid': result.resid\n",
    "})\n",
    "\n",
    "decomposition['trend_centered'] = decomposition.trend - decomposition.trend.mean()\n",
    "decomposition[['trend_centered', 'seasonal', 'resid']].plot();"
   ]
  },
  {
   "cell_type": "code",
   "execution_count": null,
   "id": "8a6ccdb9",
   "metadata": {},
   "outputs": [],
   "source": [
    "y = train.average_delay.resample('y').mean()\n",
    "\n",
    "result = sm.tsa.seasonal_decompose(y)\n",
    "\n",
    "decomposition = pd.DataFrame({\n",
    "    'y': result.observed,\n",
    "    'trend': result.trend,\n",
    "    'seasonal': result.seasonal,\n",
    "    'resid': result.resid\n",
    "})\n",
    "\n",
    "decomposition['trend_centered'] = decomposition.trend - decomposition.trend.mean()\n",
    "decomposition[['trend_centered', 'seasonal', 'resid']].plot();"
   ]
  },
  {
   "cell_type": "markdown",
   "id": "f1ea4fa6",
   "metadata": {},
   "source": [
    "### Once again the best period to resample by seems to be 2 weeks or a fortnight"
   ]
  },
  {
   "cell_type": "code",
   "execution_count": null,
   "id": "68db01b0",
   "metadata": {},
   "outputs": [],
   "source": []
  },
  {
   "cell_type": "code",
   "execution_count": null,
   "id": "950a475c",
   "metadata": {},
   "outputs": [],
   "source": []
  },
  {
   "cell_type": "code",
   "execution_count": null,
   "id": "80ac1d7a",
   "metadata": {},
   "outputs": [],
   "source": []
  }
 ],
 "metadata": {
  "kernelspec": {
   "display_name": "Python 3 (ipykernel)",
   "language": "python",
   "name": "python3"
  },
  "language_info": {
   "codemirror_mode": {
    "name": "ipython",
    "version": 3
   },
   "file_extension": ".py",
   "mimetype": "text/x-python",
   "name": "python",
   "nbconvert_exporter": "python",
   "pygments_lexer": "ipython3",
   "version": "3.10.9"
  }
 },
 "nbformat": 4,
 "nbformat_minor": 5
}
