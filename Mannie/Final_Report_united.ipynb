{
 "cells": [
  {
   "cell_type": "markdown",
   "id": "premier-milan",
   "metadata": {},
   "source": [
    "# Flight Solutions\n"
   ]
  },
  {
   "cell_type": "markdown",
   "id": "04afb41e",
   "metadata": {},
   "source": [
    "# Goals\n",
    "* ML analysis model that decodes a decade of flight data to predict and manage airline delay.\n",
    "* Optimize operations, enhance passenger experience."
   ]
  },
  {
   "cell_type": "markdown",
   "id": "going-assembly",
   "metadata": {},
   "source": [
    "## Imports"
   ]
  },
  {
   "cell_type": "code",
   "execution_count": 1,
   "id": "divided-poster",
   "metadata": {},
   "outputs": [],
   "source": [
    "# importing the necessary libraries to run the code\n",
    "import pandas as pd\n",
    "\n",
    "import seaborn as sns\n",
    "import matplotlib.pyplot as plt\n",
    "import scipy.stats as stats\n",
    "from math import sqrt\n",
    "import wrangle\n",
    "# from wrangle import \n",
    "\n",
    "import explore as e\n",
    "# # from explore import \n",
    "import model as m\n",
    "# from modeling import \n",
    "# from modeling import\n",
    "\n",
    "import warnings\n",
    "warnings.filterwarnings(\"ignore\")"
   ]
  },
  {
   "cell_type": "markdown",
   "id": "criminal-glory",
   "metadata": {},
   "source": [
    "## Acquire\n",
    "\n",
    "* Aquire data from https://data.world/food/wine-quality\n",
    "* Octber 2009 and July 2011 are missing the entire months of data.\n",
    "* Each observation represent an average delay for that day.\n",
    "* We are measuring the average delays for each day for the last ten years"
   ]
  },
  {
   "cell_type": "markdown",
   "id": "impossible-bible",
   "metadata": {},
   "source": [
    "## Prepare\n",
    "\n",
    "* Checked for nulls in the data (there were none)\n",
    "* Checked fi]or duplicates (there were none)\n",
    "* Filter flight data to only rows with delays.\n",
    "* Filter the data to to four airlines: Delta, American, Southwest, and United Airlines.\n",
    "* Filter the data to include only the top 15 Class B Airlines.\n",
    "* Split data into train, validate and test.\n",
    "* Outliers have not been removed for this iteration of the project."
   ]
  },
  {
   "cell_type": "code",
   "execution_count": 2,
   "id": "186b2dfe",
   "metadata": {},
   "outputs": [],
   "source": [
    "# used my wrangle function that acquires, preps and cleans the data\n",
    "flights = wrangle.pull_airline_data('UA')\n",
    "df = wrangle.clean_flight_data_for_average_daily_delay(flights)\n",
    "\n",
    "# splits data train, validate, test\n",
    "train, validate, test = m.train_test_split(df, '2W')\n",
    "train_fl, validate_fl, test_fl = m.train_fl_test_fl_split(flights, '2W')"
   ]
  },
  {
   "cell_type": "markdown",
   "id": "0d9f6680",
   "metadata": {},
   "source": [
    "# Data At a Glance"
   ]
  },
  {
   "cell_type": "code",
   "execution_count": 3,
   "id": "0819253c",
   "metadata": {},
   "outputs": [
    {
     "data": {
      "text/html": [
       "<div>\n",
       "<style scoped>\n",
       "    .dataframe tbody tr th:only-of-type {\n",
       "        vertical-align: middle;\n",
       "    }\n",
       "\n",
       "    .dataframe tbody tr th {\n",
       "        vertical-align: top;\n",
       "    }\n",
       "\n",
       "    .dataframe thead th {\n",
       "        text-align: right;\n",
       "    }\n",
       "</style>\n",
       "<table border=\"1\" class=\"dataframe\">\n",
       "  <thead>\n",
       "    <tr style=\"text-align: right;\">\n",
       "      <th></th>\n",
       "      <th>OP_CARRIER</th>\n",
       "      <th>OP_CARRIER_FL_NUM</th>\n",
       "      <th>ORIGIN</th>\n",
       "      <th>DEST</th>\n",
       "      <th>CARRIER_DELAY</th>\n",
       "      <th>WEATHER_DELAY</th>\n",
       "      <th>NAS_DELAY</th>\n",
       "      <th>SECURITY_DELAY</th>\n",
       "      <th>LATE_AIRCRAFT_DELAY</th>\n",
       "      <th>row_sums</th>\n",
       "    </tr>\n",
       "    <tr>\n",
       "      <th>FL_DATE</th>\n",
       "      <th></th>\n",
       "      <th></th>\n",
       "      <th></th>\n",
       "      <th></th>\n",
       "      <th></th>\n",
       "      <th></th>\n",
       "      <th></th>\n",
       "      <th></th>\n",
       "      <th></th>\n",
       "      <th></th>\n",
       "    </tr>\n",
       "  </thead>\n",
       "  <tbody>\n",
       "    <tr>\n",
       "      <th>2009-01-01</th>\n",
       "      <td>UA</td>\n",
       "      <td>26</td>\n",
       "      <td>LAX</td>\n",
       "      <td>JFK</td>\n",
       "      <td>0.0</td>\n",
       "      <td>0.0</td>\n",
       "      <td>0.0</td>\n",
       "      <td>0.0</td>\n",
       "      <td>45.0</td>\n",
       "      <td>45.0</td>\n",
       "    </tr>\n",
       "    <tr>\n",
       "      <th>2009-01-01</th>\n",
       "      <td>UA</td>\n",
       "      <td>43</td>\n",
       "      <td>DEN</td>\n",
       "      <td>HNL</td>\n",
       "      <td>0.0</td>\n",
       "      <td>0.0</td>\n",
       "      <td>0.0</td>\n",
       "      <td>0.0</td>\n",
       "      <td>162.0</td>\n",
       "      <td>162.0</td>\n",
       "    </tr>\n",
       "    <tr>\n",
       "      <th>2009-01-01</th>\n",
       "      <td>UA</td>\n",
       "      <td>71</td>\n",
       "      <td>DEN</td>\n",
       "      <td>OGG</td>\n",
       "      <td>130.0</td>\n",
       "      <td>0.0</td>\n",
       "      <td>0.0</td>\n",
       "      <td>0.0</td>\n",
       "      <td>0.0</td>\n",
       "      <td>130.0</td>\n",
       "    </tr>\n",
       "    <tr>\n",
       "      <th>2009-01-01</th>\n",
       "      <td>UA</td>\n",
       "      <td>73</td>\n",
       "      <td>SFO</td>\n",
       "      <td>HNL</td>\n",
       "      <td>20.0</td>\n",
       "      <td>0.0</td>\n",
       "      <td>0.0</td>\n",
       "      <td>0.0</td>\n",
       "      <td>0.0</td>\n",
       "      <td>20.0</td>\n",
       "    </tr>\n",
       "    <tr>\n",
       "      <th>2009-01-01</th>\n",
       "      <td>UA</td>\n",
       "      <td>95</td>\n",
       "      <td>EWR</td>\n",
       "      <td>SFO</td>\n",
       "      <td>41.0</td>\n",
       "      <td>0.0</td>\n",
       "      <td>8.0</td>\n",
       "      <td>0.0</td>\n",
       "      <td>0.0</td>\n",
       "      <td>49.0</td>\n",
       "    </tr>\n",
       "  </tbody>\n",
       "</table>\n",
       "</div>"
      ],
      "text/plain": [
       "           OP_CARRIER  OP_CARRIER_FL_NUM ORIGIN DEST  CARRIER_DELAY  \\\n",
       "FL_DATE                                                               \n",
       "2009-01-01         UA                 26    LAX  JFK            0.0   \n",
       "2009-01-01         UA                 43    DEN  HNL            0.0   \n",
       "2009-01-01         UA                 71    DEN  OGG          130.0   \n",
       "2009-01-01         UA                 73    SFO  HNL           20.0   \n",
       "2009-01-01         UA                 95    EWR  SFO           41.0   \n",
       "\n",
       "            WEATHER_DELAY  NAS_DELAY  SECURITY_DELAY  LATE_AIRCRAFT_DELAY  \\\n",
       "FL_DATE                                                                     \n",
       "2009-01-01            0.0        0.0             0.0                 45.0   \n",
       "2009-01-01            0.0        0.0             0.0                162.0   \n",
       "2009-01-01            0.0        0.0             0.0                  0.0   \n",
       "2009-01-01            0.0        0.0             0.0                  0.0   \n",
       "2009-01-01            0.0        8.0             0.0                  0.0   \n",
       "\n",
       "            row_sums  \n",
       "FL_DATE               \n",
       "2009-01-01      45.0  \n",
       "2009-01-01     162.0  \n",
       "2009-01-01     130.0  \n",
       "2009-01-01      20.0  \n",
       "2009-01-01      49.0  "
      ]
     },
     "execution_count": 3,
     "metadata": {},
     "output_type": "execute_result"
    }
   ],
   "source": [
    "train_fl.head()"
   ]
  },
  {
   "cell_type": "code",
   "execution_count": 4,
   "id": "576a9acb",
   "metadata": {},
   "outputs": [
    {
     "data": {
      "text/html": [
       "<div>\n",
       "<style scoped>\n",
       "    .dataframe tbody tr th:only-of-type {\n",
       "        vertical-align: middle;\n",
       "    }\n",
       "\n",
       "    .dataframe tbody tr th {\n",
       "        vertical-align: top;\n",
       "    }\n",
       "\n",
       "    .dataframe thead th {\n",
       "        text-align: right;\n",
       "    }\n",
       "</style>\n",
       "<table border=\"1\" class=\"dataframe\">\n",
       "  <thead>\n",
       "    <tr style=\"text-align: right;\">\n",
       "      <th></th>\n",
       "      <th>average_delay</th>\n",
       "    </tr>\n",
       "  </thead>\n",
       "  <tbody>\n",
       "    <tr>\n",
       "      <th>count</th>\n",
       "      <td>209.000000</td>\n",
       "    </tr>\n",
       "    <tr>\n",
       "      <th>mean</th>\n",
       "      <td>57.333545</td>\n",
       "    </tr>\n",
       "    <tr>\n",
       "      <th>std</th>\n",
       "      <td>8.007163</td>\n",
       "    </tr>\n",
       "    <tr>\n",
       "      <th>min</th>\n",
       "      <td>43.985268</td>\n",
       "    </tr>\n",
       "    <tr>\n",
       "      <th>25%</th>\n",
       "      <td>51.858733</td>\n",
       "    </tr>\n",
       "    <tr>\n",
       "      <th>50%</th>\n",
       "      <td>55.855312</td>\n",
       "    </tr>\n",
       "    <tr>\n",
       "      <th>75%</th>\n",
       "      <td>61.617909</td>\n",
       "    </tr>\n",
       "    <tr>\n",
       "      <th>max</th>\n",
       "      <td>101.509765</td>\n",
       "    </tr>\n",
       "  </tbody>\n",
       "</table>\n",
       "</div>"
      ],
      "text/plain": [
       "       average_delay\n",
       "count     209.000000\n",
       "mean       57.333545\n",
       "std         8.007163\n",
       "min        43.985268\n",
       "25%        51.858733\n",
       "50%        55.855312\n",
       "75%        61.617909\n",
       "max       101.509765"
      ]
     },
     "execution_count": 4,
     "metadata": {},
     "output_type": "execute_result"
    }
   ],
   "source": [
    "# display a snapshot of summary statistics\n",
    "train.describe()\n"
   ]
  },
  {
   "cell_type": "markdown",
   "id": "2f5a5b2a",
   "metadata": {},
   "source": [
    "# Explore"
   ]
  },
  {
   "cell_type": "markdown",
   "id": "91b4f05c",
   "metadata": {},
   "source": [
    "### Is the mean at each airport equal or is there something causing  a difference?\n"
   ]
  },
  {
   "cell_type": "code",
   "execution_count": 5,
   "id": "70abb517",
   "metadata": {},
   "outputs": [
    {
     "data": {
      "image/png": "[encoded data removed]",
      "text/plain": [
       "<Figure size 1500x900 with 1 Axes>"
      ]
     },
     "metadata": {},
     "output_type": "display_data"
    }
   ],
   "source": [
    "m.means_by_airport(flights, train_fl)"
   ]
  },
  {
   "cell_type": "markdown",
   "id": "da54cc6b",
   "metadata": {},
   "source": [
    "### Takeaways:"
   ]
  },
  {
   "cell_type": "markdown",
   "id": "c2a87cae",
   "metadata": {},
   "source": [
    "* DFW has the highest average of delay and the most flights\n",
    "* The order of means seems to reflect the flights as well, compared to other airports.\n",
    "* "
   ]
  },
  {
   "cell_type": "markdown",
   "id": "04b73eef",
   "metadata": {},
   "source": [
    "# Stats Testing\n",
    "\n",
    "## Hypothesis:\n",
    "\n",
    "H 0 : The average delay in each airport are all the same.\n",
    "\n",
    "H a : The average delay in each airport are not all the same."
   ]
  },
  {
   "cell_type": "markdown",
   "id": "cb44470c",
   "metadata": {},
   "source": [
    "## * How does alocohol affect density?"
   ]
  },
  {
   "cell_type": "code",
   "execution_count": null,
   "id": "2914cbe6",
   "metadata": {
    "scrolled": false
   },
   "outputs": [],
   "source": [
    "print_den_v_alc()"
   ]
  },
  {
   "cell_type": "markdown",
   "id": "36321da9",
   "metadata": {},
   "source": [
    "### Takeaways:\n",
    "* As the density increases the alcohol content drops\n",
    "* Wines that had a 12 or more in alcohol and socred over 7 in quality are 237\n",
    "* Red wines have higher alcohol content at a slighty higher density"
   ]
  },
  {
   "cell_type": "markdown",
   "id": "8abda1f0",
   "metadata": {},
   "source": [
    "# Stats Testing"
   ]
  },
  {
   "cell_type": "markdown",
   "id": "30936196",
   "metadata": {},
   "source": [
    "## Hypothesis:"
   ]
  },
  {
   "cell_type": "markdown",
   "id": "d049bf37",
   "metadata": {},
   "source": [
    "H 0 : There is no linear correlation between density and alcohol.\n",
    "\n",
    "H a : There is a linear relationship between density and alcohol."
   ]
  },
  {
   "cell_type": "markdown",
   "id": "b8d7677a",
   "metadata": {},
   "source": [
    "## Pearson's R-test¶"
   ]
  },
  {
   "cell_type": "code",
   "execution_count": null,
   "id": "d1e822e3",
   "metadata": {},
   "outputs": [],
   "source": [
    "x = train.density\n",
    "y = train.alcohol\n",
    "\n",
    "α = 0.05\n",
    "\n",
    "corr, p = stats.pearsonr(x, y)\n",
    "corr, p"
   ]
  },
  {
   "cell_type": "markdown",
   "id": "46f4d9ee",
   "metadata": {},
   "source": [
    "## P-value less than alpha?"
   ]
  },
  {
   "cell_type": "code",
   "execution_count": null,
   "id": "1dfd695a",
   "metadata": {},
   "outputs": [],
   "source": [
    "p < α"
   ]
  },
  {
   "cell_type": "markdown",
   "id": "6083be2f",
   "metadata": {},
   "source": [
    "### We can reject the null hypothesis.\n"
   ]
  },
  {
   "cell_type": "markdown",
   "id": "82dd971a",
   "metadata": {},
   "source": [
    "## * Is the average pH higher in red or white wine?"
   ]
  },
  {
   "cell_type": "code",
   "execution_count": null,
   "id": "f78e93ad",
   "metadata": {
    "scrolled": false
   },
   "outputs": [],
   "source": [
    "ph_level()"
   ]
  },
  {
   "cell_type": "markdown",
   "id": "ff5a6770",
   "metadata": {},
   "source": [
    "### Takeaways:\n",
    "\n",
    "* Red wines have a higher pH on avaerage\n"
   ]
  },
  {
   "cell_type": "markdown",
   "id": "2d2aafcd",
   "metadata": {},
   "source": [
    "# Stats Testing\n",
    "## Hypothesis:\n",
    "H\n",
    "0\n",
    ": The average pH level in red and white wines is the same.\n",
    "\n",
    "H\n",
    "a\n",
    ": The average pH in is greater in red wines.\n",
    "## T-test"
   ]
  },
  {
   "cell_type": "code",
   "execution_count": null,
   "id": "506c3439",
   "metadata": {
    "scrolled": true
   },
   "outputs": [],
   "source": [
    "# getting the valiues for the red wine pH levels and the average mean for the entire data\n",
    "t, p = stats.ttest_1samp(train[train['white']==0].pH, train.pH.mean())\n",
    "\n",
    "print(t, p/2, α)\n"
   ]
  },
  {
   "cell_type": "code",
   "execution_count": null,
   "id": "0403daa8",
   "metadata": {},
   "outputs": [],
   "source": [
    "bool((1/2 * p < α) and (t > 0))"
   ]
  },
  {
   "cell_type": "markdown",
   "id": "15d0671a",
   "metadata": {},
   "source": [
    "### We can reject the null hypothesis.\n"
   ]
  },
  {
   "cell_type": "markdown",
   "id": "immediate-mirror",
   "metadata": {},
   "source": [
    "## * How do chlorides affect density?"
   ]
  },
  {
   "cell_type": "code",
   "execution_count": null,
   "id": "0e09a9cf",
   "metadata": {},
   "outputs": [],
   "source": [
    "print_den_v_chlo()"
   ]
  },
  {
   "cell_type": "markdown",
   "id": "931ac243",
   "metadata": {},
   "source": [
    "### Takeaways\n",
    "* Chlorides can enhance the perception of acidity in wine. This means that the wine may taste more tangy, crisp, and bright\n",
    "* As the density measure so does our chlorides\n",
    "* There are a few outliers that do not follow the trend"
   ]
  },
  {
   "cell_type": "code",
   "execution_count": null,
   "id": "0b2e7287",
   "metadata": {
    "scrolled": false
   },
   "outputs": [],
   "source": [
    "model.scatter_2_cluster()"
   ]
  },
  {
   "cell_type": "code",
   "execution_count": null,
   "id": "9895409d",
   "metadata": {},
   "outputs": [],
   "source": [
    "model.scatter_3_cluster()"
   ]
  },
  {
   "cell_type": "code",
   "execution_count": null,
   "id": "09852381",
   "metadata": {},
   "outputs": [],
   "source": [
    "model.scatter_4_cluster()"
   ]
  },
  {
   "cell_type": "markdown",
   "id": "ceb1cd04",
   "metadata": {},
   "source": [
    "# Cluster Analysis\n",
    "* As seen above and below the clusters seem very different.\n",
    "* For instance above, cluster 0 has less than 50 wines with a quality rating of 5 while cluster 1 has over 500.\n",
    "* The means an medians seem very different as well. We can see similar results for the three and four feature clusters. \n",
    "* However a statistical test is needed to confirm this intuition.\n",
    "\n",
    "# ANOVA test\n",
    "* An ANOVA test was done (below) for each of the three clustering runs.\n",
    "* The null hypothesis for each was that the means for all the clusters are all equal i.e. \n",
    "* The alternative hypothesis was that the means are all different.\n",
    "* An alpha was chosen\n",
    "* All three clustering algorithms had an alpha well below the threshold and there was sufficient evidence to reject the null hypothesis and conclude the means were different and there is something different between the clusters.\n",
    "* Therefore we chose to create dummy variables for each cluster and run linear regression that includes these clusters as new features."
   ]
  },
  {
   "cell_type": "markdown",
   "id": "84dab190",
   "metadata": {},
   "source": [
    "---"
   ]
  },
  {
   "cell_type": "markdown",
   "id": "57345661",
   "metadata": {},
   "source": [
    "# Baseline"
   ]
  },
  {
   "cell_type": "code",
   "execution_count": null,
   "id": "ead86fd8",
   "metadata": {},
   "outputs": [],
   "source": [
    "wrangle.baseline()"
   ]
  },
  {
   "cell_type": "markdown",
   "id": "e583eb1e",
   "metadata": {},
   "source": [
    "# 2 Feature Clusters"
   ]
  },
  {
   "cell_type": "markdown",
   "id": "bdafd495",
   "metadata": {},
   "source": [
    "## ANOVA Stat Testing"
   ]
  },
  {
   "cell_type": "code",
   "execution_count": null,
   "id": "c0875993",
   "metadata": {},
   "outputs": [],
   "source": [
    "model.anova_test_2_feat()"
   ]
  },
  {
   "cell_type": "markdown",
   "id": "a82e8582",
   "metadata": {},
   "source": [
    "## (OLS) Linear Regression Model Testing"
   ]
  },
  {
   "cell_type": "code",
   "execution_count": null,
   "id": "0e6051be",
   "metadata": {},
   "outputs": [],
   "source": [
    "model.linear_regression_two_features()"
   ]
  },
  {
   "cell_type": "markdown",
   "id": "7f9d14f6",
   "metadata": {},
   "source": [
    "---"
   ]
  },
  {
   "cell_type": "markdown",
   "id": "b78dd05d",
   "metadata": {},
   "source": [
    "# 3 Feature  Clusters"
   ]
  },
  {
   "cell_type": "markdown",
   "id": "f7fbb2ee",
   "metadata": {},
   "source": [
    "## ANOVA Stat Testing"
   ]
  },
  {
   "cell_type": "code",
   "execution_count": null,
   "id": "182a85d7",
   "metadata": {},
   "outputs": [],
   "source": [
    "model.anova_test_3_feat()"
   ]
  },
  {
   "cell_type": "markdown",
   "id": "0319681e",
   "metadata": {},
   "source": [
    "## (OLS) Linear Regression Model Testing"
   ]
  },
  {
   "cell_type": "code",
   "execution_count": null,
   "id": "6ab397d7",
   "metadata": {},
   "outputs": [],
   "source": [
    "model.linear_regression_three_features()"
   ]
  },
  {
   "cell_type": "markdown",
   "id": "673df5de",
   "metadata": {},
   "source": [
    "---"
   ]
  },
  {
   "cell_type": "markdown",
   "id": "294ec3ca",
   "metadata": {},
   "source": [
    "# 4  Feature Clusters"
   ]
  },
  {
   "cell_type": "markdown",
   "id": "166fb778",
   "metadata": {},
   "source": [
    "## ANOVA Stat Testing"
   ]
  },
  {
   "cell_type": "code",
   "execution_count": null,
   "id": "2d7cc33a",
   "metadata": {},
   "outputs": [],
   "source": [
    "model.anova_test_4_feat()"
   ]
  },
  {
   "cell_type": "markdown",
   "id": "0a84c3c3",
   "metadata": {},
   "source": [
    "## (OLS) Linear Regression Model Testing"
   ]
  },
  {
   "cell_type": "code",
   "execution_count": null,
   "id": "4b23cbc8",
   "metadata": {},
   "outputs": [],
   "source": [
    "model.linear_regression_four_features()"
   ]
  },
  {
   "cell_type": "markdown",
   "id": "9e27fc27",
   "metadata": {},
   "source": [
    "# Polynomial"
   ]
  },
  {
   "cell_type": "markdown",
   "id": "708f2b04",
   "metadata": {},
   "source": [
    "## Plynomial Regression Model Testing"
   ]
  },
  {
   "cell_type": "code",
   "execution_count": null,
   "id": "32f45c80",
   "metadata": {},
   "outputs": [],
   "source": [
    "model.quadratic_model()"
   ]
  },
  {
   "cell_type": "markdown",
   "id": "aa249c1e",
   "metadata": {},
   "source": [
    "---"
   ]
  },
  {
   "cell_type": "markdown",
   "id": "regulated-fellowship",
   "metadata": {},
   "source": [
    "# Linear Regression on Test"
   ]
  },
  {
   "cell_type": "code",
   "execution_count": null,
   "id": "optical-quilt",
   "metadata": {
    "scrolled": true
   },
   "outputs": [],
   "source": [
    "model.test()"
   ]
  },
  {
   "cell_type": "markdown",
   "id": "7454dbfb",
   "metadata": {},
   "source": [
    "\n",
    "## Modeling Summary"
   ]
  },
  {
   "cell_type": "markdown",
   "id": "motivated-recycling",
   "metadata": {},
   "source": [
    "* Clustering based on 2 features (density and alcohol), 3 features (residual sugar, total sulfur dioxide, alcohol), and 4 features (volatile acidity, chlorides, density, alcohol) with k=4 for each produced divergent clusters that performed nearly identically in the final regression models.\n",
    "* An ANOVA test was performed to show that the clustered groups were in fact different and valuable \n",
    "* We kept the clusters in new dummy columns and used them as features to perform Logistic and Polynomial Regression on.\n",
    "* Our models all performed around with an RMSE around .72 for the Train data, .73 for the validate data.\n",
    "* Our test RMSE using 2 clusters came out at .75 units of quality\n",
    "* We beat our baseline based on mean of .87 units by .12 points."
   ]
  },
  {
   "cell_type": "markdown",
   "id": "tutorial-twelve",
   "metadata": {},
   "source": [
    "# Conclusion\n",
    "\n",
    "## Exploration Summary\n",
    "* As the visuals indicates there seems to be a realtionship with white wine more than red wine\n",
    "* Wines that had less than 7 in residual sugar and socred over 7 in quality are 466\n",
    "* As the density increases the alcohol content drops\n",
    "* Wines that had a 12 or more in alcohol and socred over 7 in quality are 237\n",
    "* Red wines have a higher pH on avaerage\n",
    "* Chlorides can enhance the perception of acidity in wine. This means that the wine may taste more tangy, crisp, and bright\n",
    "\n",
    "\n",
    "## Modeling\n",
    "* The final model marginally outperformed baseline. Possible reasons include:\n",
    "\n",
    "We used all the features and we did not correct for multicolinearity for this mvp.\n",
    "For future models a more careful selection of less features in the linear regression would be helpful.\n",
    "\n",
    "## Recommendations\n",
    "* In a future model, consider dropping or combining features through feature engineering in order to reduce multicolinearity issues.  For example total sulfur dioxide and free sulfur dioxide do not both need to be in the model.  Also Alcohol and density are highly correlated as is residual sugar.  \n",
    "* Reducing the total number of columns may help in creating a better linear regression.\n",
    "* Classification also might provide a better result.\n",
    "\n",
    "## Next Steps\n",
    "* Next steps include reevaluating the efficacy of the clustering all together.  If it shows a better result with different features, then we can hone in and narrow our focus with feature engineering where we combine correlated features and drop columns that do not add to our model.  \n",
    "* Perhaps also there are differing determinants of quality between red and white wine and \"manually clustering\" the two might be an interesting to explore what features are in fact different between the two populations and if that has a differential impact of quality vs predicted quality."
   ]
  },
  {
   "cell_type": "code",
   "execution_count": null,
   "id": "58ea80fa",
   "metadata": {},
   "outputs": [],
   "source": []
  }
 ],
 "metadata": {
  "kernelspec": {
   "display_name": "Python 3 (ipykernel)",
   "language": "python",
   "name": "python3"
  },
  "language_info": {
   "codemirror_mode": {
    "name": "ipython",
    "version": 3
   },
   "file_extension": ".py",
   "mimetype": "text/x-python",
   "name": "python",
   "nbconvert_exporter": "python",
   "pygments_lexer": "ipython3",
   "version": "3.10.9"
  }
 },
 "nbformat": 4,
 "nbformat_minor": 5
}
